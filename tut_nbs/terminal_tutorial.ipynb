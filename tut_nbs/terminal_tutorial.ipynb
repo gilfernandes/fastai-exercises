{
 "cells": [
  {
   "cell_type": "markdown",
   "metadata": {},
   "source": [
    "## General explanation of the terminal"
   ]
  },
  {
   "cell_type": "markdown",
   "metadata": {},
   "source": [
    "#### What is a terminal? \n",
    "It’s a black screen that allows you to interact directly with your computer with some lines of code.\n"
   ]
  },
  {
   "cell_type": "markdown",
   "metadata": {},
   "source": [
    "![add](images/terminal_tutorial/what_is_a_terminal.png)"
   ]
  },
  {
   "cell_type": "markdown",
   "metadata": {},
   "source": [
    "### Navigating between folders"
   ]
  },
  {
   "cell_type": "markdown",
   "metadata": {},
   "source": [
    "#### How to navigate into folders?\n",
    "Write in the terminal “cd” and the name of the folder you want to access."
   ]
  },
  {
   "cell_type": "markdown",
   "metadata": {},
   "source": [
    "![add](images/terminal_tutorial/terminal_cd_in.png)"
   ]
  },
  {
   "cell_type": "markdown",
   "metadata": {},
   "source": [
    "#### How to navigate out of folder?\n",
    "Write in the terminal “cd ..”"
   ]
  },
  {
   "cell_type": "markdown",
   "metadata": {},
   "source": [
    "![add](images/terminal_tutorial/terminal_cd_out.png)"
   ]
  },
  {
   "cell_type": "markdown",
   "metadata": {},
   "source": [
    "### Important tips"
   ]
  },
  {
   "cell_type": "markdown",
   "metadata": {},
   "source": [
    "In order to move faster and avoid typo errors while navigating between folders, you should use tab. You just need to start to type the file or directory name and once you wrote enough for it to be identified, you can press Tab."
   ]
  },
  {
   "cell_type": "markdown",
   "metadata": {},
   "source": [
    "![add](images/terminal_tutorial/tab_icon.png)"
   ]
  },
  {
   "cell_type": "markdown",
   "metadata": {},
   "source": [
    "If there is only one folder or file that starts with the characters you wrote, the name will autocompleted. If there are many that start that way, you can press double Tab to list them; in order words, it is like using the command \"ls\" "
   ]
  },
  {
   "cell_type": "markdown",
   "metadata": {},
   "source": [
    "### How to create a folder?\n",
    "Write in the terminal \"mkdir” and add the name of the folder."
   ]
  },
  {
   "cell_type": "markdown",
   "metadata": {},
   "source": [
    "![add](images/terminal_tutorial/terminal_mkdir.png)"
   ]
  },
  {
   "cell_type": "markdown",
   "metadata": {},
   "source": [
    "### How to know where I am?\n",
    "By writing “pwd”, the terminal will tell you where you are; in other words, the file directory you are working on."
   ]
  },
  {
   "cell_type": "markdown",
   "metadata": {},
   "source": [
    "![add](images/terminal_tutorial/terminal_pwd.png)"
   ]
  },
  {
   "cell_type": "markdown",
   "metadata": {},
   "source": [
    "### How to display files?\n",
    "Write in the terminal “ls” and the terminal will list your files \n"
   ]
  },
  {
   "cell_type": "markdown",
   "metadata": {},
   "source": [
    "![add](images/terminal_tutorial/terminal_ls.png)"
   ]
  },
  {
   "cell_type": "markdown",
   "metadata": {},
   "source": [
    "### How to copy a folder?\n",
    "Write in the terminal “cp” with the file you want to copy and add the final destination folder where you want to paste it."
   ]
  },
  {
   "cell_type": "markdown",
   "metadata": {},
   "source": [
    "![add](images/terminal_tutorial/terminal_cp.png)"
   ]
  },
  {
   "cell_type": "markdown",
   "metadata": {},
   "source": [
    "## Git and conda in terminal"
   ]
  },
  {
   "cell_type": "markdown",
   "metadata": {},
   "source": [
    "### Cloning fastai repository (Download tha fastai files)"
   ]
  },
  {
   "cell_type": "markdown",
   "metadata": {},
   "source": [
    "Go to this url: https://github.com/fastai/fastai , and copy the git url. It is so easy, click on the number 1 and 2 to have it on your clipboard.\n"
   ]
  },
  {
   "cell_type": "markdown",
   "metadata": {},
   "source": [
    "![add](images/terminal_tutorial/git_copy_url.png)\n"
   ]
  },
  {
   "cell_type": "markdown",
   "metadata": {},
   "source": [
    "Then, in order to clone the fastai repo, use the friendly command \"git clone” and \n",
    "then paste the url in the clipboard by pressing <kbd>CTRL</kbd>+<kbd>V</kbd>"
   ]
  },
  {
   "cell_type": "markdown",
   "metadata": {},
   "source": [
    "![add](images/terminal_tutorial/git_clone_repo_.png)"
   ]
  },
  {
   "cell_type": "markdown",
   "metadata": {},
   "source": [
    "### Updating your fastai repository (Downloading the missing files)"
   ]
  },
  {
   "cell_type": "markdown",
   "metadata": {},
   "source": [
    "When your repo is up-to-date, you should see this message."
   ]
  },
  {
   "cell_type": "markdown",
   "metadata": {},
   "source": [
    "![add](images/terminal_tutorial/git_pull_up_to_date.png)"
   ]
  },
  {
   "cell_type": "markdown",
   "metadata": {},
   "source": [
    "If there are new missing files, you wil see this."
   ]
  },
  {
   "cell_type": "markdown",
   "metadata": {},
   "source": [
    "![add](images/terminal_tutorial/git_pull_new_files.png)"
   ]
  },
  {
   "cell_type": "markdown",
   "metadata": {},
   "source": [
    "### Updating Conda "
   ]
  },
  {
   "cell_type": "markdown",
   "metadata": {},
   "source": [
    "On more thing, if you want to update conda, you should write this in the terminal \"conda update conda\" and you are done."
   ]
  },
  {
   "cell_type": "markdown",
   "metadata": {},
   "source": [
    "![add](images/terminal_tutorial/conda_update.png)\n"
   ]
  }
 ],
 "metadata": {
  "kernelspec": {
   "display_name": "Python 2",
   "language": "python",
   "name": "python2"
  },
  "language_info": {
   "codemirror_mode": {
    "name": "ipython",
    "version": 2
   },
   "file_extension": ".py",
   "mimetype": "text/x-python",
   "name": "python",
   "nbconvert_exporter": "python",
   "pygments_lexer": "ipython2",
   "version": "2.7.15"
  }
 },
 "nbformat": 4,
 "nbformat_minor": 2
}
