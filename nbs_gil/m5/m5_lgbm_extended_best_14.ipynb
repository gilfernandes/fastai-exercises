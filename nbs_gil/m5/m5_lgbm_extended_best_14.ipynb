{
 "cells": [
  {
   "cell_type": "code",
   "execution_count": 1,
   "metadata": {},
   "outputs": [],
   "source": [
    "%load_ext autoreload\n",
    "%autoreload 2\n",
    "\n",
    "%matplotlib inline"
   ]
  },
  {
   "cell_type": "code",
   "execution_count": 2,
   "metadata": {},
   "outputs": [],
   "source": [
    "from datetime import datetime, timedelta\n",
    "import gc\n",
    "import numpy as np, pandas as pd\n",
    "import lightgbm as lgb\n",
    "from pathlib import Path\n",
    "import seaborn as sns\n",
    "import matplotlib.pyplot as plt\n",
    "from scripts import m5_common\n",
    "from sklearn import datasets, linear_model\n",
    "\n",
    "pd.options.display.max_columns = 50"
   ]
  },
  {
   "cell_type": "markdown",
   "metadata": {},
   "source": [
    "### Path"
   ]
  },
  {
   "cell_type": "code",
   "execution_count": 3,
   "metadata": {},
   "outputs": [],
   "source": [
    "path = Path('/kaggle/m5_forecasting/')\n",
    "assert(path.exists())"
   ]
  },
  {
   "cell_type": "code",
   "execution_count": 4,
   "metadata": {},
   "outputs": [
    {
     "data": {
      "text/plain": [
       "datetime.datetime(2016, 5, 23, 0, 0)"
      ]
     },
     "execution_count": 4,
     "metadata": {},
     "output_type": "execute_result"
    }
   ],
   "source": [
    "h = 28\n",
    "tr_last = 1941\n",
    "fday = datetime(2016, 4, 25) + timedelta(days=h)\n",
    "fday"
   ]
  },
  {
   "cell_type": "code",
   "execution_count": 5,
   "metadata": {},
   "outputs": [
    {
     "name": "stdout",
     "output_type": "stream",
     "text": [
      "CPU times: user 1.43 s, sys: 144 ms, total: 1.58 s\n",
      "Wall time: 1.58 s\n"
     ]
    }
   ],
   "source": [
    "%%time\n",
    "\n",
    "prices, cal = m5_common.prepare_tables(path)"
   ]
  },
  {
   "cell_type": "code",
   "execution_count": 6,
   "metadata": {},
   "outputs": [],
   "source": [
    "weather_df = pd.read_csv(path/'weather/weather_2010_2020.csv')\n",
    "weather_df[\"date\"] = pd.to_datetime(weather_df[\"Date\"])\n",
    "del weather_df[\"Date\"]\n",
    "del weather_df[\"Anomaly\"]\n",
    "weather_df['Value'] = weather_df['Value'].astype('float16')\n",
    "weather_df.columns = ['temperature',  'date']"
   ]
  },
  {
   "cell_type": "code",
   "execution_count": 7,
   "metadata": {
    "scrolled": true
   },
   "outputs": [
    {
     "name": "stdout",
     "output_type": "stream",
     "text": [
      "<class 'pandas.core.frame.DataFrame'>\n",
      "RangeIndex: 3257 entries, 0 to 3256\n",
      "Data columns (total 2 columns):\n",
      " #   Column       Non-Null Count  Dtype         \n",
      "---  ------       --------------  -----         \n",
      " 0   temperature  3257 non-null   float16       \n",
      " 1   date         3257 non-null   datetime64[ns]\n",
      "dtypes: datetime64[ns](1), float16(1)\n",
      "memory usage: 31.9 KB\n"
     ]
    }
   ],
   "source": [
    "weather_df.info()"
   ]
  },
  {
   "cell_type": "code",
   "execution_count": 8,
   "metadata": {},
   "outputs": [],
   "source": [
    "# %%time\n",
    "\n",
    "# cal = cal.merge(weather_df, on=['date'], copy = False)"
   ]
  },
  {
   "cell_type": "code",
   "execution_count": 9,
   "metadata": {},
   "outputs": [],
   "source": [
    "event_name_1_map, event_type_1_map = m5_common.replace_cal_cols(cal)"
   ]
  },
  {
   "cell_type": "code",
   "execution_count": 10,
   "metadata": {},
   "outputs": [
    {
     "data": {
      "text/html": [
       "<div>\n",
       "<style scoped>\n",
       "    .dataframe tbody tr th:only-of-type {\n",
       "        vertical-align: middle;\n",
       "    }\n",
       "\n",
       "    .dataframe tbody tr th {\n",
       "        vertical-align: top;\n",
       "    }\n",
       "\n",
       "    .dataframe thead th {\n",
       "        text-align: right;\n",
       "    }\n",
       "</style>\n",
       "<table border=\"1\" class=\"dataframe\">\n",
       "  <thead>\n",
       "    <tr style=\"text-align: right;\">\n",
       "      <th></th>\n",
       "      <th>date</th>\n",
       "      <th>wm_yr_wk</th>\n",
       "      <th>weekday</th>\n",
       "      <th>wday</th>\n",
       "      <th>month</th>\n",
       "      <th>year</th>\n",
       "      <th>d</th>\n",
       "      <th>event_name_1</th>\n",
       "      <th>event_type_1</th>\n",
       "      <th>event_name_2</th>\n",
       "      <th>event_type_2</th>\n",
       "      <th>snap_CA</th>\n",
       "      <th>snap_TX</th>\n",
       "      <th>snap_WI</th>\n",
       "    </tr>\n",
       "  </thead>\n",
       "  <tbody>\n",
       "    <tr>\n",
       "      <th>338</th>\n",
       "      <td>2012-01-02</td>\n",
       "      <td>11149</td>\n",
       "      <td>1</td>\n",
       "      <td>3</td>\n",
       "      <td>1</td>\n",
       "      <td>2012</td>\n",
       "      <td>d_339</td>\n",
       "      <td>0</td>\n",
       "      <td>0</td>\n",
       "      <td>0</td>\n",
       "      <td>0</td>\n",
       "      <td>1.0</td>\n",
       "      <td>0.0</td>\n",
       "      <td>1.0</td>\n",
       "    </tr>\n",
       "    <tr>\n",
       "      <th>339</th>\n",
       "      <td>2012-01-03</td>\n",
       "      <td>11149</td>\n",
       "      <td>5</td>\n",
       "      <td>4</td>\n",
       "      <td>1</td>\n",
       "      <td>2012</td>\n",
       "      <td>d_340</td>\n",
       "      <td>0</td>\n",
       "      <td>0</td>\n",
       "      <td>0</td>\n",
       "      <td>0</td>\n",
       "      <td>1.0</td>\n",
       "      <td>1.0</td>\n",
       "      <td>1.0</td>\n",
       "    </tr>\n",
       "    <tr>\n",
       "      <th>340</th>\n",
       "      <td>2012-01-04</td>\n",
       "      <td>11149</td>\n",
       "      <td>6</td>\n",
       "      <td>5</td>\n",
       "      <td>1</td>\n",
       "      <td>2012</td>\n",
       "      <td>d_341</td>\n",
       "      <td>0</td>\n",
       "      <td>0</td>\n",
       "      <td>0</td>\n",
       "      <td>0</td>\n",
       "      <td>1.0</td>\n",
       "      <td>0.0</td>\n",
       "      <td>0.0</td>\n",
       "    </tr>\n",
       "  </tbody>\n",
       "</table>\n",
       "</div>"
      ],
      "text/plain": [
       "          date  wm_yr_wk  weekday  wday  month  year      d  event_name_1  \\\n",
       "338 2012-01-02     11149        1     3      1  2012  d_339             0   \n",
       "339 2012-01-03     11149        5     4      1  2012  d_340             0   \n",
       "340 2012-01-04     11149        6     5      1  2012  d_341             0   \n",
       "\n",
       "     event_type_1  event_name_2  event_type_2  snap_CA  snap_TX  snap_WI  \n",
       "338             0             0             0      1.0      0.0      1.0  \n",
       "339             0             0             0      1.0      1.0      1.0  \n",
       "340             0             0             0      1.0      0.0      0.0  "
      ]
     },
     "execution_count": 10,
     "metadata": {},
     "output_type": "execute_result"
    }
   ],
   "source": [
    "cal[(cal.date > '2012-01-01') & (cal.date < '2012-01-05')]"
   ]
  },
  {
   "cell_type": "code",
   "execution_count": 11,
   "metadata": {},
   "outputs": [],
   "source": [
    "uint8_types= ['event_name_1', 'event_type_1', 'event_name_2', 'event_type_2', 'month', 'wday', 'weekday', \n",
    "              'snap_CA', 'snap_TX', 'snap_WI']\n",
    "m5_common.convert_uint8(cal, uint8_types)"
   ]
  },
  {
   "cell_type": "code",
   "execution_count": 12,
   "metadata": {},
   "outputs": [],
   "source": [
    "day_of_year = 'Dayofyear'\n",
    "\n",
    "def prepare_day_of_year(df):\n",
    "    df[day_of_year] = getattr(df['date'].dt, day_of_year.lower()).astype('uint16')"
   ]
  },
  {
   "cell_type": "code",
   "execution_count": 13,
   "metadata": {},
   "outputs": [],
   "source": [
    "def add_days_before(dt, day=25, month=12, col_name='before_christmas'):\n",
    "    diff_list = []\n",
    "    for d in dt['date']:\n",
    "        target = datetime(d.year, month, day)\n",
    "        diff = (target - d.to_pydatetime()).days\n",
    "        if(diff < 0):\n",
    "            christmas = datetime(d.year + 1, 12, 25)\n",
    "            diff = (target - d.to_pydatetime()).days\n",
    "        diff_list.append(diff)\n",
    "    dt[col_name] = diff_list\n",
    "    dt[col_name] = dt[col_name].astype('uint16')"
   ]
  },
  {
   "cell_type": "code",
   "execution_count": 14,
   "metadata": {},
   "outputs": [],
   "source": [
    "add_days_before(cal)"
   ]
  },
  {
   "cell_type": "code",
   "execution_count": 15,
   "metadata": {},
   "outputs": [
    {
     "name": "stdout",
     "output_type": "stream",
     "text": [
      "<class 'pandas.core.frame.DataFrame'>\n",
      "RangeIndex: 1969 entries, 0 to 1968\n",
      "Data columns (total 15 columns):\n",
      " #   Column            Non-Null Count  Dtype         \n",
      "---  ------            --------------  -----         \n",
      " 0   date              1969 non-null   datetime64[ns]\n",
      " 1   wm_yr_wk          1969 non-null   int16         \n",
      " 2   weekday           1969 non-null   uint8         \n",
      " 3   wday              1969 non-null   uint8         \n",
      " 4   month             1969 non-null   uint8         \n",
      " 5   year              1969 non-null   int16         \n",
      " 6   d                 1969 non-null   object        \n",
      " 7   event_name_1      1969 non-null   uint8         \n",
      " 8   event_type_1      1969 non-null   uint8         \n",
      " 9   event_name_2      1969 non-null   uint8         \n",
      " 10  event_type_2      1969 non-null   uint8         \n",
      " 11  snap_CA           1969 non-null   uint8         \n",
      " 12  snap_TX           1969 non-null   uint8         \n",
      " 13  snap_WI           1969 non-null   uint8         \n",
      " 14  before_christmas  1969 non-null   uint16        \n",
      "dtypes: datetime64[ns](1), int16(2), object(1), uint16(1), uint8(10)\n",
      "memory usage: 61.7+ KB\n"
     ]
    }
   ],
   "source": [
    "cal.info()"
   ]
  },
  {
   "cell_type": "code",
   "execution_count": 16,
   "metadata": {},
   "outputs": [
    {
     "data": {
      "text/html": [
       "<div>\n",
       "<style scoped>\n",
       "    .dataframe tbody tr th:only-of-type {\n",
       "        vertical-align: middle;\n",
       "    }\n",
       "\n",
       "    .dataframe tbody tr th {\n",
       "        vertical-align: top;\n",
       "    }\n",
       "\n",
       "    .dataframe thead th {\n",
       "        text-align: right;\n",
       "    }\n",
       "</style>\n",
       "<table border=\"1\" class=\"dataframe\">\n",
       "  <thead>\n",
       "    <tr style=\"text-align: right;\">\n",
       "      <th></th>\n",
       "      <th>date</th>\n",
       "      <th>wm_yr_wk</th>\n",
       "      <th>weekday</th>\n",
       "      <th>wday</th>\n",
       "      <th>month</th>\n",
       "      <th>year</th>\n",
       "      <th>d</th>\n",
       "      <th>event_name_1</th>\n",
       "      <th>event_type_1</th>\n",
       "      <th>event_name_2</th>\n",
       "      <th>event_type_2</th>\n",
       "      <th>snap_CA</th>\n",
       "      <th>snap_TX</th>\n",
       "      <th>snap_WI</th>\n",
       "      <th>before_christmas</th>\n",
       "    </tr>\n",
       "  </thead>\n",
       "  <tbody>\n",
       "    <tr>\n",
       "      <th>0</th>\n",
       "      <td>2011-01-29</td>\n",
       "      <td>11101</td>\n",
       "      <td>2</td>\n",
       "      <td>1</td>\n",
       "      <td>1</td>\n",
       "      <td>2011</td>\n",
       "      <td>d_1</td>\n",
       "      <td>0</td>\n",
       "      <td>0</td>\n",
       "      <td>0</td>\n",
       "      <td>0</td>\n",
       "      <td>0</td>\n",
       "      <td>0</td>\n",
       "      <td>0</td>\n",
       "      <td>330</td>\n",
       "    </tr>\n",
       "    <tr>\n",
       "      <th>1</th>\n",
       "      <td>2011-01-30</td>\n",
       "      <td>11101</td>\n",
       "      <td>3</td>\n",
       "      <td>2</td>\n",
       "      <td>1</td>\n",
       "      <td>2011</td>\n",
       "      <td>d_2</td>\n",
       "      <td>0</td>\n",
       "      <td>0</td>\n",
       "      <td>0</td>\n",
       "      <td>0</td>\n",
       "      <td>0</td>\n",
       "      <td>0</td>\n",
       "      <td>0</td>\n",
       "      <td>329</td>\n",
       "    </tr>\n",
       "    <tr>\n",
       "      <th>2</th>\n",
       "      <td>2011-01-31</td>\n",
       "      <td>11101</td>\n",
       "      <td>1</td>\n",
       "      <td>3</td>\n",
       "      <td>1</td>\n",
       "      <td>2011</td>\n",
       "      <td>d_3</td>\n",
       "      <td>0</td>\n",
       "      <td>0</td>\n",
       "      <td>0</td>\n",
       "      <td>0</td>\n",
       "      <td>0</td>\n",
       "      <td>0</td>\n",
       "      <td>0</td>\n",
       "      <td>328</td>\n",
       "    </tr>\n",
       "    <tr>\n",
       "      <th>3</th>\n",
       "      <td>2011-02-01</td>\n",
       "      <td>11101</td>\n",
       "      <td>5</td>\n",
       "      <td>4</td>\n",
       "      <td>2</td>\n",
       "      <td>2011</td>\n",
       "      <td>d_4</td>\n",
       "      <td>0</td>\n",
       "      <td>0</td>\n",
       "      <td>0</td>\n",
       "      <td>0</td>\n",
       "      <td>1</td>\n",
       "      <td>1</td>\n",
       "      <td>0</td>\n",
       "      <td>327</td>\n",
       "    </tr>\n",
       "    <tr>\n",
       "      <th>4</th>\n",
       "      <td>2011-02-02</td>\n",
       "      <td>11101</td>\n",
       "      <td>6</td>\n",
       "      <td>5</td>\n",
       "      <td>2</td>\n",
       "      <td>2011</td>\n",
       "      <td>d_5</td>\n",
       "      <td>0</td>\n",
       "      <td>0</td>\n",
       "      <td>0</td>\n",
       "      <td>0</td>\n",
       "      <td>1</td>\n",
       "      <td>0</td>\n",
       "      <td>1</td>\n",
       "      <td>326</td>\n",
       "    </tr>\n",
       "    <tr>\n",
       "      <th>...</th>\n",
       "      <td>...</td>\n",
       "      <td>...</td>\n",
       "      <td>...</td>\n",
       "      <td>...</td>\n",
       "      <td>...</td>\n",
       "      <td>...</td>\n",
       "      <td>...</td>\n",
       "      <td>...</td>\n",
       "      <td>...</td>\n",
       "      <td>...</td>\n",
       "      <td>...</td>\n",
       "      <td>...</td>\n",
       "      <td>...</td>\n",
       "      <td>...</td>\n",
       "      <td>...</td>\n",
       "    </tr>\n",
       "    <tr>\n",
       "      <th>1964</th>\n",
       "      <td>2016-06-15</td>\n",
       "      <td>11620</td>\n",
       "      <td>6</td>\n",
       "      <td>5</td>\n",
       "      <td>6</td>\n",
       "      <td>2016</td>\n",
       "      <td>d_1965</td>\n",
       "      <td>0</td>\n",
       "      <td>0</td>\n",
       "      <td>0</td>\n",
       "      <td>0</td>\n",
       "      <td>0</td>\n",
       "      <td>1</td>\n",
       "      <td>1</td>\n",
       "      <td>193</td>\n",
       "    </tr>\n",
       "    <tr>\n",
       "      <th>1965</th>\n",
       "      <td>2016-06-16</td>\n",
       "      <td>11620</td>\n",
       "      <td>4</td>\n",
       "      <td>6</td>\n",
       "      <td>6</td>\n",
       "      <td>2016</td>\n",
       "      <td>d_1966</td>\n",
       "      <td>0</td>\n",
       "      <td>0</td>\n",
       "      <td>0</td>\n",
       "      <td>0</td>\n",
       "      <td>0</td>\n",
       "      <td>0</td>\n",
       "      <td>0</td>\n",
       "      <td>192</td>\n",
       "    </tr>\n",
       "    <tr>\n",
       "      <th>1966</th>\n",
       "      <td>2016-06-17</td>\n",
       "      <td>11620</td>\n",
       "      <td>0</td>\n",
       "      <td>7</td>\n",
       "      <td>6</td>\n",
       "      <td>2016</td>\n",
       "      <td>d_1967</td>\n",
       "      <td>0</td>\n",
       "      <td>0</td>\n",
       "      <td>0</td>\n",
       "      <td>0</td>\n",
       "      <td>0</td>\n",
       "      <td>0</td>\n",
       "      <td>0</td>\n",
       "      <td>191</td>\n",
       "    </tr>\n",
       "    <tr>\n",
       "      <th>1967</th>\n",
       "      <td>2016-06-18</td>\n",
       "      <td>11621</td>\n",
       "      <td>2</td>\n",
       "      <td>1</td>\n",
       "      <td>6</td>\n",
       "      <td>2016</td>\n",
       "      <td>d_1968</td>\n",
       "      <td>0</td>\n",
       "      <td>0</td>\n",
       "      <td>0</td>\n",
       "      <td>0</td>\n",
       "      <td>0</td>\n",
       "      <td>0</td>\n",
       "      <td>0</td>\n",
       "      <td>190</td>\n",
       "    </tr>\n",
       "    <tr>\n",
       "      <th>1968</th>\n",
       "      <td>2016-06-19</td>\n",
       "      <td>11621</td>\n",
       "      <td>3</td>\n",
       "      <td>2</td>\n",
       "      <td>6</td>\n",
       "      <td>2016</td>\n",
       "      <td>d_1969</td>\n",
       "      <td>14</td>\n",
       "      <td>1</td>\n",
       "      <td>3</td>\n",
       "      <td>1</td>\n",
       "      <td>0</td>\n",
       "      <td>0</td>\n",
       "      <td>0</td>\n",
       "      <td>189</td>\n",
       "    </tr>\n",
       "  </tbody>\n",
       "</table>\n",
       "<p>1969 rows × 15 columns</p>\n",
       "</div>"
      ],
      "text/plain": [
       "           date  wm_yr_wk  weekday  wday  month  year       d  event_name_1  \\\n",
       "0    2011-01-29     11101        2     1      1  2011     d_1             0   \n",
       "1    2011-01-30     11101        3     2      1  2011     d_2             0   \n",
       "2    2011-01-31     11101        1     3      1  2011     d_3             0   \n",
       "3    2011-02-01     11101        5     4      2  2011     d_4             0   \n",
       "4    2011-02-02     11101        6     5      2  2011     d_5             0   \n",
       "...         ...       ...      ...   ...    ...   ...     ...           ...   \n",
       "1964 2016-06-15     11620        6     5      6  2016  d_1965             0   \n",
       "1965 2016-06-16     11620        4     6      6  2016  d_1966             0   \n",
       "1966 2016-06-17     11620        0     7      6  2016  d_1967             0   \n",
       "1967 2016-06-18     11621        2     1      6  2016  d_1968             0   \n",
       "1968 2016-06-19     11621        3     2      6  2016  d_1969            14   \n",
       "\n",
       "      event_type_1  event_name_2  event_type_2  snap_CA  snap_TX  snap_WI  \\\n",
       "0                0             0             0        0        0        0   \n",
       "1                0             0             0        0        0        0   \n",
       "2                0             0             0        0        0        0   \n",
       "3                0             0             0        1        1        0   \n",
       "4                0             0             0        1        0        1   \n",
       "...            ...           ...           ...      ...      ...      ...   \n",
       "1964             0             0             0        0        1        1   \n",
       "1965             0             0             0        0        0        0   \n",
       "1966             0             0             0        0        0        0   \n",
       "1967             0             0             0        0        0        0   \n",
       "1968             1             3             1        0        0        0   \n",
       "\n",
       "      before_christmas  \n",
       "0                  330  \n",
       "1                  329  \n",
       "2                  328  \n",
       "3                  327  \n",
       "4                  326  \n",
       "...                ...  \n",
       "1964               193  \n",
       "1965               192  \n",
       "1966               191  \n",
       "1967               190  \n",
       "1968               189  \n",
       "\n",
       "[1969 rows x 15 columns]"
      ]
     },
     "execution_count": 16,
     "metadata": {},
     "output_type": "execute_result"
    }
   ],
   "source": [
    "cal"
   ]
  },
  {
   "cell_type": "code",
   "execution_count": 17,
   "metadata": {},
   "outputs": [],
   "source": [
    "state_map = {'CA': 0, 'TX': 1, 'WI': 2}"
   ]
  },
  {
   "cell_type": "code",
   "execution_count": 18,
   "metadata": {},
   "outputs": [],
   "source": [
    "FIRST_DAY = 1 # If you want to load all the data set it to '1' -->  Great  memory overflow  risk !"
   ]
  },
  {
   "cell_type": "code",
   "execution_count": 19,
   "metadata": {},
   "outputs": [
    {
     "name": "stdout",
     "output_type": "stream",
     "text": [
      "CPU times: user 42.1 s, sys: 5.99 s, total: 48.1 s\n",
      "Wall time: 48.1 s\n"
     ]
    }
   ],
   "source": [
    "%%time\n",
    "\n",
    "df = m5_common.create_dt(cal, prices, is_train = True, first_day = FIRST_DAY, tr_last=tr_last, path=path, h = h)"
   ]
  },
  {
   "cell_type": "code",
   "execution_count": 20,
   "metadata": {},
   "outputs": [
    {
     "data": {
      "text/plain": [
       "Timestamp('2016-05-22 00:00:00')"
      ]
     },
     "execution_count": 20,
     "metadata": {},
     "output_type": "execute_result"
    }
   ],
   "source": [
    "df['date'].max()"
   ]
  },
  {
   "cell_type": "code",
   "execution_count": 21,
   "metadata": {},
   "outputs": [
    {
     "name": "stdout",
     "output_type": "stream",
     "text": [
      "<class 'pandas.core.frame.DataFrame'>\n",
      "Int64Index: 46881677 entries, 4081 to 46878802\n",
      "Data columns (total 27 columns):\n",
      " #   Column            Dtype         \n",
      "---  ------            -----         \n",
      " 0   id                object        \n",
      " 1   item_id           int16         \n",
      " 2   dept_id           int16         \n",
      " 3   store_id          int16         \n",
      " 4   cat_id            int16         \n",
      " 5   state_id          int16         \n",
      " 6   d                 object        \n",
      " 7   sales             float16       \n",
      " 8   date              datetime64[ns]\n",
      " 9   wm_yr_wk          int16         \n",
      " 10  weekday           uint8         \n",
      " 11  wday              uint8         \n",
      " 12  month             uint8         \n",
      " 13  year              int16         \n",
      " 14  event_name_1      uint8         \n",
      " 15  event_type_1      uint8         \n",
      " 16  event_name_2      uint8         \n",
      " 17  event_type_2      uint8         \n",
      " 18  snap_CA           uint8         \n",
      " 19  snap_TX           uint8         \n",
      " 20  snap_WI           uint8         \n",
      " 21  before_christmas  uint16        \n",
      " 22  sell_price        float16       \n",
      " 23  Dayofyear         uint16        \n",
      " 24  week              uint8         \n",
      " 25  mday              uint8         \n",
      " 26  lag_price_1       float16       \n",
      "dtypes: datetime64[ns](1), float16(3), int16(7), object(2), uint16(2), uint8(12)\n",
      "memory usage: 3.0+ GB\n"
     ]
    }
   ],
   "source": [
    "df.info()"
   ]
  },
  {
   "cell_type": "code",
   "execution_count": 22,
   "metadata": {},
   "outputs": [
    {
     "data": {
      "text/plain": [
       "0.6103687161190927"
      ]
     },
     "execution_count": 22,
     "metadata": {},
     "output_type": "execute_result"
    }
   ],
   "source": [
    "# Fraction of zeros\n",
    "df[df['sales'] == 0.].shape[0] / df.shape[0]"
   ]
  },
  {
   "cell_type": "code",
   "execution_count": 23,
   "metadata": {},
   "outputs": [],
   "source": [
    "def ridge_trend_df(dt, period='month', field='lag_1'):\n",
    "    lr = linear_model.Ridge()\n",
    "    trends = []\n",
    "    dt = dt[dt[field].notna()]\n",
    "    grouped = dt[[\"id\", field, period]].groupby([\"id\", period])\n",
    "    target_field = f'trend_{period}'\n",
    "    for g in grouped[field]:\n",
    "        sales = g[1]\n",
    "        x = np.arange(len(sales))\n",
    "        lr.fit(x.reshape(-1, 1), sales)\n",
    "        trends.append({'id': g[0][0], period: g[0][1], target_field : lr.coef_[0]})\n",
    "    trends_df = pd.DataFrame(trends)\n",
    "    trends_df[target_field] = trends_df[target_field].astype('float16')\n",
    "    return trends_df\n",
    "\n",
    "def ridge_trend(dt, period='month', field='lag_1'):\n",
    "    trends_df = ridge_trend_df(dt, period, field)\n",
    "    return dt.merge(trends_df, on=['id', period], how='left')\n",
    "\n",
    "# ridge_trend(df, period='month', field='sales')"
   ]
  },
  {
   "cell_type": "code",
   "execution_count": 24,
   "metadata": {},
   "outputs": [],
   "source": [
    "def create_fea(dt, dropna=True):\n",
    "    \n",
    "    wins = [7, 28]\n",
    "    lags = [7, 28]\n",
    "    \n",
    "    grouped_sales = dt[[\"id\",\"sales\"]].groupby(\"id\")[\"sales\"]\n",
    "    \n",
    "    for win in wins:\n",
    "        mean_col = f'mean_{win}'\n",
    "        emean_col = f'e{mean_col}' # exponential mean average\n",
    "        esmean_col = f'es{mean_col}'\n",
    "        dt[emean_col] = grouped_sales.transform(lambda x : x.ewm(span=win, adjust=False).mean())\n",
    "        dt[esmean_col] = grouped_sales.transform(lambda x : x.ewm(alpha=1/win, adjust=False).mean())\n",
    "        for lag in lags:\n",
    "            dt[f'emean_{win}_{lag}'] = dt[[\"id\", emean_col]].groupby(\"id\").shift(lag)\n",
    "            dt[f'esmean_{win}_{lag}'] = dt[[\"id\", esmean_col]].groupby(\"id\").shift(lag)\n",
    "        del dt[emean_col]\n",
    "        del dt[esmean_col]\n",
    "            \n",
    "    ra = [1, 2]\n",
    "    for simple_lag in ra:\n",
    "        dt[f'lag_{simple_lag}'] = dt[[\"id\",\"sales\"]].groupby(\"id\")[\"sales\"].shift(simple_lag)\n",
    "    \n",
    "    if dropna == True:\n",
    "        dt.dropna(inplace = True)\n",
    "        \n",
    "    return ridge_trend(dt, period='month', field='lag_1')"
   ]
  },
  {
   "cell_type": "code",
   "execution_count": 25,
   "metadata": {},
   "outputs": [
    {
     "name": "stdout",
     "output_type": "stream",
     "text": [
      "CPU times: user 3min 49s, sys: 10.9 s, total: 3min 59s\n",
      "Wall time: 3min 59s\n"
     ]
    }
   ],
   "source": [
    "%%time\n",
    "\n",
    "df = create_fea(df)"
   ]
  },
  {
   "cell_type": "code",
   "execution_count": 26,
   "metadata": {},
   "outputs": [
    {
     "data": {
      "text/html": [
       "<div>\n",
       "<style scoped>\n",
       "    .dataframe tbody tr th:only-of-type {\n",
       "        vertical-align: middle;\n",
       "    }\n",
       "\n",
       "    .dataframe tbody tr th {\n",
       "        vertical-align: top;\n",
       "    }\n",
       "\n",
       "    .dataframe thead th {\n",
       "        text-align: right;\n",
       "    }\n",
       "</style>\n",
       "<table border=\"1\" class=\"dataframe\">\n",
       "  <thead>\n",
       "    <tr style=\"text-align: right;\">\n",
       "      <th></th>\n",
       "      <th>id</th>\n",
       "      <th>item_id</th>\n",
       "      <th>dept_id</th>\n",
       "      <th>store_id</th>\n",
       "      <th>cat_id</th>\n",
       "      <th>state_id</th>\n",
       "      <th>d</th>\n",
       "      <th>sales</th>\n",
       "      <th>date</th>\n",
       "      <th>wm_yr_wk</th>\n",
       "      <th>weekday</th>\n",
       "      <th>wday</th>\n",
       "      <th>month</th>\n",
       "      <th>year</th>\n",
       "      <th>event_name_1</th>\n",
       "      <th>event_type_1</th>\n",
       "      <th>event_name_2</th>\n",
       "      <th>event_type_2</th>\n",
       "      <th>snap_CA</th>\n",
       "      <th>snap_TX</th>\n",
       "      <th>snap_WI</th>\n",
       "      <th>before_christmas</th>\n",
       "      <th>sell_price</th>\n",
       "      <th>Dayofyear</th>\n",
       "      <th>week</th>\n",
       "      <th>mday</th>\n",
       "      <th>lag_price_1</th>\n",
       "      <th>emean_7_7</th>\n",
       "      <th>esmean_7_7</th>\n",
       "      <th>emean_7_28</th>\n",
       "      <th>esmean_7_28</th>\n",
       "      <th>emean_28_7</th>\n",
       "      <th>esmean_28_7</th>\n",
       "      <th>emean_28_28</th>\n",
       "      <th>esmean_28_28</th>\n",
       "      <th>lag_1</th>\n",
       "      <th>lag_2</th>\n",
       "      <th>trend_month</th>\n",
       "    </tr>\n",
       "  </thead>\n",
       "  <tbody>\n",
       "    <tr>\n",
       "      <th>46027952</th>\n",
       "      <td>HOUSEHOLD_2_516_WI_3_evaluation</td>\n",
       "      <td>2047</td>\n",
       "      <td>3</td>\n",
       "      <td>9</td>\n",
       "      <td>1</td>\n",
       "      <td>2</td>\n",
       "      <td>d_1937</td>\n",
       "      <td>0.0</td>\n",
       "      <td>2016-05-18</td>\n",
       "      <td>11616</td>\n",
       "      <td>6</td>\n",
       "      <td>5</td>\n",
       "      <td>5</td>\n",
       "      <td>2016</td>\n",
       "      <td>0</td>\n",
       "      <td>0</td>\n",
       "      <td>0</td>\n",
       "      <td>0</td>\n",
       "      <td>0</td>\n",
       "      <td>0</td>\n",
       "      <td>0</td>\n",
       "      <td>221</td>\n",
       "      <td>1.0</td>\n",
       "      <td>139</td>\n",
       "      <td>20</td>\n",
       "      <td>18</td>\n",
       "      <td>1.0</td>\n",
       "      <td>0.007919</td>\n",
       "      <td>0.022491</td>\n",
       "      <td>0.000008</td>\n",
       "      <td>0.000782</td>\n",
       "      <td>0.031677</td>\n",
       "      <td>0.037079</td>\n",
       "      <td>0.010811</td>\n",
       "      <td>0.030060</td>\n",
       "      <td>0.0</td>\n",
       "      <td>0.0</td>\n",
       "      <td>0.000024</td>\n",
       "    </tr>\n",
       "    <tr>\n",
       "      <th>46027953</th>\n",
       "      <td>HOUSEHOLD_2_516_WI_3_evaluation</td>\n",
       "      <td>2047</td>\n",
       "      <td>3</td>\n",
       "      <td>9</td>\n",
       "      <td>1</td>\n",
       "      <td>2</td>\n",
       "      <td>d_1938</td>\n",
       "      <td>0.0</td>\n",
       "      <td>2016-05-19</td>\n",
       "      <td>11616</td>\n",
       "      <td>4</td>\n",
       "      <td>6</td>\n",
       "      <td>5</td>\n",
       "      <td>2016</td>\n",
       "      <td>0</td>\n",
       "      <td>0</td>\n",
       "      <td>0</td>\n",
       "      <td>0</td>\n",
       "      <td>0</td>\n",
       "      <td>0</td>\n",
       "      <td>0</td>\n",
       "      <td>220</td>\n",
       "      <td>1.0</td>\n",
       "      <td>140</td>\n",
       "      <td>20</td>\n",
       "      <td>19</td>\n",
       "      <td>1.0</td>\n",
       "      <td>0.005939</td>\n",
       "      <td>0.019287</td>\n",
       "      <td>0.000006</td>\n",
       "      <td>0.000670</td>\n",
       "      <td>0.029480</td>\n",
       "      <td>0.035767</td>\n",
       "      <td>0.010063</td>\n",
       "      <td>0.028992</td>\n",
       "      <td>0.0</td>\n",
       "      <td>0.0</td>\n",
       "      <td>0.000024</td>\n",
       "    </tr>\n",
       "    <tr>\n",
       "      <th>46027954</th>\n",
       "      <td>HOUSEHOLD_2_516_WI_3_evaluation</td>\n",
       "      <td>2047</td>\n",
       "      <td>3</td>\n",
       "      <td>9</td>\n",
       "      <td>1</td>\n",
       "      <td>2</td>\n",
       "      <td>d_1939</td>\n",
       "      <td>0.0</td>\n",
       "      <td>2016-05-20</td>\n",
       "      <td>11616</td>\n",
       "      <td>0</td>\n",
       "      <td>7</td>\n",
       "      <td>5</td>\n",
       "      <td>2016</td>\n",
       "      <td>0</td>\n",
       "      <td>0</td>\n",
       "      <td>0</td>\n",
       "      <td>0</td>\n",
       "      <td>0</td>\n",
       "      <td>0</td>\n",
       "      <td>0</td>\n",
       "      <td>219</td>\n",
       "      <td>1.0</td>\n",
       "      <td>141</td>\n",
       "      <td>20</td>\n",
       "      <td>20</td>\n",
       "      <td>1.0</td>\n",
       "      <td>0.004456</td>\n",
       "      <td>0.016525</td>\n",
       "      <td>0.000004</td>\n",
       "      <td>0.000575</td>\n",
       "      <td>0.027451</td>\n",
       "      <td>0.034485</td>\n",
       "      <td>0.009369</td>\n",
       "      <td>0.027954</td>\n",
       "      <td>0.0</td>\n",
       "      <td>0.0</td>\n",
       "      <td>0.000024</td>\n",
       "    </tr>\n",
       "    <tr>\n",
       "      <th>46027955</th>\n",
       "      <td>HOUSEHOLD_2_516_WI_3_evaluation</td>\n",
       "      <td>2047</td>\n",
       "      <td>3</td>\n",
       "      <td>9</td>\n",
       "      <td>1</td>\n",
       "      <td>2</td>\n",
       "      <td>d_1940</td>\n",
       "      <td>0.0</td>\n",
       "      <td>2016-05-21</td>\n",
       "      <td>11617</td>\n",
       "      <td>2</td>\n",
       "      <td>1</td>\n",
       "      <td>5</td>\n",
       "      <td>2016</td>\n",
       "      <td>0</td>\n",
       "      <td>0</td>\n",
       "      <td>0</td>\n",
       "      <td>0</td>\n",
       "      <td>0</td>\n",
       "      <td>0</td>\n",
       "      <td>0</td>\n",
       "      <td>218</td>\n",
       "      <td>1.0</td>\n",
       "      <td>142</td>\n",
       "      <td>20</td>\n",
       "      <td>21</td>\n",
       "      <td>1.0</td>\n",
       "      <td>0.253418</td>\n",
       "      <td>0.156982</td>\n",
       "      <td>0.000003</td>\n",
       "      <td>0.000493</td>\n",
       "      <td>0.094543</td>\n",
       "      <td>0.068970</td>\n",
       "      <td>0.008728</td>\n",
       "      <td>0.026947</td>\n",
       "      <td>0.0</td>\n",
       "      <td>0.0</td>\n",
       "      <td>0.000024</td>\n",
       "    </tr>\n",
       "    <tr>\n",
       "      <th>46027956</th>\n",
       "      <td>HOUSEHOLD_2_516_WI_3_evaluation</td>\n",
       "      <td>2047</td>\n",
       "      <td>3</td>\n",
       "      <td>9</td>\n",
       "      <td>1</td>\n",
       "      <td>2</td>\n",
       "      <td>d_1941</td>\n",
       "      <td>0.0</td>\n",
       "      <td>2016-05-22</td>\n",
       "      <td>11617</td>\n",
       "      <td>3</td>\n",
       "      <td>2</td>\n",
       "      <td>5</td>\n",
       "      <td>2016</td>\n",
       "      <td>0</td>\n",
       "      <td>0</td>\n",
       "      <td>0</td>\n",
       "      <td>0</td>\n",
       "      <td>0</td>\n",
       "      <td>0</td>\n",
       "      <td>0</td>\n",
       "      <td>217</td>\n",
       "      <td>1.0</td>\n",
       "      <td>143</td>\n",
       "      <td>20</td>\n",
       "      <td>22</td>\n",
       "      <td>1.0</td>\n",
       "      <td>0.190063</td>\n",
       "      <td>0.134644</td>\n",
       "      <td>0.000003</td>\n",
       "      <td>0.000422</td>\n",
       "      <td>0.088013</td>\n",
       "      <td>0.066528</td>\n",
       "      <td>0.008125</td>\n",
       "      <td>0.025986</td>\n",
       "      <td>0.0</td>\n",
       "      <td>0.0</td>\n",
       "      <td>0.000024</td>\n",
       "    </tr>\n",
       "  </tbody>\n",
       "</table>\n",
       "</div>"
      ],
      "text/plain": [
       "                                       id  item_id  dept_id  store_id  cat_id  \\\n",
       "46027952  HOUSEHOLD_2_516_WI_3_evaluation     2047        3         9       1   \n",
       "46027953  HOUSEHOLD_2_516_WI_3_evaluation     2047        3         9       1   \n",
       "46027954  HOUSEHOLD_2_516_WI_3_evaluation     2047        3         9       1   \n",
       "46027955  HOUSEHOLD_2_516_WI_3_evaluation     2047        3         9       1   \n",
       "46027956  HOUSEHOLD_2_516_WI_3_evaluation     2047        3         9       1   \n",
       "\n",
       "          state_id       d  sales       date  wm_yr_wk  weekday  wday  month  \\\n",
       "46027952         2  d_1937    0.0 2016-05-18     11616        6     5      5   \n",
       "46027953         2  d_1938    0.0 2016-05-19     11616        4     6      5   \n",
       "46027954         2  d_1939    0.0 2016-05-20     11616        0     7      5   \n",
       "46027955         2  d_1940    0.0 2016-05-21     11617        2     1      5   \n",
       "46027956         2  d_1941    0.0 2016-05-22     11617        3     2      5   \n",
       "\n",
       "          year  event_name_1  event_type_1  event_name_2  event_type_2  \\\n",
       "46027952  2016             0             0             0             0   \n",
       "46027953  2016             0             0             0             0   \n",
       "46027954  2016             0             0             0             0   \n",
       "46027955  2016             0             0             0             0   \n",
       "46027956  2016             0             0             0             0   \n",
       "\n",
       "          snap_CA  snap_TX  snap_WI  before_christmas  sell_price  Dayofyear  \\\n",
       "46027952        0        0        0               221         1.0        139   \n",
       "46027953        0        0        0               220         1.0        140   \n",
       "46027954        0        0        0               219         1.0        141   \n",
       "46027955        0        0        0               218         1.0        142   \n",
       "46027956        0        0        0               217         1.0        143   \n",
       "\n",
       "          week  mday  lag_price_1  emean_7_7  esmean_7_7  emean_7_28  \\\n",
       "46027952    20    18          1.0   0.007919    0.022491    0.000008   \n",
       "46027953    20    19          1.0   0.005939    0.019287    0.000006   \n",
       "46027954    20    20          1.0   0.004456    0.016525    0.000004   \n",
       "46027955    20    21          1.0   0.253418    0.156982    0.000003   \n",
       "46027956    20    22          1.0   0.190063    0.134644    0.000003   \n",
       "\n",
       "          esmean_7_28  emean_28_7  esmean_28_7  emean_28_28  esmean_28_28  \\\n",
       "46027952     0.000782    0.031677     0.037079     0.010811      0.030060   \n",
       "46027953     0.000670    0.029480     0.035767     0.010063      0.028992   \n",
       "46027954     0.000575    0.027451     0.034485     0.009369      0.027954   \n",
       "46027955     0.000493    0.094543     0.068970     0.008728      0.026947   \n",
       "46027956     0.000422    0.088013     0.066528     0.008125      0.025986   \n",
       "\n",
       "          lag_1  lag_2  trend_month  \n",
       "46027952    0.0    0.0     0.000024  \n",
       "46027953    0.0    0.0     0.000024  \n",
       "46027954    0.0    0.0     0.000024  \n",
       "46027955    0.0    0.0     0.000024  \n",
       "46027956    0.0    0.0     0.000024  "
      ]
     },
     "execution_count": 26,
     "metadata": {},
     "output_type": "execute_result"
    }
   ],
   "source": [
    "df.tail()"
   ]
  },
  {
   "cell_type": "code",
   "execution_count": 27,
   "metadata": {},
   "outputs": [
    {
     "data": {
      "text/plain": [
       "<matplotlib.axes._subplots.AxesSubplot at 0x7fc800605910>"
      ]
     },
     "execution_count": 27,
     "metadata": {},
     "output_type": "execute_result"
    },
    {
     "data": {
      "image/png": "[encoded data removed]",
      "text/plain": [
       "<Figure size 576x432 with 1 Axes>"
      ]
     },
     "metadata": {
      "needs_background": "light"
     },
     "output_type": "display_data"
    }
   ],
   "source": [
    "fig, ax = plt.subplots(figsize=(8, 6))\n",
    "sns.distplot(df['sales'][:200000])"
   ]
  },
  {
   "cell_type": "code",
   "execution_count": 28,
   "metadata": {},
   "outputs": [
    {
     "name": "stdout",
     "output_type": "stream",
     "text": [
      "<class 'pandas.core.frame.DataFrame'>\n",
      "Int64Index: 46027957 entries, 0 to 46027956\n",
      "Data columns (total 38 columns):\n",
      " #   Column            Dtype         \n",
      "---  ------            -----         \n",
      " 0   id                object        \n",
      " 1   item_id           int16         \n",
      " 2   dept_id           int16         \n",
      " 3   store_id          int16         \n",
      " 4   cat_id            int16         \n",
      " 5   state_id          int16         \n",
      " 6   d                 object        \n",
      " 7   sales             float16       \n",
      " 8   date              datetime64[ns]\n",
      " 9   wm_yr_wk          int16         \n",
      " 10  weekday           uint8         \n",
      " 11  wday              uint8         \n",
      " 12  month             uint8         \n",
      " 13  year              int16         \n",
      " 14  event_name_1      uint8         \n",
      " 15  event_type_1      uint8         \n",
      " 16  event_name_2      uint8         \n",
      " 17  event_type_2      uint8         \n",
      " 18  snap_CA           uint8         \n",
      " 19  snap_TX           uint8         \n",
      " 20  snap_WI           uint8         \n",
      " 21  before_christmas  uint16        \n",
      " 22  sell_price        float16       \n",
      " 23  Dayofyear         uint16        \n",
      " 24  week              uint8         \n",
      " 25  mday              uint8         \n",
      " 26  lag_price_1       float16       \n",
      " 27  emean_7_7         float16       \n",
      " 28  esmean_7_7        float16       \n",
      " 29  emean_7_28        float16       \n",
      " 30  esmean_7_28       float16       \n",
      " 31  emean_28_7        float16       \n",
      " 32  esmean_28_7       float16       \n",
      " 33  emean_28_28       float16       \n",
      " 34  esmean_28_28      float16       \n",
      " 35  lag_1             float16       \n",
      " 36  lag_2             float16       \n",
      " 37  trend_month       float16       \n",
      "dtypes: datetime64[ns](1), float16(14), int16(7), object(2), uint16(2), uint8(12)\n",
      "memory usage: 3.9+ GB\n"
     ]
    }
   ],
   "source": [
    "df.info()"
   ]
  },
  {
   "cell_type": "code",
   "execution_count": 29,
   "metadata": {},
   "outputs": [],
   "source": [
    "cat_feats = ['item_id', 'dept_id','store_id', 'cat_id', 'state_id', \n",
    "             \"event_name_1\", \"event_name_2\", \"event_type_1\", \"event_type_2\", 'snap_CA', 'snap_TX', 'snap_WI']\n",
    "useless_cols = [\"id\", \"date\", \"sales\",\"d\", \"wm_yr_wk\", \"weekday\", \"revenue\"]\n",
    "train_cols = df.columns[~df.columns.isin(useless_cols)]\n",
    "X_train = df[train_cols]\n",
    "y_train = df[\"sales\"]\n",
    "\n",
    "np.random.seed(777)\n",
    "\n",
    "size_valid_set = 2_000_000\n",
    "fake_valid_inds = np.random.choice(X_train.index.values, size_valid_set, replace = False)\n",
    "train_inds = np.setdiff1d(X_train.index.values, fake_valid_inds)"
   ]
  },
  {
   "cell_type": "code",
   "execution_count": 30,
   "metadata": {},
   "outputs": [
    {
     "data": {
      "text/plain": [
       "71"
      ]
     },
     "execution_count": 30,
     "metadata": {},
     "output_type": "execute_result"
    }
   ],
   "source": [
    "del df\n",
    "gc.collect()"
   ]
  },
  {
   "cell_type": "markdown",
   "metadata": {},
   "source": [
    "### Training "
   ]
  },
  {
   "cell_type": "code",
   "execution_count": 31,
   "metadata": {
    "tags": [
     "parameters"
    ]
   },
   "outputs": [],
   "source": [
    "leave_size = 10\n",
    "params = {\n",
    "        'boosting_type': 'gbdt',\n",
    "        \"objective\" : \"tweedie\",\n",
    "        'tweedie_variance_power': 1.25,\n",
    "        \"metric\" :\"rmse\",\n",
    "        \"force_row_wise\" : True,\n",
    "        \"learning_rate\" : 0.075,\n",
    "#         \"learning_rate\" : 0.08,\n",
    "#         \"sub_feature\" : 0.8,\n",
    "        \"sub_row\" : 0.75,\n",
    "        \"bagging_freq\" : 1,\n",
    "#         \"lambda_l1\" : 0.2,\n",
    "        \"lambda_l2\" : 0.1,\n",
    "        \"nthread\" : 10,\n",
    "        \"metric\": [\"rmse\"],\n",
    "        'verbosity': 20,\n",
    "        'num_leaves': 2**leave_size-1,\n",
    "        \"min_data_in_leaf\": 2**(leave_size + 1)-1,\n",
    "        \"n_estimators\": 1300\n",
    "}"
   ]
  },
  {
   "cell_type": "code",
   "execution_count": 32,
   "metadata": {},
   "outputs": [],
   "source": [
    "# params = {\n",
    "#     'boosting_type': 'gbdt',\n",
    "#     'objective': 'tweedie',\n",
    "#     'tweedie_variance_power': 1.1,\n",
    "#     'metric': 'rmse',\n",
    "#     'subsample': 0.5,\n",
    "#     'subsample_freq': 1,\n",
    "#     'learning_rate': 0.03,\n",
    "#     'num_leaves': 2**11-1,\n",
    "#     'min_data_in_leaf': 2**12-1,\n",
    "#     'feature_fraction': 0.5,\n",
    "#     'max_bin': 100,\n",
    "#     'n_estimators': 1400,\n",
    "#     'boost_from_average': False,\n",
    "# #     'verbose': -1,\n",
    "#     'verbosity': 20,\n",
    "# } "
   ]
  },
  {
   "cell_type": "code",
   "execution_count": 33,
   "metadata": {},
   "outputs": [],
   "source": [
    "m_lgb_regressor = lgb.LGBMRegressor(**params)"
   ]
  },
  {
   "cell_type": "code",
   "execution_count": null,
   "metadata": {},
   "outputs": [
    {
     "name": "stderr",
     "output_type": "stream",
     "text": [
      "/opt/anaconda3/envs/deeplearning/lib/python3.7/site-packages/lightgbm/basic.py:1247: UserWarning: categorical_feature in Dataset is overridden.\n",
      "New categorical_feature is ['cat_id', 'dept_id', 'event_name_1', 'event_name_2', 'event_type_1', 'event_type_2', 'item_id', 'snap_CA', 'snap_TX', 'snap_WI', 'state_id', 'store_id']\n",
      "  'New categorical_feature is {}'.format(sorted(list(categorical_feature))))\n"
     ]
    },
    {
     "name": "stdout",
     "output_type": "stream",
     "text": [
      "Training until validation scores don't improve for 100 rounds\n",
      "[20]\ttrain sales's rmse: 2.76697\tvalid sales's rmse: 2.73672\n",
      "[40]\ttrain sales's rmse: 2.29486\tvalid sales's rmse: 2.27406\n",
      "[60]\ttrain sales's rmse: 2.23183\tvalid sales's rmse: 2.21914\n",
      "[80]\ttrain sales's rmse: 2.1985\tvalid sales's rmse: 2.19268\n",
      "[100]\ttrain sales's rmse: 2.17968\tvalid sales's rmse: 2.18138\n",
      "[120]\ttrain sales's rmse: 2.16913\tvalid sales's rmse: 2.17547\n",
      "[140]\ttrain sales's rmse: 2.15851\tvalid sales's rmse: 2.16923\n",
      "[160]\ttrain sales's rmse: 2.14964\tvalid sales's rmse: 2.16438\n",
      "[180]\ttrain sales's rmse: 2.14387\tvalid sales's rmse: 2.16122\n",
      "[200]\ttrain sales's rmse: 2.13659\tvalid sales's rmse: 2.15732\n",
      "[220]\ttrain sales's rmse: 2.13067\tvalid sales's rmse: 2.15422\n",
      "[240]\ttrain sales's rmse: 2.1253\tvalid sales's rmse: 2.1522\n",
      "[260]\ttrain sales's rmse: 2.12052\tvalid sales's rmse: 2.15055\n",
      "[280]\ttrain sales's rmse: 2.11568\tvalid sales's rmse: 2.14863\n",
      "[300]\ttrain sales's rmse: 2.1103\tvalid sales's rmse: 2.1463\n",
      "[320]\ttrain sales's rmse: 2.10613\tvalid sales's rmse: 2.1445\n",
      "[340]\ttrain sales's rmse: 2.1017\tvalid sales's rmse: 2.14273\n",
      "[360]\ttrain sales's rmse: 2.09761\tvalid sales's rmse: 2.14077\n",
      "[380]\ttrain sales's rmse: 2.0936\tvalid sales's rmse: 2.13962\n",
      "[400]\ttrain sales's rmse: 2.09035\tvalid sales's rmse: 2.13835\n",
      "[420]\ttrain sales's rmse: 2.08668\tvalid sales's rmse: 2.13738\n"
     ]
    }
   ],
   "source": [
    "%%time\n",
    "\n",
    "X = X_train.loc[train_inds]\n",
    "y = y_train.loc[train_inds]\n",
    "\n",
    "m_lgb_regressor.fit(X=X, y=y, \n",
    "          eval_set=[(X, y), (X_train.loc[fake_valid_inds], y_train.loc[fake_valid_inds])],\n",
    "          eval_names=['train sales', 'valid sales'], \n",
    "          eval_metric=params['metric'],\n",
    "          verbose=params['verbosity'],\n",
    "          early_stopping_rounds=100,\n",
    "          categorical_feature=cat_feats)"
   ]
  },
  {
   "cell_type": "code",
   "execution_count": null,
   "metadata": {},
   "outputs": [],
   "source": [
    "class Importance():\n",
    "    \n",
    "    def __init__(self, model, eval_metric):\n",
    "        self.model, self.eval_metric = model, eval_metric\n",
    "        self.feature_importances = pd.DataFrame(list(zip(X_train.columns, model.feature_importances_)),\n",
    "                                           columns=['feature', 'importance'])\n",
    "\n",
    "    def plot_feature_importance(self, drop_null_importance: bool = True, top_n: int = 10):\n",
    "        \"\"\"\n",
    "        Plot default feature importance.\n",
    "\n",
    "        :param drop_null_importance: drop columns with null feature importance\n",
    "        :param top_n: show top n columns\n",
    "        :return:\n",
    "        \"\"\"\n",
    "\n",
    "        top_feats = self.get_top_features(drop_null_importance, top_n)\n",
    "        feature_importances = self.feature_importances.loc[self.feature_importances['feature'].isin(top_feats)]\n",
    "        feature_importances['feature'] = feature_importances['feature'].astype(str)\n",
    "        top_feats = [str(i) for i in top_feats]\n",
    "        a4_dims = (11.7, 8.27)\n",
    "        fig, ax = plt.subplots(figsize=a4_dims)\n",
    "        sns.barplot(data=feature_importances, x='importance', y='feature', orient='h', order=top_feats, ax=ax)\n",
    "        plt.title('Feature importances')\n",
    "\n",
    "    def get_top_features(self, drop_null_importance: bool = True, top_n: int = 10):\n",
    "        \"\"\"\n",
    "        Get top features by importance.\n",
    "\n",
    "        :param drop_null_importance:\n",
    "        :param top_n:\n",
    "        :return:\n",
    "        \"\"\"\n",
    "        grouped_feats = self.feature_importances.groupby(['feature'])['importance'].mean()\n",
    "        if drop_null_importance:\n",
    "            grouped_feats = grouped_feats[grouped_feats != 0]\n",
    "        return list(grouped_feats.sort_values(ascending=False).index)[:top_n]\n",
    "    \n",
    "    def plot_metric(self):\n",
    "        \"\"\"\n",
    "        Plot training progress.\n",
    "        Inspired by `plot_metric` from https://lightgbm.readthedocs.io/en/latest/_modules/lightgbm/plotting.html\n",
    "\n",
    "        :return:\n",
    "        \"\"\"\n",
    "        full_evals_results = pd.DataFrame()\n",
    "        for model in [self.model]:\n",
    "            evals_result = pd.DataFrame()\n",
    "            for k in model.evals_result_.keys():\n",
    "                evals_result[k] = model.evals_result_[k][self.eval_metric]\n",
    "            evals_result = evals_result.reset_index().rename(columns={'index': 'iteration'})\n",
    "            full_evals_results = full_evals_results.append(evals_result)\n",
    "\n",
    "        full_evals_results = full_evals_results.melt(id_vars=['iteration']).rename(columns={'value': self.eval_metric,\n",
    "                                                                                            'variable': 'dataset'})\n",
    "        sns.lineplot(data=full_evals_results, x='iteration', y=self.eval_metric, hue='dataset')\n",
    "#         categorical_feature  plt.title('Training progress')"
   ]
  },
  {
   "cell_type": "code",
   "execution_count": null,
   "metadata": {
    "scrolled": true
   },
   "outputs": [],
   "source": [
    "importance = Importance(m_lgb_regressor, 'rmse')\n",
    "importance.plot_feature_importance(top_n=40)"
   ]
  },
  {
   "cell_type": "code",
   "execution_count": null,
   "metadata": {
    "scrolled": true
   },
   "outputs": [],
   "source": [
    "importance.plot_metric()"
   ]
  },
  {
   "cell_type": "code",
   "execution_count": null,
   "metadata": {},
   "outputs": [],
   "source": [
    "for iter in [None, 800, 1000, 1200, 1400, 1500]:\n",
    "    m_lgb_regressor.booster_.save_model(str(path/f\"m5_model_{'best' if iter is None else iter}.lgb\"), num_iteration=iter)"
   ]
  },
  {
   "cell_type": "markdown",
   "metadata": {},
   "source": [
    "## Prediction"
   ]
  },
  {
   "cell_type": "code",
   "execution_count": null,
   "metadata": {},
   "outputs": [],
   "source": [
    "m_lgb = lgb.Booster(model_file=str(path/\"m5_model_best.lgb\"))"
   ]
  },
  {
   "cell_type": "code",
   "execution_count": null,
   "metadata": {},
   "outputs": [],
   "source": [
    "!du -h {path/\"m5_model.lgb\"}"
   ]
  },
  {
   "cell_type": "code",
   "execution_count": null,
   "metadata": {},
   "outputs": [],
   "source": [
    "from tqdm.notebook import tqdm"
   ]
  },
  {
   "cell_type": "code",
   "execution_count": null,
   "metadata": {},
   "outputs": [],
   "source": [
    "%%time\n",
    "\n",
    "max_lags = h * 2 + 1\n",
    "sub = 0.\n",
    "cols = [f\"F{i}\" for i in range(1,29)]\n",
    "te = m5_common.create_dt(cal, prices, False, first_day=FIRST_DAY, path=path)\n",
    "\n",
    "for tdelta in tqdm(range(0, h), total=h):\n",
    "    day = fday + timedelta(days=tdelta)\n",
    "    print(tdelta, day)\n",
    "    tst = te[(te.date >= day - timedelta(days=max_lags)) & (te.date <= day)].copy()\n",
    "    tst = create_fea(tst, False)\n",
    "    tst = tst.loc[tst.date == day, train_cols]\n",
    "    te.loc[te.date == day, \"sales\"] = m_lgb.predict(tst)\n",
    "    "
   ]
  },
  {
   "cell_type": "code",
   "execution_count": null,
   "metadata": {},
   "outputs": [],
   "source": [
    "fday - timedelta(days=h), datetime(2016, 4, 25)"
   ]
  },
  {
   "cell_type": "code",
   "execution_count": null,
   "metadata": {},
   "outputs": [],
   "source": [
    "te_sub = te.loc[te.date >= fday - timedelta(days=h), [\"id\", \"sales\"]].copy()"
   ]
  },
  {
   "cell_type": "code",
   "execution_count": null,
   "metadata": {},
   "outputs": [],
   "source": [
    "len(te_sub['date'].unique()) == 28 * 2"
   ]
  },
  {
   "cell_type": "code",
   "execution_count": null,
   "metadata": {},
   "outputs": [],
   "source": [
    "te_sub.loc[te.date < fday, \"id\"] = te_sub.loc[te.date < fday, \"id\"].str.replace(\"evaluation$\", \"validation\")\n",
    "te_sub[\"F\"] = [f\"F{rank}\" for rank in te_sub.groupby(\"id\")[\"id\"].cumcount()+1]\n",
    "te_sub = te_sub.set_index([\"id\", \"F\" ]).unstack()[\"sales\"][cols].reset_index()\n",
    "te_sub.fillna(0., inplace = True)\n",
    "te_sub.sort_values(\"id\", inplace = True)\n",
    "te_sub.reset_index(drop=True, inplace = True)\n",
    "sub = te_sub"
   ]
  },
  {
   "cell_type": "code",
   "execution_count": null,
   "metadata": {},
   "outputs": [],
   "source": [
    "%time\n",
    "\n",
    "# sub2 = sub.copy()\n",
    "# sub2[\"id\"] = sub2[\"id\"].str.replace(\"validation$\", \"evaluation\")\n",
    "# sub = pd.concat([sub, sub2], axis=0, sort=False)\n",
    "sub.to_csv(\"submission.csv\",index=False)"
   ]
  },
  {
   "cell_type": "code",
   "execution_count": null,
   "metadata": {},
   "outputs": [],
   "source": [
    "check = pd.read_csv('submission.csv')\n",
    "check[(check['id'] == 'FOODS_1_001_CA_1_validation') | (check['id'] == 'FOODS_1_001_CA_1_evaluation')]"
   ]
  },
  {
   "cell_type": "code",
   "execution_count": null,
   "metadata": {},
   "outputs": [],
   "source": [
    "check"
   ]
  }
 ],
 "metadata": {
  "kernelspec": {
   "display_name": "Python 3",
   "language": "python",
   "name": "python3"
  },
  "language_info": {
   "codemirror_mode": {
    "name": "ipython",
    "version": 3
   },
   "file_extension": ".py",
   "mimetype": "text/x-python",
   "name": "python",
   "nbconvert_exporter": "python",
   "pygments_lexer": "ipython3",
   "version": "3.7.4"
  }
 },
 "nbformat": 4,
 "nbformat_minor": 4
}
