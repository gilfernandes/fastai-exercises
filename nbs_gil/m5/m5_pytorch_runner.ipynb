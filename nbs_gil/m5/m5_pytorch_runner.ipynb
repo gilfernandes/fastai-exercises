{
 "cells": [
  {
   "cell_type": "code",
   "execution_count": null,
   "metadata": {},
   "outputs": [],
   "source": [
    "epochs = 15\n",
    "lr = 2e-3\n",
    "# num_cycles = 2\n",
    "lin_layer_sizes = [200, 300]\n",
    "\n",
    "for e in [20, 25]:\n",
    "    for learn_rate in [2e-3, 1e-3]:\n",
    "        for ls in [[200, 300], [100, 300]]:\n",
    "            epochs = e\n",
    "            lr = learn_rate\n",
    "            lin_layer_sizes = ls\n",
    "            %run ./m5_pytorch_18.ipynb"
   ]
  },
  {
   "cell_type": "code",
   "execution_count": null,
   "metadata": {},
   "outputs": [],
   "source": []
  }
 ],
 "metadata": {
  "kernelspec": {
   "display_name": "Python 3",
   "language": "python",
   "name": "python3"
  },
  "language_info": {
   "codemirror_mode": {
    "name": "ipython",
    "version": 3
   },
   "file_extension": ".py",
   "mimetype": "text/x-python",
   "name": "python",
   "nbconvert_exporter": "python",
   "pygments_lexer": "ipython3",
   "version": "3.7.4"
  }
 },
 "nbformat": 4,
 "nbformat_minor": 4
}
