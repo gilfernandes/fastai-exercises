{
 "cells": [
  {
   "cell_type": "code",
   "execution_count": 1,
   "metadata": {},
   "outputs": [],
   "source": [
    "%load_ext autoreload\n",
    "%autoreload 2\n",
    "\n",
    "%matplotlib inline"
   ]
  },
  {
   "cell_type": "code",
   "execution_count": 2,
   "metadata": {},
   "outputs": [],
   "source": [
    "from  datetime import datetime, timedelta\n",
    "import gc\n",
    "import numpy as np, pandas as pd\n",
    "import lightgbm as lgb\n",
    "from pathlib import Path\n",
    "import seaborn as sns\n",
    "import matplotlib.pyplot as plt\n",
    "from scripts import m5_common\n",
    "from tqdm.notebook import tqdm\n",
    "\n",
    "pd.options.display.max_columns = 50"
   ]
  },
  {
   "cell_type": "markdown",
   "metadata": {},
   "source": [
    "## Main Variables"
   ]
  },
  {
   "cell_type": "code",
   "execution_count": 3,
   "metadata": {},
   "outputs": [],
   "source": [
    "path = Path('/kaggle/m5_forecasting/')\n",
    "assert(path.exists())"
   ]
  },
  {
   "cell_type": "code",
   "execution_count": 4,
   "metadata": {},
   "outputs": [],
   "source": [
    "h = 28 \n",
    "max_lags = h * 2 + 1\n",
    "tr_last = 1913\n",
    "fday = datetime(2016, 4, 25)"
   ]
  },
  {
   "cell_type": "markdown",
   "metadata": {},
   "source": [
    "## Load data"
   ]
  },
  {
   "cell_type": "code",
   "execution_count": 5,
   "metadata": {},
   "outputs": [
    {
     "name": "stdout",
     "output_type": "stream",
     "text": [
      "CPU times: user 1.59 s, sys: 197 ms, total: 1.78 s\n",
      "Wall time: 2.01 s\n"
     ]
    }
   ],
   "source": [
    "%%time\n",
    "\n",
    "prices, cal = m5_common.prepare_tables(path)"
   ]
  },
  {
   "cell_type": "code",
   "execution_count": 6,
   "metadata": {},
   "outputs": [],
   "source": [
    "event_name_1_map, event_type_1_map = m5_common.replace_cal_cols(cal)"
   ]
  },
  {
   "cell_type": "code",
   "execution_count": 7,
   "metadata": {},
   "outputs": [
    {
     "data": {
      "text/html": [
       "<div>\n",
       "<style scoped>\n",
       "    .dataframe tbody tr th:only-of-type {\n",
       "        vertical-align: middle;\n",
       "    }\n",
       "\n",
       "    .dataframe tbody tr th {\n",
       "        vertical-align: top;\n",
       "    }\n",
       "\n",
       "    .dataframe thead th {\n",
       "        text-align: right;\n",
       "    }\n",
       "</style>\n",
       "<table border=\"1\" class=\"dataframe\">\n",
       "  <thead>\n",
       "    <tr style=\"text-align: right;\">\n",
       "      <th></th>\n",
       "      <th>date</th>\n",
       "      <th>wm_yr_wk</th>\n",
       "      <th>weekday</th>\n",
       "      <th>wday</th>\n",
       "      <th>month</th>\n",
       "      <th>year</th>\n",
       "      <th>d</th>\n",
       "      <th>event_name_1</th>\n",
       "      <th>event_type_1</th>\n",
       "      <th>event_name_2</th>\n",
       "      <th>event_type_2</th>\n",
       "      <th>snap_CA</th>\n",
       "      <th>snap_TX</th>\n",
       "      <th>snap_WI</th>\n",
       "    </tr>\n",
       "  </thead>\n",
       "  <tbody>\n",
       "    <tr>\n",
       "      <th>338</th>\n",
       "      <td>2012-01-02</td>\n",
       "      <td>11149</td>\n",
       "      <td>1</td>\n",
       "      <td>3</td>\n",
       "      <td>1</td>\n",
       "      <td>2012</td>\n",
       "      <td>d_339</td>\n",
       "      <td>0</td>\n",
       "      <td>0</td>\n",
       "      <td>0</td>\n",
       "      <td>0</td>\n",
       "      <td>1.0</td>\n",
       "      <td>0.0</td>\n",
       "      <td>1.0</td>\n",
       "    </tr>\n",
       "    <tr>\n",
       "      <th>339</th>\n",
       "      <td>2012-01-03</td>\n",
       "      <td>11149</td>\n",
       "      <td>5</td>\n",
       "      <td>4</td>\n",
       "      <td>1</td>\n",
       "      <td>2012</td>\n",
       "      <td>d_340</td>\n",
       "      <td>0</td>\n",
       "      <td>0</td>\n",
       "      <td>0</td>\n",
       "      <td>0</td>\n",
       "      <td>1.0</td>\n",
       "      <td>1.0</td>\n",
       "      <td>1.0</td>\n",
       "    </tr>\n",
       "    <tr>\n",
       "      <th>340</th>\n",
       "      <td>2012-01-04</td>\n",
       "      <td>11149</td>\n",
       "      <td>6</td>\n",
       "      <td>5</td>\n",
       "      <td>1</td>\n",
       "      <td>2012</td>\n",
       "      <td>d_341</td>\n",
       "      <td>0</td>\n",
       "      <td>0</td>\n",
       "      <td>0</td>\n",
       "      <td>0</td>\n",
       "      <td>1.0</td>\n",
       "      <td>0.0</td>\n",
       "      <td>0.0</td>\n",
       "    </tr>\n",
       "  </tbody>\n",
       "</table>\n",
       "</div>"
      ],
      "text/plain": [
       "          date  wm_yr_wk  weekday  wday  month  year      d  event_name_1  \\\n",
       "338 2012-01-02     11149        1     3      1  2012  d_339             0   \n",
       "339 2012-01-03     11149        5     4      1  2012  d_340             0   \n",
       "340 2012-01-04     11149        6     5      1  2012  d_341             0   \n",
       "\n",
       "     event_type_1  event_name_2  event_type_2  snap_CA  snap_TX  snap_WI  \n",
       "338             0             0             0      1.0      0.0      1.0  \n",
       "339             0             0             0      1.0      1.0      1.0  \n",
       "340             0             0             0      1.0      0.0      0.0  "
      ]
     },
     "execution_count": 7,
     "metadata": {},
     "output_type": "execute_result"
    }
   ],
   "source": [
    "cal[(cal.date > '2012-01-01') & (cal.date < '2012-01-05')]"
   ]
  },
  {
   "cell_type": "code",
   "execution_count": 8,
   "metadata": {},
   "outputs": [],
   "source": [
    "uint8_types= ['event_name_1', 'event_type_1', 'event_name_2', 'event_type_2', 'month', 'wday', 'weekday', \n",
    "              'snap_CA', 'snap_TX', 'snap_WI']\n",
    "m5_common.convert_uint8(cal, uint8_types)"
   ]
  },
  {
   "cell_type": "code",
   "execution_count": 9,
   "metadata": {},
   "outputs": [],
   "source": [
    "m5_common.add_days_before(cal)"
   ]
  },
  {
   "cell_type": "code",
   "execution_count": 10,
   "metadata": {},
   "outputs": [],
   "source": [
    "FIRST_DAY = 1"
   ]
  },
  {
   "cell_type": "code",
   "execution_count": 11,
   "metadata": {},
   "outputs": [
    {
     "name": "stdout",
     "output_type": "stream",
     "text": [
      "CPU times: user 41.6 s, sys: 5.54 s, total: 47.1 s\n",
      "Wall time: 47.3 s\n"
     ]
    }
   ],
   "source": [
    "%%time\n",
    "\n",
    "df = m5_common.create_dt(cal, prices, is_train=True, first_day=FIRST_DAY, tr_last=tr_last, path=path)"
   ]
  },
  {
   "cell_type": "code",
   "execution_count": 12,
   "metadata": {},
   "outputs": [],
   "source": [
    "def create_fea(dt):\n",
    "    \n",
    "    wins = [7, 28]\n",
    "    lags = [7, 28]\n",
    "    \n",
    "    grouped_sales = dt[[\"id\",\"sales\"]].groupby(\"id\")[\"sales\"]\n",
    "    \n",
    "    for win in tqdm(wins, total=len(wins)):\n",
    "        mean_col = f'mean_{win}'\n",
    "        emean_col = f'e{mean_col}' # exponential mean average\n",
    "        esmean_col = f'es{mean_col}'\n",
    "        dt[emean_col] = grouped_sales.transform(lambda x : x.ewm(span=win, adjust=False).mean())\n",
    "        dt[esmean_col] = grouped_sales.transform(lambda x : x.ewm(alpha=1/win, adjust=False).mean())\n",
    "        for lag in lags:\n",
    "            dt[f'emean_{win}_{lag}'] = dt[[\"id\", emean_col]].groupby(\"id\").shift(lag)\n",
    "            dt[f'esmean_{win}_{lag}'] = dt[[\"id\", esmean_col]].groupby(\"id\").shift(lag)\n",
    "        del dt[emean_col]\n",
    "        del dt[esmean_col]\n",
    "            \n",
    "    ra = [1, 2]\n",
    "    for simple_lag in ra:\n",
    "        dt[f'lag_{simple_lag}'] = dt[[\"id\",\"sales\"]].groupby(\"id\")[\"sales\"].shift(simple_lag)"
   ]
  },
  {
   "cell_type": "code",
   "execution_count": 13,
   "metadata": {},
   "outputs": [
    {
     "data": {
      "application/vnd.jupyter.widget-view+json": {
       "model_id": "7f383ced9bf545c5a9f15736616d8f73",
       "version_major": 2,
       "version_minor": 0
      },
      "text/plain": [
       "HBox(children=(FloatProgress(value=0.0, max=2.0), HTML(value='')))"
      ]
     },
     "metadata": {},
     "output_type": "display_data"
    },
    {
     "name": "stdout",
     "output_type": "stream",
     "text": [
      "\n",
      "CPU times: user 1min 26s, sys: 6.32 s, total: 1min 33s\n",
      "Wall time: 1min 33s\n"
     ]
    }
   ],
   "source": [
    "%%time\n",
    "\n",
    "create_fea(df)"
   ]
  },
  {
   "cell_type": "code",
   "execution_count": 14,
   "metadata": {},
   "outputs": [],
   "source": [
    "df.dropna(inplace = True)"
   ]
  },
  {
   "cell_type": "code",
   "execution_count": 15,
   "metadata": {},
   "outputs": [
    {
     "name": "stdout",
     "output_type": "stream",
     "text": [
      "CPU times: user 208 ms, sys: 19.7 ms, total: 228 ms\n",
      "Wall time: 228 ms\n"
     ]
    }
   ],
   "source": [
    "%%time\n",
    "\n",
    "df['sales_positive'] = (df['sales'] > 0).astype('uint8')"
   ]
  },
  {
   "cell_type": "code",
   "execution_count": 16,
   "metadata": {},
   "outputs": [
    {
     "name": "stdout",
     "output_type": "stream",
     "text": [
      "<class 'pandas.core.frame.DataFrame'>\n",
      "Int64Index: 45174237 entries, 342559 to 46025082\n",
      "Data columns (total 38 columns):\n",
      " #   Column            Dtype         \n",
      "---  ------            -----         \n",
      " 0   id                object        \n",
      " 1   item_id           int16         \n",
      " 2   dept_id           int16         \n",
      " 3   store_id          int16         \n",
      " 4   cat_id            int16         \n",
      " 5   state_id          int16         \n",
      " 6   d                 object        \n",
      " 7   sales             float16       \n",
      " 8   date              datetime64[ns]\n",
      " 9   wm_yr_wk          int16         \n",
      " 10  weekday           uint8         \n",
      " 11  wday              uint8         \n",
      " 12  month             uint8         \n",
      " 13  year              int16         \n",
      " 14  event_name_1      uint8         \n",
      " 15  event_type_1      uint8         \n",
      " 16  event_name_2      uint8         \n",
      " 17  event_type_2      uint8         \n",
      " 18  snap_CA           uint8         \n",
      " 19  snap_TX           uint8         \n",
      " 20  snap_WI           uint8         \n",
      " 21  before_christmas  uint16        \n",
      " 22  sell_price        float16       \n",
      " 23  Dayofyear         uint16        \n",
      " 24  week              uint8         \n",
      " 25  mday              uint8         \n",
      " 26  lag_price_1       float16       \n",
      " 27  emean_7_7         float16       \n",
      " 28  esmean_7_7        float16       \n",
      " 29  emean_7_28        float16       \n",
      " 30  esmean_7_28       float16       \n",
      " 31  emean_28_7        float16       \n",
      " 32  esmean_28_7       float16       \n",
      " 33  emean_28_28       float16       \n",
      " 34  esmean_28_28      float16       \n",
      " 35  lag_1             float16       \n",
      " 36  lag_2             float16       \n",
      " 37  sales_positive    uint8         \n",
      "dtypes: datetime64[ns](1), float16(13), int16(7), object(2), uint16(2), uint8(13)\n",
      "memory usage: 3.7+ GB\n"
     ]
    }
   ],
   "source": [
    "df.info()"
   ]
  },
  {
   "cell_type": "code",
   "execution_count": 17,
   "metadata": {},
   "outputs": [],
   "source": [
    "cat_feats = ['item_id', 'dept_id','store_id', 'cat_id', 'state_id', \"event_name_1\", \"event_name_2\", \"event_type_1\",  \"event_type_2\", 'snap_CA', 'snap_TX', 'snap_WI']\n",
    "useless_cols = [\"id\", \"date\", \"sales\", \"sales_positive\", \"d\", \"wm_yr_wk\", \"weekday\", \"revenue\"]\n",
    "\n",
    "train_cols = df.columns[~df.columns.isin(useless_cols)]"
   ]
  },
  {
   "cell_type": "code",
   "execution_count": 18,
   "metadata": {},
   "outputs": [
    {
     "data": {
      "text/plain": [
       "114"
      ]
     },
     "execution_count": 18,
     "metadata": {},
     "output_type": "execute_result"
    }
   ],
   "source": [
    "del df\n",
    "gc.collect()"
   ]
  },
  {
   "cell_type": "markdown",
   "metadata": {},
   "source": [
    "### Load Models"
   ]
  },
  {
   "cell_type": "code",
   "execution_count": 19,
   "metadata": {},
   "outputs": [],
   "source": [
    "m_lgb_bin = lgb.Booster(model_file=str(path/\"m5_model_binary.lgb\"))"
   ]
  },
  {
   "cell_type": "code",
   "execution_count": 20,
   "metadata": {},
   "outputs": [],
   "source": [
    "m_lgb = lgb.Booster(model_file=str(path/\"m5_model.lgb\"))"
   ]
  },
  {
   "cell_type": "markdown",
   "metadata": {},
   "source": [
    "### Prediction"
   ]
  },
  {
   "cell_type": "code",
   "execution_count": 44,
   "metadata": {},
   "outputs": [
    {
     "data": {
      "application/vnd.jupyter.widget-view+json": {
       "model_id": "7e9fd76a9abd44d3aa448a8da85a7293",
       "version_major": 2,
       "version_minor": 0
      },
      "text/plain": [
       "HBox(children=(FloatProgress(value=0.0, max=28.0), HTML(value='')))"
      ]
     },
     "metadata": {},
     "output_type": "display_data"
    },
    {
     "name": "stdout",
     "output_type": "stream",
     "text": [
      "0 2016-04-25 00:00:00\n"
     ]
    },
    {
     "data": {
      "application/vnd.jupyter.widget-view+json": {
       "model_id": "e61e887d4f0240bc9a924423d3d7ed75",
       "version_major": 2,
       "version_minor": 0
      },
      "text/plain": [
       "HBox(children=(FloatProgress(value=0.0, max=2.0), HTML(value='')))"
      ]
     },
     "metadata": {},
     "output_type": "display_data"
    },
    {
     "name": "stdout",
     "output_type": "stream",
     "text": [
      "\n",
      "1 2016-04-26 00:00:00\n"
     ]
    },
    {
     "data": {
      "application/vnd.jupyter.widget-view+json": {
       "model_id": "d7a8bff61c274593828744dcd82bb049",
       "version_major": 2,
       "version_minor": 0
      },
      "text/plain": [
       "HBox(children=(FloatProgress(value=0.0, max=2.0), HTML(value='')))"
      ]
     },
     "metadata": {},
     "output_type": "display_data"
    },
    {
     "name": "stdout",
     "output_type": "stream",
     "text": [
      "\n",
      "2 2016-04-27 00:00:00\n"
     ]
    },
    {
     "data": {
      "application/vnd.jupyter.widget-view+json": {
       "model_id": "514cc63d21304ebc82e821f55b7e6fcb",
       "version_major": 2,
       "version_minor": 0
      },
      "text/plain": [
       "HBox(children=(FloatProgress(value=0.0, max=2.0), HTML(value='')))"
      ]
     },
     "metadata": {},
     "output_type": "display_data"
    },
    {
     "name": "stdout",
     "output_type": "stream",
     "text": [
      "\n",
      "3 2016-04-28 00:00:00\n"
     ]
    },
    {
     "data": {
      "application/vnd.jupyter.widget-view+json": {
       "model_id": "2213415aa90443e595fa28cb3361e849",
       "version_major": 2,
       "version_minor": 0
      },
      "text/plain": [
       "HBox(children=(FloatProgress(value=0.0, max=2.0), HTML(value='')))"
      ]
     },
     "metadata": {},
     "output_type": "display_data"
    },
    {
     "name": "stdout",
     "output_type": "stream",
     "text": [
      "\n",
      "CPU times: user 11min 23s, sys: 8.31 s, total: 11min 32s\n",
      "Wall time: 4min 35s\n"
     ]
    }
   ],
   "source": [
    "%%time\n",
    "\n",
    "max_lags = h * 2 + 1\n",
    "sub = 0.\n",
    "cols = [f\"F{i}\" for i in range(1,29)]\n",
    "te = m5_common.create_dt(cal, prices, False, first_day=FIRST_DAY, path=path)\n",
    "zero_threshold = 0.1\n",
    "\n",
    "for tdelta in tqdm(range(0, h), total=h):\n",
    "    day = fday + timedelta(days=tdelta)\n",
    "    print(tdelta, day)\n",
    "    tst = te[(te.date >= day - timedelta(days=max_lags)) & (te.date <= day)].copy()\n",
    "    create_fea(tst)\n",
    "    tst = tst.loc[tst.date == day, train_cols]\n",
    "    te.loc[te.date == day, \"sales_bin\"] = m_lgb_bin.predict(tst)\n",
    "    te.loc[te.date == day, \"sales\"] = m_lgb.predict(tst)\n",
    "    if tdelta == 3:\n",
    "        break\n",
    "\n",
    "te[\"sales_bin_filter\"] = (te[\"sales_bin\"] >= zero_threshold).astype('float16')\n",
    "te[\"sales_normal\"] = te[\"sales\"].copy()\n",
    "te[\"sales_trim\"] = np.where(te[\"sales\"] > 0.01, te[\"sales\"], 0.0).astype('float16')\n",
    "te[\"sales\"] = te[\"sales_bin_filter\"] * te[\"sales\"].astype('float16')\n",
    "        \n",
    "te_sub = te.loc[te.date >= fday, [\"id\", \"sales\"]].copy()\n",
    "te_sub.loc[te.date >= fday+ timedelta(days=h), \"id\"] = te_sub.loc[te.date >= fday+timedelta(days=h), \n",
    "                                                                      \"id\"].str.replace(\"validation$\", \"evaluation\")\n",
    "te_sub[\"F\"] = [f\"F{rank}\" for rank in te_sub.groupby(\"id\")[\"id\"].cumcount()+1]\n",
    "te_sub = te_sub.set_index([\"id\", \"F\" ]).unstack()[\"sales\"][cols].reset_index()\n",
    "te_sub.fillna(0., inplace = True)\n",
    "te_sub.sort_values(\"id\", inplace = True)\n",
    "te_sub.reset_index(drop=True, inplace = True)\n",
    "sub = te_sub\n",
    "    "
   ]
  },
  {
   "cell_type": "code",
   "execution_count": 47,
   "metadata": {},
   "outputs": [],
   "source": [
    "check_sample = (te[te.date == day][[\"sales_bin\", \"sales_bin_filter\", 'sales_normal', 'sales_trim', 'sales']])[0:100]"
   ]
  },
  {
   "cell_type": "code",
   "execution_count": 48,
   "metadata": {},
   "outputs": [
    {
     "data": {
      "text/html": [
       "<div>\n",
       "<style scoped>\n",
       "    .dataframe tbody tr th:only-of-type {\n",
       "        vertical-align: middle;\n",
       "    }\n",
       "\n",
       "    .dataframe tbody tr th {\n",
       "        vertical-align: top;\n",
       "    }\n",
       "\n",
       "    .dataframe thead th {\n",
       "        text-align: right;\n",
       "    }\n",
       "</style>\n",
       "<table border=\"1\" class=\"dataframe\">\n",
       "  <thead>\n",
       "    <tr style=\"text-align: right;\">\n",
       "      <th></th>\n",
       "      <th>sales_bin</th>\n",
       "      <th>sales_bin_filter</th>\n",
       "      <th>sales_normal</th>\n",
       "      <th>sales_trim</th>\n",
       "      <th>sales</th>\n",
       "    </tr>\n",
       "  </thead>\n",
       "  <tbody>\n",
       "    <tr>\n",
       "      <th>45978266</th>\n",
       "      <td>0.427366</td>\n",
       "      <td>1.0</td>\n",
       "      <td>0.664062</td>\n",
       "      <td>0.664062</td>\n",
       "      <td>0.664062</td>\n",
       "    </tr>\n",
       "    <tr>\n",
       "      <th>45999609</th>\n",
       "      <td>0.573560</td>\n",
       "      <td>1.0</td>\n",
       "      <td>0.991211</td>\n",
       "      <td>0.991211</td>\n",
       "      <td>0.991211</td>\n",
       "    </tr>\n",
       "    <tr>\n",
       "      <th>46020952</th>\n",
       "      <td>0.338521</td>\n",
       "      <td>1.0</td>\n",
       "      <td>0.857422</td>\n",
       "      <td>0.857422</td>\n",
       "      <td>0.857422</td>\n",
       "    </tr>\n",
       "    <tr>\n",
       "      <th>46042295</th>\n",
       "      <td>0.185979</td>\n",
       "      <td>1.0</td>\n",
       "      <td>0.292969</td>\n",
       "      <td>0.292969</td>\n",
       "      <td>0.292969</td>\n",
       "    </tr>\n",
       "    <tr>\n",
       "      <th>46063638</th>\n",
       "      <td>0.257941</td>\n",
       "      <td>1.0</td>\n",
       "      <td>0.273193</td>\n",
       "      <td>0.273193</td>\n",
       "      <td>0.273193</td>\n",
       "    </tr>\n",
       "    <tr>\n",
       "      <th>46084981</th>\n",
       "      <td>0.279399</td>\n",
       "      <td>1.0</td>\n",
       "      <td>0.434082</td>\n",
       "      <td>0.434082</td>\n",
       "      <td>0.434082</td>\n",
       "    </tr>\n",
       "    <tr>\n",
       "      <th>46106324</th>\n",
       "      <td>0.244696</td>\n",
       "      <td>1.0</td>\n",
       "      <td>0.384277</td>\n",
       "      <td>0.384277</td>\n",
       "      <td>0.384277</td>\n",
       "    </tr>\n",
       "    <tr>\n",
       "      <th>46127667</th>\n",
       "      <td>0.254187</td>\n",
       "      <td>1.0</td>\n",
       "      <td>0.399414</td>\n",
       "      <td>0.399414</td>\n",
       "      <td>0.399414</td>\n",
       "    </tr>\n",
       "    <tr>\n",
       "      <th>46149010</th>\n",
       "      <td>0.228136</td>\n",
       "      <td>1.0</td>\n",
       "      <td>0.399658</td>\n",
       "      <td>0.399658</td>\n",
       "      <td>0.399658</td>\n",
       "    </tr>\n",
       "    <tr>\n",
       "      <th>46170353</th>\n",
       "      <td>0.299074</td>\n",
       "      <td>1.0</td>\n",
       "      <td>0.341309</td>\n",
       "      <td>0.341309</td>\n",
       "      <td>0.341309</td>\n",
       "    </tr>\n",
       "    <tr>\n",
       "      <th>45978273</th>\n",
       "      <td>0.298119</td>\n",
       "      <td>1.0</td>\n",
       "      <td>0.421875</td>\n",
       "      <td>0.421875</td>\n",
       "      <td>0.421875</td>\n",
       "    </tr>\n",
       "    <tr>\n",
       "      <th>45999616</th>\n",
       "      <td>0.413470</td>\n",
       "      <td>1.0</td>\n",
       "      <td>0.965332</td>\n",
       "      <td>0.965332</td>\n",
       "      <td>0.965332</td>\n",
       "    </tr>\n",
       "    <tr>\n",
       "      <th>46020959</th>\n",
       "      <td>0.326096</td>\n",
       "      <td>1.0</td>\n",
       "      <td>0.456787</td>\n",
       "      <td>0.456787</td>\n",
       "      <td>0.456787</td>\n",
       "    </tr>\n",
       "    <tr>\n",
       "      <th>46042302</th>\n",
       "      <td>0.149271</td>\n",
       "      <td>1.0</td>\n",
       "      <td>0.220459</td>\n",
       "      <td>0.220459</td>\n",
       "      <td>0.220459</td>\n",
       "    </tr>\n",
       "    <tr>\n",
       "      <th>46063645</th>\n",
       "      <td>0.134830</td>\n",
       "      <td>1.0</td>\n",
       "      <td>0.188354</td>\n",
       "      <td>0.188354</td>\n",
       "      <td>0.188354</td>\n",
       "    </tr>\n",
       "    <tr>\n",
       "      <th>46084988</th>\n",
       "      <td>0.134413</td>\n",
       "      <td>1.0</td>\n",
       "      <td>0.202271</td>\n",
       "      <td>0.202271</td>\n",
       "      <td>0.202271</td>\n",
       "    </tr>\n",
       "    <tr>\n",
       "      <th>46106331</th>\n",
       "      <td>0.204193</td>\n",
       "      <td>1.0</td>\n",
       "      <td>0.285889</td>\n",
       "      <td>0.285889</td>\n",
       "      <td>0.285889</td>\n",
       "    </tr>\n",
       "    <tr>\n",
       "      <th>46127674</th>\n",
       "      <td>0.459614</td>\n",
       "      <td>1.0</td>\n",
       "      <td>0.858887</td>\n",
       "      <td>0.858887</td>\n",
       "      <td>0.858887</td>\n",
       "    </tr>\n",
       "    <tr>\n",
       "      <th>46149017</th>\n",
       "      <td>0.274605</td>\n",
       "      <td>1.0</td>\n",
       "      <td>0.413330</td>\n",
       "      <td>0.413330</td>\n",
       "      <td>0.413330</td>\n",
       "    </tr>\n",
       "    <tr>\n",
       "      <th>46170360</th>\n",
       "      <td>0.123527</td>\n",
       "      <td>1.0</td>\n",
       "      <td>0.144043</td>\n",
       "      <td>0.144043</td>\n",
       "      <td>0.144043</td>\n",
       "    </tr>\n",
       "    <tr>\n",
       "      <th>45978280</th>\n",
       "      <td>0.491392</td>\n",
       "      <td>1.0</td>\n",
       "      <td>0.834961</td>\n",
       "      <td>0.834961</td>\n",
       "      <td>0.834961</td>\n",
       "    </tr>\n",
       "    <tr>\n",
       "      <th>45999623</th>\n",
       "      <td>0.527550</td>\n",
       "      <td>1.0</td>\n",
       "      <td>1.035156</td>\n",
       "      <td>1.035156</td>\n",
       "      <td>1.035156</td>\n",
       "    </tr>\n",
       "    <tr>\n",
       "      <th>46020966</th>\n",
       "      <td>0.470955</td>\n",
       "      <td>1.0</td>\n",
       "      <td>0.845703</td>\n",
       "      <td>0.845703</td>\n",
       "      <td>0.845703</td>\n",
       "    </tr>\n",
       "    <tr>\n",
       "      <th>46042309</th>\n",
       "      <td>0.209461</td>\n",
       "      <td>1.0</td>\n",
       "      <td>0.358398</td>\n",
       "      <td>0.358398</td>\n",
       "      <td>0.358398</td>\n",
       "    </tr>\n",
       "    <tr>\n",
       "      <th>46063652</th>\n",
       "      <td>0.207157</td>\n",
       "      <td>1.0</td>\n",
       "      <td>0.377441</td>\n",
       "      <td>0.377441</td>\n",
       "      <td>0.377441</td>\n",
       "    </tr>\n",
       "    <tr>\n",
       "      <th>46084995</th>\n",
       "      <td>0.245552</td>\n",
       "      <td>1.0</td>\n",
       "      <td>0.387207</td>\n",
       "      <td>0.387207</td>\n",
       "      <td>0.387207</td>\n",
       "    </tr>\n",
       "    <tr>\n",
       "      <th>46106338</th>\n",
       "      <td>0.167011</td>\n",
       "      <td>1.0</td>\n",
       "      <td>0.093201</td>\n",
       "      <td>0.093201</td>\n",
       "      <td>0.093201</td>\n",
       "    </tr>\n",
       "    <tr>\n",
       "      <th>46127681</th>\n",
       "      <td>0.467589</td>\n",
       "      <td>1.0</td>\n",
       "      <td>0.846191</td>\n",
       "      <td>0.846191</td>\n",
       "      <td>0.846191</td>\n",
       "    </tr>\n",
       "    <tr>\n",
       "      <th>46149024</th>\n",
       "      <td>0.156671</td>\n",
       "      <td>1.0</td>\n",
       "      <td>0.136597</td>\n",
       "      <td>0.136597</td>\n",
       "      <td>0.136597</td>\n",
       "    </tr>\n",
       "    <tr>\n",
       "      <th>46170367</th>\n",
       "      <td>0.142799</td>\n",
       "      <td>1.0</td>\n",
       "      <td>0.162354</td>\n",
       "      <td>0.162354</td>\n",
       "      <td>0.162354</td>\n",
       "    </tr>\n",
       "    <tr>\n",
       "      <th>45978287</th>\n",
       "      <td>0.419971</td>\n",
       "      <td>1.0</td>\n",
       "      <td>0.345703</td>\n",
       "      <td>0.345703</td>\n",
       "      <td>0.345703</td>\n",
       "    </tr>\n",
       "    <tr>\n",
       "      <th>45999630</th>\n",
       "      <td>0.393855</td>\n",
       "      <td>1.0</td>\n",
       "      <td>0.257080</td>\n",
       "      <td>0.257080</td>\n",
       "      <td>0.257080</td>\n",
       "    </tr>\n",
       "    <tr>\n",
       "      <th>46020973</th>\n",
       "      <td>0.458446</td>\n",
       "      <td>1.0</td>\n",
       "      <td>0.958984</td>\n",
       "      <td>0.958984</td>\n",
       "      <td>0.958984</td>\n",
       "    </tr>\n",
       "    <tr>\n",
       "      <th>46042316</th>\n",
       "      <td>0.369296</td>\n",
       "      <td>1.0</td>\n",
       "      <td>0.197388</td>\n",
       "      <td>0.197388</td>\n",
       "      <td>0.197388</td>\n",
       "    </tr>\n",
       "    <tr>\n",
       "      <th>46063659</th>\n",
       "      <td>0.371837</td>\n",
       "      <td>1.0</td>\n",
       "      <td>0.194702</td>\n",
       "      <td>0.194702</td>\n",
       "      <td>0.194702</td>\n",
       "    </tr>\n",
       "    <tr>\n",
       "      <th>46085002</th>\n",
       "      <td>0.363442</td>\n",
       "      <td>1.0</td>\n",
       "      <td>0.279785</td>\n",
       "      <td>0.279785</td>\n",
       "      <td>0.279785</td>\n",
       "    </tr>\n",
       "    <tr>\n",
       "      <th>46106345</th>\n",
       "      <td>0.360599</td>\n",
       "      <td>1.0</td>\n",
       "      <td>0.195190</td>\n",
       "      <td>0.195190</td>\n",
       "      <td>0.195190</td>\n",
       "    </tr>\n",
       "    <tr>\n",
       "      <th>46127688</th>\n",
       "      <td>0.393514</td>\n",
       "      <td>1.0</td>\n",
       "      <td>0.240723</td>\n",
       "      <td>0.240723</td>\n",
       "      <td>0.240723</td>\n",
       "    </tr>\n",
       "    <tr>\n",
       "      <th>46149031</th>\n",
       "      <td>0.389022</td>\n",
       "      <td>1.0</td>\n",
       "      <td>0.309082</td>\n",
       "      <td>0.309082</td>\n",
       "      <td>0.309082</td>\n",
       "    </tr>\n",
       "    <tr>\n",
       "      <th>46170374</th>\n",
       "      <td>0.374359</td>\n",
       "      <td>1.0</td>\n",
       "      <td>0.375488</td>\n",
       "      <td>0.375488</td>\n",
       "      <td>0.375488</td>\n",
       "    </tr>\n",
       "    <tr>\n",
       "      <th>45978294</th>\n",
       "      <td>0.561815</td>\n",
       "      <td>1.0</td>\n",
       "      <td>1.184570</td>\n",
       "      <td>1.184570</td>\n",
       "      <td>1.184570</td>\n",
       "    </tr>\n",
       "    <tr>\n",
       "      <th>45999637</th>\n",
       "      <td>0.902032</td>\n",
       "      <td>1.0</td>\n",
       "      <td>4.335938</td>\n",
       "      <td>4.335938</td>\n",
       "      <td>4.335938</td>\n",
       "    </tr>\n",
       "    <tr>\n",
       "      <th>46020980</th>\n",
       "      <td>0.728612</td>\n",
       "      <td>1.0</td>\n",
       "      <td>1.884766</td>\n",
       "      <td>1.884766</td>\n",
       "      <td>1.884766</td>\n",
       "    </tr>\n",
       "    <tr>\n",
       "      <th>46042323</th>\n",
       "      <td>0.539961</td>\n",
       "      <td>1.0</td>\n",
       "      <td>0.906738</td>\n",
       "      <td>0.906738</td>\n",
       "      <td>0.906738</td>\n",
       "    </tr>\n",
       "    <tr>\n",
       "      <th>46063666</th>\n",
       "      <td>0.482783</td>\n",
       "      <td>1.0</td>\n",
       "      <td>0.875977</td>\n",
       "      <td>0.875977</td>\n",
       "      <td>0.875977</td>\n",
       "    </tr>\n",
       "    <tr>\n",
       "      <th>46085009</th>\n",
       "      <td>0.630957</td>\n",
       "      <td>1.0</td>\n",
       "      <td>1.272461</td>\n",
       "      <td>1.272461</td>\n",
       "      <td>1.272461</td>\n",
       "    </tr>\n",
       "    <tr>\n",
       "      <th>46106352</th>\n",
       "      <td>0.600329</td>\n",
       "      <td>1.0</td>\n",
       "      <td>1.130859</td>\n",
       "      <td>1.130859</td>\n",
       "      <td>1.130859</td>\n",
       "    </tr>\n",
       "    <tr>\n",
       "      <th>46127695</th>\n",
       "      <td>0.820930</td>\n",
       "      <td>1.0</td>\n",
       "      <td>2.220703</td>\n",
       "      <td>2.220703</td>\n",
       "      <td>2.220703</td>\n",
       "    </tr>\n",
       "    <tr>\n",
       "      <th>46149038</th>\n",
       "      <td>0.714490</td>\n",
       "      <td>1.0</td>\n",
       "      <td>1.583008</td>\n",
       "      <td>1.583008</td>\n",
       "      <td>1.583008</td>\n",
       "    </tr>\n",
       "    <tr>\n",
       "      <th>46170381</th>\n",
       "      <td>0.698511</td>\n",
       "      <td>1.0</td>\n",
       "      <td>1.352539</td>\n",
       "      <td>1.352539</td>\n",
       "      <td>1.352539</td>\n",
       "    </tr>\n",
       "  </tbody>\n",
       "</table>\n",
       "</div>"
      ],
      "text/plain": [
       "          sales_bin  sales_bin_filter  sales_normal  sales_trim     sales\n",
       "45978266   0.427366               1.0      0.664062    0.664062  0.664062\n",
       "45999609   0.573560               1.0      0.991211    0.991211  0.991211\n",
       "46020952   0.338521               1.0      0.857422    0.857422  0.857422\n",
       "46042295   0.185979               1.0      0.292969    0.292969  0.292969\n",
       "46063638   0.257941               1.0      0.273193    0.273193  0.273193\n",
       "46084981   0.279399               1.0      0.434082    0.434082  0.434082\n",
       "46106324   0.244696               1.0      0.384277    0.384277  0.384277\n",
       "46127667   0.254187               1.0      0.399414    0.399414  0.399414\n",
       "46149010   0.228136               1.0      0.399658    0.399658  0.399658\n",
       "46170353   0.299074               1.0      0.341309    0.341309  0.341309\n",
       "45978273   0.298119               1.0      0.421875    0.421875  0.421875\n",
       "45999616   0.413470               1.0      0.965332    0.965332  0.965332\n",
       "46020959   0.326096               1.0      0.456787    0.456787  0.456787\n",
       "46042302   0.149271               1.0      0.220459    0.220459  0.220459\n",
       "46063645   0.134830               1.0      0.188354    0.188354  0.188354\n",
       "46084988   0.134413               1.0      0.202271    0.202271  0.202271\n",
       "46106331   0.204193               1.0      0.285889    0.285889  0.285889\n",
       "46127674   0.459614               1.0      0.858887    0.858887  0.858887\n",
       "46149017   0.274605               1.0      0.413330    0.413330  0.413330\n",
       "46170360   0.123527               1.0      0.144043    0.144043  0.144043\n",
       "45978280   0.491392               1.0      0.834961    0.834961  0.834961\n",
       "45999623   0.527550               1.0      1.035156    1.035156  1.035156\n",
       "46020966   0.470955               1.0      0.845703    0.845703  0.845703\n",
       "46042309   0.209461               1.0      0.358398    0.358398  0.358398\n",
       "46063652   0.207157               1.0      0.377441    0.377441  0.377441\n",
       "46084995   0.245552               1.0      0.387207    0.387207  0.387207\n",
       "46106338   0.167011               1.0      0.093201    0.093201  0.093201\n",
       "46127681   0.467589               1.0      0.846191    0.846191  0.846191\n",
       "46149024   0.156671               1.0      0.136597    0.136597  0.136597\n",
       "46170367   0.142799               1.0      0.162354    0.162354  0.162354\n",
       "45978287   0.419971               1.0      0.345703    0.345703  0.345703\n",
       "45999630   0.393855               1.0      0.257080    0.257080  0.257080\n",
       "46020973   0.458446               1.0      0.958984    0.958984  0.958984\n",
       "46042316   0.369296               1.0      0.197388    0.197388  0.197388\n",
       "46063659   0.371837               1.0      0.194702    0.194702  0.194702\n",
       "46085002   0.363442               1.0      0.279785    0.279785  0.279785\n",
       "46106345   0.360599               1.0      0.195190    0.195190  0.195190\n",
       "46127688   0.393514               1.0      0.240723    0.240723  0.240723\n",
       "46149031   0.389022               1.0      0.309082    0.309082  0.309082\n",
       "46170374   0.374359               1.0      0.375488    0.375488  0.375488\n",
       "45978294   0.561815               1.0      1.184570    1.184570  1.184570\n",
       "45999637   0.902032               1.0      4.335938    4.335938  4.335938\n",
       "46020980   0.728612               1.0      1.884766    1.884766  1.884766\n",
       "46042323   0.539961               1.0      0.906738    0.906738  0.906738\n",
       "46063666   0.482783               1.0      0.875977    0.875977  0.875977\n",
       "46085009   0.630957               1.0      1.272461    1.272461  1.272461\n",
       "46106352   0.600329               1.0      1.130859    1.130859  1.130859\n",
       "46127695   0.820930               1.0      2.220703    2.220703  2.220703\n",
       "46149038   0.714490               1.0      1.583008    1.583008  1.583008\n",
       "46170381   0.698511               1.0      1.352539    1.352539  1.352539"
      ]
     },
     "execution_count": 48,
     "metadata": {},
     "output_type": "execute_result"
    }
   ],
   "source": [
    "check_sample.head(50)"
   ]
  },
  {
   "cell_type": "code",
   "execution_count": null,
   "metadata": {},
   "outputs": [],
   "source": [
    "plt.plot(np.arange(len(check_sample)), check_sample['sales_bin'])\n",
    "plt.plot(np.arange(len(check_sample)), check_sample['sales_normal'])"
   ]
  },
  {
   "cell_type": "code",
   "execution_count": null,
   "metadata": {},
   "outputs": [],
   "source": [
    "sub2 = sub.copy()\n",
    "sub2[\"id\"] = sub2[\"id\"].str.replace(\"validation$\", \"evaluation\")\n",
    "sub = pd.concat([sub, sub2], axis=0, sort=False)\n",
    "sub.to_csv(\"submission.csv\",index=False)"
   ]
  },
  {
   "cell_type": "code",
   "execution_count": null,
   "metadata": {},
   "outputs": [],
   "source": [
    "from collections import Counter\n",
    "c = Counter(sub['F1'])"
   ]
  },
  {
   "cell_type": "code",
   "execution_count": null,
   "metadata": {},
   "outputs": [],
   "source": [
    "c[0] / len(sub['F1'])"
   ]
  }
 ],
 "metadata": {
  "kernelspec": {
   "display_name": "Python 3",
   "language": "python",
   "name": "python3"
  },
  "language_info": {
   "codemirror_mode": {
    "name": "ipython",
    "version": 3
   },
   "file_extension": ".py",
   "mimetype": "text/x-python",
   "name": "python",
   "nbconvert_exporter": "python",
   "pygments_lexer": "ipython3",
   "version": "3.7.4"
  }
 },
 "nbformat": 4,
 "nbformat_minor": 4
}
