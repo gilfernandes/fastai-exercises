{
 "cells": [
  {
   "cell_type": "code",
   "execution_count": 1,
   "metadata": {},
   "outputs": [],
   "source": [
    "%load_ext autoreload\n",
    "%autoreload 2\n",
    "\n",
    "%matplotlib inline"
   ]
  },
  {
   "cell_type": "code",
   "execution_count": 2,
   "metadata": {},
   "outputs": [],
   "source": [
    "from  datetime import datetime, timedelta\n",
    "import gc\n",
    "import numpy as np, pandas as pd\n",
    "import lightgbm as lgb\n",
    "from pathlib import Path\n",
    "import seaborn as sns\n",
    "import matplotlib.pyplot as plt\n",
    "from scripts import m5_common\n",
    "from tqdm.notebook import tqdm\n",
    "\n",
    "pd.options.display.max_columns = 50"
   ]
  },
  {
   "cell_type": "markdown",
   "metadata": {},
   "source": [
    "## Main Variables"
   ]
  },
  {
   "cell_type": "code",
   "execution_count": 3,
   "metadata": {},
   "outputs": [],
   "source": [
    "path = Path('/kaggle/m5_forecasting/')\n",
    "assert(path.exists())"
   ]
  },
  {
   "cell_type": "code",
   "execution_count": 4,
   "metadata": {},
   "outputs": [],
   "source": [
    "h = 28 \n",
    "max_lags = h * 2 + 1\n",
    "tr_last = 1913\n",
    "fday = datetime(2016, 4, 25)"
   ]
  },
  {
   "cell_type": "markdown",
   "metadata": {},
   "source": [
    "## Load data"
   ]
  },
  {
   "cell_type": "code",
   "execution_count": 5,
   "metadata": {},
   "outputs": [
    {
     "name": "stdout",
     "output_type": "stream",
     "text": [
      "CPU times: user 1.41 s, sys: 156 ms, total: 1.56 s\n",
      "Wall time: 1.56 s\n"
     ]
    }
   ],
   "source": [
    "%%time\n",
    "\n",
    "prices, cal = m5_common.prepare_tables(path)"
   ]
  },
  {
   "cell_type": "code",
   "execution_count": 6,
   "metadata": {},
   "outputs": [],
   "source": [
    "event_name_1_map, event_type_1_map = m5_common.replace_cal_cols(cal)"
   ]
  },
  {
   "cell_type": "code",
   "execution_count": 7,
   "metadata": {},
   "outputs": [
    {
     "data": {
      "text/html": [
       "<div>\n",
       "<style scoped>\n",
       "    .dataframe tbody tr th:only-of-type {\n",
       "        vertical-align: middle;\n",
       "    }\n",
       "\n",
       "    .dataframe tbody tr th {\n",
       "        vertical-align: top;\n",
       "    }\n",
       "\n",
       "    .dataframe thead th {\n",
       "        text-align: right;\n",
       "    }\n",
       "</style>\n",
       "<table border=\"1\" class=\"dataframe\">\n",
       "  <thead>\n",
       "    <tr style=\"text-align: right;\">\n",
       "      <th></th>\n",
       "      <th>date</th>\n",
       "      <th>wm_yr_wk</th>\n",
       "      <th>weekday</th>\n",
       "      <th>wday</th>\n",
       "      <th>month</th>\n",
       "      <th>year</th>\n",
       "      <th>d</th>\n",
       "      <th>event_name_1</th>\n",
       "      <th>event_type_1</th>\n",
       "      <th>event_name_2</th>\n",
       "      <th>event_type_2</th>\n",
       "      <th>snap_CA</th>\n",
       "      <th>snap_TX</th>\n",
       "      <th>snap_WI</th>\n",
       "    </tr>\n",
       "  </thead>\n",
       "  <tbody>\n",
       "    <tr>\n",
       "      <th>338</th>\n",
       "      <td>2012-01-02</td>\n",
       "      <td>11149</td>\n",
       "      <td>1</td>\n",
       "      <td>3</td>\n",
       "      <td>1</td>\n",
       "      <td>2012</td>\n",
       "      <td>d_339</td>\n",
       "      <td>0</td>\n",
       "      <td>0</td>\n",
       "      <td>0</td>\n",
       "      <td>0</td>\n",
       "      <td>1.0</td>\n",
       "      <td>0.0</td>\n",
       "      <td>1.0</td>\n",
       "    </tr>\n",
       "    <tr>\n",
       "      <th>339</th>\n",
       "      <td>2012-01-03</td>\n",
       "      <td>11149</td>\n",
       "      <td>5</td>\n",
       "      <td>4</td>\n",
       "      <td>1</td>\n",
       "      <td>2012</td>\n",
       "      <td>d_340</td>\n",
       "      <td>0</td>\n",
       "      <td>0</td>\n",
       "      <td>0</td>\n",
       "      <td>0</td>\n",
       "      <td>1.0</td>\n",
       "      <td>1.0</td>\n",
       "      <td>1.0</td>\n",
       "    </tr>\n",
       "    <tr>\n",
       "      <th>340</th>\n",
       "      <td>2012-01-04</td>\n",
       "      <td>11149</td>\n",
       "      <td>6</td>\n",
       "      <td>5</td>\n",
       "      <td>1</td>\n",
       "      <td>2012</td>\n",
       "      <td>d_341</td>\n",
       "      <td>0</td>\n",
       "      <td>0</td>\n",
       "      <td>0</td>\n",
       "      <td>0</td>\n",
       "      <td>1.0</td>\n",
       "      <td>0.0</td>\n",
       "      <td>0.0</td>\n",
       "    </tr>\n",
       "  </tbody>\n",
       "</table>\n",
       "</div>"
      ],
      "text/plain": [
       "          date  wm_yr_wk  weekday  wday  month  year      d  event_name_1  \\\n",
       "338 2012-01-02     11149        1     3      1  2012  d_339             0   \n",
       "339 2012-01-03     11149        5     4      1  2012  d_340             0   \n",
       "340 2012-01-04     11149        6     5      1  2012  d_341             0   \n",
       "\n",
       "     event_type_1  event_name_2  event_type_2  snap_CA  snap_TX  snap_WI  \n",
       "338             0             0             0      1.0      0.0      1.0  \n",
       "339             0             0             0      1.0      1.0      1.0  \n",
       "340             0             0             0      1.0      0.0      0.0  "
      ]
     },
     "execution_count": 7,
     "metadata": {},
     "output_type": "execute_result"
    }
   ],
   "source": [
    "cal[(cal.date > '2012-01-01') & (cal.date < '2012-01-05')]"
   ]
  },
  {
   "cell_type": "code",
   "execution_count": 8,
   "metadata": {},
   "outputs": [],
   "source": [
    "uint8_types= ['event_name_1', 'event_type_1', 'event_name_2', 'event_type_2', 'month', 'wday', 'weekday', \n",
    "              'snap_CA', 'snap_TX', 'snap_WI']\n",
    "m5_common.convert_uint8(cal, uint8_types)"
   ]
  },
  {
   "cell_type": "code",
   "execution_count": 9,
   "metadata": {},
   "outputs": [],
   "source": [
    "m5_common.add_days_before(cal)"
   ]
  },
  {
   "cell_type": "code",
   "execution_count": 10,
   "metadata": {},
   "outputs": [],
   "source": [
    "FIRST_DAY = 1"
   ]
  },
  {
   "cell_type": "code",
   "execution_count": 11,
   "metadata": {},
   "outputs": [
    {
     "name": "stdout",
     "output_type": "stream",
     "text": [
      "CPU times: user 41.9 s, sys: 5.7 s, total: 47.6 s\n",
      "Wall time: 47.6 s\n"
     ]
    }
   ],
   "source": [
    "%%time\n",
    "\n",
    "df = m5_common.create_dt(cal, prices, is_train=True, first_day=FIRST_DAY, tr_last=tr_last, path=path)"
   ]
  },
  {
   "cell_type": "code",
   "execution_count": 12,
   "metadata": {},
   "outputs": [],
   "source": [
    "def create_fea(dt):\n",
    "    \n",
    "    wins = [7, 28]\n",
    "    lags = [7, 28]\n",
    "    \n",
    "    grouped_sales = dt[[\"id\",\"sales\"]].groupby(\"id\")[\"sales\"]\n",
    "    \n",
    "    for win in tqdm(wins, total=len(wins)):\n",
    "        mean_col = f'mean_{win}'\n",
    "        emean_col = f'e{mean_col}' # exponential mean average\n",
    "        esmean_col = f'es{mean_col}'\n",
    "        dt[emean_col] = grouped_sales.transform(lambda x : x.ewm(span=win, adjust=False).mean())\n",
    "        dt[esmean_col] = grouped_sales.transform(lambda x : x.ewm(alpha=1/win, adjust=False).mean())\n",
    "        for lag in lags:\n",
    "            dt[f'emean_{win}_{lag}'] = dt[[\"id\", emean_col]].groupby(\"id\").shift(lag)\n",
    "            dt[f'esmean_{win}_{lag}'] = dt[[\"id\", esmean_col]].groupby(\"id\").shift(lag)\n",
    "        del dt[emean_col]\n",
    "        del dt[esmean_col]\n",
    "            \n",
    "    ra = [1, 2]\n",
    "    for simple_lag in ra:\n",
    "        dt[f'lag_{simple_lag}'] = dt[[\"id\",\"sales\"]].groupby(\"id\")[\"sales\"].shift(simple_lag)"
   ]
  },
  {
   "cell_type": "code",
   "execution_count": 13,
   "metadata": {},
   "outputs": [
    {
     "data": {
      "application/vnd.jupyter.widget-view+json": {
       "model_id": "400e9bd98f2f44618affb19e22a7c1d4",
       "version_major": 2,
       "version_minor": 0
      },
      "text/plain": [
       "HBox(children=(FloatProgress(value=0.0, max=2.0), HTML(value='')))"
      ]
     },
     "metadata": {},
     "output_type": "display_data"
    },
    {
     "name": "stdout",
     "output_type": "stream",
     "text": [
      "\n",
      "CPU times: user 1min 30s, sys: 6.78 s, total: 1min 37s\n",
      "Wall time: 1min 37s\n"
     ]
    }
   ],
   "source": [
    "%%time\n",
    "\n",
    "create_fea(df)"
   ]
  },
  {
   "cell_type": "code",
   "execution_count": 14,
   "metadata": {},
   "outputs": [],
   "source": [
    "df.dropna(inplace = True)"
   ]
  },
  {
   "cell_type": "code",
   "execution_count": 15,
   "metadata": {},
   "outputs": [
    {
     "name": "stdout",
     "output_type": "stream",
     "text": [
      "CPU times: user 225 ms, sys: 8.12 ms, total: 233 ms\n",
      "Wall time: 233 ms\n"
     ]
    }
   ],
   "source": [
    "%%time\n",
    "\n",
    "df['sales_positive'] = (df['sales'] > 0).astype('uint8')"
   ]
  },
  {
   "cell_type": "code",
   "execution_count": 16,
   "metadata": {},
   "outputs": [
    {
     "name": "stdout",
     "output_type": "stream",
     "text": [
      "<class 'pandas.core.frame.DataFrame'>\n",
      "Int64Index: 45174237 entries, 342559 to 46025082\n",
      "Data columns (total 38 columns):\n",
      " #   Column            Dtype         \n",
      "---  ------            -----         \n",
      " 0   id                object        \n",
      " 1   item_id           int16         \n",
      " 2   dept_id           int16         \n",
      " 3   store_id          int16         \n",
      " 4   cat_id            int16         \n",
      " 5   state_id          int16         \n",
      " 6   d                 object        \n",
      " 7   sales             float16       \n",
      " 8   date              datetime64[ns]\n",
      " 9   wm_yr_wk          int16         \n",
      " 10  weekday           uint8         \n",
      " 11  wday              uint8         \n",
      " 12  month             uint8         \n",
      " 13  year              int16         \n",
      " 14  event_name_1      uint8         \n",
      " 15  event_type_1      uint8         \n",
      " 16  event_name_2      uint8         \n",
      " 17  event_type_2      uint8         \n",
      " 18  snap_CA           uint8         \n",
      " 19  snap_TX           uint8         \n",
      " 20  snap_WI           uint8         \n",
      " 21  before_christmas  uint16        \n",
      " 22  sell_price        float16       \n",
      " 23  Dayofyear         uint16        \n",
      " 24  week              uint8         \n",
      " 25  mday              uint8         \n",
      " 26  lag_price_1       float16       \n",
      " 27  emean_7_7         float16       \n",
      " 28  esmean_7_7        float16       \n",
      " 29  emean_7_28        float16       \n",
      " 30  esmean_7_28       float16       \n",
      " 31  emean_28_7        float16       \n",
      " 32  esmean_28_7       float16       \n",
      " 33  emean_28_28       float16       \n",
      " 34  esmean_28_28      float16       \n",
      " 35  lag_1             float16       \n",
      " 36  lag_2             float16       \n",
      " 37  sales_positive    uint8         \n",
      "dtypes: datetime64[ns](1), float16(13), int16(7), object(2), uint16(2), uint8(13)\n",
      "memory usage: 3.7+ GB\n"
     ]
    }
   ],
   "source": [
    "df.info()"
   ]
  },
  {
   "cell_type": "code",
   "execution_count": 17,
   "metadata": {},
   "outputs": [],
   "source": [
    "np.random.seed(777)\n",
    "\n",
    "cat_feats = ['item_id', 'dept_id','store_id', 'cat_id', 'state_id', \"event_name_1\", \"event_name_2\", \"event_type_1\",  \"event_type_2\", 'snap_CA', 'snap_TX', 'snap_WI']\n",
    "useless_cols = [\"id\", \"date\", \"sales\", \"sales_positive\", \"d\", \"wm_yr_wk\", \"weekday\", \"revenue\"]\n",
    "\n",
    "train_cols = df.columns[~df.columns.isin(useless_cols)]\n",
    "X_train = df[train_cols]\n",
    "y_train = df[\"sales_positive\"]\n",
    "\n",
    "size_valid_set = 2_000_000\n",
    "fake_valid_inds = np.random.choice(X_train.index.values, size_valid_set, replace = False)\n",
    "train_inds = np.setdiff1d(X_train.index.values, fake_valid_inds)"
   ]
  },
  {
   "cell_type": "code",
   "execution_count": 18,
   "metadata": {},
   "outputs": [
    {
     "data": {
      "text/plain": [
       "26"
      ]
     },
     "execution_count": 18,
     "metadata": {},
     "output_type": "execute_result"
    }
   ],
   "source": [
    "del df\n",
    "gc.collect()"
   ]
  },
  {
   "cell_type": "code",
   "execution_count": 19,
   "metadata": {},
   "outputs": [],
   "source": [
    "leave_size = 11\n",
    "\n",
    "params = {\n",
    "    'objective': 'binary',\n",
    "    'metric': ['binary_logloss', 'binary_error'],\n",
    "    'verbosity': 20,\n",
    "    \"n_estimators\": 1000,\n",
    "    'learning_rate': 0.035,\n",
    "    'num_leaves': 2**leave_size-1,\n",
    "    \"min_data_in_leaf\": 2**(leave_size + 1)-1\n",
    "}"
   ]
  },
  {
   "cell_type": "code",
   "execution_count": 20,
   "metadata": {},
   "outputs": [],
   "source": [
    "m_lgb = lgb.LGBMClassifier(**params)"
   ]
  },
  {
   "cell_type": "code",
   "execution_count": 21,
   "metadata": {},
   "outputs": [
    {
     "name": "stderr",
     "output_type": "stream",
     "text": [
      "/opt/anaconda3/envs/deeplearning/lib/python3.7/site-packages/lightgbm/basic.py:1247: UserWarning: categorical_feature in Dataset is overridden.\n",
      "New categorical_feature is ['cat_id', 'dept_id', 'event_name_1', 'event_name_2', 'event_type_1', 'event_type_2', 'item_id', 'snap_CA', 'snap_TX', 'snap_WI', 'state_id', 'store_id']\n",
      "  'New categorical_feature is {}'.format(sorted(list(categorical_feature))))\n"
     ]
    },
    {
     "name": "stdout",
     "output_type": "stream",
     "text": [
      "Training until validation scores don't improve for 100 rounds\n",
      "[20]\ttrain sales's binary_logloss: 0.518209\ttrain sales's binary_error: 0.225768\tvalid sales's binary_logloss: 0.518904\tvalid sales's binary_error: 0.226559\n",
      "[40]\ttrain sales's binary_logloss: 0.469378\ttrain sales's binary_error: 0.217699\tvalid sales's binary_logloss: 0.470835\tvalid sales's binary_error: 0.218516\n",
      "[60]\ttrain sales's binary_logloss: 0.45058\ttrain sales's binary_error: 0.215895\tvalid sales's binary_logloss: 0.45293\tvalid sales's binary_error: 0.217164\n",
      "[80]\ttrain sales's binary_logloss: 0.442315\ttrain sales's binary_error: 0.214769\tvalid sales's binary_logloss: 0.445659\tvalid sales's binary_error: 0.216463\n",
      "[100]\ttrain sales's binary_logloss: 0.438115\ttrain sales's binary_error: 0.213892\tvalid sales's binary_logloss: 0.442454\tvalid sales's binary_error: 0.215969\n",
      "[120]\ttrain sales's binary_logloss: 0.435474\ttrain sales's binary_error: 0.213038\tvalid sales's binary_logloss: 0.440837\tvalid sales's binary_error: 0.215577\n",
      "[140]\ttrain sales's binary_logloss: 0.433348\ttrain sales's binary_error: 0.21215\tvalid sales's binary_logloss: 0.439773\tvalid sales's binary_error: 0.215252\n",
      "[160]\ttrain sales's binary_logloss: 0.43145\ttrain sales's binary_error: 0.21125\tvalid sales's binary_logloss: 0.439007\tvalid sales's binary_error: 0.214961\n",
      "[180]\ttrain sales's binary_logloss: 0.429835\ttrain sales's binary_error: 0.210411\tvalid sales's binary_logloss: 0.438462\tvalid sales's binary_error: 0.214719\n",
      "[200]\ttrain sales's binary_logloss: 0.428419\ttrain sales's binary_error: 0.209613\tvalid sales's binary_logloss: 0.438073\tvalid sales's binary_error: 0.214537\n",
      "[220]\ttrain sales's binary_logloss: 0.427127\ttrain sales's binary_error: 0.208885\tvalid sales's binary_logloss: 0.43772\tvalid sales's binary_error: 0.214427\n",
      "[240]\ttrain sales's binary_logloss: 0.425984\ttrain sales's binary_error: 0.20827\tvalid sales's binary_logloss: 0.437362\tvalid sales's binary_error: 0.21426\n",
      "[260]\ttrain sales's binary_logloss: 0.42496\ttrain sales's binary_error: 0.207728\tvalid sales's binary_logloss: 0.437076\tvalid sales's binary_error: 0.214159\n",
      "[280]\ttrain sales's binary_logloss: 0.42404\ttrain sales's binary_error: 0.207251\tvalid sales's binary_logloss: 0.436797\tvalid sales's binary_error: 0.214067\n",
      "[300]\ttrain sales's binary_logloss: 0.423236\ttrain sales's binary_error: 0.20682\tvalid sales's binary_logloss: 0.436597\tvalid sales's binary_error: 0.214029\n",
      "[320]\ttrain sales's binary_logloss: 0.42248\ttrain sales's binary_error: 0.206445\tvalid sales's binary_logloss: 0.436395\tvalid sales's binary_error: 0.213986\n",
      "[340]\ttrain sales's binary_logloss: 0.421806\ttrain sales's binary_error: 0.206102\tvalid sales's binary_logloss: 0.436232\tvalid sales's binary_error: 0.213934\n",
      "[360]\ttrain sales's binary_logloss: 0.421169\ttrain sales's binary_error: 0.205772\tvalid sales's binary_logloss: 0.436104\tvalid sales's binary_error: 0.213909\n",
      "[380]\ttrain sales's binary_logloss: 0.420572\ttrain sales's binary_error: 0.205468\tvalid sales's binary_logloss: 0.43599\tvalid sales's binary_error: 0.213816\n",
      "[400]\ttrain sales's binary_logloss: 0.420039\ttrain sales's binary_error: 0.205143\tvalid sales's binary_logloss: 0.435904\tvalid sales's binary_error: 0.213803\n",
      "[420]\ttrain sales's binary_logloss: 0.419533\ttrain sales's binary_error: 0.204857\tvalid sales's binary_logloss: 0.435815\tvalid sales's binary_error: 0.213777\n",
      "[440]\ttrain sales's binary_logloss: 0.419029\ttrain sales's binary_error: 0.20455\tvalid sales's binary_logloss: 0.43573\tvalid sales's binary_error: 0.213722\n",
      "[460]\ttrain sales's binary_logloss: 0.418591\ttrain sales's binary_error: 0.204274\tvalid sales's binary_logloss: 0.435657\tvalid sales's binary_error: 0.213688\n",
      "[480]\ttrain sales's binary_logloss: 0.418131\ttrain sales's binary_error: 0.203994\tvalid sales's binary_logloss: 0.435597\tvalid sales's binary_error: 0.213694\n",
      "[500]\ttrain sales's binary_logloss: 0.417745\ttrain sales's binary_error: 0.203741\tvalid sales's binary_logloss: 0.43555\tvalid sales's binary_error: 0.213684\n",
      "[520]\ttrain sales's binary_logloss: 0.417316\ttrain sales's binary_error: 0.203516\tvalid sales's binary_logloss: 0.435495\tvalid sales's binary_error: 0.213686\n",
      "[540]\ttrain sales's binary_logloss: 0.416903\ttrain sales's binary_error: 0.203278\tvalid sales's binary_logloss: 0.435435\tvalid sales's binary_error: 0.213674\n",
      "[560]\ttrain sales's binary_logloss: 0.416482\ttrain sales's binary_error: 0.203044\tvalid sales's binary_logloss: 0.435384\tvalid sales's binary_error: 0.213627\n",
      "[580]\ttrain sales's binary_logloss: 0.416086\ttrain sales's binary_error: 0.202835\tvalid sales's binary_logloss: 0.435339\tvalid sales's binary_error: 0.213606\n",
      "[600]\ttrain sales's binary_logloss: 0.415737\ttrain sales's binary_error: 0.202613\tvalid sales's binary_logloss: 0.435315\tvalid sales's binary_error: 0.213573\n",
      "[620]\ttrain sales's binary_logloss: 0.415345\ttrain sales's binary_error: 0.202397\tvalid sales's binary_logloss: 0.435275\tvalid sales's binary_error: 0.213556\n",
      "[640]\ttrain sales's binary_logloss: 0.414988\ttrain sales's binary_error: 0.202191\tvalid sales's binary_logloss: 0.435241\tvalid sales's binary_error: 0.213496\n",
      "[660]\ttrain sales's binary_logloss: 0.4146\ttrain sales's binary_error: 0.201977\tvalid sales's binary_logloss: 0.435205\tvalid sales's binary_error: 0.213522\n",
      "[680]\ttrain sales's binary_logloss: 0.414224\ttrain sales's binary_error: 0.201767\tvalid sales's binary_logloss: 0.435172\tvalid sales's binary_error: 0.213466\n",
      "[700]\ttrain sales's binary_logloss: 0.413854\ttrain sales's binary_error: 0.201568\tvalid sales's binary_logloss: 0.435132\tvalid sales's binary_error: 0.21343\n",
      "[720]\ttrain sales's binary_logloss: 0.413495\ttrain sales's binary_error: 0.201378\tvalid sales's binary_logloss: 0.435085\tvalid sales's binary_error: 0.213426\n",
      "[740]\ttrain sales's binary_logloss: 0.413153\ttrain sales's binary_error: 0.201181\tvalid sales's binary_logloss: 0.435054\tvalid sales's binary_error: 0.213435\n",
      "[760]\ttrain sales's binary_logloss: 0.4128\ttrain sales's binary_error: 0.200984\tvalid sales's binary_logloss: 0.435014\tvalid sales's binary_error: 0.213387\n",
      "[780]\ttrain sales's binary_logloss: 0.412458\ttrain sales's binary_error: 0.200784\tvalid sales's binary_logloss: 0.434992\tvalid sales's binary_error: 0.21343\n",
      "[800]\ttrain sales's binary_logloss: 0.412137\ttrain sales's binary_error: 0.200599\tvalid sales's binary_logloss: 0.434967\tvalid sales's binary_error: 0.213428\n",
      "[820]\ttrain sales's binary_logloss: 0.411808\ttrain sales's binary_error: 0.200415\tvalid sales's binary_logloss: 0.434929\tvalid sales's binary_error: 0.213417\n",
      "[840]\ttrain sales's binary_logloss: 0.411496\ttrain sales's binary_error: 0.200262\tvalid sales's binary_logloss: 0.434908\tvalid sales's binary_error: 0.213422\n",
      "[860]\ttrain sales's binary_logloss: 0.411175\ttrain sales's binary_error: 0.200088\tvalid sales's binary_logloss: 0.434887\tvalid sales's binary_error: 0.213416\n",
      "Early stopping, best iteration is:\n",
      "[760]\ttrain sales's binary_logloss: 0.4128\ttrain sales's binary_error: 0.200984\tvalid sales's binary_logloss: 0.435014\tvalid sales's binary_error: 0.213387\n",
      "CPU times: user 19h 23min 14s, sys: 6min 25s, total: 19h 29min 39s\n",
      "Wall time: 1h 39min 32s\n"
     ]
    },
    {
     "data": {
      "text/plain": [
       "LGBMClassifier(boosting_type='gbdt', class_weight=None, colsample_bytree=1.0,\n",
       "               importance_type='split', learning_rate=0.035, max_depth=-1,\n",
       "               metric=['binary_logloss', 'binary_error'], min_child_samples=20,\n",
       "               min_child_weight=0.001, min_data_in_leaf=4095,\n",
       "               min_split_gain=0.0, n_estimators=1000, n_jobs=-1,\n",
       "               num_leaves=2047, objective='binary', random_state=None,\n",
       "               reg_alpha=0.0, reg_lambda=0.0, silent=True, subsample=1.0,\n",
       "               subsample_for_bin=200000, subsample_freq=0, verbosity=20)"
      ]
     },
     "execution_count": 21,
     "metadata": {},
     "output_type": "execute_result"
    }
   ],
   "source": [
    "%%time\n",
    "\n",
    "X = X_train.loc[train_inds]\n",
    "y = y_train.loc[train_inds]\n",
    "\n",
    "m_lgb.fit(X=X, y=y, \n",
    "          eval_set=[(X, y), (X_train.loc[fake_valid_inds], y_train.loc[fake_valid_inds])],\n",
    "          eval_names=['train sales', 'valid sales'], \n",
    "          eval_metric=params['metric'],\n",
    "          verbose=params['verbosity'],\n",
    "          early_stopping_rounds=100,\n",
    "          categorical_feature=cat_feats)"
   ]
  },
  {
   "cell_type": "code",
   "execution_count": 22,
   "metadata": {},
   "outputs": [
    {
     "data": {
      "text/plain": [
       "<lightgbm.basic.Booster at 0x7fa8f8ab5990>"
      ]
     },
     "execution_count": 22,
     "metadata": {},
     "output_type": "execute_result"
    }
   ],
   "source": [
    "m_lgb.booster_.save_model(str(path/f\"m5_model_binary.lgb\"))"
   ]
  },
  {
   "cell_type": "code",
   "execution_count": 23,
   "metadata": {},
   "outputs": [],
   "source": [
    "m_lgb_bin = lgb.Booster(model_file=str(path/\"m5_model_binary.lgb\"), params=params)"
   ]
  },
  {
   "cell_type": "markdown",
   "metadata": {},
   "source": [
    "### Check prediction"
   ]
  },
  {
   "cell_type": "code",
   "execution_count": 24,
   "metadata": {},
   "outputs": [
    {
     "name": "stdout",
     "output_type": "stream",
     "text": [
      "2016-04-25 00:00:00\n"
     ]
    },
    {
     "data": {
      "application/vnd.jupyter.widget-view+json": {
       "model_id": "5d0dfa526b1844399f51398fb9a007ed",
       "version_major": 2,
       "version_minor": 0
      },
      "text/plain": [
       "HBox(children=(FloatProgress(value=0.0, max=2.0), HTML(value='')))"
      ]
     },
     "metadata": {},
     "output_type": "display_data"
    },
    {
     "name": "stdout",
     "output_type": "stream",
     "text": [
      "\n"
     ]
    }
   ],
   "source": [
    "te = m5_common.create_dt(cal, prices, False, first_day=FIRST_DAY, path=path)\n",
    "tdelta = 0\n",
    "day = fday + timedelta(days=tdelta)\n",
    "print(day)\n",
    "tst = te[(te.date >= day - timedelta(days=max_lags)) & (te.date <= day)].copy()\n",
    "create_fea(tst)\n",
    "tst = tst.loc[tst.date == day, train_cols]\n",
    "pred = m_lgb_bin.predict(tst)\n",
    "pred = (pred >= 0.5).astype(int)"
   ]
  },
  {
   "cell_type": "code",
   "execution_count": null,
   "metadata": {},
   "outputs": [],
   "source": []
  },
  {
   "cell_type": "code",
   "execution_count": 25,
   "metadata": {},
   "outputs": [
    {
     "data": {
      "text/plain": [
       "(0, 1)"
      ]
     },
     "execution_count": 25,
     "metadata": {},
     "output_type": "execute_result"
    }
   ],
   "source": [
    "np.min(pred), np.max(pred)"
   ]
  },
  {
   "cell_type": "code",
   "execution_count": 26,
   "metadata": {},
   "outputs": [],
   "source": [
    "from  collections import Counter\n",
    "check_counter = Counter(pred)"
   ]
  },
  {
   "cell_type": "code",
   "execution_count": 27,
   "metadata": {},
   "outputs": [
    {
     "data": {
      "text/plain": [
       "Counter({0: 19263, 1: 11227})"
      ]
     },
     "execution_count": 27,
     "metadata": {},
     "output_type": "execute_result"
    }
   ],
   "source": [
    "check_counter"
   ]
  },
  {
   "cell_type": "code",
   "execution_count": 28,
   "metadata": {},
   "outputs": [
    {
     "data": {
      "text/plain": [
       "0.6317809117743522"
      ]
     },
     "execution_count": 28,
     "metadata": {},
     "output_type": "execute_result"
    }
   ],
   "source": [
    "check_counter[0] / (check_counter[1] + check_counter[0])"
   ]
  }
 ],
 "metadata": {
  "kernelspec": {
   "display_name": "Python 3",
   "language": "python",
   "name": "python3"
  },
  "language_info": {
   "codemirror_mode": {
    "name": "ipython",
    "version": 3
   },
   "file_extension": ".py",
   "mimetype": "text/x-python",
   "name": "python",
   "nbconvert_exporter": "python",
   "pygments_lexer": "ipython3",
   "version": "3.7.4"
  }
 },
 "nbformat": 4,
 "nbformat_minor": 4
}
