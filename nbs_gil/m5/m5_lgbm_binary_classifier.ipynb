{
 "cells": [
  {
   "cell_type": "code",
   "execution_count": 1,
   "metadata": {},
   "outputs": [],
   "source": [
    "%load_ext autoreload\n",
    "%autoreload 2\n",
    "\n",
    "%matplotlib inline"
   ]
  },
  {
   "cell_type": "code",
   "execution_count": 2,
   "metadata": {},
   "outputs": [],
   "source": [
    "from  datetime import datetime, timedelta\n",
    "import gc\n",
    "import numpy as np, pandas as pd\n",
    "import lightgbm as lgb\n",
    "from pathlib import Path\n",
    "import seaborn as sns\n",
    "import matplotlib.pyplot as plt\n",
    "from scripts import m5_common\n",
    "from tqdm.notebook import tqdm\n",
    "\n",
    "pd.options.display.max_columns = 50"
   ]
  },
  {
   "cell_type": "markdown",
   "metadata": {},
   "source": [
    "## Main Variables"
   ]
  },
  {
   "cell_type": "code",
   "execution_count": 3,
   "metadata": {},
   "outputs": [],
   "source": [
    "path = Path('/kaggle/m5_forecasting/')\n",
    "assert(path.exists())"
   ]
  },
  {
   "cell_type": "code",
   "execution_count": 4,
   "metadata": {},
   "outputs": [],
   "source": [
    "h = 28 \n",
    "max_lags = h * 2 + 1\n",
    "tr_last = 1913\n",
    "fday = datetime(2016, 4, 25)"
   ]
  },
  {
   "cell_type": "markdown",
   "metadata": {},
   "source": [
    "## Load data"
   ]
  },
  {
   "cell_type": "code",
   "execution_count": 5,
   "metadata": {},
   "outputs": [
    {
     "name": "stdout",
     "output_type": "stream",
     "text": [
      "CPU times: user 2.28 s, sys: 340 ms, total: 2.62 s\n",
      "Wall time: 2.62 s\n"
     ]
    }
   ],
   "source": [
    "%%time\n",
    "\n",
    "prices, cal = m5_common.prepare_tables(path)"
   ]
  },
  {
   "cell_type": "code",
   "execution_count": 6,
   "metadata": {},
   "outputs": [],
   "source": [
    "event_name_1_map, event_type_1_map = m5_common.replace_cal_cols(cal)"
   ]
  },
  {
   "cell_type": "code",
   "execution_count": 7,
   "metadata": {},
   "outputs": [
    {
     "data": {
      "text/html": [
       "<div>\n",
       "<style scoped>\n",
       "    .dataframe tbody tr th:only-of-type {\n",
       "        vertical-align: middle;\n",
       "    }\n",
       "\n",
       "    .dataframe tbody tr th {\n",
       "        vertical-align: top;\n",
       "    }\n",
       "\n",
       "    .dataframe thead th {\n",
       "        text-align: right;\n",
       "    }\n",
       "</style>\n",
       "<table border=\"1\" class=\"dataframe\">\n",
       "  <thead>\n",
       "    <tr style=\"text-align: right;\">\n",
       "      <th></th>\n",
       "      <th>date</th>\n",
       "      <th>wm_yr_wk</th>\n",
       "      <th>weekday</th>\n",
       "      <th>wday</th>\n",
       "      <th>month</th>\n",
       "      <th>year</th>\n",
       "      <th>d</th>\n",
       "      <th>event_name_1</th>\n",
       "      <th>event_type_1</th>\n",
       "      <th>event_name_2</th>\n",
       "      <th>event_type_2</th>\n",
       "      <th>snap_CA</th>\n",
       "      <th>snap_TX</th>\n",
       "      <th>snap_WI</th>\n",
       "    </tr>\n",
       "  </thead>\n",
       "  <tbody>\n",
       "    <tr>\n",
       "      <th>338</th>\n",
       "      <td>2012-01-02</td>\n",
       "      <td>11149</td>\n",
       "      <td>1</td>\n",
       "      <td>3</td>\n",
       "      <td>1</td>\n",
       "      <td>2012</td>\n",
       "      <td>d_339</td>\n",
       "      <td>0</td>\n",
       "      <td>0</td>\n",
       "      <td>0</td>\n",
       "      <td>0</td>\n",
       "      <td>1.0</td>\n",
       "      <td>0.0</td>\n",
       "      <td>1.0</td>\n",
       "    </tr>\n",
       "    <tr>\n",
       "      <th>339</th>\n",
       "      <td>2012-01-03</td>\n",
       "      <td>11149</td>\n",
       "      <td>5</td>\n",
       "      <td>4</td>\n",
       "      <td>1</td>\n",
       "      <td>2012</td>\n",
       "      <td>d_340</td>\n",
       "      <td>0</td>\n",
       "      <td>0</td>\n",
       "      <td>0</td>\n",
       "      <td>0</td>\n",
       "      <td>1.0</td>\n",
       "      <td>1.0</td>\n",
       "      <td>1.0</td>\n",
       "    </tr>\n",
       "    <tr>\n",
       "      <th>340</th>\n",
       "      <td>2012-01-04</td>\n",
       "      <td>11149</td>\n",
       "      <td>6</td>\n",
       "      <td>5</td>\n",
       "      <td>1</td>\n",
       "      <td>2012</td>\n",
       "      <td>d_341</td>\n",
       "      <td>0</td>\n",
       "      <td>0</td>\n",
       "      <td>0</td>\n",
       "      <td>0</td>\n",
       "      <td>1.0</td>\n",
       "      <td>0.0</td>\n",
       "      <td>0.0</td>\n",
       "    </tr>\n",
       "  </tbody>\n",
       "</table>\n",
       "</div>"
      ],
      "text/plain": [
       "          date  wm_yr_wk  weekday  wday  month  year      d  event_name_1  \\\n",
       "338 2012-01-02     11149        1     3      1  2012  d_339             0   \n",
       "339 2012-01-03     11149        5     4      1  2012  d_340             0   \n",
       "340 2012-01-04     11149        6     5      1  2012  d_341             0   \n",
       "\n",
       "     event_type_1  event_name_2  event_type_2  snap_CA  snap_TX  snap_WI  \n",
       "338             0             0             0      1.0      0.0      1.0  \n",
       "339             0             0             0      1.0      1.0      1.0  \n",
       "340             0             0             0      1.0      0.0      0.0  "
      ]
     },
     "execution_count": 7,
     "metadata": {},
     "output_type": "execute_result"
    }
   ],
   "source": [
    "cal[(cal.date > '2012-01-01') & (cal.date < '2012-01-05')]"
   ]
  },
  {
   "cell_type": "code",
   "execution_count": 8,
   "metadata": {},
   "outputs": [],
   "source": [
    "uint8_types= ['event_name_1', 'event_type_1', 'event_name_2', 'event_type_2', 'month', 'wday', 'weekday', \n",
    "              'snap_CA', 'snap_TX', 'snap_WI']\n",
    "m5_common.convert_uint8(cal, uint8_types)"
   ]
  },
  {
   "cell_type": "code",
   "execution_count": 9,
   "metadata": {},
   "outputs": [],
   "source": [
    "m5_common.add_days_before(cal)"
   ]
  },
  {
   "cell_type": "code",
   "execution_count": 10,
   "metadata": {},
   "outputs": [],
   "source": [
    "FIRST_DAY = 1"
   ]
  },
  {
   "cell_type": "code",
   "execution_count": 11,
   "metadata": {},
   "outputs": [
    {
     "name": "stdout",
     "output_type": "stream",
     "text": [
      "CPU times: user 1min 24s, sys: 17.9 s, total: 1min 42s\n",
      "Wall time: 1min 42s\n"
     ]
    }
   ],
   "source": [
    "%%time\n",
    "\n",
    "df = m5_common.create_dt(cal, prices, is_train=True, first_day=FIRST_DAY, tr_last=tr_last, path=path)"
   ]
  },
  {
   "cell_type": "code",
   "execution_count": 12,
   "metadata": {},
   "outputs": [],
   "source": [
    "def create_fea(dt):\n",
    "    \n",
    "    wins = [7, 28]\n",
    "    lags = [7, 28]\n",
    "    \n",
    "    grouped_sales = dt[[\"id\",\"sales\"]].groupby(\"id\")[\"sales\"]\n",
    "    \n",
    "    for win in tqdm(wins, total=len(wins)):\n",
    "        mean_col = f'mean_{win}'\n",
    "        emean_col = f'e{mean_col}' # exponential mean average\n",
    "        esmean_col = f'es{mean_col}'\n",
    "        dt[emean_col] = grouped_sales.transform(lambda x : x.ewm(span=win, adjust=False).mean())\n",
    "        dt[esmean_col] = grouped_sales.transform(lambda x : x.ewm(alpha=1/win, adjust=False).mean())\n",
    "        for lag in lags:\n",
    "            dt[f'emean_{win}_{lag}'] = dt[[\"id\", emean_col]].groupby(\"id\").shift(lag)\n",
    "            dt[f'esmean_{win}_{lag}'] = dt[[\"id\", esmean_col]].groupby(\"id\").shift(lag)\n",
    "        del dt[emean_col]\n",
    "        del dt[esmean_col]\n",
    "            \n",
    "    ra = [1, 2]\n",
    "    for simple_lag in ra:\n",
    "        dt[f'lag_{simple_lag}'] = dt[[\"id\",\"sales\"]].groupby(\"id\")[\"sales\"].shift(simple_lag)"
   ]
  },
  {
   "cell_type": "code",
   "execution_count": 13,
   "metadata": {},
   "outputs": [
    {
     "data": {
      "application/vnd.jupyter.widget-view+json": {
       "model_id": "d778f552fc264e3b89e0cb0fa6823307",
       "version_major": 2,
       "version_minor": 0
      },
      "text/plain": [
       "HBox(children=(FloatProgress(value=0.0, max=2.0), HTML(value='')))"
      ]
     },
     "metadata": {},
     "output_type": "display_data"
    },
    {
     "name": "stdout",
     "output_type": "stream",
     "text": [
      "\n",
      "CPU times: user 2min 18s, sys: 19.4 s, total: 2min 37s\n",
      "Wall time: 2min 37s\n"
     ]
    }
   ],
   "source": [
    "%%time\n",
    "\n",
    "create_fea(df)"
   ]
  },
  {
   "cell_type": "code",
   "execution_count": 14,
   "metadata": {},
   "outputs": [],
   "source": [
    "df.dropna(inplace = True)"
   ]
  },
  {
   "cell_type": "code",
   "execution_count": 15,
   "metadata": {},
   "outputs": [
    {
     "name": "stdout",
     "output_type": "stream",
     "text": [
      "CPU times: user 413 ms, sys: 40.2 ms, total: 454 ms\n",
      "Wall time: 453 ms\n"
     ]
    }
   ],
   "source": [
    "%%time\n",
    "\n",
    "df['sales_positive'] = (df['sales'] > 0).astype('uint8')"
   ]
  },
  {
   "cell_type": "code",
   "execution_count": 16,
   "metadata": {},
   "outputs": [
    {
     "name": "stdout",
     "output_type": "stream",
     "text": [
      "<class 'pandas.core.frame.DataFrame'>\n",
      "Int64Index: 45174237 entries, 342559 to 46025082\n",
      "Data columns (total 38 columns):\n",
      " #   Column            Dtype         \n",
      "---  ------            -----         \n",
      " 0   id                object        \n",
      " 1   item_id           int16         \n",
      " 2   dept_id           int16         \n",
      " 3   store_id          int16         \n",
      " 4   cat_id            int16         \n",
      " 5   state_id          int16         \n",
      " 6   d                 object        \n",
      " 7   sales             float16       \n",
      " 8   date              datetime64[ns]\n",
      " 9   wm_yr_wk          int16         \n",
      " 10  weekday           uint8         \n",
      " 11  wday              uint8         \n",
      " 12  month             uint8         \n",
      " 13  year              int16         \n",
      " 14  event_name_1      uint8         \n",
      " 15  event_type_1      uint8         \n",
      " 16  event_name_2      uint8         \n",
      " 17  event_type_2      uint8         \n",
      " 18  snap_CA           uint8         \n",
      " 19  snap_TX           uint8         \n",
      " 20  snap_WI           uint8         \n",
      " 21  before_christmas  uint16        \n",
      " 22  sell_price        float16       \n",
      " 23  Dayofyear         uint16        \n",
      " 24  week              uint8         \n",
      " 25  mday              uint8         \n",
      " 26  lag_price_1       float16       \n",
      " 27  emean_7_7         float16       \n",
      " 28  esmean_7_7        float16       \n",
      " 29  emean_7_28        float16       \n",
      " 30  esmean_7_28       float16       \n",
      " 31  emean_28_7        float16       \n",
      " 32  esmean_28_7       float16       \n",
      " 33  emean_28_28       float16       \n",
      " 34  esmean_28_28      float16       \n",
      " 35  lag_1             float16       \n",
      " 36  lag_2             float16       \n",
      " 37  sales_positive    uint8         \n",
      "dtypes: datetime64[ns](1), float16(13), int16(7), object(2), uint16(2), uint8(13)\n",
      "memory usage: 3.7+ GB\n"
     ]
    }
   ],
   "source": [
    "df.info()"
   ]
  },
  {
   "cell_type": "code",
   "execution_count": 17,
   "metadata": {},
   "outputs": [],
   "source": [
    "np.random.seed(777)\n",
    "\n",
    "cat_feats = ['item_id', 'dept_id','store_id', 'cat_id', 'state_id', \"event_name_1\", \"event_name_2\", \"event_type_1\",  \"event_type_2\", 'snap_CA', 'snap_TX', 'snap_WI']\n",
    "useless_cols = [\"id\", \"date\", \"sales\", \"sales_positive\", \"d\", \"wm_yr_wk\", \"weekday\", \"revenue\"]\n",
    "\n",
    "train_cols = df.columns[~df.columns.isin(useless_cols)]\n",
    "X_train = df[train_cols]\n",
    "y_train = df[\"sales_positive\"]\n",
    "\n",
    "size_valid_set = 2_000_000\n",
    "fake_valid_inds = np.random.choice(X_train.index.values, size_valid_set, replace = False)\n",
    "train_inds = np.setdiff1d(X_train.index.values, fake_valid_inds)"
   ]
  },
  {
   "cell_type": "code",
   "execution_count": 18,
   "metadata": {},
   "outputs": [
    {
     "data": {
      "text/plain": [
       "26"
      ]
     },
     "execution_count": 18,
     "metadata": {},
     "output_type": "execute_result"
    }
   ],
   "source": [
    "del df\n",
    "gc.collect()"
   ]
  },
  {
   "cell_type": "code",
   "execution_count": 19,
   "metadata": {},
   "outputs": [],
   "source": [
    "leave_size = 10\n",
    "\n",
    "params = {\n",
    "    'objective': 'binary',\n",
    "    'metric': ['binary_logloss', 'binary_error'],\n",
    "    'verbosity': 20,\n",
    "    \"n_estimators\": 900,\n",
    "    'learning_rate': 0.035,\n",
    "    'num_leaves': 2**leave_size-1,\n",
    "    \"min_data_in_leaf\": 2**(leave_size + 1)-1\n",
    "}"
   ]
  },
  {
   "cell_type": "code",
   "execution_count": 20,
   "metadata": {},
   "outputs": [],
   "source": [
    "m_lgb = lgb.LGBMClassifier(**params)"
   ]
  },
  {
   "cell_type": "code",
   "execution_count": 21,
   "metadata": {},
   "outputs": [
    {
     "name": "stderr",
     "output_type": "stream",
     "text": [
      "/home/paperspace/anaconda3/lib/python3.7/site-packages/lightgbm/basic.py:1247: UserWarning: categorical_feature in Dataset is overridden.\n",
      "New categorical_feature is ['cat_id', 'dept_id', 'event_name_1', 'event_name_2', 'event_type_1', 'event_type_2', 'item_id', 'snap_CA', 'snap_TX', 'snap_WI', 'state_id', 'store_id']\n",
      "  'New categorical_feature is {}'.format(sorted(list(categorical_feature))))\n"
     ]
    },
    {
     "name": "stdout",
     "output_type": "stream",
     "text": [
      "Training until validation scores don't improve for 100 rounds\n",
      "[20]\ttrain sales's binary_logloss: 0.51836\ttrain sales's binary_error: 0.225718\tvalid sales's binary_logloss: 0.519246\tvalid sales's binary_error: 0.226793\n",
      "[40]\ttrain sales's binary_logloss: 0.469486\ttrain sales's binary_error: 0.216856\tvalid sales's binary_logloss: 0.471316\tvalid sales's binary_error: 0.218676\n",
      "[60]\ttrain sales's binary_logloss: 0.450644\ttrain sales's binary_error: 0.214805\tvalid sales's binary_logloss: 0.453469\tvalid sales's binary_error: 0.217291\n",
      "[80]\ttrain sales's binary_logloss: 0.44239\ttrain sales's binary_error: 0.213625\tvalid sales's binary_logloss: 0.446216\tvalid sales's binary_error: 0.216597\n",
      "[100]\ttrain sales's binary_logloss: 0.438165\ttrain sales's binary_error: 0.212692\tvalid sales's binary_logloss: 0.442979\tvalid sales's binary_error: 0.216186\n",
      "[120]\ttrain sales's binary_logloss: 0.435469\ttrain sales's binary_error: 0.21173\tvalid sales's binary_logloss: 0.441287\tvalid sales's binary_error: 0.215846\n",
      "[140]\ttrain sales's binary_logloss: 0.433397\ttrain sales's binary_error: 0.210873\tvalid sales's binary_logloss: 0.440222\tvalid sales's binary_error: 0.21554\n",
      "[160]\ttrain sales's binary_logloss: 0.431705\ttrain sales's binary_error: 0.210078\tvalid sales's binary_logloss: 0.439523\tvalid sales's binary_error: 0.21525\n",
      "[180]\ttrain sales's binary_logloss: 0.430273\ttrain sales's binary_error: 0.209357\tvalid sales's binary_logloss: 0.439023\tvalid sales's binary_error: 0.215081\n",
      "[200]\ttrain sales's binary_logloss: 0.429026\ttrain sales's binary_error: 0.208701\tvalid sales's binary_logloss: 0.438608\tvalid sales's binary_error: 0.214902\n",
      "[220]\ttrain sales's binary_logloss: 0.427873\ttrain sales's binary_error: 0.208056\tvalid sales's binary_logloss: 0.438281\tvalid sales's binary_error: 0.214706\n",
      "[240]\ttrain sales's binary_logloss: 0.426826\ttrain sales's binary_error: 0.207481\tvalid sales's binary_logloss: 0.437986\tvalid sales's binary_error: 0.214596\n",
      "[260]\ttrain sales's binary_logloss: 0.425857\ttrain sales's binary_error: 0.206943\tvalid sales's binary_logloss: 0.43772\tvalid sales's binary_error: 0.214481\n",
      "[280]\ttrain sales's binary_logloss: 0.42496\ttrain sales's binary_error: 0.20641\tvalid sales's binary_logloss: 0.437507\tvalid sales's binary_error: 0.214389\n",
      "[300]\ttrain sales's binary_logloss: 0.424098\ttrain sales's binary_error: 0.205961\tvalid sales's binary_logloss: 0.437286\tvalid sales's binary_error: 0.214307\n",
      "[320]\ttrain sales's binary_logloss: 0.423311\ttrain sales's binary_error: 0.205575\tvalid sales's binary_logloss: 0.437119\tvalid sales's binary_error: 0.214261\n",
      "[340]\ttrain sales's binary_logloss: 0.422573\ttrain sales's binary_error: 0.205169\tvalid sales's binary_logloss: 0.436977\tvalid sales's binary_error: 0.214214\n",
      "[360]\ttrain sales's binary_logloss: 0.421881\ttrain sales's binary_error: 0.204736\tvalid sales's binary_logloss: 0.43685\tvalid sales's binary_error: 0.214145\n",
      "[380]\ttrain sales's binary_logloss: 0.421213\ttrain sales's binary_error: 0.204389\tvalid sales's binary_logloss: 0.436716\tvalid sales's binary_error: 0.214176\n",
      "[400]\ttrain sales's binary_logloss: 0.420567\ttrain sales's binary_error: 0.204021\tvalid sales's binary_logloss: 0.436599\tvalid sales's binary_error: 0.214055\n",
      "[420]\ttrain sales's binary_logloss: 0.419994\ttrain sales's binary_error: 0.203665\tvalid sales's binary_logloss: 0.436531\tvalid sales's binary_error: 0.214046\n",
      "[440]\ttrain sales's binary_logloss: 0.419423\ttrain sales's binary_error: 0.203349\tvalid sales's binary_logloss: 0.436449\tvalid sales's binary_error: 0.214024\n",
      "[460]\ttrain sales's binary_logloss: 0.41889\ttrain sales's binary_error: 0.203045\tvalid sales's binary_logloss: 0.436381\tvalid sales's binary_error: 0.213996\n",
      "[480]\ttrain sales's binary_logloss: 0.418382\ttrain sales's binary_error: 0.202771\tvalid sales's binary_logloss: 0.436306\tvalid sales's binary_error: 0.213957\n",
      "[500]\ttrain sales's binary_logloss: 0.417892\ttrain sales's binary_error: 0.202505\tvalid sales's binary_logloss: 0.436259\tvalid sales's binary_error: 0.213939\n",
      "[520]\ttrain sales's binary_logloss: 0.41741\ttrain sales's binary_error: 0.202205\tvalid sales's binary_logloss: 0.436205\tvalid sales's binary_error: 0.213898\n",
      "[540]\ttrain sales's binary_logloss: 0.416936\ttrain sales's binary_error: 0.201922\tvalid sales's binary_logloss: 0.436156\tvalid sales's binary_error: 0.213898\n",
      "[560]\ttrain sales's binary_logloss: 0.416481\ttrain sales's binary_error: 0.201659\tvalid sales's binary_logloss: 0.436118\tvalid sales's binary_error: 0.213866\n",
      "[580]\ttrain sales's binary_logloss: 0.416056\ttrain sales's binary_error: 0.201421\tvalid sales's binary_logloss: 0.43608\tvalid sales's binary_error: 0.213816\n",
      "[600]\ttrain sales's binary_logloss: 0.415602\ttrain sales's binary_error: 0.201115\tvalid sales's binary_logloss: 0.436044\tvalid sales's binary_error: 0.213855\n",
      "[620]\ttrain sales's binary_logloss: 0.415178\ttrain sales's binary_error: 0.200855\tvalid sales's binary_logloss: 0.436013\tvalid sales's binary_error: 0.213886\n",
      "[640]\ttrain sales's binary_logloss: 0.414769\ttrain sales's binary_error: 0.200603\tvalid sales's binary_logloss: 0.435971\tvalid sales's binary_error: 0.213862\n",
      "[660]\ttrain sales's binary_logloss: 0.414377\ttrain sales's binary_error: 0.200399\tvalid sales's binary_logloss: 0.435937\tvalid sales's binary_error: 0.213865\n",
      "Early stopping, best iteration is:\n",
      "[575]\ttrain sales's binary_logloss: 0.416158\ttrain sales's binary_error: 0.201463\tvalid sales's binary_logloss: 0.436089\tvalid sales's binary_error: 0.213783\n",
      "CPU times: user 14h 41min 48s, sys: 26min 9s, total: 15h 7min 57s\n",
      "Wall time: 57min 48s\n"
     ]
    },
    {
     "data": {
      "text/plain": [
       "LGBMClassifier(boosting_type='gbdt', class_weight=None, colsample_bytree=1.0,\n",
       "               importance_type='split', learning_rate=0.035, max_depth=-1,\n",
       "               metric=['binary_logloss', 'binary_error'], min_child_samples=20,\n",
       "               min_child_weight=0.001, min_data_in_leaf=2047,\n",
       "               min_split_gain=0.0, n_estimators=900, n_jobs=-1, num_leaves=1023,\n",
       "               objective='binary', random_state=None, reg_alpha=0.0,\n",
       "               reg_lambda=0.0, silent=True, subsample=1.0,\n",
       "               subsample_for_bin=200000, subsample_freq=0, verbosity=20)"
      ]
     },
     "execution_count": 21,
     "metadata": {},
     "output_type": "execute_result"
    }
   ],
   "source": [
    "%%time\n",
    "\n",
    "X = X_train.loc[train_inds]\n",
    "y = y_train.loc[train_inds]\n",
    "\n",
    "m_lgb.fit(X=X, y=y, \n",
    "          eval_set=[(X, y), (X_train.loc[fake_valid_inds], y_train.loc[fake_valid_inds])],\n",
    "          eval_names=['train sales', 'valid sales'], \n",
    "          eval_metric=params['metric'],\n",
    "          verbose=params['verbosity'],\n",
    "          early_stopping_rounds=100,\n",
    "          categorical_feature=cat_feats)"
   ]
  },
  {
   "cell_type": "code",
   "execution_count": 22,
   "metadata": {},
   "outputs": [
    {
     "data": {
      "text/plain": [
       "<lightgbm.basic.Booster at 0x7f3888984750>"
      ]
     },
     "execution_count": 22,
     "metadata": {},
     "output_type": "execute_result"
    }
   ],
   "source": [
    "m_lgb.booster_.save_model(str(path/f\"m5_model_binary.lgb\"))"
   ]
  },
  {
   "cell_type": "code",
   "execution_count": 23,
   "metadata": {},
   "outputs": [],
   "source": [
    "### Check prediction"
   ]
  },
  {
   "cell_type": "code",
   "execution_count": 24,
   "metadata": {},
   "outputs": [
    {
     "name": "stdout",
     "output_type": "stream",
     "text": [
      "2016-04-25 00:00:00\n"
     ]
    },
    {
     "data": {
      "application/vnd.jupyter.widget-view+json": {
       "model_id": "c88db9bf68c24ab8872a2a1b00f18737",
       "version_major": 2,
       "version_minor": 0
      },
      "text/plain": [
       "HBox(children=(FloatProgress(value=0.0, max=2.0), HTML(value='')))"
      ]
     },
     "metadata": {},
     "output_type": "display_data"
    },
    {
     "name": "stdout",
     "output_type": "stream",
     "text": [
      "\n"
     ]
    }
   ],
   "source": [
    "te = m5_common.create_dt(cal, prices, False, first_day=FIRST_DAY, path=path)\n",
    "tdelta = 0\n",
    "day = fday + timedelta(days=tdelta)\n",
    "print(day)\n",
    "tst = te[(te.date >= day - timedelta(days=max_lags)) & (te.date <= day)].copy()\n",
    "create_fea(tst)\n",
    "tst = tst.loc[tst.date == day, train_cols]\n",
    "pred = m_lgb.predict(tst)"
   ]
  },
  {
   "cell_type": "code",
   "execution_count": 25,
   "metadata": {},
   "outputs": [],
   "source": [
    "from  collections import Counter\n",
    "check_counter = Counter(pred)"
   ]
  },
  {
   "cell_type": "code",
   "execution_count": 26,
   "metadata": {},
   "outputs": [
    {
     "data": {
      "text/plain": [
       "Counter({0: 19307, 1: 11183})"
      ]
     },
     "execution_count": 26,
     "metadata": {},
     "output_type": "execute_result"
    }
   ],
   "source": [
    "check_counter"
   ]
  },
  {
   "cell_type": "code",
   "execution_count": 27,
   "metadata": {},
   "outputs": [
    {
     "data": {
      "text/plain": [
       "0.6332240078714333"
      ]
     },
     "execution_count": 27,
     "metadata": {},
     "output_type": "execute_result"
    }
   ],
   "source": [
    "check_counter[0] / (check_counter[1] + check_counter[0])"
   ]
  }
 ],
 "metadata": {
  "kernelspec": {
   "display_name": "Python 3",
   "language": "python",
   "name": "python3"
  },
  "language_info": {
   "codemirror_mode": {
    "name": "ipython",
    "version": 3
   },
   "file_extension": ".py",
   "mimetype": "text/x-python",
   "name": "python",
   "nbconvert_exporter": "python",
   "pygments_lexer": "ipython3",
   "version": "3.7.6"
  }
 },
 "nbformat": 4,
 "nbformat_minor": 4
}
