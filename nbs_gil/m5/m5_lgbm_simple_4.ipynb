{
 "cells": [
  {
   "cell_type": "code",
   "execution_count": 1,
   "metadata": {},
   "outputs": [],
   "source": [
    "%load_ext autoreload\n",
    "%autoreload 2\n",
    "\n",
    "%matplotlib inline"
   ]
  },
  {
   "cell_type": "code",
   "execution_count": 2,
   "metadata": {},
   "outputs": [],
   "source": [
    "from datetime import datetime, timedelta\n",
    "import gc\n",
    "import numpy as np, pandas as pd\n",
    "import lightgbm as lgb\n",
    "from pathlib import Path"
   ]
  },
  {
   "cell_type": "code",
   "execution_count": 3,
   "metadata": {},
   "outputs": [],
   "source": [
    "pd.options.display.max_columns = 50"
   ]
  },
  {
   "cell_type": "markdown",
   "metadata": {},
   "source": [
    "## Setup the path"
   ]
  },
  {
   "cell_type": "code",
   "execution_count": 4,
   "metadata": {},
   "outputs": [],
   "source": [
    "path = Path('/kaggle/m5_forecasting/')\n",
    "assert(path.exists())"
   ]
  },
  {
   "cell_type": "code",
   "execution_count": 5,
   "metadata": {},
   "outputs": [],
   "source": [
    "def ls(self):\n",
    "    return list(self.iterdir())\n",
    "setattr(Path, 'ls', ls)"
   ]
  },
  {
   "cell_type": "code",
   "execution_count": 6,
   "metadata": {},
   "outputs": [
    {
     "data": {
      "text/plain": [
       "[PosixPath('/kaggle/m5_forecasting/sales_train_validation.csv'),\n",
       " PosixPath('/kaggle/m5_forecasting/m5_model_0.lgb'),\n",
       " PosixPath('/kaggle/m5_forecasting/m5_model_1.lgb'),\n",
       " PosixPath('/kaggle/m5_forecasting/m5_model_3.lgb'),\n",
       " PosixPath('/kaggle/m5_forecasting/m5_best_2.pth'),\n",
       " PosixPath('/kaggle/m5_forecasting/m5_best_1.pth'),\n",
       " PosixPath('/kaggle/m5_forecasting/walmartTrends0.csv'),\n",
       " PosixPath('/kaggle/m5_forecasting/m5_model_2.lgb'),\n",
       " PosixPath('/kaggle/m5_forecasting/m5_model.lgb'),\n",
       " PosixPath('/kaggle/m5_forecasting/calendar.csv'),\n",
       " PosixPath('/kaggle/m5_forecasting/sample_submission.csv'),\n",
       " PosixPath('/kaggle/m5_forecasting/m5_model_4.lgb'),\n",
       " PosixPath('/kaggle/m5_forecasting/m5_dt'),\n",
       " PosixPath('/kaggle/m5_forecasting/sell_prices.csv')]"
      ]
     },
     "execution_count": 6,
     "metadata": {},
     "output_type": "execute_result"
    }
   ],
   "source": [
    "path.ls()"
   ]
  },
  {
   "cell_type": "markdown",
   "metadata": {},
   "source": [
    "## Read Data"
   ]
  },
  {
   "cell_type": "code",
   "execution_count": 7,
   "metadata": {},
   "outputs": [],
   "source": [
    "PRICE_DTYPES = {\"store_id\": \"category\", \"item_id\": \"category\", \"wm_yr_wk\": \"int16\",\"sell_price\":\"float16\" }\n",
    "CAL_DTYPES = {\"event_name_1\": \"category\", \"event_name_2\": \"category\", \"event_type_1\": \"category\", \n",
    "         \"event_type_2\": \"category\", \"weekday\": \"category\", 'wm_yr_wk': 'int16', \"wday\": \"int16\",\n",
    "        \"month\": \"int16\", \"year\": \"int16\", \"snap_CA\": \"uint8\", 'snap_TX': 'uint8', 'snap_WI': 'uint8' }"
   ]
  },
  {
   "cell_type": "code",
   "execution_count": 8,
   "metadata": {},
   "outputs": [],
   "source": [
    "sales_train_validation = pd.read_csv(path/\"sales_train_validation.csv\", nrows=10)"
   ]
  },
  {
   "cell_type": "code",
   "execution_count": 9,
   "metadata": {},
   "outputs": [],
   "source": [
    "def read_data():\n",
    "    prices = pd.read_csv(path/\"sell_prices.csv\", dtype = PRICE_DTYPES)\n",
    "    cal = pd.read_csv(path/\"calendar.csv\", dtype = CAL_DTYPES)\n",
    "    return prices, cal"
   ]
  },
  {
   "cell_type": "code",
   "execution_count": 10,
   "metadata": {},
   "outputs": [],
   "source": [
    "prices, cal = read_data()"
   ]
  },
  {
   "cell_type": "code",
   "execution_count": 11,
   "metadata": {},
   "outputs": [
    {
     "data": {
      "text/html": [
       "<div>\n",
       "<style scoped>\n",
       "    .dataframe tbody tr th:only-of-type {\n",
       "        vertical-align: middle;\n",
       "    }\n",
       "\n",
       "    .dataframe tbody tr th {\n",
       "        vertical-align: top;\n",
       "    }\n",
       "\n",
       "    .dataframe thead th {\n",
       "        text-align: right;\n",
       "    }\n",
       "</style>\n",
       "<table border=\"1\" class=\"dataframe\">\n",
       "  <thead>\n",
       "    <tr style=\"text-align: right;\">\n",
       "      <th></th>\n",
       "      <th>date</th>\n",
       "      <th>wm_yr_wk</th>\n",
       "      <th>weekday</th>\n",
       "      <th>wday</th>\n",
       "      <th>month</th>\n",
       "      <th>year</th>\n",
       "      <th>d</th>\n",
       "      <th>event_name_1</th>\n",
       "      <th>event_type_1</th>\n",
       "      <th>event_name_2</th>\n",
       "      <th>event_type_2</th>\n",
       "      <th>snap_CA</th>\n",
       "      <th>snap_TX</th>\n",
       "      <th>snap_WI</th>\n",
       "    </tr>\n",
       "  </thead>\n",
       "  <tbody>\n",
       "    <tr>\n",
       "      <th>0</th>\n",
       "      <td>2011-01-29</td>\n",
       "      <td>11101</td>\n",
       "      <td>Saturday</td>\n",
       "      <td>1</td>\n",
       "      <td>1</td>\n",
       "      <td>2011</td>\n",
       "      <td>d_1</td>\n",
       "      <td>NaN</td>\n",
       "      <td>NaN</td>\n",
       "      <td>NaN</td>\n",
       "      <td>NaN</td>\n",
       "      <td>0</td>\n",
       "      <td>0</td>\n",
       "      <td>0</td>\n",
       "    </tr>\n",
       "    <tr>\n",
       "      <th>1</th>\n",
       "      <td>2011-01-30</td>\n",
       "      <td>11101</td>\n",
       "      <td>Sunday</td>\n",
       "      <td>2</td>\n",
       "      <td>1</td>\n",
       "      <td>2011</td>\n",
       "      <td>d_2</td>\n",
       "      <td>NaN</td>\n",
       "      <td>NaN</td>\n",
       "      <td>NaN</td>\n",
       "      <td>NaN</td>\n",
       "      <td>0</td>\n",
       "      <td>0</td>\n",
       "      <td>0</td>\n",
       "    </tr>\n",
       "    <tr>\n",
       "      <th>2</th>\n",
       "      <td>2011-01-31</td>\n",
       "      <td>11101</td>\n",
       "      <td>Monday</td>\n",
       "      <td>3</td>\n",
       "      <td>1</td>\n",
       "      <td>2011</td>\n",
       "      <td>d_3</td>\n",
       "      <td>NaN</td>\n",
       "      <td>NaN</td>\n",
       "      <td>NaN</td>\n",
       "      <td>NaN</td>\n",
       "      <td>0</td>\n",
       "      <td>0</td>\n",
       "      <td>0</td>\n",
       "    </tr>\n",
       "    <tr>\n",
       "      <th>3</th>\n",
       "      <td>2011-02-01</td>\n",
       "      <td>11101</td>\n",
       "      <td>Tuesday</td>\n",
       "      <td>4</td>\n",
       "      <td>2</td>\n",
       "      <td>2011</td>\n",
       "      <td>d_4</td>\n",
       "      <td>NaN</td>\n",
       "      <td>NaN</td>\n",
       "      <td>NaN</td>\n",
       "      <td>NaN</td>\n",
       "      <td>1</td>\n",
       "      <td>1</td>\n",
       "      <td>0</td>\n",
       "    </tr>\n",
       "    <tr>\n",
       "      <th>4</th>\n",
       "      <td>2011-02-02</td>\n",
       "      <td>11101</td>\n",
       "      <td>Wednesday</td>\n",
       "      <td>5</td>\n",
       "      <td>2</td>\n",
       "      <td>2011</td>\n",
       "      <td>d_5</td>\n",
       "      <td>NaN</td>\n",
       "      <td>NaN</td>\n",
       "      <td>NaN</td>\n",
       "      <td>NaN</td>\n",
       "      <td>1</td>\n",
       "      <td>0</td>\n",
       "      <td>1</td>\n",
       "    </tr>\n",
       "  </tbody>\n",
       "</table>\n",
       "</div>"
      ],
      "text/plain": [
       "         date  wm_yr_wk    weekday  wday  month  year    d event_name_1  \\\n",
       "0  2011-01-29     11101   Saturday     1      1  2011  d_1          NaN   \n",
       "1  2011-01-30     11101     Sunday     2      1  2011  d_2          NaN   \n",
       "2  2011-01-31     11101     Monday     3      1  2011  d_3          NaN   \n",
       "3  2011-02-01     11101    Tuesday     4      2  2011  d_4          NaN   \n",
       "4  2011-02-02     11101  Wednesday     5      2  2011  d_5          NaN   \n",
       "\n",
       "  event_type_1 event_name_2 event_type_2  snap_CA  snap_TX  snap_WI  \n",
       "0          NaN          NaN          NaN        0        0        0  \n",
       "1          NaN          NaN          NaN        0        0        0  \n",
       "2          NaN          NaN          NaN        0        0        0  \n",
       "3          NaN          NaN          NaN        1        1        0  \n",
       "4          NaN          NaN          NaN        1        0        1  "
      ]
     },
     "execution_count": 11,
     "metadata": {},
     "output_type": "execute_result"
    }
   ],
   "source": [
    "cal.head()"
   ]
  },
  {
   "cell_type": "code",
   "execution_count": 12,
   "metadata": {},
   "outputs": [
    {
     "data": {
      "text/html": [
       "<div>\n",
       "<style scoped>\n",
       "    .dataframe tbody tr th:only-of-type {\n",
       "        vertical-align: middle;\n",
       "    }\n",
       "\n",
       "    .dataframe tbody tr th {\n",
       "        vertical-align: top;\n",
       "    }\n",
       "\n",
       "    .dataframe thead th {\n",
       "        text-align: right;\n",
       "    }\n",
       "</style>\n",
       "<table border=\"1\" class=\"dataframe\">\n",
       "  <thead>\n",
       "    <tr style=\"text-align: right;\">\n",
       "      <th></th>\n",
       "      <th>store_id</th>\n",
       "      <th>item_id</th>\n",
       "      <th>wm_yr_wk</th>\n",
       "      <th>sell_price</th>\n",
       "    </tr>\n",
       "  </thead>\n",
       "  <tbody>\n",
       "    <tr>\n",
       "      <th>0</th>\n",
       "      <td>CA_1</td>\n",
       "      <td>HOBBIES_1_001</td>\n",
       "      <td>11325</td>\n",
       "      <td>9.578125</td>\n",
       "    </tr>\n",
       "    <tr>\n",
       "      <th>1</th>\n",
       "      <td>CA_1</td>\n",
       "      <td>HOBBIES_1_001</td>\n",
       "      <td>11326</td>\n",
       "      <td>9.578125</td>\n",
       "    </tr>\n",
       "    <tr>\n",
       "      <th>2</th>\n",
       "      <td>CA_1</td>\n",
       "      <td>HOBBIES_1_001</td>\n",
       "      <td>11327</td>\n",
       "      <td>8.257812</td>\n",
       "    </tr>\n",
       "    <tr>\n",
       "      <th>3</th>\n",
       "      <td>CA_1</td>\n",
       "      <td>HOBBIES_1_001</td>\n",
       "      <td>11328</td>\n",
       "      <td>8.257812</td>\n",
       "    </tr>\n",
       "    <tr>\n",
       "      <th>4</th>\n",
       "      <td>CA_1</td>\n",
       "      <td>HOBBIES_1_001</td>\n",
       "      <td>11329</td>\n",
       "      <td>8.257812</td>\n",
       "    </tr>\n",
       "    <tr>\n",
       "      <th>...</th>\n",
       "      <td>...</td>\n",
       "      <td>...</td>\n",
       "      <td>...</td>\n",
       "      <td>...</td>\n",
       "    </tr>\n",
       "    <tr>\n",
       "      <th>6841116</th>\n",
       "      <td>WI_3</td>\n",
       "      <td>FOODS_3_827</td>\n",
       "      <td>11617</td>\n",
       "      <td>1.000000</td>\n",
       "    </tr>\n",
       "    <tr>\n",
       "      <th>6841117</th>\n",
       "      <td>WI_3</td>\n",
       "      <td>FOODS_3_827</td>\n",
       "      <td>11618</td>\n",
       "      <td>1.000000</td>\n",
       "    </tr>\n",
       "    <tr>\n",
       "      <th>6841118</th>\n",
       "      <td>WI_3</td>\n",
       "      <td>FOODS_3_827</td>\n",
       "      <td>11619</td>\n",
       "      <td>1.000000</td>\n",
       "    </tr>\n",
       "    <tr>\n",
       "      <th>6841119</th>\n",
       "      <td>WI_3</td>\n",
       "      <td>FOODS_3_827</td>\n",
       "      <td>11620</td>\n",
       "      <td>1.000000</td>\n",
       "    </tr>\n",
       "    <tr>\n",
       "      <th>6841120</th>\n",
       "      <td>WI_3</td>\n",
       "      <td>FOODS_3_827</td>\n",
       "      <td>11621</td>\n",
       "      <td>1.000000</td>\n",
       "    </tr>\n",
       "  </tbody>\n",
       "</table>\n",
       "<p>6841121 rows × 4 columns</p>\n",
       "</div>"
      ],
      "text/plain": [
       "        store_id        item_id  wm_yr_wk  sell_price\n",
       "0           CA_1  HOBBIES_1_001     11325    9.578125\n",
       "1           CA_1  HOBBIES_1_001     11326    9.578125\n",
       "2           CA_1  HOBBIES_1_001     11327    8.257812\n",
       "3           CA_1  HOBBIES_1_001     11328    8.257812\n",
       "4           CA_1  HOBBIES_1_001     11329    8.257812\n",
       "...          ...            ...       ...         ...\n",
       "6841116     WI_3    FOODS_3_827     11617    1.000000\n",
       "6841117     WI_3    FOODS_3_827     11618    1.000000\n",
       "6841118     WI_3    FOODS_3_827     11619    1.000000\n",
       "6841119     WI_3    FOODS_3_827     11620    1.000000\n",
       "6841120     WI_3    FOODS_3_827     11621    1.000000\n",
       "\n",
       "[6841121 rows x 4 columns]"
      ]
     },
     "execution_count": 12,
     "metadata": {},
     "output_type": "execute_result"
    }
   ],
   "source": [
    "prices"
   ]
  },
  {
   "cell_type": "markdown",
   "metadata": {},
   "source": [
    "#### Pre-process calendar"
   ]
  },
  {
   "cell_type": "code",
   "execution_count": 12,
   "metadata": {},
   "outputs": [],
   "source": [
    "cal[\"date\"] = pd.to_datetime(cal[\"date\"], infer_datetime_format=True)"
   ]
  },
  {
   "cell_type": "code",
   "execution_count": 13,
   "metadata": {},
   "outputs": [],
   "source": [
    "def convert_to_type(df, cols, dt_type):\n",
    "    for type_name in cols:\n",
    "        print(type_name)\n",
    "        df[type_name] = df[type_name].astype(dt_type)"
   ]
  },
  {
   "cell_type": "code",
   "execution_count": 14,
   "metadata": {},
   "outputs": [],
   "source": [
    "def convert_uint8(df, cols):\n",
    "    convert_to_type(df, cols, \"uint8\")"
   ]
  },
  {
   "cell_type": "code",
   "execution_count": 15,
   "metadata": {},
   "outputs": [],
   "source": [
    "def convert_float16(df, cols):\n",
    "    convert_to_type(df, cols, \"float16\")"
   ]
  },
  {
   "cell_type": "code",
   "execution_count": 16,
   "metadata": {},
   "outputs": [],
   "source": [
    "def numericalize(df, type_map):\n",
    "    for col, col_dtype in type_map.items():\n",
    "        if col_dtype == \"category\":\n",
    "            df[col] = df[col].cat.codes.astype('int16')\n",
    "            df[col] -= df[col].min()"
   ]
  },
  {
   "cell_type": "code",
   "execution_count": 17,
   "metadata": {},
   "outputs": [],
   "source": [
    "numericalize(prices, PRICE_DTYPES)\n",
    "numericalize(cal, CAL_DTYPES)"
   ]
  },
  {
   "cell_type": "code",
   "execution_count": 18,
   "metadata": {},
   "outputs": [
    {
     "name": "stdout",
     "output_type": "stream",
     "text": [
      "<class 'pandas.core.frame.DataFrame'>\n",
      "RangeIndex: 1969 entries, 0 to 1968\n",
      "Data columns (total 14 columns):\n",
      " #   Column        Non-Null Count  Dtype         \n",
      "---  ------        --------------  -----         \n",
      " 0   date          1969 non-null   datetime64[ns]\n",
      " 1   wm_yr_wk      1969 non-null   int16         \n",
      " 2   weekday       1969 non-null   int16         \n",
      " 3   wday          1969 non-null   int16         \n",
      " 4   month         1969 non-null   int16         \n",
      " 5   year          1969 non-null   int16         \n",
      " 6   d             1969 non-null   object        \n",
      " 7   event_name_1  1969 non-null   int16         \n",
      " 8   event_type_1  1969 non-null   int16         \n",
      " 9   event_name_2  1969 non-null   int16         \n",
      " 10  event_type_2  1969 non-null   int16         \n",
      " 11  snap_CA       1969 non-null   uint8         \n",
      " 12  snap_TX       1969 non-null   uint8         \n",
      " 13  snap_WI       1969 non-null   uint8         \n",
      "dtypes: datetime64[ns](1), int16(9), object(1), uint8(3)\n",
      "memory usage: 71.3+ KB\n"
     ]
    }
   ],
   "source": [
    "cal.info()"
   ]
  },
  {
   "cell_type": "code",
   "execution_count": 19,
   "metadata": {},
   "outputs": [
    {
     "data": {
      "text/plain": [
       "array([0, 1], dtype=uint8)"
      ]
     },
     "execution_count": 19,
     "metadata": {},
     "output_type": "execute_result"
    }
   ],
   "source": [
    "cal['snap_CA'].unique()"
   ]
  },
  {
   "cell_type": "code",
   "execution_count": 20,
   "metadata": {},
   "outputs": [
    {
     "name": "stdout",
     "output_type": "stream",
     "text": [
      "wday\n",
      "month\n",
      "weekday\n",
      "event_name_1\n",
      "event_name_2\n",
      "event_type_1\n",
      "event_type_2\n",
      "snap_CA\n",
      "snap_TX\n",
      "snap_WI\n"
     ]
    }
   ],
   "source": [
    "convert_uint8(cal, ['wday', 'month', 'weekday', 'event_name_1', 'event_name_2', 'event_type_1', 'event_type_2', \n",
    "                    'snap_CA', 'snap_TX', 'snap_WI'])"
   ]
  },
  {
   "cell_type": "code",
   "execution_count": 21,
   "metadata": {},
   "outputs": [
    {
     "name": "stdout",
     "output_type": "stream",
     "text": [
      "<class 'pandas.core.frame.DataFrame'>\n",
      "RangeIndex: 1969 entries, 0 to 1968\n",
      "Data columns (total 14 columns):\n",
      " #   Column        Non-Null Count  Dtype         \n",
      "---  ------        --------------  -----         \n",
      " 0   date          1969 non-null   datetime64[ns]\n",
      " 1   wm_yr_wk      1969 non-null   int16         \n",
      " 2   weekday       1969 non-null   uint8         \n",
      " 3   wday          1969 non-null   uint8         \n",
      " 4   month         1969 non-null   uint8         \n",
      " 5   year          1969 non-null   int16         \n",
      " 6   d             1969 non-null   object        \n",
      " 7   event_name_1  1969 non-null   uint8         \n",
      " 8   event_type_1  1969 non-null   uint8         \n",
      " 9   event_name_2  1969 non-null   uint8         \n",
      " 10  event_type_2  1969 non-null   uint8         \n",
      " 11  snap_CA       1969 non-null   uint8         \n",
      " 12  snap_TX       1969 non-null   uint8         \n",
      " 13  snap_WI       1969 non-null   uint8         \n",
      "dtypes: datetime64[ns](1), int16(2), object(1), uint8(10)\n",
      "memory usage: 57.8+ KB\n"
     ]
    }
   ],
   "source": [
    "cal.info()"
   ]
  },
  {
   "cell_type": "code",
   "execution_count": 22,
   "metadata": {},
   "outputs": [
    {
     "name": "stdout",
     "output_type": "stream",
     "text": [
      "<class 'pandas.core.frame.DataFrame'>\n",
      "RangeIndex: 6841121 entries, 0 to 6841120\n",
      "Data columns (total 4 columns):\n",
      " #   Column      Dtype  \n",
      "---  ------      -----  \n",
      " 0   store_id    int16  \n",
      " 1   item_id     int16  \n",
      " 2   wm_yr_wk    int16  \n",
      " 3   sell_price  float16\n",
      "dtypes: float16(1), int16(3)\n",
      "memory usage: 52.2 MB\n"
     ]
    }
   ],
   "source": [
    "prices.info()"
   ]
  },
  {
   "cell_type": "code",
   "execution_count": 23,
   "metadata": {},
   "outputs": [
    {
     "name": "stdout",
     "output_type": "stream",
     "text": [
      "max_lags 57\n"
     ]
    }
   ],
   "source": [
    "pred_days = 28\n",
    "max_lags = pred_days * 2 + 1\n",
    "print('max_lags', max_lags)\n",
    "num_cols = [c for c in pd.read_csv(path/\"sales_train_validation.csv\", nrows=2).columns if c.find('d_') == 0]\n",
    "tr_last = len(num_cols)\n",
    "catcols = ['id', 'item_id', 'dept_id','store_id', 'cat_id', 'state_id']\n",
    "# For more training data use a lower value\n",
    "FIRST_DAY=1"
   ]
  },
  {
   "cell_type": "code",
   "execution_count": 24,
   "metadata": {},
   "outputs": [],
   "source": [
    "# attr = ['Dayofyear','Is_month_end', 'Is_month_start', 'Is_quarter_end', 'Is_quarter_start', 'Is_year_end', 'Is_year_start']\n",
    "boolean_attrs = ['Is_month_end', 'Is_month_start', 'Is_quarter_end', 'Is_quarter_start', 'Is_year_end', 'Is_year_start']\n",
    "date_features = {\n",
    "    \"wday\": \"weekday\",\n",
    "    \"week\": \"weekofyear\",\n",
    "    \"month\": \"month\",\n",
    "    \"quarter\": \"quarter\",\n",
    "    \"year\": \"year\",\n",
    "    \"mday\": \"day\"\n",
    "}"
   ]
  },
  {
   "cell_type": "code",
   "execution_count": 25,
   "metadata": {},
   "outputs": [],
   "source": [
    "def prepare_date_cols(dt):\n",
    "    for date_feature_name, date_feature_func in date_features.items():\n",
    "        if date_feature_name in dt.columns:\n",
    "            dt[date_feature_name] = dt[date_feature_name].astype('int16')\n",
    "        else:\n",
    "            dt[date_feature_name] = getattr(dt['date'].dt, date_feature_func).astype('int16')\n",
    "    for ba in boolean_attrs:\n",
    "        dt[ba] = getattr(dt['date'].dt, ba.lower()).astype('uint8')"
   ]
  },
  {
   "cell_type": "code",
   "execution_count": 26,
   "metadata": {},
   "outputs": [],
   "source": [
    "def read_dt(is_train = True, nrows = None, first_day = 1200):\n",
    "    start_day = max(1 if is_train else tr_last - max_lags, first_day)\n",
    "    print('start_day', start_day)\n",
    "    dtype = {num: 'float32' for num in num_cols}\n",
    "    dtype.update({cat: 'category' for cat in catcols if cat != 'id'})\n",
    "    numcols = [f\"d_{day}\" for day in range(start_day,tr_last+1)]\n",
    "    dt = pd.read_csv(path/\"sales_train_validation.csv\", nrows=nrows, usecols = catcols + numcols, dtype=dtype)\n",
    "    for col in catcols:\n",
    "        if col != 'id':\n",
    "            dt[col] = dt[col].cat.codes.astype('int16')\n",
    "            dt[col] -= dt[col].min()\n",
    "    if not is_train:\n",
    "        for day in range(tr_last + 1, tr_last + 1 + pred_days):\n",
    "            dt[f'd_{day}'] = np.nan\n",
    "            \n",
    "    dt = dt.melt(id_vars=catcols, value_vars=[col for col in dt.columns if col.startswith(\"d_\")], var_name='d', value_name='sales')\n",
    "    dt = dt.merge(cal, on='d', copy=False)\n",
    "    dt = dt.merge(prices, on=['store_id', 'item_id', 'wm_yr_wk'], copy=False)\n",
    "    \n",
    "    prepare_date_cols(dt)\n",
    "    convert_uint8(dt, ['dept_id', 'store_id', 'cat_id', 'state_id', 'wday', 'month', 'week', 'quarter', 'mday'])\n",
    "    return dt"
   ]
  },
  {
   "cell_type": "code",
   "execution_count": 27,
   "metadata": {},
   "outputs": [
    {
     "name": "stdout",
     "output_type": "stream",
     "text": [
      "start_day 1\n",
      "dept_id\n",
      "store_id\n",
      "cat_id\n",
      "state_id\n",
      "wday\n",
      "month\n",
      "week\n",
      "quarter\n",
      "mday\n",
      "CPU times: user 39.8 s, sys: 3.08 s, total: 42.9 s\n",
      "Wall time: 42.9 s\n"
     ]
    }
   ],
   "source": [
    "%%time\n",
    "\n",
    "dt = read_dt(first_day=FIRST_DAY)"
   ]
  },
  {
   "cell_type": "code",
   "execution_count": 28,
   "metadata": {},
   "outputs": [
    {
     "name": "stdout",
     "output_type": "stream",
     "text": [
      "<class 'pandas.core.frame.DataFrame'>\n",
      "Int64Index: 46027957 entries, 0 to 46027956\n",
      "Data columns (total 31 columns):\n",
      " #   Column            Dtype         \n",
      "---  ------            -----         \n",
      " 0   id                object        \n",
      " 1   item_id           int16         \n",
      " 2   dept_id           uint8         \n",
      " 3   store_id          uint8         \n",
      " 4   cat_id            uint8         \n",
      " 5   state_id          uint8         \n",
      " 6   d                 object        \n",
      " 7   sales             float32       \n",
      " 8   date              datetime64[ns]\n",
      " 9   wm_yr_wk          int16         \n",
      " 10  weekday           uint8         \n",
      " 11  wday              uint8         \n",
      " 12  month             uint8         \n",
      " 13  year              int16         \n",
      " 14  event_name_1      uint8         \n",
      " 15  event_type_1      uint8         \n",
      " 16  event_name_2      uint8         \n",
      " 17  event_type_2      uint8         \n",
      " 18  snap_CA           uint8         \n",
      " 19  snap_TX           uint8         \n",
      " 20  snap_WI           uint8         \n",
      " 21  sell_price        float16       \n",
      " 22  week              uint8         \n",
      " 23  quarter           uint8         \n",
      " 24  mday              uint8         \n",
      " 25  Is_month_end      uint8         \n",
      " 26  Is_month_start    uint8         \n",
      " 27  Is_quarter_end    uint8         \n",
      " 28  Is_quarter_start  uint8         \n",
      " 29  Is_year_end       uint8         \n",
      " 30  Is_year_start     uint8         \n",
      "dtypes: datetime64[ns](1), float16(1), float32(1), int16(3), object(2), uint8(23)\n",
      "memory usage: 2.9+ GB\n"
     ]
    }
   ],
   "source": [
    "dt.info()"
   ]
  },
  {
   "cell_type": "markdown",
   "metadata": {},
   "source": [
    "## Create features"
   ]
  },
  {
   "cell_type": "code",
   "execution_count": 29,
   "metadata": {},
   "outputs": [],
   "source": [
    "def create_features(dt):\n",
    "    lags = [7, 28]\n",
    "    lag_cols = [f'sales_lag_{lag}' for lag in lags]\n",
    "    for lag, lag_col in zip(lags, lag_cols):\n",
    "        dt[lag_col] = dt[['id', 'sales']].groupby('id')['sales'].shift(lag)\n",
    "        \n",
    "    for win in lags:\n",
    "        for lag, lag_col in zip(lags, lag_cols):\n",
    "            grouped = dt[['id', lag_col]].groupby('id')[lag_col]\n",
    "            dt[f'rmean_{lag}_{win}'] = grouped.transform(lambda x : x.rolling(win).mean())\n",
    "            \n",
    "    convert_float16(dt, ['sales_lag_7', 'sales_lag_28', 'rmean_7_7', 'rmean_28_7', 'rmean_7_28', 'rmean_28_28'])"
   ]
  },
  {
   "cell_type": "code",
   "execution_count": 30,
   "metadata": {
    "scrolled": true
   },
   "outputs": [
    {
     "name": "stdout",
     "output_type": "stream",
     "text": [
      "sales_lag_7\n",
      "sales_lag_28\n",
      "rmean_7_7\n",
      "rmean_28_7\n",
      "rmean_7_28\n",
      "rmean_28_28\n",
      "CPU times: user 1min 33s, sys: 5.7 s, total: 1min 39s\n",
      "Wall time: 1min 39s\n"
     ]
    }
   ],
   "source": [
    "%%time\n",
    "create_features(dt)"
   ]
  },
  {
   "cell_type": "code",
   "execution_count": 31,
   "metadata": {},
   "outputs": [
    {
     "name": "stdout",
     "output_type": "stream",
     "text": [
      "<class 'pandas.core.frame.DataFrame'>\n",
      "Int64Index: 46027957 entries, 0 to 46027956\n",
      "Data columns (total 37 columns):\n",
      " #   Column            Dtype         \n",
      "---  ------            -----         \n",
      " 0   id                object        \n",
      " 1   item_id           int16         \n",
      " 2   dept_id           uint8         \n",
      " 3   store_id          uint8         \n",
      " 4   cat_id            uint8         \n",
      " 5   state_id          uint8         \n",
      " 6   d                 object        \n",
      " 7   sales             float32       \n",
      " 8   date              datetime64[ns]\n",
      " 9   wm_yr_wk          int16         \n",
      " 10  weekday           uint8         \n",
      " 11  wday              uint8         \n",
      " 12  month             uint8         \n",
      " 13  year              int16         \n",
      " 14  event_name_1      uint8         \n",
      " 15  event_type_1      uint8         \n",
      " 16  event_name_2      uint8         \n",
      " 17  event_type_2      uint8         \n",
      " 18  snap_CA           uint8         \n",
      " 19  snap_TX           uint8         \n",
      " 20  snap_WI           uint8         \n",
      " 21  sell_price        float16       \n",
      " 22  week              uint8         \n",
      " 23  quarter           uint8         \n",
      " 24  mday              uint8         \n",
      " 25  Is_month_end      uint8         \n",
      " 26  Is_month_start    uint8         \n",
      " 27  Is_quarter_end    uint8         \n",
      " 28  Is_quarter_start  uint8         \n",
      " 29  Is_year_end       uint8         \n",
      " 30  Is_year_start     uint8         \n",
      " 31  sales_lag_7       float16       \n",
      " 32  sales_lag_28      float16       \n",
      " 33  rmean_7_7         float16       \n",
      " 34  rmean_28_7        float16       \n",
      " 35  rmean_7_28        float16       \n",
      " 36  rmean_28_28       float16       \n",
      "dtypes: datetime64[ns](1), float16(7), float32(1), int16(3), object(2), uint8(23)\n",
      "memory usage: 3.4+ GB\n"
     ]
    }
   ],
   "source": [
    "dt.info()"
   ]
  },
  {
   "cell_type": "code",
   "execution_count": 32,
   "metadata": {},
   "outputs": [],
   "source": [
    "dt.dropna(inplace = True)"
   ]
  },
  {
   "cell_type": "code",
   "execution_count": null,
   "metadata": {},
   "outputs": [],
   "source": [
    "dt[dt.date == '2015-01-31']"
   ]
  },
  {
   "cell_type": "markdown",
   "metadata": {},
   "source": [
    "## Training Preparation"
   ]
  },
  {
   "cell_type": "code",
   "execution_count": null,
   "metadata": {},
   "outputs": [],
   "source": [
    "dt.columns"
   ]
  },
  {
   "cell_type": "code",
   "execution_count": null,
   "metadata": {},
   "outputs": [],
   "source": [
    "cat_feats = ['item_id', 'dept_id', 'store_id', 'cat_id', 'state_id', 'event_name_1', \n",
    "             'event_type_1', 'event_name_2', 'event_type_2']\n",
    "ignore_cols = ['id', 'date', 'sales', 'd', 'wm_yr_wk', 'weekday']\n",
    "train_cols = [c for c in dt.columns if c not in ignore_cols]\n",
    "X = dt[train_cols]\n",
    "Y = dt['sales']"
   ]
  },
  {
   "cell_type": "code",
   "execution_count": null,
   "metadata": {},
   "outputs": [],
   "source": [
    "valid_size = int(X.shape[0] * 0.1)\n",
    "np.random.seed(777)\n",
    "\n",
    "valid_idx = np.random.choice(X.index.values, valid_size, replace=False)\n",
    "train_idx = np.setdiff1d(X.index.values, valid_idx)\n",
    "assert valid_idx.size + train_idx.size == X.shape[0]"
   ]
  },
  {
   "cell_type": "code",
   "execution_count": null,
   "metadata": {},
   "outputs": [],
   "source": [
    "train_data = lgb.Dataset(X.loc[train_idx], Y.loc[train_idx], categorical_feature=cat_feats, free_raw_data=False)\n",
    "valid_data = lgb.Dataset(X.loc[valid_idx], Y.loc[valid_idx], categorical_feature=cat_feats, free_raw_data=False)"
   ]
  },
  {
   "cell_type": "code",
   "execution_count": null,
   "metadata": {},
   "outputs": [],
   "source": [
    "del dt, X, Y, valid_idx, train_idx\n",
    "gc.collect()"
   ]
  },
  {
   "cell_type": "markdown",
   "metadata": {},
   "source": [
    "## Training"
   ]
  },
  {
   "cell_type": "code",
   "execution_count": null,
   "metadata": {},
   "outputs": [],
   "source": [
    "lgb_params = {\n",
    "        \"objective\" : \"poisson\",\n",
    "        \"learning_rate\" : 0.075,\n",
    "#         \"sub_feature\" : 0.8,\n",
    "        \"sub_row\" : 0.75,\n",
    "        \"bagging_freq\" : 1,\n",
    "        \"lambda_l2\" : 0.1,\n",
    "        \"nthread\" : 12,\n",
    "        \"metric\": [\"rmse\"],\n",
    "        'verbosity': 1,\n",
    "        'num_leaves': 128,\n",
    "        \"min_data_in_leaf\": 100,\n",
    "}"
   ]
  },
  {
   "cell_type": "code",
   "execution_count": null,
   "metadata": {},
   "outputs": [],
   "source": [
    "%%time\n",
    "m_lgb = lgb.train(lgb_params, train_data, valid_sets=[train_data, valid_data], verbose_eval=20, categorical_feature=cat_feats, \n",
    "                  num_boost_round=1200)"
   ]
  },
  {
   "cell_type": "code",
   "execution_count": null,
   "metadata": {},
   "outputs": [],
   "source": [
    "m_lgb.save_model(str(path/'m5_model.lgb'))"
   ]
  },
  {
   "cell_type": "code",
   "execution_count": null,
   "metadata": {},
   "outputs": [],
   "source": [
    "m_lgb = lgb.Booster(model_file=str(path/'m5_model.lgb'))"
   ]
  },
  {
   "cell_type": "markdown",
   "metadata": {},
   "source": [
    "## Prediction"
   ]
  },
  {
   "cell_type": "code",
   "execution_count": null,
   "metadata": {},
   "outputs": [],
   "source": [
    "from tqdm.notebook import tqdm"
   ]
  },
  {
   "cell_type": "code",
   "execution_count": null,
   "metadata": {},
   "outputs": [],
   "source": [
    "alphas = [1.028, 1.023, 1.018]\n",
    "weights = [1 / len(alphas)] * len(alphas)\n",
    "assert sum(weights) == 1.0\n",
    "fday = datetime(2016, 4, 25) \n",
    "assert datetime(2011, 1, 29) + timedelta(days=1914 - 1) == fday"
   ]
  },
  {
   "cell_type": "code",
   "execution_count": null,
   "metadata": {},
   "outputs": [],
   "source": [
    "cols = [f'F{i}' for i in range(1, pred_days + 1)]\n",
    "sub = pd.DataFrame()\n",
    "\n",
    "for icount, (alpha, weight) in tqdm(enumerate(zip(alphas, weights)), total=len(alphas)):\n",
    "    te = read_dt(False)\n",
    "    for tdelta in tqdm(range(0, pred_days), total=pred_days):\n",
    "        day = fday + timedelta(days=tdelta)\n",
    "        print(tdelta, day)\n",
    "        tst = te[(te.date >= day - timedelta(days=max_lags)) & (te.date <= day)].copy()\n",
    "        create_features(tst)\n",
    "        tst = tst.loc[tst.date == day, train_cols]\n",
    "        te.loc[te.date == day, 'sales'] = alpha * m_lgb.predict(tst) # magic multiplier by kyakovlev\n",
    "    \n",
    "    te_sub = te.loc[te.date >= fday, ['id', 'sales']].copy()\n",
    "    te_sub['F'] = [f\"F{rank}\" for rank in te_sub.groupby(\"id\")[\"id\"].cumcount()+1]\n",
    "    te_sub = te_sub.set_index([\"id\", \"F\" ]).unstack()['sales'][cols]\n",
    "    te_sub.fillna(0., inplace=True)\n",
    "    te_sub.sort_values([\"id\"], inplace=True)\n",
    "    te_sub.reset_index(drop=False, inplace = True)\n",
    "    te_sub.to_csv(f\"submission_{icount}.csv\",index=False)\n",
    "    \n",
    "    if icount == 0:\n",
    "        sub = te_sub\n",
    "        sub[cols] *= weight\n",
    "    else:\n",
    "        sub[cols] += te_sub[cols] * weight\n",
    "\n",
    "sub2 = sub.copy()\n",
    "sub2[\"id\"] = sub2[\"id\"].str.replace(\"validation$\", \"evaluation\")\n",
    "sub = pd.concat([sub, sub2], axis=0, sort=False)\n",
    "sub.to_csv(\"submission.csv\",index=False)"
   ]
  },
  {
   "cell_type": "code",
   "execution_count": null,
   "metadata": {},
   "outputs": [],
   "source": [
    "!wc -l submission.csv"
   ]
  },
  {
   "cell_type": "code",
   "execution_count": null,
   "metadata": {},
   "outputs": [],
   "source": [
    "pd.read_csv('submission.csv')"
   ]
  }
 ],
 "metadata": {
  "kernelspec": {
   "display_name": "Python 3",
   "language": "python",
   "name": "python3"
  },
  "language_info": {
   "codemirror_mode": {
    "name": "ipython",
    "version": 3
   },
   "file_extension": ".py",
   "mimetype": "text/x-python",
   "name": "python",
   "nbconvert_exporter": "python",
   "pygments_lexer": "ipython3",
   "version": "3.7.4"
  }
 },
 "nbformat": 4,
 "nbformat_minor": 4
}
