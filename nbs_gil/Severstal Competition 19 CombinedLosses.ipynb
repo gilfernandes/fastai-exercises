{
 "cells": [
  {
   "cell_type": "code",
   "execution_count": 1,
   "metadata": {
    "ExecuteTime": {
     "end_time": "2019-10-24T16:23:28.590526Z",
     "start_time": "2019-10-24T16:23:26.580624Z"
    }
   },
   "outputs": [],
   "source": [
    "import numpy as np # linear algebra\n",
    "import pandas as pd # data processing, CSV file I/O (e.g. pd.read_csv)\n",
    "from fastai.vision import *\n",
    "from fastai import *\n",
    "import os\n",
    "from collections import defaultdict\n",
    "# from fastai.vision.models.cadene_models import *"
   ]
  },
  {
   "cell_type": "markdown",
   "metadata": {},
   "source": [
    "### Set up paths"
   ]
  },
  {
   "cell_type": "code",
   "execution_count": 2,
   "metadata": {
    "ExecuteTime": {
     "end_time": "2019-10-24T16:23:28.781791Z",
     "start_time": "2019-10-24T16:23:28.592350Z"
    }
   },
   "outputs": [],
   "source": [
    "train_pd = pd.read_csv('/root/.fastai/data/severstal/train.csv')"
   ]
  },
  {
   "cell_type": "code",
   "execution_count": 3,
   "metadata": {
    "ExecuteTime": {
     "end_time": "2019-10-24T16:23:28.793694Z",
     "start_time": "2019-10-24T16:23:28.783789Z"
    }
   },
   "outputs": [
    {
     "data": {
      "text/html": [
       "<div>\n",
       "<style scoped>\n",
       "    .dataframe tbody tr th:only-of-type {\n",
       "        vertical-align: middle;\n",
       "    }\n",
       "\n",
       "    .dataframe tbody tr th {\n",
       "        vertical-align: top;\n",
       "    }\n",
       "\n",
       "    .dataframe thead th {\n",
       "        text-align: right;\n",
       "    }\n",
       "</style>\n",
       "<table border=\"1\" class=\"dataframe\">\n",
       "  <thead>\n",
       "    <tr style=\"text-align: right;\">\n",
       "      <th></th>\n",
       "      <th>ImageId_ClassId</th>\n",
       "      <th>EncodedPixels</th>\n",
       "    </tr>\n",
       "  </thead>\n",
       "  <tbody>\n",
       "    <tr>\n",
       "      <th>0</th>\n",
       "      <td>0002cc93b.jpg_1</td>\n",
       "      <td>29102 12 29346 24 29602 24 29858 24 30114 24 3...</td>\n",
       "    </tr>\n",
       "    <tr>\n",
       "      <th>1</th>\n",
       "      <td>0002cc93b.jpg_2</td>\n",
       "      <td>NaN</td>\n",
       "    </tr>\n",
       "    <tr>\n",
       "      <th>2</th>\n",
       "      <td>0002cc93b.jpg_3</td>\n",
       "      <td>NaN</td>\n",
       "    </tr>\n",
       "    <tr>\n",
       "      <th>3</th>\n",
       "      <td>0002cc93b.jpg_4</td>\n",
       "      <td>NaN</td>\n",
       "    </tr>\n",
       "    <tr>\n",
       "      <th>4</th>\n",
       "      <td>00031f466.jpg_1</td>\n",
       "      <td>NaN</td>\n",
       "    </tr>\n",
       "  </tbody>\n",
       "</table>\n",
       "</div>"
      ],
      "text/plain": [
       "   ImageId_ClassId                                      EncodedPixels\n",
       "0  0002cc93b.jpg_1  29102 12 29346 24 29602 24 29858 24 30114 24 3...\n",
       "1  0002cc93b.jpg_2                                                NaN\n",
       "2  0002cc93b.jpg_3                                                NaN\n",
       "3  0002cc93b.jpg_4                                                NaN\n",
       "4  00031f466.jpg_1                                                NaN"
      ]
     },
     "execution_count": 3,
     "metadata": {},
     "output_type": "execute_result"
    }
   ],
   "source": [
    "train_pd.head(5)"
   ]
  },
  {
   "cell_type": "code",
   "execution_count": 4,
   "metadata": {
    "ExecuteTime": {
     "end_time": "2019-10-24T16:23:28.798210Z",
     "start_time": "2019-10-24T16:23:28.795520Z"
    }
   },
   "outputs": [],
   "source": [
    "path = Path('/root/.fastai/data/severstal')"
   ]
  },
  {
   "cell_type": "code",
   "execution_count": 5,
   "metadata": {
    "ExecuteTime": {
     "end_time": "2019-10-24T16:23:28.805628Z",
     "start_time": "2019-10-24T16:23:28.799765Z"
    }
   },
   "outputs": [
    {
     "data": {
      "text/plain": [
       "[PosixPath('/root/.fastai/data/severstal/train_images.zip'),\n",
       " PosixPath('/root/.fastai/data/severstal/sample_submission.csv'),\n",
       " PosixPath('/root/.fastai/data/severstal/test_images.zip'),\n",
       " PosixPath('/root/.fastai/data/severstal/train.csv'),\n",
       " PosixPath('/root/.fastai/data/severstal/train_images'),\n",
       " PosixPath('/root/.fastai/data/severstal/test_images')]"
      ]
     },
     "execution_count": 5,
     "metadata": {},
     "output_type": "execute_result"
    }
   ],
   "source": [
    "path.ls()"
   ]
  },
  {
   "cell_type": "code",
   "execution_count": 6,
   "metadata": {
    "ExecuteTime": {
     "end_time": "2019-10-24T16:23:28.885678Z",
     "start_time": "2019-10-24T16:23:28.807148Z"
    }
   },
   "outputs": [
    {
     "data": {
      "text/plain": [
       "[PosixPath('/root/.fastai/data/severstal/train_images/5e581254c.jpg'),\n",
       " PosixPath('/root/.fastai/data/severstal/train_images/fd2f7b4f4.jpg'),\n",
       " PosixPath('/root/.fastai/data/severstal/train_images/82f4c0b69.jpg')]"
      ]
     },
     "execution_count": 6,
     "metadata": {},
     "output_type": "execute_result"
    }
   ],
   "source": [
    "train_images = get_image_files(path/'train_images')\n",
    "train_images[:3]"
   ]
  },
  {
   "cell_type": "markdown",
   "metadata": {},
   "source": [
    "### Check maximum size of images"
   ]
  },
  {
   "cell_type": "code",
   "execution_count": 7,
   "metadata": {
    "ExecuteTime": {
     "end_time": "2019-10-24T16:23:28.892328Z",
     "start_time": "2019-10-24T16:23:28.887191Z"
    }
   },
   "outputs": [],
   "source": [
    "def check_img_max_size(folder):\n",
    "    max_height = 0\n",
    "    max_width = 0\n",
    "    for train_image in train_images:\n",
    "        img = open_image(train_image)\n",
    "        if max_height < img.shape[1]:\n",
    "            max_height = img.shape[1]\n",
    "        if max_width < img.shape[2]:\n",
    "            max_width = img.shape[2]\n",
    "    return max_height, max_width\n",
    "\n",
    "def show_image(images, index):\n",
    "    img_f = images[index]\n",
    "    print(type(img_f))\n",
    "    img = open_image(img_f)\n",
    "    print(img)\n",
    "    img.show(figsize=(5,5))"
   ]
  },
  {
   "cell_type": "code",
   "execution_count": 8,
   "metadata": {
    "ExecuteTime": {
     "end_time": "2019-10-24T16:23:28.900314Z",
     "start_time": "2019-10-24T16:23:28.894772Z"
    }
   },
   "outputs": [],
   "source": [
    "mask_path = Path('/kaggle/mask')\n",
    "if not os.path.exists(mask_path):\n",
    "    os.makedirs(str(mask_path))"
   ]
  },
  {
   "cell_type": "code",
   "execution_count": 9,
   "metadata": {
    "ExecuteTime": {
     "end_time": "2019-10-24T16:23:28.916934Z",
     "start_time": "2019-10-24T16:23:28.902270Z"
    }
   },
   "outputs": [],
   "source": [
    "def convert_encoded_to_array(encoded_pixels):\n",
    "    pos_array = []\n",
    "    len_array = []\n",
    "    splits = encoded_pixels.split()\n",
    "    pos_array = [int(n) - 1 for i, n in enumerate(splits) if i % 2 == 0]\n",
    "    len_array = [int(n) for i, n in enumerate(splits) if i % 2 == 1]\n",
    "    return pos_array, len_array\n",
    "        \n",
    "def convert_to_pair(pos_array, rows):\n",
    "    return [(p % rows, p // rows) for p in pos_array]\n",
    "\n",
    "def create_positions(single_pos, size):\n",
    "    return [i for i in range(single_pos, single_pos + size)]\n",
    "\n",
    "def create_positions_pairs(single_pos, size, row_size):\n",
    "    return convert_to_pair(create_positions(single_pos, size), row_size)\n",
    "\n",
    "def convert_to_mask(encoded_pixels, row_size, col_size, category):\n",
    "    pos_array, len_array = convert_encoded_to_array(encoded_pixels)\n",
    "    mask = np.zeros([row_size, col_size])\n",
    "    for(p, l) in zip(pos_array, len_array):\n",
    "        for row, col in create_positions_pairs(p, l, row_size):\n",
    "            mask[row][col] = category\n",
    "    return mask\n",
    "\n",
    "def save_to_image(masked, image_name):\n",
    "    im = PIL.Image.fromarray(masked)\n",
    "    im = im.convert(\"L\")\n",
    "    image_name = re.sub(r'(.+)\\.jpg', r'\\1', image_name) + \".png\"\n",
    "    real_path = mask_path/image_name\n",
    "    im.save(real_path)\n",
    "    return real_path\n",
    "\n",
    "def open_single_image(path):\n",
    "    img = open_image(path)\n",
    "    img.show(figsize=(20,20))\n",
    "    \n",
    "def get_y_fn(x):\n",
    "    return mask_path/(x.stem + '.png')\n",
    "\n",
    "def group_by(train_images, train_pd):\n",
    "    tran_dict = {image.name:[] for image in train_images}\n",
    "    pattern = re.compile('(.+)_(\\d+)')\n",
    "    for index, image_path in train_pd.iterrows():\n",
    "        m = pattern.match(image_path['ImageId_ClassId'])\n",
    "        file_name = m.group(1)\n",
    "        category = m.group(2)\n",
    "        tran_dict[file_name].append((int(category), image_path['EncodedPixels']))\n",
    "    return tran_dict\n",
    "\n",
    "def display_image_with_mask(img_name):\n",
    "    full_image = path/'train_images'/img_name\n",
    "    print(full_image)\n",
    "    open_single_image(full_image)\n",
    "    mask_image = get_y_fn(full_image)\n",
    "    mask = open_mask(mask_image)\n",
    "    print(full_image)\n",
    "    mask.show(figsize=(20, 20), alpha=0.5)"
   ]
  },
  {
   "cell_type": "code",
   "execution_count": 10,
   "metadata": {
    "ExecuteTime": {
     "end_time": "2019-10-24T16:23:35.396715Z",
     "start_time": "2019-10-24T16:23:28.918453Z"
    }
   },
   "outputs": [],
   "source": [
    "grouped_categories_mask = group_by(train_images, train_pd)"
   ]
  },
  {
   "cell_type": "markdown",
   "metadata": {},
   "source": [
    "### Create mask files and save these to kaggle/mask/"
   ]
  },
  {
   "cell_type": "code",
   "execution_count": 11,
   "metadata": {
    "ExecuteTime": {
     "end_time": "2019-10-24T16:23:35.403873Z",
     "start_time": "2019-10-24T16:23:35.398408Z"
    }
   },
   "outputs": [],
   "source": [
    "image_height = 256\n",
    "image_width = 1600\n",
    "if not os.path.exists(mask_path/'0002cc93b.png'):\n",
    "    for image_name, cat_list in grouped_categories_mask.items():\n",
    "        masked = np.zeros([image_height, image_width])\n",
    "        for cat_mask in cat_list:\n",
    "            encoded_pixels = cat_mask[1]\n",
    "            if pd.notna(cat_mask[1]):\n",
    "                masked += convert_to_mask(encoded_pixels, image_height, image_width, cat_mask[0])\n",
    "        if np.amax(masked) > 4:\n",
    "            print(f'Check {image_name} for max category {np.amax(masked)}')\n",
    "        save_to_image(masked, image_name)"
   ]
  },
  {
   "cell_type": "markdown",
   "metadata": {},
   "source": [
    "### Prepare Transforms"
   ]
  },
  {
   "cell_type": "code",
   "execution_count": 12,
   "metadata": {
    "ExecuteTime": {
     "end_time": "2019-10-24T16:23:35.419592Z",
     "start_time": "2019-10-24T16:23:35.405417Z"
    }
   },
   "outputs": [],
   "source": [
    "def limited_dihedral_affine(k:partial(uniform_int,0,3)):\n",
    "    \"Randomly flip `x` image based on `k`.\"\n",
    "    x = -1 if k&1 else 1\n",
    "    y = -1 if k&2 else 1\n",
    "    if k&4: return [[0, x, 0.],\n",
    "                    [y, 0, 0],\n",
    "                    [0, 0, 1.]]\n",
    "    return [[x, 0, 0.],\n",
    "            [0, y, 0],\n",
    "            [0, 0, 1.]]\n",
    "\n",
    "dihedral_affine = TfmAffine(limited_dihedral_affine)\n",
    "\n",
    "def get_extra_transforms(max_rotate:float=3., max_zoom:float=1.1,\n",
    "                   max_lighting:float=0.2, max_warp:float=0.2, p_affine:float=0.75,\n",
    "                   p_lighting:float=0.75, xtra_tfms:Optional[Collection[Transform]]=None)->Collection[Transform]:\n",
    "    \"Utility func to easily create a list of flip, rotate, `zoom`, warp, lighting transforms.\"\n",
    "    p_lightings = [p_lighting, p_lighting + 0.2, p_lighting + 0.4, p_lighting + 0.6, p_lighting + 0.7]\n",
    "    max_lightings = [max_lighting, max_lighting + 0.2, max_lighting + 0.4, max_lighting + 0.6, max_lighting + 0.7]\n",
    "    res = [rand_crop(), dihedral_affine(), \n",
    "           symmetric_warp(magnitude=(-max_warp,max_warp), p=p_affine),\n",
    "           rotate(degrees=(-max_rotate,max_rotate), p=p_affine),\n",
    "           rand_zoom(scale=(1., max_zoom), p=p_affine)]\n",
    "    res.extend([brightness(change=(0.5*(1-mp[0]), 0.5*(1+mp[0])), p=mp[1]) for mp in zip(max_lightings, p_lightings)])\n",
    "    res.extend([contrast(scale=(1-mp[0], 1/(1-mp[0])), p=mp[1]) for mp in zip(max_lightings, p_lightings)])\n",
    "    #       train                   , valid\n",
    "    return (res, [crop_pad()])\n",
    "\n",
    "def get_simple_transforms(max_rotate:float=3., max_zoom:float=1.1,\n",
    "                   max_lighting:float=0.2, max_warp:float=0.2, p_affine:float=0.75,\n",
    "                   p_lighting:float=0.75, xtra_tfms:Optional[Collection[Transform]]=None)->Collection[Transform]:\n",
    "    \"Utility func to easily create a list of flip, rotate, `zoom`, warp, lighting transforms.\"\n",
    "    res = [\n",
    "        rand_crop(),\n",
    "        symmetric_warp(magnitude=(-max_warp,max_warp), p=p_affine),\n",
    "        rotate(degrees=(-max_rotate,max_rotate), p=p_affine),\n",
    "        rand_zoom(scale=(1., max_zoom), p=p_affine)\n",
    "          ]\n",
    "    #       train                   , valid\n",
    "    return (res, [crop_pad()])"
   ]
  },
  {
   "cell_type": "markdown",
   "metadata": {},
   "source": [
    "### Prepare data bunch"
   ]
  },
  {
   "cell_type": "code",
   "execution_count": 13,
   "metadata": {
    "ExecuteTime": {
     "end_time": "2019-10-24T16:23:35.473831Z",
     "start_time": "2019-10-24T16:23:35.421075Z"
    }
   },
   "outputs": [],
   "source": [
    "train_images = (path/'train_images').ls()\n",
    "src_size = np.array(open_image(str(train_images[0])).shape[1:])\n",
    "valid_pct = 0.10"
   ]
  },
  {
   "cell_type": "code",
   "execution_count": 14,
   "metadata": {
    "ExecuteTime": {
     "end_time": "2019-10-24T16:23:35.478245Z",
     "start_time": "2019-10-24T16:23:35.475310Z"
    }
   },
   "outputs": [],
   "source": [
    "codes = array(['0', '1', '2', '3', '4'])"
   ]
  },
  {
   "cell_type": "code",
   "execution_count": 15,
   "metadata": {
    "ExecuteTime": {
     "end_time": "2019-10-24T16:23:35.493976Z",
     "start_time": "2019-10-24T16:23:35.480449Z"
    }
   },
   "outputs": [],
   "source": [
    "def create_data_bunch(bs, size):\n",
    "    src = (SegmentationItemList.from_folder(path/'train_images')\n",
    "       .split_by_rand_pct(valid_pct=valid_pct)\n",
    "       .label_from_func(get_y_fn, classes=codes))\n",
    "    data = (src.transform(get_simple_transforms(), size=size, tfm_y=True)\n",
    "        .databunch(bs=bs)\n",
    "        .normalize(imagenet_stats))\n",
    "    return src, data"
   ]
  },
  {
   "cell_type": "code",
   "execution_count": 16,
   "metadata": {
    "ExecuteTime": {
     "end_time": "2019-10-24T16:23:35.787259Z",
     "start_time": "2019-10-24T16:23:35.495772Z"
    }
   },
   "outputs": [],
   "source": [
    "bs = 4\n",
    "size = src_size//2\n",
    "src, data = create_data_bunch(bs, size)"
   ]
  },
  {
   "cell_type": "markdown",
   "metadata": {},
   "source": [
    "### Create learner and training\n",
    "Starting with low resolution training"
   ]
  },
  {
   "cell_type": "markdown",
   "metadata": {},
   "source": [
    "##### Some metrics functions"
   ]
  },
  {
   "cell_type": "code",
   "execution_count": 17,
   "metadata": {
    "ExecuteTime": {
     "end_time": "2019-10-24T16:23:35.820242Z",
     "start_time": "2019-10-24T16:23:35.789341Z"
    }
   },
   "outputs": [],
   "source": [
    "name2id = {v:k for k,v in enumerate(codes)}\n",
    "void_code = name2id['0']\n",
    "\n",
    "def acc_camvid(input, target):\n",
    "    target = target.squeeze(1)\n",
    "    mask = target != void_code\n",
    "    argmax = (input.argmax(dim=1))\n",
    "    comparison = argmax[mask]==target[mask]\n",
    "    return torch.tensor(0.) if comparison.numel() == 0 else comparison.float().mean()\n",
    "\n",
    "def acc_camvid_with_zero_check(input, target):\n",
    "    target = target.squeeze(1)\n",
    "    argmax = (input.argmax(dim=1))\n",
    "    batch_size = input.shape[0]\n",
    "    total = torch.empty([batch_size])\n",
    "    for b in range(batch_size):\n",
    "        if(torch.sum(argmax[b]).item() == 0.0 and torch.sum(target[b]).item() == 0.0):\n",
    "            total[b] = 1\n",
    "        else:\n",
    "            mask = target[b] != void_code\n",
    "            comparison = argmax[b][mask]==target[b][mask]\n",
    "            total[b] = torch.tensor(0.) if comparison.numel() == 0 else comparison.float().mean()\n",
    "    return total.mean()\n",
    "\n",
    "\n",
    "def calc_dice_coefficients(argmax, target, cats):\n",
    "    def calc_dice_coefficient(seg, gt, cat: int):\n",
    "        mask_seg = seg == cat\n",
    "        mask_gt = gt == cat\n",
    "        sum_seg = torch.sum(mask_seg.float())\n",
    "        sum_gt = torch.sum(mask_gt.float())\n",
    "        if sum_seg + sum_gt == 0:\n",
    "            return torch.tensor(1.0)\n",
    "        return (torch.sum((seg[gt == cat] / cat).float()) * 2.0) / (sum_seg + sum_gt)\n",
    "\n",
    "    total_avg = torch.empty([len(cats)])\n",
    "    for i, c in enumerate(cats):\n",
    "        total_avg[i] = calc_dice_coefficient(argmax, target, c)\n",
    "    return total_avg.mean()\n",
    "\n",
    "\n",
    "def dice_coefficient(input, target):\n",
    "    target = target.squeeze(1)\n",
    "    argmax = (input.argmax(dim=1))\n",
    "    batch_size = input.shape[0]\n",
    "    cats = [1, 2, 3, 4]\n",
    "    total = torch.empty([batch_size])\n",
    "    for b in range(batch_size):\n",
    "        total[b] = calc_dice_coefficients(argmax[b], target[b], cats)\n",
    "    return total.mean()\n",
    "\n",
    "def calc_dice_coefficients_2(argmax, target, cats):\n",
    "    def calc_dice_coefficient(seg, gt, cat: int):\n",
    "        mask_seg = seg == cat\n",
    "        mask_gt = gt == cat\n",
    "        sum_seg = torch.sum(mask_seg.float())\n",
    "        sum_gt = torch.sum(mask_gt.float())\n",
    "        return (torch.sum((seg[gt == cat] / cat).float())), (sum_seg + sum_gt)\n",
    "\n",
    "    total_avg = torch.empty([len(cats), 2])\n",
    "    for i, c in enumerate(cats):\n",
    "        total_avg[i][0], total_avg[i][1] = calc_dice_coefficient(argmax, target, c)\n",
    "    total_sum = total_avg.sum(axis=0)\n",
    "    if (total_sum[1] == 0.0):\n",
    "        return torch.tensor(1.0)\n",
    "    return total_sum[0] * 2.0 / total_sum[1]\n",
    "\n",
    "\n",
    "def dice_coefficient_2(input, target):\n",
    "    target = target.squeeze(1)\n",
    "    argmax = (input.argmax(dim=1))\n",
    "    batch_size = input.shape[0]\n",
    "    cats = [1, 2, 3, 4]\n",
    "    total = torch.empty([batch_size])\n",
    "    for b in range(batch_size):\n",
    "        total[b] = calc_dice_coefficients_2(argmax[b], target[b], cats)\n",
    "    return total.mean()\n",
    "\n",
    "\n",
    "def accuracy_simple(input, target):\n",
    "    target = target.squeeze(1)\n",
    "    return (input.argmax(dim=1)==target).float().mean()\n",
    "\n",
    "\n",
    "def dice_coeff(pred, target):\n",
    "    smooth = 1.\n",
    "    num = pred.size(0)\n",
    "    m1 = pred.view(num, -1)  # Flatten\n",
    "    m2 = target.view(num, -1)  # Flatten\n",
    "    intersection = (m1 * m2).sum()\n",
    "    return (2. * intersection + smooth) / (m1.sum() + m2.sum() + smooth)\n",
    "\n",
    "def accuracy_classes(y_pred, y_true, class_num):\n",
    "    y_pred = y_pred.argmax(1).flatten()\n",
    "    y_true = y_true.flatten()\n",
    "    mask = y_true == class_num\n",
    "    comparison = y_pred[mask] == y_true[mask] # Flat array with 'mask is true' elements\n",
    "    return comparison.float().mean() if comparison.numel() > 0 else torch.tensor(0.)\n",
    "\n",
    "def acc_class0(y_pred, y_true):\n",
    "    return accuracy_classes(y_pred, y_true, 0)\n",
    "\n",
    "def acc_class1(y_pred, y_true):\n",
    "    return accuracy_classes(y_pred, y_true, 1)\n",
    "\n",
    "def acc_class2(y_pred, y_true):\n",
    "    return accuracy_classes(y_pred, y_true, 2)\n",
    "\n",
    "def acc_class3(y_pred, y_true):\n",
    "    return accuracy_classes(y_pred, y_true, 3)\n",
    "\n",
    "def acc_class4(y_pred, y_true):\n",
    "    return accuracy_classes(y_pred, y_true, 4)"
   ]
  },
  {
   "cell_type": "markdown",
   "metadata": {},
   "source": [
    "### Customized loss function"
   ]
  },
  {
   "cell_type": "code",
   "execution_count": 18,
   "metadata": {
    "ExecuteTime": {
     "end_time": "2019-10-24T16:23:35.837168Z",
     "start_time": "2019-10-24T16:23:35.822270Z"
    }
   },
   "outputs": [],
   "source": [
    "class DiceLoss(nn.Module):\n",
    "    def __init__(self, eps=1e-7, zero_cat_factor=0.1):\n",
    "        super().__init__()\n",
    "        self.zero_cat_factor = zero_cat_factor\n",
    "        self.eps= eps\n",
    "\n",
    "    def forward(self, input, target):\n",
    "        return self.dice_loss(target, input, self.eps, self.zero_cat_factor)\n",
    "\n",
    "    def dice_loss(self, target, output, eps=1e-7, zero_cat_factor=0.1):\n",
    "        '''\n",
    "        Soft dice loss calculation for arbitrary batch size, number of classes, and number of spatial dimensions.\n",
    "        Assumes the `channels_last` format.\n",
    "\n",
    "        # Arguments\n",
    "            target: b x 1 x X x Y( x Z...) ground truth\n",
    "            output: b x c x X x Y( x Z...) Network output, must sum to 1 over c channel (such as after softmax)\n",
    "            epsilon: Used for numerical stability to avoid divide by zero errors\n",
    "\n",
    "        # References\n",
    "            V-Net: Fully Convolutional Neural Networks for Volumetric Medical Image Segmentation\n",
    "            https://arxiv.org/abs/1606.04797\n",
    "            More details on Dice loss formulation\n",
    "            https://mediatum.ub.tum.de/doc/1395260/1395260.pdf (page 72)\n",
    "\n",
    "            Adapted from https://github.com/Lasagne/Recipes/issues/99#issuecomment-347775022\n",
    "        '''\n",
    "\n",
    "        # skip the batch and class axis for calculating Dice score\n",
    "        num_classes = output.shape[1]\n",
    "        y_true = F.one_hot(target.long().squeeze(), num_classes)\n",
    "        y_pred = F.softmax(output, dim=1).permute(0, 2, 3, 1)\n",
    "        y_true = y_true.type(y_pred.type())\n",
    "        y_true = y_true.permute(0, 3, 1, 2)\n",
    "        y_true[:,0,:] *= zero_cat_factor # Factor used to take power away from the zeroth category\n",
    "        y_true = y_true.permute(0, 2, 3, 1)\n",
    "        axes = tuple(range(1, len(y_pred.shape)-1))\n",
    "        numerator = 2. * torch.sum(y_pred * y_true, axes)\n",
    "        denominator = torch.sum(y_pred ** 2 + y_true ** 2, axes)\n",
    "        # When intersection and cardinality are all zero you have 100% score and not 0% score\n",
    "        # For this we use the eps parameter\n",
    "        loss_array = ((numerator + eps) / (denominator + eps))\n",
    "        loss_array = (loss_array).mean(dim=0)\n",
    "        return 1 - torch.mean(loss_array)\n",
    "\n",
    "    def __del__(self): pass"
   ]
  },
  {
   "cell_type": "code",
   "execution_count": 19,
   "metadata": {
    "ExecuteTime": {
     "end_time": "2019-10-24T16:23:35.853244Z",
     "start_time": "2019-10-24T16:23:35.839306Z"
    }
   },
   "outputs": [],
   "source": [
    "class JaccardLoss(nn.Module):\n",
    "    def __init__(self, eps=1e-7, weight=torch.tensor([0.1, 1., 1., 1., 1.])):\n",
    "        super().__init__()\n",
    "        self.eps = eps\n",
    "        self.weight = weight\n",
    "\n",
    "    def forward(self, input, target):\n",
    "        return self.jaccard_loss(target, input, self.eps, self.weight)\n",
    "\n",
    "    def jaccard_loss(self, true, logits, eps=1e-7, weight=torch.tensor([0.1, 1., 1., 1., 1.])):\n",
    "        \"\"\"Computes the Jaccard loss, a.k.a the IoU loss.\n",
    "        Note that PyTorch optimizers minimize a loss. In this\n",
    "        case, we would like to maximize the jaccard loss so we\n",
    "        return the negated jaccard loss.\n",
    "        Args:\n",
    "            target: a tensor of shape [B, H, W] or [B, 1, H, W].\n",
    "            output: a tensor of shape [B, C, H, W]. Corresponds to\n",
    "                the raw output or logits of the model.\n",
    "            eps: added to the denominator for numerical stability.\n",
    "        Returns:\n",
    "            jacc_loss: the Jaccard loss.\n",
    "            :param weights: used to weight the classes\n",
    "        \"\"\"\n",
    "        num_classes = logits.shape[1]\n",
    "        true_1_hot = F.one_hot(true.long().squeeze(), num_classes).permute(0, 3, 1, 2)\n",
    "        probas = F.softmax(logits, dim=1)\n",
    "        true_1_hot = true_1_hot.type(logits.type())\n",
    "        true_1_hot = (true_1_hot * weight.unsqueeze(0).unsqueeze(-1).unsqueeze(-1))\n",
    "        dims = (0,) + tuple(range(2, true.ndimension()))\n",
    "        intersection = torch.sum(probas * true_1_hot, dims)\n",
    "        cardinality = torch.sum(probas + true_1_hot, dims)\n",
    "        union = cardinality - intersection\n",
    "        jacc_loss = ((intersection + eps) / (union + eps)).mean()\n",
    "        return (1 - jacc_loss)"
   ]
  },
  {
   "cell_type": "code",
   "execution_count": 20,
   "metadata": {
    "ExecuteTime": {
     "end_time": "2019-10-24T16:23:35.861332Z",
     "start_time": "2019-10-24T16:23:35.855069Z"
    }
   },
   "outputs": [],
   "source": [
    "class CombinedJaccardDiceLoss(nn.Module):\n",
    "    def __init__(self, eps=1e-7, jaccard_weight=torch.tensor([0.1, 1., 1., 1., 1.]), zero_cat_factor=0.1):\n",
    "        super().__init__()\n",
    "        self.jaccard = JaccardLoss(eps, jaccard_weight)\n",
    "        self.dice_loss = DiceLoss(eps, zero_cat_factor)\n",
    "\n",
    "    def forward(self, input, target):\n",
    "        return (self.jaccard(input, target) +  self.dice_loss(input, target) + F.cross_entropy(input, target.squeeze())) / 3."
   ]
  },
  {
   "cell_type": "markdown",
   "metadata": {},
   "source": [
    "##### The main training function"
   ]
  },
  {
   "cell_type": "code",
   "execution_count": 21,
   "metadata": {
    "ExecuteTime": {
     "end_time": "2019-10-24T16:23:35.870098Z",
     "start_time": "2019-10-24T16:23:35.863550Z"
    }
   },
   "outputs": [],
   "source": [
    "from fastai import callbacks\n",
    "\n",
    "def train_learner(learn, slice_lr, epochs=10, pct_start=0.8, best_model_name='best_model', \n",
    "                  patience_early_stop=4, patience_reduce_lr = 3):\n",
    "    learn.fit_one_cycle(epochs, slice_lr, pct_start=pct_start, \n",
    "                    callbacks=[callbacks.SaveModelCallback(learn, monitor='dice_coefficient',mode='max', name=best_model_name),\n",
    "                              callbacks.EarlyStoppingCallback(learn=learn, monitor='dice_coefficient', patience=patience_early_stop),\n",
    "                              callbacks.ReduceLROnPlateauCallback(learn=learn, monitor='dice_coefficient', patience=patience_reduce_lr),\n",
    "                              callbacks.TerminateOnNaNCallback()])"
   ]
  },
  {
   "cell_type": "markdown",
   "metadata": {},
   "source": [
    "### First Training"
   ]
  },
  {
   "cell_type": "code",
   "execution_count": 22,
   "metadata": {
    "ExecuteTime": {
     "end_time": "2019-10-24T16:23:35.876801Z",
     "start_time": "2019-10-24T16:23:35.871931Z"
    }
   },
   "outputs": [],
   "source": [
    "metrics=accuracy_simple, acc_class0, acc_class1, acc_class2, acc_class3, acc_class4, acc_camvid_with_zero_check, dice_coefficient, dice_coefficient_2\n",
    "wd=1e-2"
   ]
  },
  {
   "cell_type": "code",
   "execution_count": 23,
   "metadata": {
    "ExecuteTime": {
     "end_time": "2019-10-24T09:39:09.224873Z",
     "start_time": "2019-10-24T09:39:04.116068Z"
    }
   },
   "outputs": [
    {
     "data": {
      "text/plain": [
       "CombinedJaccardDiceLoss(\n",
       "  (jaccard): JaccardLoss()\n",
       "  (dice_loss): DiceLoss()\n",
       ")"
      ]
     },
     "execution_count": 23,
     "metadata": {},
     "output_type": "execute_result"
    }
   ],
   "source": [
    "learn = unet_learner(data, models.resnet34, metrics=metrics, wd=wd, bottle=True)\n",
    "learn.loss_func = CombinedJaccardDiceLoss(eps=0.6, jaccard_weight=torch.tensor([0.1, 1.5, 1.5, 1., 1.]).cuda(), zero_cat_factor=0.1)\n",
    "learn.loss_func"
   ]
  },
  {
   "cell_type": "code",
   "execution_count": 24,
   "metadata": {
    "ExecuteTime": {
     "end_time": "2019-10-24T09:39:09.230483Z",
     "start_time": "2019-10-24T09:39:09.227245Z"
    }
   },
   "outputs": [],
   "source": [
    "learn.model_dir = Path('/kaggle/model')"
   ]
  },
  {
   "cell_type": "code",
   "execution_count": 25,
   "metadata": {
    "ExecuteTime": {
     "end_time": "2019-10-24T09:39:09.259094Z",
     "start_time": "2019-10-24T09:39:09.231848Z"
    }
   },
   "outputs": [],
   "source": [
    "learn = to_fp16(learn, loss_scale=4.0)"
   ]
  },
  {
   "cell_type": "code",
   "execution_count": 26,
   "metadata": {
    "ExecuteTime": {
     "end_time": "2019-10-24T09:39:47.942327Z",
     "start_time": "2019-10-24T09:39:09.260634Z"
    },
    "scrolled": false
   },
   "outputs": [
    {
     "data": {
      "text/html": [],
      "text/plain": [
       "<IPython.core.display.HTML object>"
      ]
     },
     "metadata": {},
     "output_type": "display_data"
    },
    {
     "name": "stdout",
     "output_type": "stream",
     "text": [
      "LR Finder is complete, type {learner_name}.recorder.plot() to see the graph.\n"
     ]
    },
    {
     "data": {
      "image/png": "[encoded data removed]",
      "text/plain": [
       "<Figure size 432x288 with 1 Axes>"
      ]
     },
     "metadata": {
      "needs_background": "light"
     },
     "output_type": "display_data"
    }
   ],
   "source": [
    "lr_find(learn, num_it=400)\n",
    "learn.recorder.plot()"
   ]
  },
  {
   "cell_type": "code",
   "execution_count": 27,
   "metadata": {
    "ExecuteTime": {
     "end_time": "2019-10-24T09:39:47.946640Z",
     "start_time": "2019-10-24T09:39:47.943987Z"
    }
   },
   "outputs": [],
   "source": [
    "lr=1e-04"
   ]
  },
  {
   "cell_type": "code",
   "execution_count": 28,
   "metadata": {
    "ExecuteTime": {
     "end_time": "2019-10-24T10:43:43.103467Z",
     "start_time": "2019-10-24T09:39:47.948083Z"
    },
    "scrolled": true
   },
   "outputs": [
    {
     "data": {
      "text/html": [
       "<table border=\"1\" class=\"dataframe\">\n",
       "  <thead>\n",
       "    <tr style=\"text-align: left;\">\n",
       "      <th>epoch</th>\n",
       "      <th>train_loss</th>\n",
       "      <th>valid_loss</th>\n",
       "      <th>accuracy_simple</th>\n",
       "      <th>acc_class0</th>\n",
       "      <th>acc_class1</th>\n",
       "      <th>acc_class2</th>\n",
       "      <th>acc_class3</th>\n",
       "      <th>acc_class4</th>\n",
       "      <th>acc_camvid_with_zero_check</th>\n",
       "      <th>dice_coefficient</th>\n",
       "      <th>dice_coefficient_2</th>\n",
       "      <th>time</th>\n",
       "    </tr>\n",
       "  </thead>\n",
       "  <tbody>\n",
       "    <tr>\n",
       "      <td>0</td>\n",
       "      <td>0.377770</td>\n",
       "      <td>0.354821</td>\n",
       "      <td>0.966695</td>\n",
       "      <td>0.985730</td>\n",
       "      <td>0.000000</td>\n",
       "      <td>0.000000</td>\n",
       "      <td>0.352196</td>\n",
       "      <td>0.000000</td>\n",
       "      <td>0.327381</td>\n",
       "      <td>0.805417</td>\n",
       "      <td>0.319970</td>\n",
       "      <td>06:20</td>\n",
       "    </tr>\n",
       "    <tr>\n",
       "      <td>1</td>\n",
       "      <td>0.309888</td>\n",
       "      <td>0.297041</td>\n",
       "      <td>0.975569</td>\n",
       "      <td>0.996291</td>\n",
       "      <td>0.000000</td>\n",
       "      <td>0.000000</td>\n",
       "      <td>0.340698</td>\n",
       "      <td>0.000000</td>\n",
       "      <td>0.562277</td>\n",
       "      <td>0.877680</td>\n",
       "      <td>0.583778</td>\n",
       "      <td>06:21</td>\n",
       "    </tr>\n",
       "    <tr>\n",
       "      <td>2</td>\n",
       "      <td>0.288191</td>\n",
       "      <td>0.286921</td>\n",
       "      <td>0.975722</td>\n",
       "      <td>0.992480</td>\n",
       "      <td>0.000000</td>\n",
       "      <td>0.000000</td>\n",
       "      <td>0.500316</td>\n",
       "      <td>0.000000</td>\n",
       "      <td>0.633957</td>\n",
       "      <td>0.890519</td>\n",
       "      <td>0.637435</td>\n",
       "      <td>06:21</td>\n",
       "    </tr>\n",
       "    <tr>\n",
       "      <td>3</td>\n",
       "      <td>0.302637</td>\n",
       "      <td>0.269266</td>\n",
       "      <td>0.975936</td>\n",
       "      <td>0.991349</td>\n",
       "      <td>0.000000</td>\n",
       "      <td>0.000000</td>\n",
       "      <td>0.566147</td>\n",
       "      <td>0.004235</td>\n",
       "      <td>0.668655</td>\n",
       "      <td>0.897357</td>\n",
       "      <td>0.655245</td>\n",
       "      <td>06:21</td>\n",
       "    </tr>\n",
       "    <tr>\n",
       "      <td>4</td>\n",
       "      <td>0.284329</td>\n",
       "      <td>0.276947</td>\n",
       "      <td>0.978551</td>\n",
       "      <td>0.996340</td>\n",
       "      <td>0.000000</td>\n",
       "      <td>0.000000</td>\n",
       "      <td>0.434174</td>\n",
       "      <td>0.047645</td>\n",
       "      <td>0.654092</td>\n",
       "      <td>0.905516</td>\n",
       "      <td>0.673149</td>\n",
       "      <td>06:22</td>\n",
       "    </tr>\n",
       "    <tr>\n",
       "      <td>5</td>\n",
       "      <td>0.275794</td>\n",
       "      <td>0.263185</td>\n",
       "      <td>0.976026</td>\n",
       "      <td>0.985114</td>\n",
       "      <td>0.000000</td>\n",
       "      <td>0.000000</td>\n",
       "      <td>0.613620</td>\n",
       "      <td>0.151078</td>\n",
       "      <td>0.691838</td>\n",
       "      <td>0.897508</td>\n",
       "      <td>0.678062</td>\n",
       "      <td>06:25</td>\n",
       "    </tr>\n",
       "    <tr>\n",
       "      <td>6</td>\n",
       "      <td>0.269531</td>\n",
       "      <td>0.259158</td>\n",
       "      <td>0.976933</td>\n",
       "      <td>0.987478</td>\n",
       "      <td>0.000000</td>\n",
       "      <td>0.000000</td>\n",
       "      <td>0.531478</td>\n",
       "      <td>0.149142</td>\n",
       "      <td>0.682851</td>\n",
       "      <td>0.902007</td>\n",
       "      <td>0.670049</td>\n",
       "      <td>06:23</td>\n",
       "    </tr>\n",
       "    <tr>\n",
       "      <td>7</td>\n",
       "      <td>0.272090</td>\n",
       "      <td>0.256658</td>\n",
       "      <td>0.978451</td>\n",
       "      <td>0.990675</td>\n",
       "      <td>0.000000</td>\n",
       "      <td>0.000000</td>\n",
       "      <td>0.537452</td>\n",
       "      <td>0.099505</td>\n",
       "      <td>0.710716</td>\n",
       "      <td>0.908890</td>\n",
       "      <td>0.697879</td>\n",
       "      <td>06:25</td>\n",
       "    </tr>\n",
       "    <tr>\n",
       "      <td>8</td>\n",
       "      <td>0.265899</td>\n",
       "      <td>0.246457</td>\n",
       "      <td>0.979296</td>\n",
       "      <td>0.991449</td>\n",
       "      <td>0.000000</td>\n",
       "      <td>0.000000</td>\n",
       "      <td>0.520876</td>\n",
       "      <td>0.164074</td>\n",
       "      <td>0.711087</td>\n",
       "      <td>0.917527</td>\n",
       "      <td>0.720949</td>\n",
       "      <td>06:27</td>\n",
       "    </tr>\n",
       "    <tr>\n",
       "      <td>9</td>\n",
       "      <td>0.241898</td>\n",
       "      <td>0.238122</td>\n",
       "      <td>0.980768</td>\n",
       "      <td>0.990854</td>\n",
       "      <td>0.000000</td>\n",
       "      <td>0.000000</td>\n",
       "      <td>0.597392</td>\n",
       "      <td>0.151861</td>\n",
       "      <td>0.737694</td>\n",
       "      <td>0.920481</td>\n",
       "      <td>0.735303</td>\n",
       "      <td>06:21</td>\n",
       "    </tr>\n",
       "  </tbody>\n",
       "</table>"
      ],
      "text/plain": [
       "<IPython.core.display.HTML object>"
      ]
     },
     "metadata": {},
     "output_type": "display_data"
    },
    {
     "name": "stdout",
     "output_type": "stream",
     "text": [
      "Better model found at epoch 0 with dice_coefficient value: 0.8054165840148926.\n",
      "Better model found at epoch 1 with dice_coefficient value: 0.8776798844337463.\n",
      "Better model found at epoch 2 with dice_coefficient value: 0.8905186653137207.\n",
      "Better model found at epoch 3 with dice_coefficient value: 0.8973574042320251.\n",
      "Better model found at epoch 4 with dice_coefficient value: 0.9055159091949463.\n",
      "Better model found at epoch 7 with dice_coefficient value: 0.908889889717102.\n",
      "Better model found at epoch 8 with dice_coefficient value: 0.9175273180007935.\n",
      "Better model found at epoch 9 with dice_coefficient value: 0.9204809069633484.\n"
     ]
    }
   ],
   "source": [
    "train_learner(learn, slice(lr), epochs=10, pct_start=0.8, best_model_name='bestmodel-frozen-1', \n",
    "              patience_early_stop=4, patience_reduce_lr = 3)"
   ]
  },
  {
   "cell_type": "code",
   "execution_count": 29,
   "metadata": {
    "ExecuteTime": {
     "end_time": "2019-10-24T10:44:46.892753Z",
     "start_time": "2019-10-24T10:44:46.535928Z"
    }
   },
   "outputs": [],
   "source": [
    "learn.save('stage-1')"
   ]
  },
  {
   "cell_type": "code",
   "execution_count": 30,
   "metadata": {
    "ExecuteTime": {
     "end_time": "2019-10-24T10:44:52.117914Z",
     "start_time": "2019-10-24T10:44:51.829398Z"
    }
   },
   "outputs": [],
   "source": [
    "learn.load('stage-1');"
   ]
  },
  {
   "cell_type": "code",
   "execution_count": null,
   "metadata": {
    "ExecuteTime": {
     "end_time": "2019-10-24T08:31:36.963884Z",
     "start_time": "2019-10-24T08:31:36.751105Z"
    }
   },
   "outputs": [],
   "source": [
    "learn.load('bestmodel-frozen-1');"
   ]
  },
  {
   "cell_type": "code",
   "execution_count": 31,
   "metadata": {
    "ExecuteTime": {
     "end_time": "2019-10-24T10:44:54.475881Z",
     "start_time": "2019-10-24T10:44:54.234960Z"
    }
   },
   "outputs": [
    {
     "name": "stderr",
     "output_type": "stream",
     "text": [
      "/opt/conda/envs/deeplearning/lib/python3.7/site-packages/torch/serialization.py:256: UserWarning: Couldn't retrieve source code for container of type CombinedJaccardDiceLoss. It won't be checked for correctness upon loading.\n",
      "  \"type \" + obj.__name__ + \". It won't be checked \"\n",
      "/opt/conda/envs/deeplearning/lib/python3.7/site-packages/torch/serialization.py:256: UserWarning: Couldn't retrieve source code for container of type JaccardLoss. It won't be checked for correctness upon loading.\n",
      "  \"type \" + obj.__name__ + \". It won't be checked \"\n",
      "/opt/conda/envs/deeplearning/lib/python3.7/site-packages/torch/serialization.py:256: UserWarning: Couldn't retrieve source code for container of type DiceLoss. It won't be checked for correctness upon loading.\n",
      "  \"type \" + obj.__name__ + \". It won't be checked \"\n"
     ]
    }
   ],
   "source": [
    "learn.export(file='/kaggle/model/export-1.pkl')"
   ]
  },
  {
   "cell_type": "code",
   "execution_count": 32,
   "metadata": {
    "ExecuteTime": {
     "end_time": "2019-10-24T10:44:56.340179Z",
     "start_time": "2019-10-24T10:44:56.334189Z"
    }
   },
   "outputs": [],
   "source": [
    "learn.unfreeze()"
   ]
  },
  {
   "cell_type": "code",
   "execution_count": 33,
   "metadata": {
    "ExecuteTime": {
     "end_time": "2019-10-24T10:44:57.870299Z",
     "start_time": "2019-10-24T10:44:57.867021Z"
    }
   },
   "outputs": [],
   "source": [
    "lrs = slice(lr/100,lr)"
   ]
  },
  {
   "cell_type": "code",
   "execution_count": 34,
   "metadata": {
    "ExecuteTime": {
     "end_time": "2019-10-24T12:10:41.506970Z",
     "start_time": "2019-10-24T10:44:59.144402Z"
    },
    "scrolled": true
   },
   "outputs": [
    {
     "data": {
      "text/html": [
       "<table border=\"1\" class=\"dataframe\">\n",
       "  <thead>\n",
       "    <tr style=\"text-align: left;\">\n",
       "      <th>epoch</th>\n",
       "      <th>train_loss</th>\n",
       "      <th>valid_loss</th>\n",
       "      <th>accuracy_simple</th>\n",
       "      <th>acc_class0</th>\n",
       "      <th>acc_class1</th>\n",
       "      <th>acc_class2</th>\n",
       "      <th>acc_class3</th>\n",
       "      <th>acc_class4</th>\n",
       "      <th>acc_camvid_with_zero_check</th>\n",
       "      <th>dice_coefficient</th>\n",
       "      <th>dice_coefficient_2</th>\n",
       "      <th>time</th>\n",
       "    </tr>\n",
       "  </thead>\n",
       "  <tbody>\n",
       "    <tr>\n",
       "      <td>0</td>\n",
       "      <td>0.262303</td>\n",
       "      <td>0.237069</td>\n",
       "      <td>0.980793</td>\n",
       "      <td>0.990937</td>\n",
       "      <td>0.000000</td>\n",
       "      <td>0.000000</td>\n",
       "      <td>0.601577</td>\n",
       "      <td>0.145334</td>\n",
       "      <td>0.744246</td>\n",
       "      <td>0.920591</td>\n",
       "      <td>0.735148</td>\n",
       "      <td>07:05</td>\n",
       "    </tr>\n",
       "    <tr>\n",
       "      <td>1</td>\n",
       "      <td>0.255106</td>\n",
       "      <td>0.236180</td>\n",
       "      <td>0.981315</td>\n",
       "      <td>0.992616</td>\n",
       "      <td>0.000000</td>\n",
       "      <td>0.000000</td>\n",
       "      <td>0.572109</td>\n",
       "      <td>0.141678</td>\n",
       "      <td>0.732649</td>\n",
       "      <td>0.920737</td>\n",
       "      <td>0.737629</td>\n",
       "      <td>07:08</td>\n",
       "    </tr>\n",
       "    <tr>\n",
       "      <td>2</td>\n",
       "      <td>0.260088</td>\n",
       "      <td>0.236306</td>\n",
       "      <td>0.980329</td>\n",
       "      <td>0.989582</td>\n",
       "      <td>0.000000</td>\n",
       "      <td>0.000000</td>\n",
       "      <td>0.622114</td>\n",
       "      <td>0.146697</td>\n",
       "      <td>0.753568</td>\n",
       "      <td>0.920523</td>\n",
       "      <td>0.736768</td>\n",
       "      <td>07:07</td>\n",
       "    </tr>\n",
       "    <tr>\n",
       "      <td>3</td>\n",
       "      <td>0.236626</td>\n",
       "      <td>0.236232</td>\n",
       "      <td>0.979733</td>\n",
       "      <td>0.988277</td>\n",
       "      <td>0.000000</td>\n",
       "      <td>0.000000</td>\n",
       "      <td>0.647640</td>\n",
       "      <td>0.154195</td>\n",
       "      <td>0.762062</td>\n",
       "      <td>0.921379</td>\n",
       "      <td>0.735725</td>\n",
       "      <td>07:08</td>\n",
       "    </tr>\n",
       "    <tr>\n",
       "      <td>4</td>\n",
       "      <td>0.275899</td>\n",
       "      <td>0.239922</td>\n",
       "      <td>0.980521</td>\n",
       "      <td>0.989858</td>\n",
       "      <td>0.000000</td>\n",
       "      <td>0.000000</td>\n",
       "      <td>0.596286</td>\n",
       "      <td>0.167955</td>\n",
       "      <td>0.731709</td>\n",
       "      <td>0.919878</td>\n",
       "      <td>0.729711</td>\n",
       "      <td>07:08</td>\n",
       "    </tr>\n",
       "    <tr>\n",
       "      <td>5</td>\n",
       "      <td>0.249429</td>\n",
       "      <td>0.235030</td>\n",
       "      <td>0.981606</td>\n",
       "      <td>0.992138</td>\n",
       "      <td>0.000025</td>\n",
       "      <td>0.000000</td>\n",
       "      <td>0.590580</td>\n",
       "      <td>0.157798</td>\n",
       "      <td>0.732939</td>\n",
       "      <td>0.921490</td>\n",
       "      <td>0.738414</td>\n",
       "      <td>07:06</td>\n",
       "    </tr>\n",
       "    <tr>\n",
       "      <td>6</td>\n",
       "      <td>0.246593</td>\n",
       "      <td>0.238276</td>\n",
       "      <td>0.979705</td>\n",
       "      <td>0.988746</td>\n",
       "      <td>0.000000</td>\n",
       "      <td>0.000000</td>\n",
       "      <td>0.647810</td>\n",
       "      <td>0.146489</td>\n",
       "      <td>0.755776</td>\n",
       "      <td>0.922631</td>\n",
       "      <td>0.732929</td>\n",
       "      <td>07:04</td>\n",
       "    </tr>\n",
       "    <tr>\n",
       "      <td>7</td>\n",
       "      <td>0.245895</td>\n",
       "      <td>0.237961</td>\n",
       "      <td>0.979443</td>\n",
       "      <td>0.988352</td>\n",
       "      <td>0.000000</td>\n",
       "      <td>0.000000</td>\n",
       "      <td>0.639547</td>\n",
       "      <td>0.154550</td>\n",
       "      <td>0.743395</td>\n",
       "      <td>0.921971</td>\n",
       "      <td>0.733635</td>\n",
       "      <td>07:08</td>\n",
       "    </tr>\n",
       "    <tr>\n",
       "      <td>8</td>\n",
       "      <td>0.250416</td>\n",
       "      <td>0.236864</td>\n",
       "      <td>0.980836</td>\n",
       "      <td>0.990022</td>\n",
       "      <td>0.000000</td>\n",
       "      <td>0.000000</td>\n",
       "      <td>0.654250</td>\n",
       "      <td>0.146915</td>\n",
       "      <td>0.771420</td>\n",
       "      <td>0.933376</td>\n",
       "      <td>0.762333</td>\n",
       "      <td>07:09</td>\n",
       "    </tr>\n",
       "    <tr>\n",
       "      <td>9</td>\n",
       "      <td>0.245283</td>\n",
       "      <td>0.241382</td>\n",
       "      <td>0.981393</td>\n",
       "      <td>0.993273</td>\n",
       "      <td>0.000043</td>\n",
       "      <td>0.000000</td>\n",
       "      <td>0.564238</td>\n",
       "      <td>0.109063</td>\n",
       "      <td>0.707924</td>\n",
       "      <td>0.913189</td>\n",
       "      <td>0.716654</td>\n",
       "      <td>07:10</td>\n",
       "    </tr>\n",
       "    <tr>\n",
       "      <td>10</td>\n",
       "      <td>0.239516</td>\n",
       "      <td>0.226408</td>\n",
       "      <td>0.982594</td>\n",
       "      <td>0.991906</td>\n",
       "      <td>0.013333</td>\n",
       "      <td>0.000000</td>\n",
       "      <td>0.587386</td>\n",
       "      <td>0.185875</td>\n",
       "      <td>0.760262</td>\n",
       "      <td>0.927675</td>\n",
       "      <td>0.759120</td>\n",
       "      <td>07:08</td>\n",
       "    </tr>\n",
       "    <tr>\n",
       "      <td>11</td>\n",
       "      <td>0.217136</td>\n",
       "      <td>0.222969</td>\n",
       "      <td>0.982777</td>\n",
       "      <td>0.991463</td>\n",
       "      <td>0.038529</td>\n",
       "      <td>0.000000</td>\n",
       "      <td>0.624715</td>\n",
       "      <td>0.164546</td>\n",
       "      <td>0.776348</td>\n",
       "      <td>0.926212</td>\n",
       "      <td>0.762480</td>\n",
       "      <td>07:11</td>\n",
       "    </tr>\n",
       "  </tbody>\n",
       "</table>"
      ],
      "text/plain": [
       "<IPython.core.display.HTML object>"
      ]
     },
     "metadata": {},
     "output_type": "display_data"
    },
    {
     "name": "stdout",
     "output_type": "stream",
     "text": [
      "Better model found at epoch 0 with dice_coefficient value: 0.9205908179283142.\n",
      "Better model found at epoch 1 with dice_coefficient value: 0.9207373857498169.\n",
      "Better model found at epoch 3 with dice_coefficient value: 0.9213793277740479.\n",
      "Better model found at epoch 5 with dice_coefficient value: 0.921489953994751.\n",
      "Better model found at epoch 6 with dice_coefficient value: 0.9226305484771729.\n",
      "Better model found at epoch 8 with dice_coefficient value: 0.9333760738372803.\n"
     ]
    }
   ],
   "source": [
    "train_learner(learn, lrs, epochs=12, pct_start=0.8, best_model_name='bestmodel-unfrozen-1', \n",
    "              patience_early_stop=7, patience_reduce_lr = 6)"
   ]
  },
  {
   "cell_type": "code",
   "execution_count": 35,
   "metadata": {
    "ExecuteTime": {
     "end_time": "2019-10-24T12:10:58.278947Z",
     "start_time": "2019-10-24T12:10:57.698394Z"
    }
   },
   "outputs": [],
   "source": [
    "learn.save('stage-2');"
   ]
  },
  {
   "cell_type": "code",
   "execution_count": 36,
   "metadata": {
    "ExecuteTime": {
     "end_time": "2019-10-24T12:11:05.630369Z",
     "start_time": "2019-10-24T12:11:05.341254Z"
    }
   },
   "outputs": [],
   "source": [
    "learn.load('stage-2');"
   ]
  },
  {
   "cell_type": "code",
   "execution_count": null,
   "metadata": {},
   "outputs": [],
   "source": [
    "learn.export(file='/kaggle/model/export-2.pkl')"
   ]
  },
  {
   "cell_type": "markdown",
   "metadata": {},
   "source": [
    "### Go Large"
   ]
  },
  {
   "cell_type": "code",
   "execution_count": 37,
   "metadata": {
    "ExecuteTime": {
     "end_time": "2019-10-24T12:11:12.262081Z",
     "start_time": "2019-10-24T12:11:12.150348Z"
    }
   },
   "outputs": [
    {
     "data": {
      "text/plain": [
       "42"
      ]
     },
     "execution_count": 37,
     "metadata": {},
     "output_type": "execute_result"
    }
   ],
   "source": [
    "learn=None\n",
    "gc.collect()"
   ]
  },
  {
   "cell_type": "code",
   "execution_count": 23,
   "metadata": {
    "ExecuteTime": {
     "end_time": "2019-10-24T16:23:44.314166Z",
     "start_time": "2019-10-24T16:23:44.311542Z"
    }
   },
   "outputs": [],
   "source": [
    "bs=6"
   ]
  },
  {
   "cell_type": "code",
   "execution_count": 24,
   "metadata": {
    "ExecuteTime": {
     "end_time": "2019-10-24T16:23:46.297920Z",
     "start_time": "2019-10-24T16:23:46.292059Z"
    }
   },
   "outputs": [],
   "source": [
    "def create_large_learner(bs=4, size=size, transform_func=get_simple_transforms, model_to_load='bestmodel-unfrozen-1'):\n",
    "    data = (src.transform(transform_func(), size=size, tfm_y=True)\n",
    "        .databunch(bs=bs)\n",
    "        .normalize(imagenet_stats))\n",
    "    learn = unet_learner(data, models.resnet34, metrics=metrics, wd=wd, bottle=True)\n",
    "    learn.model_dir = Path('/kaggle/model')\n",
    "    learn.loss_func = CombinedJaccardDiceLoss(eps=0.6, jaccard_weight=torch.tensor([0.1, 2.0, 4.0, 1., 1.]).cuda(), zero_cat_factor=0.1)\n",
    "    learn = to_fp16(learn, loss_scale=8.0)\n",
    "    if model_to_load is not None:\n",
    "        learn.load(model_to_load)\n",
    "    return learn"
   ]
  },
  {
   "cell_type": "code",
   "execution_count": 25,
   "metadata": {
    "ExecuteTime": {
     "end_time": "2019-10-24T16:24:17.428273Z",
     "start_time": "2019-10-24T16:24:10.594827Z"
    }
   },
   "outputs": [],
   "source": [
    "learn = create_large_learner(bs=bs, size=src_size, transform_func=get_simple_transforms, model_to_load='stage-2')"
   ]
  },
  {
   "cell_type": "code",
   "execution_count": 28,
   "metadata": {
    "ExecuteTime": {
     "end_time": "2019-10-24T13:10:26.402399Z",
     "start_time": "2019-10-24T13:09:02.349846Z"
    }
   },
   "outputs": [
    {
     "data": {
      "text/html": [],
      "text/plain": [
       "<IPython.core.display.HTML object>"
      ]
     },
     "metadata": {},
     "output_type": "display_data"
    },
    {
     "name": "stdout",
     "output_type": "stream",
     "text": [
      "LR Finder is complete, type {learner_name}.recorder.plot() to see the graph.\n"
     ]
    },
    {
     "data": {
      "image/png": "[encoded data removed]",
      "text/plain": [
       "<Figure size 432x288 with 1 Axes>"
      ]
     },
     "metadata": {
      "needs_background": "light"
     },
     "output_type": "display_data"
    }
   ],
   "source": [
    "lr_find(learn, num_it=400)\n",
    "learn.recorder.plot()"
   ]
  },
  {
   "cell_type": "code",
   "execution_count": 26,
   "metadata": {
    "ExecuteTime": {
     "end_time": "2019-10-24T16:24:29.876571Z",
     "start_time": "2019-10-24T16:24:29.873848Z"
    }
   },
   "outputs": [],
   "source": [
    "lr=1e-04"
   ]
  },
  {
   "cell_type": "code",
   "execution_count": 30,
   "metadata": {
    "ExecuteTime": {
     "end_time": "2019-10-24T15:08:00.018343Z",
     "start_time": "2019-10-24T13:10:37.799341Z"
    },
    "scrolled": true
   },
   "outputs": [
    {
     "data": {
      "text/html": [
       "<table border=\"1\" class=\"dataframe\">\n",
       "  <thead>\n",
       "    <tr style=\"text-align: left;\">\n",
       "      <th>epoch</th>\n",
       "      <th>train_loss</th>\n",
       "      <th>valid_loss</th>\n",
       "      <th>accuracy_simple</th>\n",
       "      <th>acc_class0</th>\n",
       "      <th>acc_class1</th>\n",
       "      <th>acc_class2</th>\n",
       "      <th>acc_class3</th>\n",
       "      <th>acc_class4</th>\n",
       "      <th>acc_camvid_with_zero_check</th>\n",
       "      <th>dice_coefficient</th>\n",
       "      <th>dice_coefficient_2</th>\n",
       "      <th>time</th>\n",
       "    </tr>\n",
       "  </thead>\n",
       "  <tbody>\n",
       "    <tr>\n",
       "      <td>0</td>\n",
       "      <td>0.261243</td>\n",
       "      <td>0.262743</td>\n",
       "      <td>0.978699</td>\n",
       "      <td>0.988124</td>\n",
       "      <td>0.000000</td>\n",
       "      <td>0.000000</td>\n",
       "      <td>0.690335</td>\n",
       "      <td>0.221603</td>\n",
       "      <td>0.729440</td>\n",
       "      <td>0.936417</td>\n",
       "      <td>0.771454</td>\n",
       "      <td>09:47</td>\n",
       "    </tr>\n",
       "    <tr>\n",
       "      <td>1</td>\n",
       "      <td>0.274776</td>\n",
       "      <td>0.255533</td>\n",
       "      <td>0.980322</td>\n",
       "      <td>0.990195</td>\n",
       "      <td>0.000000</td>\n",
       "      <td>0.000000</td>\n",
       "      <td>0.675205</td>\n",
       "      <td>0.248651</td>\n",
       "      <td>0.736093</td>\n",
       "      <td>0.936054</td>\n",
       "      <td>0.775481</td>\n",
       "      <td>09:43</td>\n",
       "    </tr>\n",
       "    <tr>\n",
       "      <td>2</td>\n",
       "      <td>0.264122</td>\n",
       "      <td>0.249496</td>\n",
       "      <td>0.980880</td>\n",
       "      <td>0.991215</td>\n",
       "      <td>0.025193</td>\n",
       "      <td>0.000000</td>\n",
       "      <td>0.659256</td>\n",
       "      <td>0.235448</td>\n",
       "      <td>0.744155</td>\n",
       "      <td>0.933196</td>\n",
       "      <td>0.769369</td>\n",
       "      <td>09:45</td>\n",
       "    </tr>\n",
       "    <tr>\n",
       "      <td>3</td>\n",
       "      <td>0.290852</td>\n",
       "      <td>0.249097</td>\n",
       "      <td>0.980363</td>\n",
       "      <td>0.989348</td>\n",
       "      <td>0.028916</td>\n",
       "      <td>0.000000</td>\n",
       "      <td>0.717510</td>\n",
       "      <td>0.251027</td>\n",
       "      <td>0.741685</td>\n",
       "      <td>0.930808</td>\n",
       "      <td>0.758438</td>\n",
       "      <td>09:45</td>\n",
       "    </tr>\n",
       "    <tr>\n",
       "      <td>4</td>\n",
       "      <td>0.275980</td>\n",
       "      <td>0.250481</td>\n",
       "      <td>0.980762</td>\n",
       "      <td>0.990591</td>\n",
       "      <td>0.000242</td>\n",
       "      <td>0.000000</td>\n",
       "      <td>0.675253</td>\n",
       "      <td>0.227184</td>\n",
       "      <td>0.743809</td>\n",
       "      <td>0.929896</td>\n",
       "      <td>0.755156</td>\n",
       "      <td>09:46</td>\n",
       "    </tr>\n",
       "    <tr>\n",
       "      <td>5</td>\n",
       "      <td>0.279783</td>\n",
       "      <td>0.252617</td>\n",
       "      <td>0.979313</td>\n",
       "      <td>0.987612</td>\n",
       "      <td>0.000705</td>\n",
       "      <td>0.000000</td>\n",
       "      <td>0.732974</td>\n",
       "      <td>0.244582</td>\n",
       "      <td>0.746921</td>\n",
       "      <td>0.927881</td>\n",
       "      <td>0.748104</td>\n",
       "      <td>09:47</td>\n",
       "    </tr>\n",
       "    <tr>\n",
       "      <td>6</td>\n",
       "      <td>0.258916</td>\n",
       "      <td>0.240137</td>\n",
       "      <td>0.980644</td>\n",
       "      <td>0.988902</td>\n",
       "      <td>0.053583</td>\n",
       "      <td>0.000000</td>\n",
       "      <td>0.728429</td>\n",
       "      <td>0.250305</td>\n",
       "      <td>0.781790</td>\n",
       "      <td>0.939068</td>\n",
       "      <td>0.789607</td>\n",
       "      <td>09:47</td>\n",
       "    </tr>\n",
       "    <tr>\n",
       "      <td>7</td>\n",
       "      <td>0.259956</td>\n",
       "      <td>0.248975</td>\n",
       "      <td>0.979952</td>\n",
       "      <td>0.988323</td>\n",
       "      <td>0.000000</td>\n",
       "      <td>0.000000</td>\n",
       "      <td>0.699822</td>\n",
       "      <td>0.284319</td>\n",
       "      <td>0.757424</td>\n",
       "      <td>0.928643</td>\n",
       "      <td>0.760372</td>\n",
       "      <td>09:46</td>\n",
       "    </tr>\n",
       "    <tr>\n",
       "      <td>8</td>\n",
       "      <td>0.262105</td>\n",
       "      <td>0.240810</td>\n",
       "      <td>0.981297</td>\n",
       "      <td>0.990933</td>\n",
       "      <td>0.075014</td>\n",
       "      <td>0.000000</td>\n",
       "      <td>0.687714</td>\n",
       "      <td>0.254277</td>\n",
       "      <td>0.754834</td>\n",
       "      <td>0.934033</td>\n",
       "      <td>0.779040</td>\n",
       "      <td>09:47</td>\n",
       "    </tr>\n",
       "    <tr>\n",
       "      <td>9</td>\n",
       "      <td>0.269033</td>\n",
       "      <td>0.243745</td>\n",
       "      <td>0.981781</td>\n",
       "      <td>0.992031</td>\n",
       "      <td>0.108165</td>\n",
       "      <td>0.000000</td>\n",
       "      <td>0.660254</td>\n",
       "      <td>0.259330</td>\n",
       "      <td>0.748631</td>\n",
       "      <td>0.926436</td>\n",
       "      <td>0.765503</td>\n",
       "      <td>09:47</td>\n",
       "    </tr>\n",
       "    <tr>\n",
       "      <td>10</td>\n",
       "      <td>0.244259</td>\n",
       "      <td>0.232832</td>\n",
       "      <td>0.981951</td>\n",
       "      <td>0.992228</td>\n",
       "      <td>0.115703</td>\n",
       "      <td>0.000000</td>\n",
       "      <td>0.656801</td>\n",
       "      <td>0.243690</td>\n",
       "      <td>0.764108</td>\n",
       "      <td>0.933255</td>\n",
       "      <td>0.777084</td>\n",
       "      <td>09:46</td>\n",
       "    </tr>\n",
       "    <tr>\n",
       "      <td>11</td>\n",
       "      <td>0.237831</td>\n",
       "      <td>0.228812</td>\n",
       "      <td>0.981990</td>\n",
       "      <td>0.990834</td>\n",
       "      <td>0.114670</td>\n",
       "      <td>0.000000</td>\n",
       "      <td>0.692910</td>\n",
       "      <td>0.251498</td>\n",
       "      <td>0.783791</td>\n",
       "      <td>0.936004</td>\n",
       "      <td>0.782582</td>\n",
       "      <td>09:46</td>\n",
       "    </tr>\n",
       "  </tbody>\n",
       "</table>"
      ],
      "text/plain": [
       "<IPython.core.display.HTML object>"
      ]
     },
     "metadata": {},
     "output_type": "display_data"
    },
    {
     "name": "stdout",
     "output_type": "stream",
     "text": [
      "Better model found at epoch 0 with dice_coefficient value: 0.9364172220230103.\n",
      "Better model found at epoch 6 with dice_coefficient value: 0.939068078994751.\n"
     ]
    }
   ],
   "source": [
    "train_learner(learn, slice(lr), epochs=12, pct_start=0.8, best_model_name='bestmodel-frozen-3', \n",
    "              patience_early_stop=8, patience_reduce_lr = 7)"
   ]
  },
  {
   "cell_type": "code",
   "execution_count": 31,
   "metadata": {
    "ExecuteTime": {
     "end_time": "2019-10-24T15:08:43.960431Z",
     "start_time": "2019-10-24T15:08:43.618454Z"
    }
   },
   "outputs": [],
   "source": [
    "learn.save('stage-3');"
   ]
  },
  {
   "cell_type": "code",
   "execution_count": 33,
   "metadata": {
    "ExecuteTime": {
     "end_time": "2019-10-24T15:09:04.662663Z",
     "start_time": "2019-10-24T15:09:04.460458Z"
    }
   },
   "outputs": [],
   "source": [
    "learn.load('stage-3');"
   ]
  },
  {
   "cell_type": "code",
   "execution_count": 34,
   "metadata": {
    "ExecuteTime": {
     "end_time": "2019-10-24T15:09:07.860453Z",
     "start_time": "2019-10-24T15:09:07.572512Z"
    }
   },
   "outputs": [
    {
     "name": "stderr",
     "output_type": "stream",
     "text": [
      "/opt/conda/envs/deeplearning/lib/python3.7/site-packages/torch/serialization.py:256: UserWarning: Couldn't retrieve source code for container of type CombinedJaccardDiceLoss. It won't be checked for correctness upon loading.\n",
      "  \"type \" + obj.__name__ + \". It won't be checked \"\n",
      "/opt/conda/envs/deeplearning/lib/python3.7/site-packages/torch/serialization.py:256: UserWarning: Couldn't retrieve source code for container of type JaccardLoss. It won't be checked for correctness upon loading.\n",
      "  \"type \" + obj.__name__ + \". It won't be checked \"\n",
      "/opt/conda/envs/deeplearning/lib/python3.7/site-packages/torch/serialization.py:256: UserWarning: Couldn't retrieve source code for container of type DiceLoss. It won't be checked for correctness upon loading.\n",
      "  \"type \" + obj.__name__ + \". It won't be checked \"\n"
     ]
    }
   ],
   "source": [
    "learn.export(file='/kaggle/model/export-3.pkl')"
   ]
  },
  {
   "cell_type": "code",
   "execution_count": 27,
   "metadata": {
    "ExecuteTime": {
     "end_time": "2019-10-24T16:24:42.814846Z",
     "start_time": "2019-10-24T16:24:42.809901Z"
    }
   },
   "outputs": [],
   "source": [
    "learn.unfreeze()"
   ]
  },
  {
   "cell_type": "code",
   "execution_count": 28,
   "metadata": {
    "ExecuteTime": {
     "end_time": "2019-10-24T16:24:43.915897Z",
     "start_time": "2019-10-24T16:24:43.913004Z"
    }
   },
   "outputs": [],
   "source": [
    "lrs = slice(lr/1000,lr/10)"
   ]
  },
  {
   "cell_type": "code",
   "execution_count": 29,
   "metadata": {
    "ExecuteTime": {
     "end_time": "2019-10-24T18:59:47.379999Z",
     "start_time": "2019-10-24T16:24:50.625483Z"
    }
   },
   "outputs": [
    {
     "data": {
      "text/html": [
       "<table border=\"1\" class=\"dataframe\">\n",
       "  <thead>\n",
       "    <tr style=\"text-align: left;\">\n",
       "      <th>epoch</th>\n",
       "      <th>train_loss</th>\n",
       "      <th>valid_loss</th>\n",
       "      <th>accuracy_simple</th>\n",
       "      <th>acc_class0</th>\n",
       "      <th>acc_class1</th>\n",
       "      <th>acc_class2</th>\n",
       "      <th>acc_class3</th>\n",
       "      <th>acc_class4</th>\n",
       "      <th>acc_camvid_with_zero_check</th>\n",
       "      <th>dice_coefficient</th>\n",
       "      <th>dice_coefficient_2</th>\n",
       "      <th>time</th>\n",
       "    </tr>\n",
       "  </thead>\n",
       "  <tbody>\n",
       "    <tr>\n",
       "      <td>0</td>\n",
       "      <td>0.252527</td>\n",
       "      <td>0.242261</td>\n",
       "      <td>0.984206</td>\n",
       "      <td>0.991700</td>\n",
       "      <td>0.026025</td>\n",
       "      <td>0.000000</td>\n",
       "      <td>0.684386</td>\n",
       "      <td>0.261685</td>\n",
       "      <td>0.763582</td>\n",
       "      <td>0.935453</td>\n",
       "      <td>0.784466</td>\n",
       "      <td>10:31</td>\n",
       "    </tr>\n",
       "    <tr>\n",
       "      <td>1</td>\n",
       "      <td>0.244549</td>\n",
       "      <td>0.238785</td>\n",
       "      <td>0.984424</td>\n",
       "      <td>0.991972</td>\n",
       "      <td>0.044914</td>\n",
       "      <td>0.000000</td>\n",
       "      <td>0.668231</td>\n",
       "      <td>0.262816</td>\n",
       "      <td>0.765683</td>\n",
       "      <td>0.930135</td>\n",
       "      <td>0.768851</td>\n",
       "      <td>10:17</td>\n",
       "    </tr>\n",
       "    <tr>\n",
       "      <td>2</td>\n",
       "      <td>0.245903</td>\n",
       "      <td>0.238264</td>\n",
       "      <td>0.984790</td>\n",
       "      <td>0.992816</td>\n",
       "      <td>0.051698</td>\n",
       "      <td>0.000000</td>\n",
       "      <td>0.656542</td>\n",
       "      <td>0.255082</td>\n",
       "      <td>0.761382</td>\n",
       "      <td>0.928386</td>\n",
       "      <td>0.767852</td>\n",
       "      <td>10:16</td>\n",
       "    </tr>\n",
       "    <tr>\n",
       "      <td>3</td>\n",
       "      <td>0.254976</td>\n",
       "      <td>0.237604</td>\n",
       "      <td>0.984704</td>\n",
       "      <td>0.992413</td>\n",
       "      <td>0.056215</td>\n",
       "      <td>0.000000</td>\n",
       "      <td>0.663395</td>\n",
       "      <td>0.255329</td>\n",
       "      <td>0.764995</td>\n",
       "      <td>0.928616</td>\n",
       "      <td>0.765827</td>\n",
       "      <td>10:18</td>\n",
       "    </tr>\n",
       "    <tr>\n",
       "      <td>4</td>\n",
       "      <td>0.243331</td>\n",
       "      <td>0.237055</td>\n",
       "      <td>0.984837</td>\n",
       "      <td>0.992653</td>\n",
       "      <td>0.060996</td>\n",
       "      <td>0.000000</td>\n",
       "      <td>0.657076</td>\n",
       "      <td>0.259169</td>\n",
       "      <td>0.763573</td>\n",
       "      <td>0.928668</td>\n",
       "      <td>0.765579</td>\n",
       "      <td>10:18</td>\n",
       "    </tr>\n",
       "    <tr>\n",
       "      <td>5</td>\n",
       "      <td>0.246245</td>\n",
       "      <td>0.235837</td>\n",
       "      <td>0.984586</td>\n",
       "      <td>0.991734</td>\n",
       "      <td>0.062856</td>\n",
       "      <td>0.000000</td>\n",
       "      <td>0.678630</td>\n",
       "      <td>0.262446</td>\n",
       "      <td>0.775376</td>\n",
       "      <td>0.929240</td>\n",
       "      <td>0.772748</td>\n",
       "      <td>10:18</td>\n",
       "    </tr>\n",
       "    <tr>\n",
       "      <td>6</td>\n",
       "      <td>0.242445</td>\n",
       "      <td>0.236540</td>\n",
       "      <td>0.985003</td>\n",
       "      <td>0.992943</td>\n",
       "      <td>0.076442</td>\n",
       "      <td>0.000000</td>\n",
       "      <td>0.655467</td>\n",
       "      <td>0.257588</td>\n",
       "      <td>0.763609</td>\n",
       "      <td>0.924891</td>\n",
       "      <td>0.761014</td>\n",
       "      <td>10:19</td>\n",
       "    </tr>\n",
       "    <tr>\n",
       "      <td>7</td>\n",
       "      <td>0.254716</td>\n",
       "      <td>0.235598</td>\n",
       "      <td>0.985256</td>\n",
       "      <td>0.993216</td>\n",
       "      <td>0.079328</td>\n",
       "      <td>0.000000</td>\n",
       "      <td>0.653695</td>\n",
       "      <td>0.260997</td>\n",
       "      <td>0.769129</td>\n",
       "      <td>0.926428</td>\n",
       "      <td>0.766990</td>\n",
       "      <td>10:19</td>\n",
       "    </tr>\n",
       "    <tr>\n",
       "      <td>8</td>\n",
       "      <td>0.245070</td>\n",
       "      <td>0.234473</td>\n",
       "      <td>0.984811</td>\n",
       "      <td>0.992180</td>\n",
       "      <td>0.077906</td>\n",
       "      <td>0.000000</td>\n",
       "      <td>0.683424</td>\n",
       "      <td>0.267688</td>\n",
       "      <td>0.777028</td>\n",
       "      <td>0.927169</td>\n",
       "      <td>0.768862</td>\n",
       "      <td>10:21</td>\n",
       "    </tr>\n",
       "    <tr>\n",
       "      <td>9</td>\n",
       "      <td>0.242318</td>\n",
       "      <td>0.235854</td>\n",
       "      <td>0.985147</td>\n",
       "      <td>0.993166</td>\n",
       "      <td>0.060557</td>\n",
       "      <td>0.000000</td>\n",
       "      <td>0.660278</td>\n",
       "      <td>0.265786</td>\n",
       "      <td>0.764355</td>\n",
       "      <td>0.927301</td>\n",
       "      <td>0.767674</td>\n",
       "      <td>10:20</td>\n",
       "    </tr>\n",
       "    <tr>\n",
       "      <td>10</td>\n",
       "      <td>0.233176</td>\n",
       "      <td>0.234869</td>\n",
       "      <td>0.985015</td>\n",
       "      <td>0.992432</td>\n",
       "      <td>0.067538</td>\n",
       "      <td>0.000000</td>\n",
       "      <td>0.669751</td>\n",
       "      <td>0.276038</td>\n",
       "      <td>0.767390</td>\n",
       "      <td>0.927092</td>\n",
       "      <td>0.767491</td>\n",
       "      <td>10:18</td>\n",
       "    </tr>\n",
       "    <tr>\n",
       "      <td>11</td>\n",
       "      <td>0.236031</td>\n",
       "      <td>0.233125</td>\n",
       "      <td>0.985220</td>\n",
       "      <td>0.992696</td>\n",
       "      <td>0.075635</td>\n",
       "      <td>0.000000</td>\n",
       "      <td>0.669212</td>\n",
       "      <td>0.266899</td>\n",
       "      <td>0.771601</td>\n",
       "      <td>0.929302</td>\n",
       "      <td>0.772122</td>\n",
       "      <td>10:19</td>\n",
       "    </tr>\n",
       "    <tr>\n",
       "      <td>12</td>\n",
       "      <td>0.229407</td>\n",
       "      <td>0.233070</td>\n",
       "      <td>0.985631</td>\n",
       "      <td>0.993596</td>\n",
       "      <td>0.088102</td>\n",
       "      <td>0.000000</td>\n",
       "      <td>0.656521</td>\n",
       "      <td>0.259056</td>\n",
       "      <td>0.769567</td>\n",
       "      <td>0.929014</td>\n",
       "      <td>0.771536</td>\n",
       "      <td>10:18</td>\n",
       "    </tr>\n",
       "    <tr>\n",
       "      <td>13</td>\n",
       "      <td>0.239487</td>\n",
       "      <td>0.230200</td>\n",
       "      <td>0.985826</td>\n",
       "      <td>0.993713</td>\n",
       "      <td>0.085098</td>\n",
       "      <td>0.000000</td>\n",
       "      <td>0.661068</td>\n",
       "      <td>0.254973</td>\n",
       "      <td>0.779800</td>\n",
       "      <td>0.931019</td>\n",
       "      <td>0.779333</td>\n",
       "      <td>10:19</td>\n",
       "    </tr>\n",
       "    <tr>\n",
       "      <td>14</td>\n",
       "      <td>0.235395</td>\n",
       "      <td>0.231794</td>\n",
       "      <td>0.985638</td>\n",
       "      <td>0.993283</td>\n",
       "      <td>0.095864</td>\n",
       "      <td>0.000000</td>\n",
       "      <td>0.664281</td>\n",
       "      <td>0.263263</td>\n",
       "      <td>0.778421</td>\n",
       "      <td>0.928718</td>\n",
       "      <td>0.777136</td>\n",
       "      <td>10:17</td>\n",
       "    </tr>\n",
       "  </tbody>\n",
       "</table>"
      ],
      "text/plain": [
       "<IPython.core.display.HTML object>"
      ]
     },
     "metadata": {},
     "output_type": "display_data"
    },
    {
     "name": "stdout",
     "output_type": "stream",
     "text": [
      "Better model found at epoch 0 with dice_coefficient value: 0.9354530572891235.\n",
      "Epoch 14: reducing lr to 8.000000000000001e-12\n"
     ]
    }
   ],
   "source": [
    "train_learner(learn, lrs, epochs=15, pct_start=0.8, best_model_name='bestmodel-4', \n",
    "              patience_early_stop=14, patience_reduce_lr = 13)"
   ]
  },
  {
   "cell_type": "code",
   "execution_count": 30,
   "metadata": {
    "ExecuteTime": {
     "end_time": "2019-10-24T18:59:47.697492Z",
     "start_time": "2019-10-24T18:59:47.382302Z"
    }
   },
   "outputs": [],
   "source": [
    "learn.save('stage-4');"
   ]
  },
  {
   "cell_type": "code",
   "execution_count": 31,
   "metadata": {
    "ExecuteTime": {
     "end_time": "2019-10-24T19:00:04.454396Z",
     "start_time": "2019-10-24T19:00:04.164078Z"
    }
   },
   "outputs": [
    {
     "name": "stderr",
     "output_type": "stream",
     "text": [
      "/opt/conda/envs/deeplearning/lib/python3.7/site-packages/torch/serialization.py:256: UserWarning: Couldn't retrieve source code for container of type CombinedJaccardDiceLoss. It won't be checked for correctness upon loading.\n",
      "  \"type \" + obj.__name__ + \". It won't be checked \"\n",
      "/opt/conda/envs/deeplearning/lib/python3.7/site-packages/torch/serialization.py:256: UserWarning: Couldn't retrieve source code for container of type JaccardLoss. It won't be checked for correctness upon loading.\n",
      "  \"type \" + obj.__name__ + \". It won't be checked \"\n",
      "/opt/conda/envs/deeplearning/lib/python3.7/site-packages/torch/serialization.py:256: UserWarning: Couldn't retrieve source code for container of type DiceLoss. It won't be checked for correctness upon loading.\n",
      "  \"type \" + obj.__name__ + \". It won't be checked \"\n"
     ]
    }
   ],
   "source": [
    "learn.export(file='/kaggle/model/export-4.pkl')"
   ]
  },
  {
   "cell_type": "code",
   "execution_count": null,
   "metadata": {},
   "outputs": [],
   "source": [
    "!pwd\n",
    "!cp /kaggle/model/export.pkl /opt/fastai/fastai-exercises/nbs_gil\n",
    "from IPython.display import FileLink\n",
    "FileLink(r'export-4.pkl')"
   ]
  },
  {
   "cell_type": "markdown",
   "metadata": {},
   "source": [
    "### Inference"
   ]
  },
  {
   "cell_type": "code",
   "execution_count": null,
   "metadata": {},
   "outputs": [],
   "source": [
    "learn=None\n",
    "gc.collect()"
   ]
  },
  {
   "cell_type": "code",
   "execution_count": null,
   "metadata": {},
   "outputs": [],
   "source": [
    "test_images = (path/'test_images').ls()"
   ]
  },
  {
   "cell_type": "code",
   "execution_count": null,
   "metadata": {},
   "outputs": [],
   "source": [
    "inference_learn = load_learner('/kaggle/model/', file='export-4.pkl')"
   ]
  },
  {
   "cell_type": "code",
   "execution_count": null,
   "metadata": {},
   "outputs": [],
   "source": [
    "inference_learn = to_fp16(inference_learn, loss_scale=4.0)"
   ]
  },
  {
   "cell_type": "code",
   "execution_count": null,
   "metadata": {},
   "outputs": [],
   "source": [
    "def predict(img_path):\n",
    "    pred_class, pred_idx, outputs = inference_learn.predict(open_image(str(img_path)))\n",
    "    return pred_class, pred_idx, outputs\n",
    "\n",
    "def encode_classes(pred_class_data):\n",
    "    pixels = np.concatenate([[0], torch.transpose(pred_class_data.squeeze(), 0, 1).flatten(), [0]])\n",
    "    classes_dict = {1: [], 2: [], 3: [], 4: []}\n",
    "    count = 0\n",
    "    previous = pixels[0]\n",
    "    for i, val in enumerate(pixels):\n",
    "        if val != previous:\n",
    "            if previous in classes_dict:\n",
    "                classes_dict[previous].append((i - count, count))\n",
    "            count = 0\n",
    "        previous = val\n",
    "        count += 1\n",
    "    return classes_dict\n",
    "\n",
    "\n",
    "def convert_classes_to_text(classes_dict, clazz):\n",
    "    return ' '.join([f'{v[0]} {v[1]}' for v in classes_dict[clazz]])"
   ]
  },
  {
   "cell_type": "code",
   "execution_count": null,
   "metadata": {
    "scrolled": true
   },
   "outputs": [],
   "source": [
    "image_to_predict = train_images[16].name\n",
    "display_image_with_mask(image_to_predict)\n",
    "pred_class, pred_idx, outputs = predict(path/f'train_images/{image_to_predict}')\n",
    "pred_class"
   ]
  },
  {
   "cell_type": "code",
   "execution_count": null,
   "metadata": {},
   "outputs": [],
   "source": [
    "torch.transpose(pred_class.data.squeeze(), 0, 1).shape"
   ]
  },
  {
   "cell_type": "markdown",
   "metadata": {},
   "source": [
    "#### Checking encoding methods"
   ]
  },
  {
   "cell_type": "code",
   "execution_count": null,
   "metadata": {},
   "outputs": [],
   "source": [
    "encoded_all = encode_classes(pred_class.data)\n",
    "print(convert_classes_to_text(encoded_all, 3))"
   ]
  },
  {
   "cell_type": "code",
   "execution_count": null,
   "metadata": {},
   "outputs": [],
   "source": [
    "image_name = train_images[16]\n",
    "print(get_y_fn(image_name))\n",
    "img = open_mask(get_y_fn(image_name))\n",
    "img_data = img.data\n",
    "print(convert_classes_to_text(encode_classes(img_data), 3))\n",
    "img_data.shape"
   ]
  },
  {
   "cell_type": "markdown",
   "metadata": {},
   "source": [
    "### Loop through the test images and create submission csv"
   ]
  },
  {
   "cell_type": "code",
   "execution_count": null,
   "metadata": {},
   "outputs": [],
   "source": [
    "import time\n",
    "start_time = time.time()\n",
    "\n",
    "defect_classes = [1, 2, 3, 4]\n",
    "with open('submission.csv', 'w') as submission_file:\n",
    "    submission_file.write('ImageId_ClassId,EncodedPixels\\n')\n",
    "    for i, test_image in enumerate(test_images):\n",
    "        pred_class, pred_idx, outputs = predict(test_image)\n",
    "        encoded_all = encode_classes(pred_class.data)\n",
    "        for defect_class in defect_classes:\n",
    "            submission_file.write(f'{test_image.name}_{defect_class},{convert_classes_to_text(encoded_all, defect_class)}\\n')\n",
    "        if i % 5 == 0:\n",
    "            print(f'Processed {i} images\\r', end='')\n",
    "            \n",
    "print(f\"--- {time.time() - start_time} seconds ---\")"
   ]
  },
  {
   "cell_type": "markdown",
   "metadata": {},
   "source": [
    "### Alternative prediction methods"
   ]
  },
  {
   "cell_type": "code",
   "execution_count": null,
   "metadata": {},
   "outputs": [],
   "source": [
    "preds,y = learn.get_preds(ds_type=DatasetType.Test, with_loss=False)"
   ]
  },
  {
   "cell_type": "code",
   "execution_count": null,
   "metadata": {},
   "outputs": [],
   "source": [
    "preds.shape"
   ]
  },
  {
   "cell_type": "code",
   "execution_count": null,
   "metadata": {},
   "outputs": [],
   "source": [
    "pred_class_data = preds.argmax(dim=1)"
   ]
  },
  {
   "cell_type": "code",
   "execution_count": null,
   "metadata": {},
   "outputs": [],
   "source": [
    "len((path/'test_images').ls())"
   ]
  },
  {
   "cell_type": "code",
   "execution_count": null,
   "metadata": {},
   "outputs": [],
   "source": [
    "data.test_ds.x"
   ]
  }
 ],
 "metadata": {
  "kernelspec": {
   "display_name": "Python 3",
   "language": "python",
   "name": "python3"
  },
  "language_info": {
   "codemirror_mode": {
    "name": "ipython",
    "version": 3
   },
   "file_extension": ".py",
   "mimetype": "text/x-python",
   "name": "python",
   "nbconvert_exporter": "python",
   "pygments_lexer": "ipython3",
   "version": "3.7.4"
  }
 },
 "nbformat": 4,
 "nbformat_minor": 1
}
