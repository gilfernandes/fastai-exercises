{
 "cells": [
  {
   "cell_type": "code",
   "execution_count": 1,
   "metadata": {},
   "outputs": [],
   "source": [
    "import torch\n",
    "from torch import nn\n",
    "import torch.optim as optim\n",
    "import pandas as pd\n",
    "from pathlib import Path\n",
    "from torch.utils.data import DataLoader, Dataset\n",
    "import numpy as np\n",
    "from functools import partial"
   ]
  },
  {
   "cell_type": "code",
   "execution_count": 2,
   "metadata": {},
   "outputs": [
    {
     "data": {
      "text/plain": [
       "PosixPath('/root/.fastai/data/movie_lens_sample')"
      ]
     },
     "execution_count": 2,
     "metadata": {},
     "output_type": "execute_result"
    }
   ],
   "source": [
    "path = Path('/root/.fastai/data/movie_lens_sample')\n",
    "path"
   ]
  },
  {
   "cell_type": "code",
   "execution_count": 3,
   "metadata": {},
   "outputs": [
    {
     "data": {
      "text/html": [
       "<div>\n",
       "<style scoped>\n",
       "    .dataframe tbody tr th:only-of-type {\n",
       "        vertical-align: middle;\n",
       "    }\n",
       "\n",
       "    .dataframe tbody tr th {\n",
       "        vertical-align: top;\n",
       "    }\n",
       "\n",
       "    .dataframe thead th {\n",
       "        text-align: right;\n",
       "    }\n",
       "</style>\n",
       "<table border=\"1\" class=\"dataframe\">\n",
       "  <thead>\n",
       "    <tr style=\"text-align: right;\">\n",
       "      <th></th>\n",
       "      <th>userId</th>\n",
       "      <th>movieId</th>\n",
       "      <th>rating</th>\n",
       "      <th>timestamp</th>\n",
       "    </tr>\n",
       "  </thead>\n",
       "  <tbody>\n",
       "    <tr>\n",
       "      <th>0</th>\n",
       "      <td>73</td>\n",
       "      <td>1097</td>\n",
       "      <td>4.0</td>\n",
       "      <td>1255504951</td>\n",
       "    </tr>\n",
       "    <tr>\n",
       "      <th>1</th>\n",
       "      <td>561</td>\n",
       "      <td>924</td>\n",
       "      <td>3.5</td>\n",
       "      <td>1172695223</td>\n",
       "    </tr>\n",
       "    <tr>\n",
       "      <th>2</th>\n",
       "      <td>157</td>\n",
       "      <td>260</td>\n",
       "      <td>3.5</td>\n",
       "      <td>1291598691</td>\n",
       "    </tr>\n",
       "    <tr>\n",
       "      <th>3</th>\n",
       "      <td>358</td>\n",
       "      <td>1210</td>\n",
       "      <td>5.0</td>\n",
       "      <td>957481884</td>\n",
       "    </tr>\n",
       "    <tr>\n",
       "      <th>4</th>\n",
       "      <td>130</td>\n",
       "      <td>316</td>\n",
       "      <td>2.0</td>\n",
       "      <td>1138999234</td>\n",
       "    </tr>\n",
       "    <tr>\n",
       "      <th>5</th>\n",
       "      <td>580</td>\n",
       "      <td>1196</td>\n",
       "      <td>4.0</td>\n",
       "      <td>1220561546</td>\n",
       "    </tr>\n",
       "    <tr>\n",
       "      <th>6</th>\n",
       "      <td>544</td>\n",
       "      <td>2918</td>\n",
       "      <td>5.0</td>\n",
       "      <td>1435787004</td>\n",
       "    </tr>\n",
       "    <tr>\n",
       "      <th>7</th>\n",
       "      <td>213</td>\n",
       "      <td>1200</td>\n",
       "      <td>3.0</td>\n",
       "      <td>1462634054</td>\n",
       "    </tr>\n",
       "    <tr>\n",
       "      <th>8</th>\n",
       "      <td>176</td>\n",
       "      <td>2571</td>\n",
       "      <td>4.5</td>\n",
       "      <td>1340714691</td>\n",
       "    </tr>\n",
       "    <tr>\n",
       "      <th>9</th>\n",
       "      <td>481</td>\n",
       "      <td>4886</td>\n",
       "      <td>4.5</td>\n",
       "      <td>1437002227</td>\n",
       "    </tr>\n",
       "  </tbody>\n",
       "</table>\n",
       "</div>"
      ],
      "text/plain": [
       "   userId  movieId  rating   timestamp\n",
       "0      73     1097     4.0  1255504951\n",
       "1     561      924     3.5  1172695223\n",
       "2     157      260     3.5  1291598691\n",
       "3     358     1210     5.0   957481884\n",
       "4     130      316     2.0  1138999234\n",
       "5     580     1196     4.0  1220561546\n",
       "6     544     2918     5.0  1435787004\n",
       "7     213     1200     3.0  1462634054\n",
       "8     176     2571     4.5  1340714691\n",
       "9     481     4886     4.5  1437002227"
      ]
     },
     "execution_count": 3,
     "metadata": {},
     "output_type": "execute_result"
    }
   ],
   "source": [
    "ratings = pd.read_csv(path/'ratings.csv')\n",
    "ratings.head(10)"
   ]
  },
  {
   "cell_type": "code",
   "execution_count": 4,
   "metadata": {},
   "outputs": [
    {
     "data": {
      "text/plain": [
       "tensor(4., dtype=torch.float64)"
      ]
     },
     "execution_count": 4,
     "metadata": {},
     "output_type": "execute_result"
    }
   ],
   "source": [
    "torch.tensor(ratings.values)[0][2]"
   ]
  },
  {
   "cell_type": "code",
   "execution_count": 5,
   "metadata": {},
   "outputs": [
    {
     "data": {
      "text/plain": [
       "5427"
      ]
     },
     "execution_count": 5,
     "metadata": {},
     "output_type": "execute_result"
    }
   ],
   "source": [
    "train_len = int(ratings.shape[0] * 0.9)\n",
    "train_len"
   ]
  },
  {
   "cell_type": "code",
   "execution_count": 6,
   "metadata": {},
   "outputs": [],
   "source": [
    "def createIndex(df, field):\n",
    "    idx = ratings[field].unique()\n",
    "    idx.sort()\n",
    "    return {pos_id[1]:pos_id[0] for pos_id in enumerate(idx)}, {pos_id[0]:pos_id[1] for pos_id in enumerate(idx)}\n",
    "\n",
    "userIdx, invertedUserIdx = createIndex(ratings, 'userId')\n",
    "movieIdx, invertedMovieIdx = createIndex(ratings, 'movieId')"
   ]
  },
  {
   "cell_type": "code",
   "execution_count": 7,
   "metadata": {},
   "outputs": [],
   "source": [
    "userIndexed = ratings['userId'].apply(lambda x: userIdx[x])\n",
    "movieIndexed = ratings['movieId'].apply(lambda x: movieIdx[x])\n",
    "ratingsIndexed = pd.concat([userIndexed, movieIndexed, ratings['rating']], axis=1)"
   ]
  },
  {
   "cell_type": "code",
   "execution_count": 8,
   "metadata": {},
   "outputs": [
    {
     "data": {
      "text/plain": [
       "[7, 80, 20, 47, 17, 85, 78, 27, 22, 70]"
      ]
     },
     "execution_count": 8,
     "metadata": {},
     "output_type": "execute_result"
    }
   ],
   "source": [
    "[ui for ui in userIndexed[:10]]"
   ]
  },
  {
   "cell_type": "code",
   "execution_count": 9,
   "metadata": {},
   "outputs": [
    {
     "data": {
      "text/plain": [
       "[73, 561, 157, 358, 130, 580, 544, 213, 176, 481]"
      ]
     },
     "execution_count": 9,
     "metadata": {},
     "output_type": "execute_result"
    }
   ],
   "source": [
    "[invertedUserIdx[ui] for ui in userIndexed[:10]]"
   ]
  },
  {
   "cell_type": "code",
   "execution_count": 10,
   "metadata": {},
   "outputs": [],
   "source": [
    "class DatasetCollab(Dataset):\n",
    "    def __init__(self, df):\n",
    "        self.tensor = torch.tensor(ratingsIndexed.values).long()\n",
    "        \n",
    "    def __len__(self):\n",
    "        return ratings.shape[0]\n",
    "    \n",
    "    def __getitem__(self, index):\n",
    "        return self.tensor[index][:2], self.tensor[index][2]"
   ]
  },
  {
   "cell_type": "code",
   "execution_count": 11,
   "metadata": {},
   "outputs": [],
   "source": [
    "train_ds = DatasetCollab(ratings[:train_len])\n",
    "valid_ds = DatasetCollab(ratings[train_len:])"
   ]
  },
  {
   "cell_type": "code",
   "execution_count": 12,
   "metadata": {},
   "outputs": [],
   "source": [
    "batch_size = 32\n",
    "num_workers = 0\n",
    "train_loader = torch.utils.data.DataLoader(train_ds, batch_size=batch_size, \n",
    "                                           num_workers=num_workers, shuffle=False)\n",
    "valid_loader = torch.utils.data.DataLoader(valid_ds, batch_size=batch_size, \n",
    "                                          num_workers=num_workers, shuffle=False)"
   ]
  },
  {
   "cell_type": "code",
   "execution_count": 15,
   "metadata": {},
   "outputs": [],
   "source": [
    "n_factors = 50\n",
    "y_range = [0,5.5]"
   ]
  },
  {
   "cell_type": "code",
   "execution_count": 16,
   "metadata": {},
   "outputs": [],
   "source": [
    "def trunc_normal_(x:torch.Tensor, mean:float=0., std:float=1.) -> torch.Tensor:\n",
    "    \"Truncated normal initialization.\"\n",
    "    # From https://discuss.pytorch.org/t/implementing-truncated-normal-initializer/4778/12\n",
    "    return x.normal_().fmod_(2).mul_(std).add_(mean)\n",
    "\n",
    "class EmbeddingDotBias(nn.Module):\n",
    "    \"Base dot model for collaborative filtering.\"\n",
    "    def __init__(self, n_factors:int, n_users:int, n_items:int, y_range=None):\n",
    "        super().__init__()\n",
    "        self.y_range = y_range\n",
    "        (self.u_weight, self.i_weight, self.u_bias, self.i_bias) = [embedding(*o) for o in [\n",
    "            (n_users, n_factors), (n_items, n_factors), (n_users,1), (n_items,1)\n",
    "        ]]\n",
    "        \n",
    "    def forward(self, users:torch.LongTensor, items:torch.LongTensor) -> torch.Tensor:\n",
    "        dot = self.u_weight(users)* self.i_weight(items)\n",
    "        res = dot.sum(1) + self.u_bias(users).squeeze() + self.i_bias(items).squeeze()\n",
    "        if self.y_range is None: return res\n",
    "        return torch.sigmoid(res) * (self.y_range[1]-self.y_range[0]) + self.y_range[0]\n",
    "        \n",
    "def embedding(ni:int,nf:int) -> nn.Module:\n",
    "    \"Create an embedding layer.\"\n",
    "    emb = nn.Embedding(ni, nf)\n",
    "    # See https://arxiv.org/abs/1711.09160\n",
    "    with torch.no_grad(): trunc_normal_(emb.weight, std=0.01)\n",
    "    return emb"
   ]
  },
  {
   "cell_type": "code",
   "execution_count": 17,
   "metadata": {},
   "outputs": [],
   "source": [
    "embeddingDotBias = EmbeddingDotBias(n_factors, n_users, n_items, y_range)"
   ]
  },
  {
   "cell_type": "code",
   "execution_count": 18,
   "metadata": {},
   "outputs": [
    {
     "data": {
      "text/plain": [
       "EmbeddingDotBias(\n",
       "  (u_weight): Embedding(101, 50)\n",
       "  (i_weight): Embedding(101, 50)\n",
       "  (u_bias): Embedding(101, 1)\n",
       "  (i_bias): Embedding(101, 1)\n",
       ")"
      ]
     },
     "execution_count": 18,
     "metadata": {},
     "output_type": "execute_result"
    }
   ],
   "source": [
    "embeddingDotBias.cuda()"
   ]
  },
  {
   "cell_type": "code",
   "execution_count": 19,
   "metadata": {},
   "outputs": [],
   "source": [
    "train_iter = iter(train_loader)"
   ]
  },
  {
   "cell_type": "code",
   "execution_count": 20,
   "metadata": {},
   "outputs": [],
   "source": [
    "user_movies, rating = train_iter.next()"
   ]
  },
  {
   "cell_type": "code",
   "execution_count": 21,
   "metadata": {},
   "outputs": [
    {
     "data": {
      "text/plain": [
       "tensor([4, 3, 3, 5, 2, 4, 5, 3, 4, 4, 3, 3, 3, 3, 4, 5, 4, 2, 5, 4, 4, 5, 3, 5,\n",
       "        4, 3, 4, 3, 1, 1, 5, 4])"
      ]
     },
     "execution_count": 21,
     "metadata": {},
     "output_type": "execute_result"
    }
   ],
   "source": [
    "rating"
   ]
  },
  {
   "cell_type": "code",
   "execution_count": 22,
   "metadata": {},
   "outputs": [],
   "source": [
    "user_ids = user_movies[:,0]\n",
    "movie_ids = user_movies[:,1]\n",
    "user_ids = user_ids.cuda()\n",
    "movie_ids = movie_ids.cuda()"
   ]
  },
  {
   "cell_type": "code",
   "execution_count": 23,
   "metadata": {},
   "outputs": [
    {
     "data": {
      "text/plain": [
       "tensor([2.7568, 2.7426, 2.7431, 2.7212, 2.7458, 2.7447, 2.7535, 2.7664, 2.7607,\n",
       "        2.7521, 2.7559, 2.7619, 2.7399, 2.7291, 2.7426, 2.7742, 2.7315, 2.7533,\n",
       "        2.7544, 2.7382, 2.7159, 2.7315, 2.7324, 2.7518, 2.7550, 2.7561, 2.7809,\n",
       "        2.7400, 2.7457, 2.7744, 2.7099, 2.7666], device='cuda:0',\n",
       "       grad_fn=<AddBackward0>)"
      ]
     },
     "execution_count": 23,
     "metadata": {},
     "output_type": "execute_result"
    }
   ],
   "source": [
    "embeddingDotBias.forward(user_ids, movie_ids)"
   ]
  },
  {
   "cell_type": "code",
   "execution_count": 24,
   "metadata": {},
   "outputs": [],
   "source": [
    "def train(n_epochs:int, train_loader, valid_loader, model, optimizer, criterion, save_path=None):\n",
    "    valid_loss_min = np.Inf\n",
    "    for epoch in range(1, n_epochs+1):\n",
    "        train_loss = 0.0\n",
    "        valid_loss = 0.0\n",
    "        \n",
    "        model.train()\n",
    "        steps_counter = 0\n",
    "        for batch_idx, (user_movies, rating) in enumerate(train_loader):\n",
    "            user_movies, rating = user_movies.cuda(), rating.float().cuda()\n",
    "            optimizer.zero_grad()\n",
    "            user_ids, movie_ids = user_movies[:,0], user_movies[:,1]\n",
    "            output = model.forward(user_ids, movie_ids)\n",
    "            loss = criterion(output, rating)\n",
    "            loss.backward()\n",
    "            optimizer.step()\n",
    "            train_loss += loss.item() * user_movies.size(0)\n",
    "            \n",
    "            steps_counter += 1\n",
    "            if steps_counter % 100 == 0:\n",
    "                print(f'\\rProcessed {steps_counter * batch_size} out of {len(train_loader.dataset)}')\n",
    "\n",
    "        print(f'\\rProcessed {steps_counter * batch_size} out of {len(train_loader.dataset)}')\n",
    "        train_loss = train_loss/len(train_loader.dataset)\n",
    "        model.eval()\n",
    "        for (user_movies, rating) in valid_loader:\n",
    "            user_movies, rating = user_movies.cuda(), rating.float().cuda()\n",
    "            user_ids, movie_ids = user_movies[:,0], user_movies[:,1]\n",
    "            output = model.forward(user_ids, movie_ids)\n",
    "            loss = criterion(output, rating)\n",
    "            valid_loss += loss.item() * user_movies.size(0)\n",
    "            \n",
    "        valid_loss = valid_loss/len(valid_loader.dataset)\n",
    "        \n",
    "        print(f'Epoch: {epoch} \\tTraining Loss: {train_loss:.6f} \\tValidation Loss: {valid_loss:.6f}')"
   ]
  },
  {
   "cell_type": "code",
   "execution_count": 25,
   "metadata": {},
   "outputs": [],
   "source": [
    "n_epochs = 10\n",
    "criterion = nn.MSELoss()\n",
    "AdamW = partial(optim.Adam, betas=(0.9,0.99))\n",
    "optimizer = AdamW(lr=1e-3, params=embeddingDotBias.parameters())"
   ]
  },
  {
   "cell_type": "code",
   "execution_count": 26,
   "metadata": {},
   "outputs": [
    {
     "name": "stdout",
     "output_type": "stream",
     "text": [
      "Processed 3200 out of 6031\n",
      "Processed 6048 out of 6031\n",
      "Epoch: 1 \tTraining Loss: 1.646273 \tValidation Loss: 1.284431\n",
      "Processed 3200 out of 6031\n",
      "Processed 6048 out of 6031\n",
      "Epoch: 2 \tTraining Loss: 0.963038 \tValidation Loss: 0.756314\n",
      "Processed 3200 out of 6031\n",
      "Processed 6048 out of 6031\n",
      "Epoch: 3 \tTraining Loss: 0.732750 \tValidation Loss: 0.692384\n",
      "Processed 3200 out of 6031\n",
      "Processed 6048 out of 6031\n",
      "Epoch: 4 \tTraining Loss: 0.697069 \tValidation Loss: 0.669210\n",
      "Processed 3200 out of 6031\n",
      "Processed 6048 out of 6031\n",
      "Epoch: 5 \tTraining Loss: 0.676098 \tValidation Loss: 0.648701\n",
      "Processed 3200 out of 6031\n",
      "Processed 6048 out of 6031\n",
      "Epoch: 6 \tTraining Loss: 0.655396 \tValidation Loss: 0.627149\n",
      "Processed 3200 out of 6031\n",
      "Processed 6048 out of 6031\n",
      "Epoch: 7 \tTraining Loss: 0.633522 \tValidation Loss: 0.604397\n",
      "Processed 3200 out of 6031\n",
      "Processed 6048 out of 6031\n",
      "Epoch: 8 \tTraining Loss: 0.610629 \tValidation Loss: 0.580717\n",
      "Processed 3200 out of 6031\n",
      "Processed 6048 out of 6031\n",
      "Epoch: 9 \tTraining Loss: 0.586886 \tValidation Loss: 0.556194\n",
      "Processed 3200 out of 6031\n",
      "Processed 6048 out of 6031\n",
      "Epoch: 10 \tTraining Loss: 0.562275 \tValidation Loss: 0.530802\n"
     ]
    }
   ],
   "source": [
    "train(n_epochs, train_loader, valid_loader, embeddingDotBias, optimizer, criterion)"
   ]
  },
  {
   "cell_type": "code",
   "execution_count": 27,
   "metadata": {},
   "outputs": [
    {
     "name": "stdout",
     "output_type": "stream",
     "text": [
      "Processed 3200 out of 6031\n",
      "Processed 6048 out of 6031\n",
      "Epoch: 1 \tTraining Loss: 0.536772 \tValidation Loss: 0.504598\n",
      "Processed 3200 out of 6031\n",
      "Processed 6048 out of 6031\n",
      "Epoch: 2 \tTraining Loss: 0.510484 \tValidation Loss: 0.477767\n",
      "Processed 3200 out of 6031\n",
      "Processed 6048 out of 6031\n",
      "Epoch: 3 \tTraining Loss: 0.483630 \tValidation Loss: 0.450568\n",
      "Processed 3200 out of 6031\n",
      "Processed 6048 out of 6031\n",
      "Epoch: 4 \tTraining Loss: 0.456490 \tValidation Loss: 0.423301\n",
      "Processed 3200 out of 6031\n",
      "Processed 6048 out of 6031\n",
      "Epoch: 5 \tTraining Loss: 0.429376 \tValidation Loss: 0.396290\n",
      "Processed 3200 out of 6031\n",
      "Processed 6048 out of 6031\n",
      "Epoch: 6 \tTraining Loss: 0.402616 \tValidation Loss: 0.369856\n",
      "Processed 3200 out of 6031\n",
      "Processed 6048 out of 6031\n",
      "Epoch: 7 \tTraining Loss: 0.376508 \tValidation Loss: 0.344264\n",
      "Processed 3200 out of 6031\n",
      "Processed 6048 out of 6031\n",
      "Epoch: 8 \tTraining Loss: 0.351276 \tValidation Loss: 0.319690\n",
      "Processed 3200 out of 6031\n",
      "Processed 6048 out of 6031\n",
      "Epoch: 9 \tTraining Loss: 0.327049 \tValidation Loss: 0.296216\n",
      "Processed 3200 out of 6031\n",
      "Processed 6048 out of 6031\n",
      "Epoch: 10 \tTraining Loss: 0.303880 \tValidation Loss: 0.273871\n"
     ]
    }
   ],
   "source": [
    "train(n_epochs, train_loader, valid_loader, embeddingDotBias, optimizer, criterion)"
   ]
  },
  {
   "cell_type": "code",
   "execution_count": 32,
   "metadata": {},
   "outputs": [
    {
     "name": "stdout",
     "output_type": "stream",
     "text": [
      "Processed 3200 out of 6031\n",
      "Processed 6048 out of 6031\n",
      "Epoch: 1 \tTraining Loss: 0.281794 \tValidation Loss: 0.252670\n",
      "Processed 3200 out of 6031\n",
      "Processed 6048 out of 6031\n",
      "Epoch: 2 \tTraining Loss: 0.260811 \tValidation Loss: 0.232637\n",
      "Processed 3200 out of 6031\n",
      "Processed 6048 out of 6031\n",
      "Epoch: 3 \tTraining Loss: 0.240969 \tValidation Loss: 0.213808\n",
      "Processed 3200 out of 6031\n",
      "Processed 6048 out of 6031\n",
      "Epoch: 4 \tTraining Loss: 0.222310 \tValidation Loss: 0.196216\n",
      "Processed 3200 out of 6031\n",
      "Processed 6048 out of 6031\n",
      "Epoch: 5 \tTraining Loss: 0.204868 \tValidation Loss: 0.179881\n",
      "Processed 3200 out of 6031\n",
      "Processed 6048 out of 6031\n",
      "Epoch: 6 \tTraining Loss: 0.188656 \tValidation Loss: 0.164792\n",
      "Processed 3200 out of 6031\n",
      "Processed 6048 out of 6031\n",
      "Epoch: 7 \tTraining Loss: 0.173653 \tValidation Loss: 0.150910\n",
      "Processed 3200 out of 6031\n",
      "Processed 6048 out of 6031\n",
      "Epoch: 8 \tTraining Loss: 0.159816 \tValidation Loss: 0.138173\n",
      "Processed 3200 out of 6031\n",
      "Processed 6048 out of 6031\n",
      "Epoch: 9 \tTraining Loss: 0.147078 \tValidation Loss: 0.126501\n",
      "Processed 3200 out of 6031\n",
      "Processed 6048 out of 6031\n",
      "Epoch: 10 \tTraining Loss: 0.135359 \tValidation Loss: 0.115807\n"
     ]
    }
   ],
   "source": [
    "train(n_epochs, train_loader, valid_loader, embeddingDotBias, optimizer, criterion)"
   ]
  },
  {
   "cell_type": "markdown",
   "metadata": {},
   "source": [
    "# Predict"
   ]
  },
  {
   "cell_type": "code",
   "execution_count": 28,
   "metadata": {},
   "outputs": [],
   "source": [
    "def predict(userId: int, movieId: int):\n",
    "    userInput = torch.tensor([userIdx[userId]]).cuda().clone().detach()\n",
    "    movieInput = torch.tensor([movieIdx[movieId]]).cuda().clone().detach()\n",
    "    return embeddingDotBias.forward(userInput, movieInput).item()"
   ]
  },
  {
   "cell_type": "code",
   "execution_count": 29,
   "metadata": {},
   "outputs": [
    {
     "data": {
      "text/plain": [
       "3.9654407501220703"
      ]
     },
     "execution_count": 29,
     "metadata": {},
     "output_type": "execute_result"
    }
   ],
   "source": [
    "predict(73, 1097)"
   ]
  },
  {
   "cell_type": "code",
   "execution_count": 30,
   "metadata": {},
   "outputs": [
    {
     "data": {
      "text/plain": [
       "3.501561164855957"
      ]
     },
     "execution_count": 30,
     "metadata": {},
     "output_type": "execute_result"
    }
   ],
   "source": [
    "predict(561, 924)"
   ]
  },
  {
   "cell_type": "code",
   "execution_count": 34,
   "metadata": {},
   "outputs": [
    {
     "name": "stdout",
     "output_type": "stream",
     "text": [
      "3.838888645172119 4.0\n",
      "3.2899436950683594 3.5\n",
      "2.838738441467285 3.5\n",
      "4.705658912658691 5.0\n",
      "2.3013768196105957 2.0\n",
      "3.730295181274414 4.0\n",
      "4.646974563598633 5.0\n",
      "2.690315008163452 3.0\n",
      "4.1812920570373535 4.5\n",
      "3.790100336074829 4.5\n",
      "2.8735952377319336 3.0\n",
      "3.5290980339050293 3.0\n",
      "2.928689479827881 3.0\n",
      "3.100550651550293 3.0\n",
      "3.948193073272705 4.0\n",
      "4.284323692321777 5.0\n",
      "3.9360194206237793 4.5\n",
      "1.9483803510665894 2.5\n",
      "4.218658447265625 5.0\n",
      "4.161929130554199 4.0\n",
      "4.089113235473633 4.5\n",
      "4.821419715881348 5.0\n",
      "2.5397820472717285 3.0\n",
      "4.918349266052246 5.0\n",
      "3.912986993789673 4.5\n",
      "2.878478527069092 3.0\n",
      "3.8700222969055176 4.5\n",
      "3.651827812194824 3.5\n",
      "0.6894132494926453 1.0\n",
      "1.3104835748672485 1.0\n",
      "5.028079509735107 5.0\n",
      "4.1239848136901855 4.0\n",
      "4.386385917663574 5.0\n",
      "3.8329362869262695 3.0\n",
      "2.9416356086730957 3.5\n",
      "3.307978391647339 4.0\n",
      "3.5512702465057373 3.0\n",
      "4.625848770141602 5.0\n",
      "4.148618221282959 4.0\n",
      "3.195012331008911 4.5\n",
      "4.5724287033081055 5.0\n",
      "3.288559913635254 3.0\n",
      "4.352843284606934 4.0\n",
      "4.712601184844971 5.0\n",
      "3.434272289276123 3.5\n",
      "2.334606409072876 3.0\n",
      "4.297269821166992 4.0\n",
      "3.734602451324463 4.0\n",
      "4.552390098571777 5.0\n",
      "3.8683860301971436 4.5\n",
      "4.398398399353027 4.0\n",
      "2.9711062908172607 3.0\n",
      "4.520520210266113 5.0\n",
      "4.5224151611328125 5.0\n",
      "4.326878070831299 4.5\n",
      "4.622462272644043 5.0\n",
      "2.146334648132324 2.5\n",
      "5.230780601501465 5.0\n",
      "4.404679298400879 4.5\n",
      "3.725335121154785 4.0\n",
      "2.8504233360290527 3.0\n",
      "3.5978527069091797 3.5\n",
      "4.856261253356934 5.0\n",
      "0.6136748790740967 0.5\n",
      "4.599673271179199 5.0\n",
      "2.7940521240234375 3.0\n",
      "4.916316032409668 5.0\n",
      "3.1035571098327637 3.5\n",
      "3.824636936187744 4.0\n",
      "4.748150825500488 5.0\n",
      "3.6148669719696045 4.0\n",
      "4.707535743713379 5.0\n",
      "1.884897232055664 2.0\n",
      "2.281710147857666 2.0\n",
      "4.074560642242432 4.5\n",
      "1.5985100269317627 2.0\n",
      "3.158856153488159 3.0\n",
      "3.950366735458374 4.0\n",
      "2.8890113830566406 3.5\n",
      "3.8608837127685547 4.0\n",
      "2.0736992359161377 2.0\n",
      "3.30777907371521 3.0\n",
      "4.125310897827148 4.5\n",
      "4.3871049880981445 4.0\n",
      "4.342024803161621 5.0\n",
      "0.4422305226325989 1.0\n",
      "2.648123025894165 3.0\n",
      "4.1025071144104 4.0\n",
      "4.629473686218262 5.0\n",
      "2.9846653938293457 3.5\n",
      "2.7111563682556152 3.0\n",
      "3.7503857612609863 4.0\n",
      "2.1315104961395264 2.5\n",
      "4.918742656707764 5.0\n",
      "4.7571492195129395 5.0\n",
      "4.636507034301758 5.0\n",
      "4.052530765533447 5.0\n",
      "4.724014759063721 5.0\n",
      "2.9448790550231934 3.0\n",
      "4.654527187347412 5.0\n"
     ]
    }
   ],
   "source": [
    "for index, row in ratings[:100].iterrows():\n",
    "    print(predict(int(row['userId']), int(row['movieId'])), row['rating'])"
   ]
  }
 ],
 "metadata": {
  "kernelspec": {
   "display_name": "Python 3",
   "language": "python",
   "name": "python3"
  },
  "language_info": {
   "codemirror_mode": {
    "name": "ipython",
    "version": 3
   },
   "file_extension": ".py",
   "mimetype": "text/x-python",
   "name": "python",
   "nbconvert_exporter": "python",
   "pygments_lexer": "ipython3",
   "version": "3.7.3"
  }
 },
 "nbformat": 4,
 "nbformat_minor": 2
}
