{
 "cells": [
  {
   "cell_type": "code",
   "execution_count": 1,
   "metadata": {},
   "outputs": [],
   "source": [
    "%reload_ext autoreload\n",
    "%autoreload 2"
   ]
  },
  {
   "cell_type": "code",
   "execution_count": 32,
   "metadata": {},
   "outputs": [],
   "source": [
    "import pandas as pd\n",
    "import numpy as np\n",
    "from sklearn.model_selection import cross_val_score\n",
    "from sklearn.ensemble import RandomForestRegressor\n",
    "from sklearn.model_selection import train_test_split\n",
    "from pathlib import Path"
   ]
  },
  {
   "cell_type": "code",
   "execution_count": 5,
   "metadata": {},
   "outputs": [],
   "source": [
    "path = Path('/root/.fastai/meggitt')"
   ]
  },
  {
   "cell_type": "code",
   "execution_count": 6,
   "metadata": {},
   "outputs": [
    {
     "data": {
      "text/plain": [
       "PosixPath('/root/.fastai/meggitt')"
      ]
     },
     "execution_count": 6,
     "metadata": {},
     "output_type": "execute_result"
    }
   ],
   "source": [
    "path"
   ]
  },
  {
   "cell_type": "code",
   "execution_count": 7,
   "metadata": {},
   "outputs": [],
   "source": [
    "df = pd.read_csv(path/'meggitt_prices.csv', sep=',')"
   ]
  },
  {
   "cell_type": "code",
   "execution_count": 8,
   "metadata": {},
   "outputs": [],
   "source": [
    "df.columns = ['customer_region', 'customer_segment', 'customer_division', 'customer_planning_entity', 'customer_account_manager', 'product_type_of_sales', \n",
    "              'product_segment', 'product_planning_entity', 'product_description', 'product_production_site', 'product_platform',\n",
    "             'year', 'month', 'planning_price']"
   ]
  },
  {
   "cell_type": "code",
   "execution_count": 9,
   "metadata": {},
   "outputs": [
    {
     "data": {
      "text/html": [
       "<div>\n",
       "<style scoped>\n",
       "    .dataframe tbody tr th:only-of-type {\n",
       "        vertical-align: middle;\n",
       "    }\n",
       "\n",
       "    .dataframe tbody tr th {\n",
       "        vertical-align: top;\n",
       "    }\n",
       "\n",
       "    .dataframe thead th {\n",
       "        text-align: right;\n",
       "    }\n",
       "</style>\n",
       "<table border=\"1\" class=\"dataframe\">\n",
       "  <thead>\n",
       "    <tr style=\"text-align: right;\">\n",
       "      <th></th>\n",
       "      <th>customer_region</th>\n",
       "      <th>customer_segment</th>\n",
       "      <th>customer_division</th>\n",
       "      <th>customer_planning_entity</th>\n",
       "      <th>customer_account_manager</th>\n",
       "      <th>product_type_of_sales</th>\n",
       "      <th>product_segment</th>\n",
       "      <th>product_planning_entity</th>\n",
       "      <th>product_description</th>\n",
       "      <th>product_production_site</th>\n",
       "      <th>product_platform</th>\n",
       "      <th>year</th>\n",
       "      <th>month</th>\n",
       "      <th>planning_price</th>\n",
       "    </tr>\n",
       "  </thead>\n",
       "  <tbody>\n",
       "    <tr>\n",
       "      <th>0</th>\n",
       "      <td>EMEA</td>\n",
       "      <td>TBD</td>\n",
       "      <td>Civil</td>\n",
       "      <td>TBD</td>\n",
       "      <td>Unknown</td>\n",
       "      <td>MRO</td>\n",
       "      <td>Fire Detection Simi</td>\n",
       "      <td>6360-13</td>\n",
       "      <td>450/170C-10.0M F/O DET</td>\n",
       "      <td>MCS US Simi</td>\n",
       "      <td>AW139</td>\n",
       "      <td>2019</td>\n",
       "      <td>2</td>\n",
       "      <td>561.362002</td>\n",
       "    </tr>\n",
       "    <tr>\n",
       "      <th>1</th>\n",
       "      <td>EMEA</td>\n",
       "      <td>TBD</td>\n",
       "      <td>Civil</td>\n",
       "      <td>TBD</td>\n",
       "      <td>Unknown</td>\n",
       "      <td>MRO</td>\n",
       "      <td>Fire Detection Simi</td>\n",
       "      <td>6360-13</td>\n",
       "      <td>450/170C-10.0M F/O DET</td>\n",
       "      <td>MCS US Simi</td>\n",
       "      <td>AW139</td>\n",
       "      <td>2019</td>\n",
       "      <td>3</td>\n",
       "      <td>561.362002</td>\n",
       "    </tr>\n",
       "    <tr>\n",
       "      <th>2</th>\n",
       "      <td>EMEA</td>\n",
       "      <td>TBD</td>\n",
       "      <td>Civil</td>\n",
       "      <td>TBD</td>\n",
       "      <td>Unknown</td>\n",
       "      <td>MRO</td>\n",
       "      <td>Fire Detection Simi</td>\n",
       "      <td>6360-13</td>\n",
       "      <td>450/170C-10.0M F/O DET</td>\n",
       "      <td>MCS US Simi</td>\n",
       "      <td>AW139</td>\n",
       "      <td>2019</td>\n",
       "      <td>4</td>\n",
       "      <td>561.362002</td>\n",
       "    </tr>\n",
       "    <tr>\n",
       "      <th>3</th>\n",
       "      <td>EMEA</td>\n",
       "      <td>TBD</td>\n",
       "      <td>Civil</td>\n",
       "      <td>TBD</td>\n",
       "      <td>Unknown</td>\n",
       "      <td>MRO</td>\n",
       "      <td>Fire Detection Simi</td>\n",
       "      <td>6360-13</td>\n",
       "      <td>450/170C-10.0M F/O DET</td>\n",
       "      <td>MCS US Simi</td>\n",
       "      <td>AW139</td>\n",
       "      <td>2019</td>\n",
       "      <td>6</td>\n",
       "      <td>561.362002</td>\n",
       "    </tr>\n",
       "    <tr>\n",
       "      <th>4</th>\n",
       "      <td>EMEA</td>\n",
       "      <td>TBD</td>\n",
       "      <td>Civil</td>\n",
       "      <td>TBD</td>\n",
       "      <td>Unknown</td>\n",
       "      <td>MRO</td>\n",
       "      <td>Fire Detection Simi</td>\n",
       "      <td>6360-13</td>\n",
       "      <td>450/170C-10.0M F/O DET</td>\n",
       "      <td>MCS US Simi</td>\n",
       "      <td>AW139</td>\n",
       "      <td>2019</td>\n",
       "      <td>5</td>\n",
       "      <td>561.362002</td>\n",
       "    </tr>\n",
       "    <tr>\n",
       "      <th>5</th>\n",
       "      <td>EMEA</td>\n",
       "      <td>TBD</td>\n",
       "      <td>Civil</td>\n",
       "      <td>TBD</td>\n",
       "      <td>Unknown</td>\n",
       "      <td>MRO</td>\n",
       "      <td>Fire Detection Simi</td>\n",
       "      <td>6360-13</td>\n",
       "      <td>450/170C-10.0M F/O DET</td>\n",
       "      <td>MCS US Simi</td>\n",
       "      <td>AW139</td>\n",
       "      <td>2019</td>\n",
       "      <td>7</td>\n",
       "      <td>561.362002</td>\n",
       "    </tr>\n",
       "    <tr>\n",
       "      <th>6</th>\n",
       "      <td>EMEA</td>\n",
       "      <td>TBD</td>\n",
       "      <td>Civil</td>\n",
       "      <td>TBD</td>\n",
       "      <td>Unknown</td>\n",
       "      <td>MRO</td>\n",
       "      <td>Fire Detection Simi</td>\n",
       "      <td>6360-13</td>\n",
       "      <td>450/170C-10.0M F/O DET</td>\n",
       "      <td>MCS US Simi</td>\n",
       "      <td>AW139</td>\n",
       "      <td>2019</td>\n",
       "      <td>10</td>\n",
       "      <td>561.362002</td>\n",
       "    </tr>\n",
       "  </tbody>\n",
       "</table>\n",
       "</div>"
      ],
      "text/plain": [
       "  customer_region customer_segment customer_division customer_planning_entity  \\\n",
       "0            EMEA              TBD             Civil                      TBD   \n",
       "1            EMEA              TBD             Civil                      TBD   \n",
       "2            EMEA              TBD             Civil                      TBD   \n",
       "3            EMEA              TBD             Civil                      TBD   \n",
       "4            EMEA              TBD             Civil                      TBD   \n",
       "5            EMEA              TBD             Civil                      TBD   \n",
       "6            EMEA              TBD             Civil                      TBD   \n",
       "\n",
       "  customer_account_manager product_type_of_sales      product_segment  \\\n",
       "0                  Unknown                   MRO  Fire Detection Simi   \n",
       "1                  Unknown                   MRO  Fire Detection Simi   \n",
       "2                  Unknown                   MRO  Fire Detection Simi   \n",
       "3                  Unknown                   MRO  Fire Detection Simi   \n",
       "4                  Unknown                   MRO  Fire Detection Simi   \n",
       "5                  Unknown                   MRO  Fire Detection Simi   \n",
       "6                  Unknown                   MRO  Fire Detection Simi   \n",
       "\n",
       "  product_planning_entity     product_description product_production_site  \\\n",
       "0                 6360-13  450/170C-10.0M F/O DET             MCS US Simi   \n",
       "1                 6360-13  450/170C-10.0M F/O DET             MCS US Simi   \n",
       "2                 6360-13  450/170C-10.0M F/O DET             MCS US Simi   \n",
       "3                 6360-13  450/170C-10.0M F/O DET             MCS US Simi   \n",
       "4                 6360-13  450/170C-10.0M F/O DET             MCS US Simi   \n",
       "5                 6360-13  450/170C-10.0M F/O DET             MCS US Simi   \n",
       "6                 6360-13  450/170C-10.0M F/O DET             MCS US Simi   \n",
       "\n",
       "  product_platform  year  month  planning_price  \n",
       "0            AW139  2019      2      561.362002  \n",
       "1            AW139  2019      3      561.362002  \n",
       "2            AW139  2019      4      561.362002  \n",
       "3            AW139  2019      6      561.362002  \n",
       "4            AW139  2019      5      561.362002  \n",
       "5            AW139  2019      7      561.362002  \n",
       "6            AW139  2019     10      561.362002  "
      ]
     },
     "execution_count": 9,
     "metadata": {},
     "output_type": "execute_result"
    }
   ],
   "source": [
    "df.head(7)"
   ]
  },
  {
   "cell_type": "code",
   "execution_count": 11,
   "metadata": {},
   "outputs": [
    {
     "data": {
      "text/plain": [
       "(378263, 14)"
      ]
     },
     "execution_count": 11,
     "metadata": {},
     "output_type": "execute_result"
    }
   ],
   "source": [
    "df.shape"
   ]
  },
  {
   "cell_type": "code",
   "execution_count": 13,
   "metadata": {},
   "outputs": [
    {
     "data": {
      "text/html": [
       "<div>\n",
       "<style scoped>\n",
       "    .dataframe tbody tr th:only-of-type {\n",
       "        vertical-align: middle;\n",
       "    }\n",
       "\n",
       "    .dataframe tbody tr th {\n",
       "        vertical-align: top;\n",
       "    }\n",
       "\n",
       "    .dataframe thead th {\n",
       "        text-align: right;\n",
       "    }\n",
       "</style>\n",
       "<table border=\"1\" class=\"dataframe\">\n",
       "  <thead>\n",
       "    <tr style=\"text-align: right;\">\n",
       "      <th></th>\n",
       "      <th>year</th>\n",
       "      <th>month</th>\n",
       "      <th>planning_price</th>\n",
       "    </tr>\n",
       "  </thead>\n",
       "  <tbody>\n",
       "    <tr>\n",
       "      <th>count</th>\n",
       "      <td>378263.000000</td>\n",
       "      <td>378263.000000</td>\n",
       "      <td>378263.000000</td>\n",
       "    </tr>\n",
       "    <tr>\n",
       "      <th>mean</th>\n",
       "      <td>2019.500001</td>\n",
       "      <td>6.500015</td>\n",
       "      <td>4825.761828</td>\n",
       "    </tr>\n",
       "    <tr>\n",
       "      <th>std</th>\n",
       "      <td>0.500001</td>\n",
       "      <td>3.452050</td>\n",
       "      <td>14475.787886</td>\n",
       "    </tr>\n",
       "    <tr>\n",
       "      <th>min</th>\n",
       "      <td>2019.000000</td>\n",
       "      <td>1.000000</td>\n",
       "      <td>-118423.169231</td>\n",
       "    </tr>\n",
       "    <tr>\n",
       "      <th>25%</th>\n",
       "      <td>2019.000000</td>\n",
       "      <td>4.000000</td>\n",
       "      <td>385.763456</td>\n",
       "    </tr>\n",
       "    <tr>\n",
       "      <th>50%</th>\n",
       "      <td>2020.000000</td>\n",
       "      <td>7.000000</td>\n",
       "      <td>1453.050427</td>\n",
       "    </tr>\n",
       "    <tr>\n",
       "      <th>75%</th>\n",
       "      <td>2020.000000</td>\n",
       "      <td>9.500000</td>\n",
       "      <td>4484.804453</td>\n",
       "    </tr>\n",
       "    <tr>\n",
       "      <th>max</th>\n",
       "      <td>2020.000000</td>\n",
       "      <td>12.000000</td>\n",
       "      <td>314929.769231</td>\n",
       "    </tr>\n",
       "  </tbody>\n",
       "</table>\n",
       "</div>"
      ],
      "text/plain": [
       "                year          month  planning_price\n",
       "count  378263.000000  378263.000000   378263.000000\n",
       "mean     2019.500001       6.500015     4825.761828\n",
       "std         0.500001       3.452050    14475.787886\n",
       "min      2019.000000       1.000000  -118423.169231\n",
       "25%      2019.000000       4.000000      385.763456\n",
       "50%      2020.000000       7.000000     1453.050427\n",
       "75%      2020.000000       9.500000     4484.804453\n",
       "max      2020.000000      12.000000   314929.769231"
      ]
     },
     "execution_count": 13,
     "metadata": {},
     "output_type": "execute_result"
    }
   ],
   "source": [
    "df.describe()"
   ]
  },
  {
   "cell_type": "code",
   "execution_count": 14,
   "metadata": {},
   "outputs": [],
   "source": [
    "df = pd.get_dummies(df)"
   ]
  },
  {
   "cell_type": "code",
   "execution_count": 16,
   "metadata": {},
   "outputs": [
    {
     "data": {
      "text/html": [
       "<div>\n",
       "<style scoped>\n",
       "    .dataframe tbody tr th:only-of-type {\n",
       "        vertical-align: middle;\n",
       "    }\n",
       "\n",
       "    .dataframe tbody tr th {\n",
       "        vertical-align: top;\n",
       "    }\n",
       "\n",
       "    .dataframe thead th {\n",
       "        text-align: right;\n",
       "    }\n",
       "</style>\n",
       "<table border=\"1\" class=\"dataframe\">\n",
       "  <thead>\n",
       "    <tr style=\"text-align: right;\">\n",
       "      <th></th>\n",
       "      <th>year</th>\n",
       "      <th>month</th>\n",
       "      <th>planning_price</th>\n",
       "      <th>customer_region_APAC</th>\n",
       "      <th>customer_region_Americas</th>\n",
       "      <th>customer_region_EMEA</th>\n",
       "      <th>customer_region_Not Applicable</th>\n",
       "      <th>customer_region_Unknown</th>\n",
       "      <th>customer_segment_Aircraft Operators</th>\n",
       "      <th>customer_segment_Airframe OEM</th>\n",
       "      <th>...</th>\n",
       "      <th>product_platform_UH60 Black Hawk (T70,Unknown</th>\n",
       "      <th>product_platform_Unknown</th>\n",
       "      <th>product_platform_Unknown,V-22 Osprey</th>\n",
       "      <th>product_platform_Unknown,VALVE</th>\n",
       "      <th>product_platform_Unknown,WG13/Lynx (Airframe)</th>\n",
       "      <th>product_platform_V-22 Osprey</th>\n",
       "      <th>product_platform_V2500</th>\n",
       "      <th>product_platform_V2500-A1</th>\n",
       "      <th>product_platform_VALVE</th>\n",
       "      <th>product_platform_WG13/Lynx (Airframe)</th>\n",
       "    </tr>\n",
       "  </thead>\n",
       "  <tbody>\n",
       "    <tr>\n",
       "      <th>0</th>\n",
       "      <td>2019</td>\n",
       "      <td>2</td>\n",
       "      <td>561.362002</td>\n",
       "      <td>0</td>\n",
       "      <td>0</td>\n",
       "      <td>1</td>\n",
       "      <td>0</td>\n",
       "      <td>0</td>\n",
       "      <td>0</td>\n",
       "      <td>0</td>\n",
       "      <td>...</td>\n",
       "      <td>0</td>\n",
       "      <td>0</td>\n",
       "      <td>0</td>\n",
       "      <td>0</td>\n",
       "      <td>0</td>\n",
       "      <td>0</td>\n",
       "      <td>0</td>\n",
       "      <td>0</td>\n",
       "      <td>0</td>\n",
       "      <td>0</td>\n",
       "    </tr>\n",
       "    <tr>\n",
       "      <th>1</th>\n",
       "      <td>2019</td>\n",
       "      <td>3</td>\n",
       "      <td>561.362002</td>\n",
       "      <td>0</td>\n",
       "      <td>0</td>\n",
       "      <td>1</td>\n",
       "      <td>0</td>\n",
       "      <td>0</td>\n",
       "      <td>0</td>\n",
       "      <td>0</td>\n",
       "      <td>...</td>\n",
       "      <td>0</td>\n",
       "      <td>0</td>\n",
       "      <td>0</td>\n",
       "      <td>0</td>\n",
       "      <td>0</td>\n",
       "      <td>0</td>\n",
       "      <td>0</td>\n",
       "      <td>0</td>\n",
       "      <td>0</td>\n",
       "      <td>0</td>\n",
       "    </tr>\n",
       "    <tr>\n",
       "      <th>2</th>\n",
       "      <td>2019</td>\n",
       "      <td>4</td>\n",
       "      <td>561.362002</td>\n",
       "      <td>0</td>\n",
       "      <td>0</td>\n",
       "      <td>1</td>\n",
       "      <td>0</td>\n",
       "      <td>0</td>\n",
       "      <td>0</td>\n",
       "      <td>0</td>\n",
       "      <td>...</td>\n",
       "      <td>0</td>\n",
       "      <td>0</td>\n",
       "      <td>0</td>\n",
       "      <td>0</td>\n",
       "      <td>0</td>\n",
       "      <td>0</td>\n",
       "      <td>0</td>\n",
       "      <td>0</td>\n",
       "      <td>0</td>\n",
       "      <td>0</td>\n",
       "    </tr>\n",
       "    <tr>\n",
       "      <th>3</th>\n",
       "      <td>2019</td>\n",
       "      <td>6</td>\n",
       "      <td>561.362002</td>\n",
       "      <td>0</td>\n",
       "      <td>0</td>\n",
       "      <td>1</td>\n",
       "      <td>0</td>\n",
       "      <td>0</td>\n",
       "      <td>0</td>\n",
       "      <td>0</td>\n",
       "      <td>...</td>\n",
       "      <td>0</td>\n",
       "      <td>0</td>\n",
       "      <td>0</td>\n",
       "      <td>0</td>\n",
       "      <td>0</td>\n",
       "      <td>0</td>\n",
       "      <td>0</td>\n",
       "      <td>0</td>\n",
       "      <td>0</td>\n",
       "      <td>0</td>\n",
       "    </tr>\n",
       "    <tr>\n",
       "      <th>4</th>\n",
       "      <td>2019</td>\n",
       "      <td>5</td>\n",
       "      <td>561.362002</td>\n",
       "      <td>0</td>\n",
       "      <td>0</td>\n",
       "      <td>1</td>\n",
       "      <td>0</td>\n",
       "      <td>0</td>\n",
       "      <td>0</td>\n",
       "      <td>0</td>\n",
       "      <td>...</td>\n",
       "      <td>0</td>\n",
       "      <td>0</td>\n",
       "      <td>0</td>\n",
       "      <td>0</td>\n",
       "      <td>0</td>\n",
       "      <td>0</td>\n",
       "      <td>0</td>\n",
       "      <td>0</td>\n",
       "      <td>0</td>\n",
       "      <td>0</td>\n",
       "    </tr>\n",
       "  </tbody>\n",
       "</table>\n",
       "<p>5 rows × 6358 columns</p>\n",
       "</div>"
      ],
      "text/plain": [
       "   year  month  planning_price  customer_region_APAC  \\\n",
       "0  2019      2      561.362002                     0   \n",
       "1  2019      3      561.362002                     0   \n",
       "2  2019      4      561.362002                     0   \n",
       "3  2019      6      561.362002                     0   \n",
       "4  2019      5      561.362002                     0   \n",
       "\n",
       "   customer_region_Americas  customer_region_EMEA  \\\n",
       "0                         0                     1   \n",
       "1                         0                     1   \n",
       "2                         0                     1   \n",
       "3                         0                     1   \n",
       "4                         0                     1   \n",
       "\n",
       "   customer_region_Not Applicable  customer_region_Unknown  \\\n",
       "0                               0                        0   \n",
       "1                               0                        0   \n",
       "2                               0                        0   \n",
       "3                               0                        0   \n",
       "4                               0                        0   \n",
       "\n",
       "   customer_segment_Aircraft Operators  customer_segment_Airframe OEM  ...  \\\n",
       "0                                    0                              0  ...   \n",
       "1                                    0                              0  ...   \n",
       "2                                    0                              0  ...   \n",
       "3                                    0                              0  ...   \n",
       "4                                    0                              0  ...   \n",
       "\n",
       "   product_platform_UH60 Black Hawk (T70,Unknown  product_platform_Unknown  \\\n",
       "0                                              0                         0   \n",
       "1                                              0                         0   \n",
       "2                                              0                         0   \n",
       "3                                              0                         0   \n",
       "4                                              0                         0   \n",
       "\n",
       "   product_platform_Unknown,V-22 Osprey  product_platform_Unknown,VALVE  \\\n",
       "0                                     0                               0   \n",
       "1                                     0                               0   \n",
       "2                                     0                               0   \n",
       "3                                     0                               0   \n",
       "4                                     0                               0   \n",
       "\n",
       "   product_platform_Unknown,WG13/Lynx (Airframe)  \\\n",
       "0                                              0   \n",
       "1                                              0   \n",
       "2                                              0   \n",
       "3                                              0   \n",
       "4                                              0   \n",
       "\n",
       "   product_platform_V-22 Osprey  product_platform_V2500  \\\n",
       "0                             0                       0   \n",
       "1                             0                       0   \n",
       "2                             0                       0   \n",
       "3                             0                       0   \n",
       "4                             0                       0   \n",
       "\n",
       "   product_platform_V2500-A1  product_platform_VALVE  \\\n",
       "0                          0                       0   \n",
       "1                          0                       0   \n",
       "2                          0                       0   \n",
       "3                          0                       0   \n",
       "4                          0                       0   \n",
       "\n",
       "   product_platform_WG13/Lynx (Airframe)  \n",
       "0                                      0  \n",
       "1                                      0  \n",
       "2                                      0  \n",
       "3                                      0  \n",
       "4                                      0  \n",
       "\n",
       "[5 rows x 6358 columns]"
      ]
     },
     "execution_count": 16,
     "metadata": {},
     "output_type": "execute_result"
    }
   ],
   "source": [
    "df.head()"
   ]
  },
  {
   "cell_type": "code",
   "execution_count": 17,
   "metadata": {},
   "outputs": [
    {
     "data": {
      "text/plain": [
       "(378263, 6358)"
      ]
     },
     "execution_count": 17,
     "metadata": {},
     "output_type": "execute_result"
    }
   ],
   "source": [
    "df.shape"
   ]
  },
  {
   "cell_type": "code",
   "execution_count": 22,
   "metadata": {},
   "outputs": [],
   "source": [
    "dep_var = 'planning_price'\n",
    "labels = np.array(df[dep_var])\n",
    "features= df.drop(dep_var, axis = 1)"
   ]
  },
  {
   "cell_type": "code",
   "execution_count": 23,
   "metadata": {},
   "outputs": [
    {
     "data": {
      "text/plain": [
       "(378263,)"
      ]
     },
     "execution_count": 23,
     "metadata": {},
     "output_type": "execute_result"
    }
   ],
   "source": [
    "labels.shape"
   ]
  },
  {
   "cell_type": "code",
   "execution_count": 25,
   "metadata": {},
   "outputs": [
    {
     "data": {
      "text/plain": [
       "(378263, 6357)"
      ]
     },
     "execution_count": 25,
     "metadata": {},
     "output_type": "execute_result"
    }
   ],
   "source": [
    "features.shape"
   ]
  },
  {
   "cell_type": "code",
   "execution_count": 26,
   "metadata": {},
   "outputs": [],
   "source": [
    "# Saving feature names for later use\n",
    "feature_list = list(features.columns)\n",
    "# Convert to numpy array\n",
    "features = np.array(features)"
   ]
  },
  {
   "cell_type": "code",
   "execution_count": 33,
   "metadata": {},
   "outputs": [],
   "source": [
    "rf = RandomForestRegressor(n_estimators = 1000, random_state = 42)"
   ]
  },
  {
   "cell_type": "code",
   "execution_count": 38,
   "metadata": {},
   "outputs": [
    {
     "data": {
      "text/plain": [
       "302610.4"
      ]
     },
     "execution_count": 38,
     "metadata": {},
     "output_type": "execute_result"
    }
   ],
   "source": [
    "features.shape[0] * 0.8"
   ]
  },
  {
   "cell_type": "code",
   "execution_count": 39,
   "metadata": {},
   "outputs": [],
   "source": [
    "# Split the data into training and testing sets\n",
    "split = 302610\n",
    "train_features, test_features, train_labels, test_labels = features[:split], features[split:], labels[:split], labels[split:]"
   ]
  },
  {
   "cell_type": "code",
   "execution_count": 40,
   "metadata": {},
   "outputs": [
    {
     "name": "stdout",
     "output_type": "stream",
     "text": [
      "Training Features Shape: (302610, 6357)\n",
      "Training Labels Shape: (302610,)\n",
      "Testing Features Shape: (75653, 6357)\n",
      "Testing Labels Shape: (75653,)\n"
     ]
    }
   ],
   "source": [
    "print('Training Features Shape:', train_features.shape)\n",
    "print('Training Labels Shape:', train_labels.shape)\n",
    "print('Testing Features Shape:', test_features.shape)\n",
    "print('Testing Labels Shape:', test_labels.shape)"
   ]
  },
  {
   "cell_type": "code",
   "execution_count": 41,
   "metadata": {},
   "outputs": [],
   "source": [
    "rf = RandomForestRegressor(n_estimators = 1000, random_state = 42)"
   ]
  },
  {
   "cell_type": "code",
   "execution_count": null,
   "metadata": {},
   "outputs": [],
   "source": [
    "rf.fit(train_features, train_labels);"
   ]
  },
  {
   "cell_type": "code",
   "execution_count": null,
   "metadata": {},
   "outputs": [],
   "source": []
  }
 ],
 "metadata": {
  "kernelspec": {
   "display_name": "Python 3",
   "language": "python",
   "name": "python3"
  },
  "language_info": {
   "codemirror_mode": {
    "name": "ipython",
    "version": 3
   },
   "file_extension": ".py",
   "mimetype": "text/x-python",
   "name": "python",
   "nbconvert_exporter": "python",
   "pygments_lexer": "ipython3",
   "version": "3.7.3"
  }
 },
 "nbformat": 4,
 "nbformat_minor": 2
}
