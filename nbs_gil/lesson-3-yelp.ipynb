{
 "cells": [
  {
   "cell_type": "code",
   "execution_count": 1,
   "metadata": {},
   "outputs": [],
   "source": [
    "%reload_ext autoreload\n",
    "%autoreload 2\n",
    "%matplotlib inline"
   ]
  },
  {
   "cell_type": "code",
   "execution_count": 2,
   "metadata": {},
   "outputs": [],
   "source": [
    "from fastai.text import *"
   ]
  },
  {
   "cell_type": "code",
   "execution_count": 3,
   "metadata": {},
   "outputs": [],
   "source": [
    "path = untar_data(URLs.YELP_REVIEWS)"
   ]
  },
  {
   "cell_type": "code",
   "execution_count": 4,
   "metadata": {},
   "outputs": [
    {
     "data": {
      "text/plain": [
       "PosixPath('/root/.fastai/data/yelp_review_full_csv')"
      ]
     },
     "execution_count": 4,
     "metadata": {},
     "output_type": "execute_result"
    }
   ],
   "source": [
    "path"
   ]
  },
  {
   "cell_type": "code",
   "execution_count": 4,
   "metadata": {},
   "outputs": [
    {
     "data": {
      "text/plain": [
       "[PosixPath('/root/.fastai/data/yelp_review_full_csv/data_clas.pkl'),\n",
       " PosixPath('/root/.fastai/data/yelp_review_full_csv/train.csv'),\n",
       " PosixPath('/root/.fastai/data/yelp_review_full_csv/test.csv'),\n",
       " PosixPath('/root/.fastai/data/yelp_review_full_csv/readme.txt'),\n",
       " PosixPath('/root/.fastai/data/yelp_review_full_csv/data_lm.pkl'),\n",
       " PosixPath('/root/.fastai/data/yelp_review_full_csv/models')]"
      ]
     },
     "execution_count": 4,
     "metadata": {},
     "output_type": "execute_result"
    }
   ],
   "source": [
    "path.ls()"
   ]
  },
  {
   "cell_type": "code",
   "execution_count": 6,
   "metadata": {},
   "outputs": [],
   "source": [
    "def display_head(file):\n",
    "    df = pd.read_csv(path/file, header=None)\n",
    "    print(df.head())"
   ]
  },
  {
   "cell_type": "code",
   "execution_count": 7,
   "metadata": {},
   "outputs": [
    {
     "name": "stdout",
     "output_type": "stream",
     "text": [
      "   0                                                  1\n",
      "0  5  dr. goldberg offers everything i look for in a...\n",
      "1  2  Unfortunately, the frustration of being Dr. Go...\n",
      "2  4  Been going to Dr. Goldberg for over 10 years. ...\n",
      "3  4  Got a letter in the mail last week that said D...\n",
      "4  1  I don't know what Dr. Goldberg was like before...\n"
     ]
    }
   ],
   "source": [
    "display_head('train.csv')"
   ]
  },
  {
   "cell_type": "code",
   "execution_count": 8,
   "metadata": {},
   "outputs": [
    {
     "name": "stdout",
     "output_type": "stream",
     "text": [
      "   0                                                  1\n",
      "0  1  I got 'new' tires from them and within two wee...\n",
      "1  1  Don't waste your time.  We had two different p...\n",
      "2  1  All I can say is the worst! We were the only 2...\n",
      "3  1  I have been to this restaurant twice and was d...\n",
      "4  1  Food was NOT GOOD at all! My husband & I ate h...\n"
     ]
    }
   ],
   "source": [
    "display_head('test.csv')"
   ]
  },
  {
   "cell_type": "code",
   "execution_count": 9,
   "metadata": {},
   "outputs": [
    {
     "name": "stdout",
     "output_type": "stream",
     "text": [
      "\n",
      "\n",
      "```text\n",
      "=== Software === \n",
      "python        : 3.7.3\n",
      "fastai        : 1.0.54\n",
      "fastprogress  : 0.1.21\n",
      "torch         : 1.0.0\n",
      "nvidia driver : 410.72\n",
      "torch cuda    : 10.0.130 / is available\n",
      "torch cudnn   : 7401 / is enabled\n",
      "\n",
      "=== Hardware === \n",
      "nvidia gpus   : 1\n",
      "torch devices : 1\n",
      "  - gpu0      : 7611MB | Tesla P4\n",
      "\n",
      "=== Environment === \n",
      "platform      : Linux-4.9.0-8-amd64-x86_64-with-debian-9.7\n",
      "distro        : #1 SMP Debian 4.9.130-2 (2018-10-27)\n",
      "conda env     : base\n",
      "python        : /opt/anaconda3/bin/python\n",
      "sys.path      : /opt/deeplearning/workspace/tutorials/fastai/course-v3/nbs_gil\n",
      "/opt/anaconda3/lib/python37.zip\n",
      "/opt/anaconda3/lib/python3.7\n",
      "/opt/anaconda3/lib/python3.7/lib-dynload\n",
      "\n",
      "/opt/anaconda3/lib/python3.7/site-packages\n",
      "/opt/anaconda3/lib/python3.7/site-packages/IPython/extensions\n",
      "/root/.ipython\n",
      "```\n",
      "\n",
      "Please make sure to include opening/closing ``` when you paste into forums/github to make the reports appear formatted as code sections.\n",
      "\n",
      "Optional package(s) to enhance the diagnostics can be installed with:\n",
      "pip install distro\n",
      "Once installed, re-run this utility to get the additional information\n"
     ]
    }
   ],
   "source": [
    "from fastai.utils.show_install import *\n",
    "show_install()"
   ]
  },
  {
   "cell_type": "code",
   "execution_count": 10,
   "metadata": {},
   "outputs": [
    {
     "data": {
      "text/html": [
       "<table border=\"1\" class=\"dataframe\">\n",
       "  <thead>\n",
       "    <tr style=\"text-align: right;\">\n",
       "      <th>text</th>\n",
       "      <th>target</th>\n",
       "    </tr>\n",
       "  </thead>\n",
       "  <tbody>\n",
       "    <tr>\n",
       "      <td>xxbos xxup wed , xxup march 27 , 2013 / / xxup xxunk \\n  xxup price xxup for 2 : $ xxunk ( xxup tr price ) + $ xxunk ( tax ) + $ xxunk ( tip ) = $ 80.00 \\n  xxup wait : 15 - 20mins \\n  xxup server : xxup dawn - ( 4 / 5 ) . xxmaj she looked frazzled but</td>\n",
       "      <td>5</td>\n",
       "    </tr>\n",
       "    <tr>\n",
       "      <td>xxbos xxmaj honestly , i love supporting small businesses whenever they open in our city of xxmaj las xxmaj vegas , but if you do please come with your game correct ! xxmaj wing xxmaj heaven was just a letdown . \\n \\n  xxmaj the concept is great , wings , fish , other fried delights . xxmaj but where xxmaj wing xxmaj heaven fails is in the execution</td>\n",
       "      <td>2</td>\n",
       "    </tr>\n",
       "    <tr>\n",
       "      <td>xxbos xxmaj let me start by saying i was n't going to write a review after what i thought was a resolved incident . i decided to book a room for saturday night to catch some sleep before checking into xxup mgm on sunday and monday night . i booked a night for saturday and found the price to be reasonable . i checked in at 8 pm and told</td>\n",
       "      <td>1</td>\n",
       "    </tr>\n",
       "    <tr>\n",
       "      <td>xxbos i have been coming to xxmaj studio b since it first opened . xxmaj even when i moved away to xxmaj california in 2010 , i would come to xxmaj studio b at least xxup once if i visited xxmaj las xxmaj vegas . \\n \\n  xxmaj like many have mentioned , xxmaj studio b includes alcoholic beverages in their buffet . xxmaj they give you the choice</td>\n",
       "      <td>2</td>\n",
       "    </tr>\n",
       "    <tr>\n",
       "      <td>xxbos i hate to be the first to review this with such a negative rating , unfortunately opening day did not do the place justice . i understand that opening on a xxmaj friday night has its perks - lots of business , great way to show your nightlife capabilities - and show off in general , fresh crowds and new people to bring in and form into regulars ,</td>\n",
       "      <td>2</td>\n",
       "    </tr>\n",
       "  </tbody>\n",
       "</table>"
      ],
      "text/plain": [
       "<IPython.core.display.HTML object>"
      ]
     },
     "metadata": {},
     "output_type": "display_data"
    }
   ],
   "source": [
    "data = TextClasDataBunch.from_csv(path, 'train.csv')\n",
    "data.show_batch()"
   ]
  },
  {
   "cell_type": "code",
   "execution_count": 4,
   "metadata": {},
   "outputs": [],
   "source": [
    "bs=48"
   ]
  },
  {
   "cell_type": "code",
   "execution_count": 10,
   "metadata": {},
   "outputs": [],
   "source": [
    "bs=24 # For later training sessions only"
   ]
  },
  {
   "cell_type": "code",
   "execution_count": 5,
   "metadata": {},
   "outputs": [],
   "source": [
    "bs=12"
   ]
  },
  {
   "cell_type": "code",
   "execution_count": 12,
   "metadata": {},
   "outputs": [],
   "source": [
    "data = TextList.from_csv(path, 'train.csv', cols=1).split_by_rand_pct(0.1).label_for_lm().databunch(bs=bs)"
   ]
  },
  {
   "cell_type": "code",
   "execution_count": 13,
   "metadata": {},
   "outputs": [
    {
     "data": {
      "text/html": [
       "<table border=\"1\" class=\"dataframe\">\n",
       "  <thead>\n",
       "    <tr style=\"text-align: right;\">\n",
       "      <th>idx</th>\n",
       "      <th>text</th>\n",
       "    </tr>\n",
       "  </thead>\n",
       "  <tbody>\n",
       "    <tr>\n",
       "      <td>0</td>\n",
       "      <td>or wants to deal with it ? i have run into this problem with many other doctors and i just do n't get it . xxmaj you have office workers , you have patients with medical needs , why is n't anyone answering the phone ? xxmaj it 's incomprehensible and not work the aggravation . xxmaj it 's with regret that i feel that i have to give xxmaj</td>\n",
       "    </tr>\n",
       "    <tr>\n",
       "      <td>1</td>\n",
       "      <td>made me sick . xxmaj did i mention that ? i do n't totally blame xxmaj baja though . xxmaj chipotle did its part in pissing me off for the whole trip . xxmaj baja unfortunately just fell out of my butt hours later . xxbos xxmaj this is the second xxmaj baja xxmaj fresh location i 've been to . xxmaj like all the others places i visited in</td>\n",
       "    </tr>\n",
       "    <tr>\n",
       "      <td>2</td>\n",
       "      <td>here or pick up a to - go order and eat it in whatever environment you choose ! xxbos xxmaj since moving back to xxmaj arizona from xxmaj california 5 years ago , we 've tried out many xxmaj chinese food restaurants in the valley . xxmaj this is one of the best that we 've found so far . \\n \\n  xxmaj the decor is a bit tired</td>\n",
       "    </tr>\n",
       "    <tr>\n",
       "      <td>3</td>\n",
       "      <td>and literally hours before items were delivered . xxmaj the room itself is as far away as is possible to be from the conference rooms , and actually , quite tired and dark . i requested a move to a better room , but was flatly refused . xxmaj parking is a nightmare . xxmaj wo n't stay here again , and will hope to be able to convince my</td>\n",
       "    </tr>\n",
       "    <tr>\n",
       "      <td>4</td>\n",
       "      <td>1.5 hours later the delivery man showed up . ( i called at the 55 min mark and was assured that the driver was on his way ) . xxmaj well 40 min after that when he did show up , he brought 1 tiny container of xxmaj lasagna ( enough for a child 's portion ) and our xxmaj garlic bread . xxmaj now starving and super disappointed ,</td>\n",
       "    </tr>\n",
       "  </tbody>\n",
       "</table>"
      ],
      "text/plain": [
       "<IPython.core.display.HTML object>"
      ]
     },
     "metadata": {},
     "output_type": "display_data"
    }
   ],
   "source": [
    "data.show_batch()"
   ]
  },
  {
   "cell_type": "code",
   "execution_count": 14,
   "metadata": {},
   "outputs": [
    {
     "data": {
      "text/plain": [
       "['xxunk',\n",
       " 'xxpad',\n",
       " 'xxbos',\n",
       " 'xxeos',\n",
       " 'xxfld',\n",
       " 'xxmaj',\n",
       " 'xxup',\n",
       " 'xxrep',\n",
       " 'xxwrep',\n",
       " '.',\n",
       " 'the',\n",
       " ',',\n",
       " 'and',\n",
       " 'i',\n",
       " 'a',\n",
       " 'to',\n",
       " 'was',\n",
       " 'it',\n",
       " 'of',\n",
       " 'for']"
      ]
     },
     "execution_count": 14,
     "metadata": {},
     "output_type": "execute_result"
    }
   ],
   "source": [
    "data.vocab.itos[:20]"
   ]
  },
  {
   "cell_type": "code",
   "execution_count": 15,
   "metadata": {},
   "outputs": [
    {
     "data": {
      "text/plain": [
       "Text xxbos xxmaj unfortunately , the frustration of being xxmaj dr. xxmaj goldberg 's patient is a repeat of the experience i 've had with so many other doctors in xxup nyc -- good doctor , terrible staff . xxmaj it seems that his staff simply never answers the phone . xxmaj it usually takes 2 hours of repeated calling to get an answer . xxmaj who has time for that or wants to deal with it ? i have run into this problem with many other doctors and i just do n't get it . xxmaj you have office workers , you have patients with medical needs , why is n't anyone answering the phone ? xxmaj it 's incomprehensible and not work the aggravation . xxmaj it 's with regret that i feel that i have to give xxmaj dr. xxmaj goldberg 2 stars ."
      ]
     },
     "execution_count": 15,
     "metadata": {},
     "output_type": "execute_result"
    }
   ],
   "source": [
    "data.train_ds[0][0]"
   ]
  },
  {
   "cell_type": "code",
   "execution_count": 16,
   "metadata": {},
   "outputs": [
    {
     "data": {
      "text/plain": [
       "array([   2,    5,  637,   11,   10, 4512,   18,  196,    5, 1367])"
      ]
     },
     "execution_count": 16,
     "metadata": {},
     "output_type": "execute_result"
    }
   ],
   "source": [
    "data.train_ds[0][0].data[:10]"
   ]
  },
  {
   "cell_type": "code",
   "execution_count": 17,
   "metadata": {},
   "outputs": [],
   "source": [
    "data_lm = data"
   ]
  },
  {
   "cell_type": "code",
   "execution_count": 18,
   "metadata": {},
   "outputs": [],
   "source": [
    "data_lm.save('data_lm.pkl')"
   ]
  },
  {
   "cell_type": "code",
   "execution_count": 8,
   "metadata": {},
   "outputs": [],
   "source": [
    "data_lm = load_data(path, 'data_lm.pkl', bs=bs)"
   ]
  },
  {
   "cell_type": "code",
   "execution_count": 9,
   "metadata": {},
   "outputs": [
    {
     "data": {
      "text/html": [
       "<table border=\"1\" class=\"dataframe\">\n",
       "  <thead>\n",
       "    <tr style=\"text-align: right;\">\n",
       "      <th>idx</th>\n",
       "      <th>text</th>\n",
       "    </tr>\n",
       "  </thead>\n",
       "  <tbody>\n",
       "    <tr>\n",
       "      <td>0</td>\n",
       "      <td>or wants to deal with it ? i have run into this problem with many other doctors and i just do n't get it . xxmaj you have office workers , you have patients with medical needs , why is n't anyone answering the phone ? xxmaj it 's incomprehensible and not work the aggravation . xxmaj it 's with regret that i feel that i have to give xxmaj</td>\n",
       "    </tr>\n",
       "    <tr>\n",
       "      <td>1</td>\n",
       "      <td>made me sick . xxmaj did i mention that ? i do n't totally blame xxmaj baja though . xxmaj chipotle did its part in pissing me off for the whole trip . xxmaj baja unfortunately just fell out of my butt hours later . xxbos xxmaj this is the second xxmaj baja xxmaj fresh location i 've been to . xxmaj like all the others places i visited in</td>\n",
       "    </tr>\n",
       "    <tr>\n",
       "      <td>2</td>\n",
       "      <td>here or pick up a to - go order and eat it in whatever environment you choose ! xxbos xxmaj since moving back to xxmaj arizona from xxmaj california 5 years ago , we 've tried out many xxmaj chinese food restaurants in the valley . xxmaj this is one of the best that we 've found so far . \\n \\n  xxmaj the decor is a bit tired</td>\n",
       "    </tr>\n",
       "    <tr>\n",
       "      <td>3</td>\n",
       "      <td>and literally hours before items were delivered . xxmaj the room itself is as far away as is possible to be from the conference rooms , and actually , quite tired and dark . i requested a move to a better room , but was flatly refused . xxmaj parking is a nightmare . xxmaj wo n't stay here again , and will hope to be able to convince my</td>\n",
       "    </tr>\n",
       "    <tr>\n",
       "      <td>4</td>\n",
       "      <td>1.5 hours later the delivery man showed up . ( i called at the 55 min mark and was assured that the driver was on his way ) . xxmaj well 40 min after that when he did show up , he brought 1 tiny container of xxmaj lasagna ( enough for a child 's portion ) and our xxmaj garlic bread . xxmaj now starving and super disappointed ,</td>\n",
       "    </tr>\n",
       "  </tbody>\n",
       "</table>"
      ],
      "text/plain": [
       "<IPython.core.display.HTML object>"
      ]
     },
     "metadata": {},
     "output_type": "display_data"
    }
   ],
   "source": [
    "data_lm.show_batch()"
   ]
  },
  {
   "cell_type": "code",
   "execution_count": 10,
   "metadata": {},
   "outputs": [],
   "source": [
    "learn = language_model_learner(data_lm, AWD_LSTM, drop_mult=0.3)"
   ]
  },
  {
   "cell_type": "code",
   "execution_count": 22,
   "metadata": {},
   "outputs": [
    {
     "data": {
      "text/html": [],
      "text/plain": [
       "<IPython.core.display.HTML object>"
      ]
     },
     "metadata": {},
     "output_type": "display_data"
    },
    {
     "name": "stdout",
     "output_type": "stream",
     "text": [
      "LR Finder is complete, type {learner_name}.recorder.plot() to see the graph.\n"
     ]
    }
   ],
   "source": [
    "learn.lr_find()"
   ]
  },
  {
   "cell_type": "code",
   "execution_count": 23,
   "metadata": {},
   "outputs": [
    {
     "data": {
      "image/png": "[encoded data removed]",
      "text/plain": [
       "<Figure size 432x288 with 1 Axes>"
      ]
     },
     "metadata": {
      "needs_background": "light"
     },
     "output_type": "display_data"
    }
   ],
   "source": [
    "learn.recorder.plot(skip_end=15)"
   ]
  },
  {
   "cell_type": "code",
   "execution_count": 24,
   "metadata": {},
   "outputs": [
    {
     "data": {
      "text/html": [
       "<table border=\"1\" class=\"dataframe\">\n",
       "  <thead>\n",
       "    <tr style=\"text-align: left;\">\n",
       "      <th>epoch</th>\n",
       "      <th>train_loss</th>\n",
       "      <th>valid_loss</th>\n",
       "      <th>accuracy</th>\n",
       "      <th>time</th>\n",
       "    </tr>\n",
       "  </thead>\n",
       "  <tbody>\n",
       "    <tr>\n",
       "      <td>0</td>\n",
       "      <td>4.022524</td>\n",
       "      <td>3.894637</td>\n",
       "      <td>0.284670</td>\n",
       "      <td>3:09:49</td>\n",
       "    </tr>\n",
       "  </tbody>\n",
       "</table>"
      ],
      "text/plain": [
       "<IPython.core.display.HTML object>"
      ]
     },
     "metadata": {},
     "output_type": "display_data"
    }
   ],
   "source": [
    "learn.fit_one_cycle(1, 0.05, moms=(0.8,0.7))"
   ]
  },
  {
   "cell_type": "code",
   "execution_count": 25,
   "metadata": {},
   "outputs": [],
   "source": [
    "learn.save('fit_head')"
   ]
  },
  {
   "cell_type": "code",
   "execution_count": 11,
   "metadata": {},
   "outputs": [],
   "source": [
    "learn.load('fit_head');"
   ]
  },
  {
   "cell_type": "code",
   "execution_count": 12,
   "metadata": {},
   "outputs": [],
   "source": [
    "learn.unfreeze()"
   ]
  },
  {
   "cell_type": "code",
   "execution_count": 13,
   "metadata": {},
   "outputs": [
    {
     "data": {
      "text/html": [
       "<table border=\"1\" class=\"dataframe\">\n",
       "  <thead>\n",
       "    <tr style=\"text-align: left;\">\n",
       "      <th>epoch</th>\n",
       "      <th>train_loss</th>\n",
       "      <th>valid_loss</th>\n",
       "      <th>accuracy</th>\n",
       "      <th>time</th>\n",
       "    </tr>\n",
       "  </thead>\n",
       "  <tbody>\n",
       "    <tr>\n",
       "      <td>0</td>\n",
       "      <td>3.727931</td>\n",
       "      <td>3.664056</td>\n",
       "      <td>0.313134</td>\n",
       "      <td>3:33:54</td>\n",
       "    </tr>\n",
       "    <tr>\n",
       "      <td>1</td>\n",
       "      <td>3.475474</td>\n",
       "      <td>3.381761</td>\n",
       "      <td>0.344824</td>\n",
       "      <td>3:33:58</td>\n",
       "    </tr>\n",
       "  </tbody>\n",
       "</table>"
      ],
      "text/plain": [
       "<IPython.core.display.HTML object>"
      ]
     },
     "metadata": {},
     "output_type": "display_data"
    }
   ],
   "source": [
    "learn.fit_one_cycle(2, 1e-2, moms=(0.8,0.7))"
   ]
  },
  {
   "cell_type": "code",
   "execution_count": 14,
   "metadata": {},
   "outputs": [],
   "source": [
    "learn.save('fine_tuned')"
   ]
  },
  {
   "cell_type": "code",
   "execution_count": 12,
   "metadata": {},
   "outputs": [],
   "source": [
    "learn.load('fine_tuned');"
   ]
  },
  {
   "cell_type": "code",
   "execution_count": 13,
   "metadata": {},
   "outputs": [],
   "source": [
    "TEXT = \"I liked this movie because\"\n",
    "N_WORDS = 40\n",
    "N_SENTENCES = 2"
   ]
  },
  {
   "cell_type": "code",
   "execution_count": 14,
   "metadata": {},
   "outputs": [
    {
     "name": "stdout",
     "output_type": "stream",
     "text": [
      "I liked this movie because it is a small park . It 's hard to see the movie theater being a big disappointment . The theater itself is very large and has a large seating area . i liked the way they upgraded\n",
      "I liked this movie because the place was busy & crowded . But the last time i went , there was no line to get in . It was just a little more than a couple of people waiting to be seated and\n"
     ]
    }
   ],
   "source": [
    "print(\"\\n\".join(learn.predict(TEXT, N_WORDS, temperature=0.75) for _ in range(N_SENTENCES)))"
   ]
  },
  {
   "cell_type": "code",
   "execution_count": null,
   "metadata": {},
   "outputs": [],
   "source": [
    "learn.save_encoder('fine_tuned_enc')"
   ]
  },
  {
   "cell_type": "code",
   "execution_count": 7,
   "metadata": {},
   "outputs": [],
   "source": [
    "data_clas = TextList.from_csv(path, 'train.csv', cols=1).split_by_rand_pct(0.1).label_from_df(cols=0).databunch(bs=bs)"
   ]
  },
  {
   "cell_type": "code",
   "execution_count": 17,
   "metadata": {},
   "outputs": [],
   "source": [
    "data_clas.save('data_clas.pkl')"
   ]
  },
  {
   "cell_type": "code",
   "execution_count": 8,
   "metadata": {},
   "outputs": [],
   "source": [
    "data_clas = load_data(path, 'data_clas.pkl', bs=bs)"
   ]
  },
  {
   "cell_type": "code",
   "execution_count": 6,
   "metadata": {},
   "outputs": [
    {
     "data": {
      "text/html": [
       "<table border=\"1\" class=\"dataframe\">\n",
       "  <thead>\n",
       "    <tr style=\"text-align: right;\">\n",
       "      <th>text</th>\n",
       "      <th>target</th>\n",
       "    </tr>\n",
       "  </thead>\n",
       "  <tbody>\n",
       "    <tr>\n",
       "      <td>xxbos xxup wed , xxup march 27 , 2013 / / xxup xxunk \\n  xxup price xxup for 2 : $ xxunk ( xxup tr price ) + $ xxunk ( tax ) + $ xxunk ( tip ) = $ 80.00 \\n  xxup wait : 15 - 20mins \\n  xxup server : xxup dawn - ( 4 / 5 ) . xxmaj she looked frazzled but</td>\n",
       "      <td>5</td>\n",
       "    </tr>\n",
       "    <tr>\n",
       "      <td>xxbos xxmaj get to mccarran , and i realize , i do n't want to walk all over the strip for 5 days , especially if we want to take a jaunt outside of vegas proper . xxmaj whip out my iphone , and check hotwire - 234 - 275 $ for a xxmaj standard xxmaj class , 222 - 259 for a xxmaj compact or xxmaj economy . i</td>\n",
       "      <td>1</td>\n",
       "    </tr>\n",
       "    <tr>\n",
       "      <td>xxbos i visited this place on 7 / 27 after finder them on spafinder . xxmaj my xxmaj fiance &amp; i had received a couple of xxmaj gift xxmaj cards for our recent engagement and decided we could use a xxmaj massage . i went on xxunk website to finder a merchant who accept their spafinder xxmaj gift xxmaj cards and i stumbled across xxunk xxmaj for xxmaj you .</td>\n",
       "      <td>1</td>\n",
       "    </tr>\n",
       "    <tr>\n",
       "      <td>xxbos xxmaj las xxmaj vegas can be on the extremes at times with all of its glamour and luxury along with the back alley dirt on your dinner table ; however , i 've never been offended by xxmaj vegas until now . \\n \\n  xxup haze may be the newest nightclub in town , but it sure wo n't last very long when the mystery is revealed that</td>\n",
       "      <td>1</td>\n",
       "    </tr>\n",
       "    <tr>\n",
       "      <td>xxbos xxmaj stopped into xxmaj total xxmaj wine again for what is now the third time . xxmaj my first time was just after it opened and the store was a bit chaotic and i found that the employees seemed a bit pretentious . i was unimpressed so it was quite a while before i went back again . \\n \\n  xxmaj my second trip in was about a</td>\n",
       "      <td>2</td>\n",
       "    </tr>\n",
       "  </tbody>\n",
       "</table>"
      ],
      "text/plain": [
       "<IPython.core.display.HTML object>"
      ]
     },
     "metadata": {},
     "output_type": "display_data"
    }
   ],
   "source": [
    "data_clas.show_batch()"
   ]
  },
  {
   "cell_type": "code",
   "execution_count": 9,
   "metadata": {},
   "outputs": [],
   "source": [
    "learn = text_classifier_learner(data_clas, AWD_LSTM, drop_mult=0.5)\n",
    "learn.load_encoder('fine_tuned_enc')"
   ]
  },
  {
   "cell_type": "code",
   "execution_count": 22,
   "metadata": {},
   "outputs": [
    {
     "data": {
      "text/html": [],
      "text/plain": [
       "<IPython.core.display.HTML object>"
      ]
     },
     "metadata": {},
     "output_type": "display_data"
    },
    {
     "name": "stdout",
     "output_type": "stream",
     "text": [
      "LR Finder is complete, type {learner_name}.recorder.plot() to see the graph.\n"
     ]
    }
   ],
   "source": [
    "learn.lr_find()"
   ]
  },
  {
   "cell_type": "code",
   "execution_count": 23,
   "metadata": {},
   "outputs": [
    {
     "data": {
      "image/png": "[encoded data removed]",
      "text/plain": [
       "<Figure size 432x288 with 1 Axes>"
      ]
     },
     "metadata": {
      "needs_background": "light"
     },
     "output_type": "display_data"
    }
   ],
   "source": [
    "learn.recorder.plot()"
   ]
  },
  {
   "cell_type": "code",
   "execution_count": 24,
   "metadata": {},
   "outputs": [
    {
     "data": {
      "text/html": [
       "<table border=\"1\" class=\"dataframe\">\n",
       "  <thead>\n",
       "    <tr style=\"text-align: left;\">\n",
       "      <th>epoch</th>\n",
       "      <th>train_loss</th>\n",
       "      <th>valid_loss</th>\n",
       "      <th>accuracy</th>\n",
       "      <th>time</th>\n",
       "    </tr>\n",
       "  </thead>\n",
       "  <tbody>\n",
       "    <tr>\n",
       "      <td>0</td>\n",
       "      <td>1.191114</td>\n",
       "      <td>1.098047</td>\n",
       "      <td>0.530008</td>\n",
       "      <td>48:12</td>\n",
       "    </tr>\n",
       "  </tbody>\n",
       "</table>"
      ],
      "text/plain": [
       "<IPython.core.display.HTML object>"
      ]
     },
     "metadata": {},
     "output_type": "display_data"
    }
   ],
   "source": [
    "learn.fit_one_cycle(1, 0.04, moms=(0.8,0.7))"
   ]
  },
  {
   "cell_type": "code",
   "execution_count": 25,
   "metadata": {},
   "outputs": [],
   "source": [
    "learn.save('first')"
   ]
  },
  {
   "cell_type": "code",
   "execution_count": 26,
   "metadata": {},
   "outputs": [],
   "source": [
    "learn.load('first');"
   ]
  },
  {
   "cell_type": "code",
   "execution_count": 27,
   "metadata": {
    "scrolled": true
   },
   "outputs": [
    {
     "data": {
      "text/html": [
       "<table border=\"1\" class=\"dataframe\">\n",
       "  <thead>\n",
       "    <tr style=\"text-align: left;\">\n",
       "      <th>epoch</th>\n",
       "      <th>train_loss</th>\n",
       "      <th>valid_loss</th>\n",
       "      <th>accuracy</th>\n",
       "      <th>time</th>\n",
       "    </tr>\n",
       "  </thead>\n",
       "  <tbody>\n",
       "    <tr>\n",
       "      <td>0</td>\n",
       "      <td>0.893896</td>\n",
       "      <td>0.809959</td>\n",
       "      <td>0.649656</td>\n",
       "      <td>1:06:08</td>\n",
       "    </tr>\n",
       "  </tbody>\n",
       "</table>"
      ],
      "text/plain": [
       "<IPython.core.display.HTML object>"
      ]
     },
     "metadata": {},
     "output_type": "display_data"
    }
   ],
   "source": [
    "learn.freeze_to(-2)\n",
    "learn.fit_one_cycle(1, slice(1e-2/(2.6**4),1e-2), moms=(0.8,0.7))"
   ]
  },
  {
   "cell_type": "code",
   "execution_count": 28,
   "metadata": {},
   "outputs": [],
   "source": [
    "learn.save('second')"
   ]
  },
  {
   "cell_type": "code",
   "execution_count": 8,
   "metadata": {},
   "outputs": [],
   "source": [
    "learn.load('second');"
   ]
  },
  {
   "cell_type": "code",
   "execution_count": 9,
   "metadata": {},
   "outputs": [
    {
     "data": {
      "text/html": [
       "<table border=\"1\" class=\"dataframe\">\n",
       "  <thead>\n",
       "    <tr style=\"text-align: left;\">\n",
       "      <th>epoch</th>\n",
       "      <th>train_loss</th>\n",
       "      <th>valid_loss</th>\n",
       "      <th>accuracy</th>\n",
       "      <th>time</th>\n",
       "    </tr>\n",
       "  </thead>\n",
       "  <tbody>\n",
       "    <tr>\n",
       "      <td>0</td>\n",
       "      <td>0.895230</td>\n",
       "      <td>0.810422</td>\n",
       "      <td>0.654164</td>\n",
       "      <td>1:46:14</td>\n",
       "    </tr>\n",
       "  </tbody>\n",
       "</table>"
      ],
      "text/plain": [
       "<IPython.core.display.HTML object>"
      ]
     },
     "metadata": {},
     "output_type": "display_data"
    }
   ],
   "source": [
    "learn.freeze_to(-3)\n",
    "learn.fit_one_cycle(1, slice(5e-3/(2.6**4),5e-3), moms=(0.8,0.7))"
   ]
  },
  {
   "cell_type": "code",
   "execution_count": 10,
   "metadata": {},
   "outputs": [],
   "source": [
    "learn.save('third')"
   ]
  },
  {
   "cell_type": "code",
   "execution_count": 10,
   "metadata": {},
   "outputs": [],
   "source": [
    "learn.load('third');"
   ]
  },
  {
   "cell_type": "code",
   "execution_count": 11,
   "metadata": {},
   "outputs": [
    {
     "data": {
      "text/html": [
       "<table border=\"1\" class=\"dataframe\">\n",
       "  <thead>\n",
       "    <tr style=\"text-align: left;\">\n",
       "      <th>epoch</th>\n",
       "      <th>train_loss</th>\n",
       "      <th>valid_loss</th>\n",
       "      <th>accuracy</th>\n",
       "      <th>time</th>\n",
       "    </tr>\n",
       "  </thead>\n",
       "  <tbody>\n",
       "    <tr>\n",
       "      <td>0</td>\n",
       "      <td>0.891890</td>\n",
       "      <td>0.794943</td>\n",
       "      <td>0.658026</td>\n",
       "      <td>4:39:20</td>\n",
       "    </tr>\n",
       "    <tr>\n",
       "      <td>1</td>\n",
       "      <td>0.833947</td>\n",
       "      <td>0.778679</td>\n",
       "      <td>0.664303</td>\n",
       "      <td>4:37:55</td>\n",
       "    </tr>\n",
       "  </tbody>\n",
       "</table>"
      ],
      "text/plain": [
       "<IPython.core.display.HTML object>"
      ]
     },
     "metadata": {},
     "output_type": "display_data"
    }
   ],
   "source": [
    "learn.unfreeze()\n",
    "learn.fit_one_cycle(2, slice(1e-3/(2.6**4),1e-3), moms=(0.8,0.7))"
   ]
  },
  {
   "cell_type": "code",
   "execution_count": 12,
   "metadata": {},
   "outputs": [],
   "source": [
    "learn.save('fully_trained')"
   ]
  },
  {
   "cell_type": "code",
   "execution_count": 15,
   "metadata": {},
   "outputs": [
    {
     "data": {
      "text/plain": [
       "(Category 5,\n",
       " tensor(4),\n",
       " tensor([5.0104e-04, 5.3109e-03, 1.0084e-02, 2.6087e-01, 7.2323e-01]))"
      ]
     },
     "execution_count": 15,
     "metadata": {},
     "output_type": "execute_result"
    }
   ],
   "source": [
    "learn.predict(\"I really loved that movie, it was awesome, excellent! This was the best movie ever\")"
   ]
  }
 ],
 "metadata": {
  "kernelspec": {
   "display_name": "Python 3",
   "language": "python",
   "name": "python3"
  },
  "language_info": {
   "codemirror_mode": {
    "name": "ipython",
    "version": 3
   },
   "file_extension": ".py",
   "mimetype": "text/x-python",
   "name": "python",
   "nbconvert_exporter": "python",
   "pygments_lexer": "ipython3",
   "version": "3.7.3"
  }
 },
 "nbformat": 4,
 "nbformat_minor": 2
}
