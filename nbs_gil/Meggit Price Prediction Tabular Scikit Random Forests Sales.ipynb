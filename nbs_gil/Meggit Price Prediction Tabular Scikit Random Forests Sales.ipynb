{
 "cells": [
  {
   "cell_type": "code",
   "execution_count": 1,
   "metadata": {},
   "outputs": [],
   "source": [
    "%reload_ext autoreload\n",
    "%autoreload 2"
   ]
  },
  {
   "cell_type": "code",
   "execution_count": 2,
   "metadata": {},
   "outputs": [],
   "source": [
    "import pandas as pd\n",
    "import numpy as np\n",
    "from sklearn.model_selection import cross_val_score\n",
    "from sklearn.ensemble import RandomForestRegressor\n",
    "from sklearn.model_selection import train_test_split\n",
    "from pathlib import Path"
   ]
  },
  {
   "cell_type": "code",
   "execution_count": 3,
   "metadata": {},
   "outputs": [],
   "source": [
    "path = Path('/root/.fastai/meggitt')"
   ]
  },
  {
   "cell_type": "code",
   "execution_count": 4,
   "metadata": {},
   "outputs": [
    {
     "data": {
      "text/plain": [
       "PosixPath('/root/.fastai/meggitt')"
      ]
     },
     "execution_count": 4,
     "metadata": {},
     "output_type": "execute_result"
    }
   ],
   "source": [
    "path"
   ]
  },
  {
   "cell_type": "code",
   "execution_count": 5,
   "metadata": {},
   "outputs": [],
   "source": [
    "df = pd.read_csv(path/'meggitt_sales_unique_avg_2.csv', sep=',')"
   ]
  },
  {
   "cell_type": "code",
   "execution_count": 6,
   "metadata": {},
   "outputs": [],
   "source": [
    "df.columns = ['source_system', 'finance_year', 'finance_month', 'customer', 'customer_division', 'partnumber', \n",
    "              'selling_site', 'type_of_sales', 'pipeline_category', 'price']"
   ]
  },
  {
   "cell_type": "code",
   "execution_count": 7,
   "metadata": {},
   "outputs": [
    {
     "data": {
      "text/html": [
       "<div>\n",
       "<style scoped>\n",
       "    .dataframe tbody tr th:only-of-type {\n",
       "        vertical-align: middle;\n",
       "    }\n",
       "\n",
       "    .dataframe tbody tr th {\n",
       "        vertical-align: top;\n",
       "    }\n",
       "\n",
       "    .dataframe thead th {\n",
       "        text-align: right;\n",
       "    }\n",
       "</style>\n",
       "<table border=\"1\" class=\"dataframe\">\n",
       "  <thead>\n",
       "    <tr style=\"text-align: right;\">\n",
       "      <th></th>\n",
       "      <th>source_system</th>\n",
       "      <th>finance_year</th>\n",
       "      <th>finance_month</th>\n",
       "      <th>customer</th>\n",
       "      <th>customer_division</th>\n",
       "      <th>partnumber</th>\n",
       "      <th>selling_site</th>\n",
       "      <th>type_of_sales</th>\n",
       "      <th>pipeline_category</th>\n",
       "      <th>price</th>\n",
       "    </tr>\n",
       "  </thead>\n",
       "  <tbody>\n",
       "    <tr>\n",
       "      <th>0</th>\n",
       "      <td>JDE_VC</td>\n",
       "      <td>2017</td>\n",
       "      <td>1</td>\n",
       "      <td>118429JDE_VC</td>\n",
       "      <td>Military</td>\n",
       "      <td>855612-115</td>\n",
       "      <td>MAS VC</td>\n",
       "      <td>MRO</td>\n",
       "      <td>Unknown</td>\n",
       "      <td>39445.042</td>\n",
       "    </tr>\n",
       "    <tr>\n",
       "      <th>1</th>\n",
       "      <td>JDE_VC</td>\n",
       "      <td>2017</td>\n",
       "      <td>1</td>\n",
       "      <td>118429JDE_VC</td>\n",
       "      <td>Military</td>\n",
       "      <td>9020-011-310F-16</td>\n",
       "      <td>MAS VC</td>\n",
       "      <td>MRO</td>\n",
       "      <td>Unknown</td>\n",
       "      <td>991.900</td>\n",
       "    </tr>\n",
       "    <tr>\n",
       "      <th>2</th>\n",
       "      <td>JDE_VC</td>\n",
       "      <td>2017</td>\n",
       "      <td>1</td>\n",
       "      <td>126819JDE_VC</td>\n",
       "      <td>Civil</td>\n",
       "      <td>MM-00150-12-40</td>\n",
       "      <td>MAS VC</td>\n",
       "      <td>MRO</td>\n",
       "      <td>Unknown</td>\n",
       "      <td>36313.797</td>\n",
       "    </tr>\n",
       "    <tr>\n",
       "      <th>3</th>\n",
       "      <td>JDE_VC</td>\n",
       "      <td>2017</td>\n",
       "      <td>1</td>\n",
       "      <td>527646JDE_VC</td>\n",
       "      <td>Civil</td>\n",
       "      <td>71133</td>\n",
       "      <td>MAS VC</td>\n",
       "      <td>MRO</td>\n",
       "      <td>Unknown</td>\n",
       "      <td>6340.880</td>\n",
       "    </tr>\n",
       "    <tr>\n",
       "      <th>4</th>\n",
       "      <td>JDE_VC</td>\n",
       "      <td>2017</td>\n",
       "      <td>1</td>\n",
       "      <td>641894JDE_VC</td>\n",
       "      <td>Civil</td>\n",
       "      <td>MM-00150-12-40</td>\n",
       "      <td>MAS VC</td>\n",
       "      <td>MRO</td>\n",
       "      <td>Unknown</td>\n",
       "      <td>36313.797</td>\n",
       "    </tr>\n",
       "    <tr>\n",
       "      <th>5</th>\n",
       "      <td>JDE_VC</td>\n",
       "      <td>2017</td>\n",
       "      <td>1</td>\n",
       "      <td>65073JDE_VC</td>\n",
       "      <td>Military</td>\n",
       "      <td>8941-01</td>\n",
       "      <td>MAS VC</td>\n",
       "      <td>MRO</td>\n",
       "      <td>Unknown</td>\n",
       "      <td>4293.900</td>\n",
       "    </tr>\n",
       "    <tr>\n",
       "      <th>6</th>\n",
       "      <td>JDE_VC</td>\n",
       "      <td>2017</td>\n",
       "      <td>1</td>\n",
       "      <td>65073JDE_VC</td>\n",
       "      <td>Military</td>\n",
       "      <td>904450-01</td>\n",
       "      <td>MAS VC</td>\n",
       "      <td>MRO</td>\n",
       "      <td>Unknown</td>\n",
       "      <td>5888.259</td>\n",
       "    </tr>\n",
       "  </tbody>\n",
       "</table>\n",
       "</div>"
      ],
      "text/plain": [
       "  source_system  finance_year  finance_month      customer customer_division  \\\n",
       "0        JDE_VC          2017              1  118429JDE_VC          Military   \n",
       "1        JDE_VC          2017              1  118429JDE_VC          Military   \n",
       "2        JDE_VC          2017              1  126819JDE_VC             Civil   \n",
       "3        JDE_VC          2017              1  527646JDE_VC             Civil   \n",
       "4        JDE_VC          2017              1  641894JDE_VC             Civil   \n",
       "5        JDE_VC          2017              1   65073JDE_VC          Military   \n",
       "6        JDE_VC          2017              1   65073JDE_VC          Military   \n",
       "\n",
       "         partnumber selling_site type_of_sales pipeline_category      price  \n",
       "0        855612-115       MAS VC           MRO           Unknown  39445.042  \n",
       "1  9020-011-310F-16       MAS VC           MRO           Unknown    991.900  \n",
       "2    MM-00150-12-40       MAS VC           MRO           Unknown  36313.797  \n",
       "3             71133       MAS VC           MRO           Unknown   6340.880  \n",
       "4    MM-00150-12-40       MAS VC           MRO           Unknown  36313.797  \n",
       "5           8941-01       MAS VC           MRO           Unknown   4293.900  \n",
       "6         904450-01       MAS VC           MRO           Unknown   5888.259  "
      ]
     },
     "execution_count": 7,
     "metadata": {},
     "output_type": "execute_result"
    }
   ],
   "source": [
    "df.head(7)"
   ]
  },
  {
   "cell_type": "code",
   "execution_count": 8,
   "metadata": {},
   "outputs": [
    {
     "data": {
      "text/plain": [
       "(139665, 10)"
      ]
     },
     "execution_count": 8,
     "metadata": {},
     "output_type": "execute_result"
    }
   ],
   "source": [
    "df.shape"
   ]
  },
  {
   "cell_type": "code",
   "execution_count": 11,
   "metadata": {},
   "outputs": [],
   "source": [
    "df = df[df.price != 0]\n",
    "df = df[np.abs(df.price-df.price.mean()) <= (3*df.price.std())] # Remove price outliers\n",
    "df = df[df.type_of_sales != 'XXXStretch']\n",
    "df = df[df.type_of_sales == 'Spares']"
   ]
  },
  {
   "cell_type": "code",
   "execution_count": 12,
   "metadata": {},
   "outputs": [
    {
     "data": {
      "text/plain": [
       "(90024, 10)"
      ]
     },
     "execution_count": 12,
     "metadata": {},
     "output_type": "execute_result"
    }
   ],
   "source": [
    "df.shape"
   ]
  },
  {
   "cell_type": "code",
   "execution_count": 13,
   "metadata": {},
   "outputs": [
    {
     "data": {
      "text/html": [
       "<div>\n",
       "<style scoped>\n",
       "    .dataframe tbody tr th:only-of-type {\n",
       "        vertical-align: middle;\n",
       "    }\n",
       "\n",
       "    .dataframe tbody tr th {\n",
       "        vertical-align: top;\n",
       "    }\n",
       "\n",
       "    .dataframe thead th {\n",
       "        text-align: right;\n",
       "    }\n",
       "</style>\n",
       "<table border=\"1\" class=\"dataframe\">\n",
       "  <thead>\n",
       "    <tr style=\"text-align: right;\">\n",
       "      <th></th>\n",
       "      <th>finance_year</th>\n",
       "      <th>finance_month</th>\n",
       "      <th>price</th>\n",
       "    </tr>\n",
       "  </thead>\n",
       "  <tbody>\n",
       "    <tr>\n",
       "      <th>count</th>\n",
       "      <td>90024.000000</td>\n",
       "      <td>90024.000000</td>\n",
       "      <td>90024.000000</td>\n",
       "    </tr>\n",
       "    <tr>\n",
       "      <th>mean</th>\n",
       "      <td>2017.831345</td>\n",
       "      <td>5.959444</td>\n",
       "      <td>6106.293207</td>\n",
       "    </tr>\n",
       "    <tr>\n",
       "      <th>std</th>\n",
       "      <td>0.761993</td>\n",
       "      <td>3.346194</td>\n",
       "      <td>10178.772012</td>\n",
       "    </tr>\n",
       "    <tr>\n",
       "      <th>min</th>\n",
       "      <td>2017.000000</td>\n",
       "      <td>1.000000</td>\n",
       "      <td>0.010000</td>\n",
       "    </tr>\n",
       "    <tr>\n",
       "      <th>25%</th>\n",
       "      <td>2017.000000</td>\n",
       "      <td>3.000000</td>\n",
       "      <td>547.820000</td>\n",
       "    </tr>\n",
       "    <tr>\n",
       "      <th>50%</th>\n",
       "      <td>2018.000000</td>\n",
       "      <td>6.000000</td>\n",
       "      <td>1886.960000</td>\n",
       "    </tr>\n",
       "    <tr>\n",
       "      <th>75%</th>\n",
       "      <td>2018.000000</td>\n",
       "      <td>9.000000</td>\n",
       "      <td>6753.500000</td>\n",
       "    </tr>\n",
       "    <tr>\n",
       "      <th>max</th>\n",
       "      <td>2019.000000</td>\n",
       "      <td>12.000000</td>\n",
       "      <td>71318.260000</td>\n",
       "    </tr>\n",
       "  </tbody>\n",
       "</table>\n",
       "</div>"
      ],
      "text/plain": [
       "       finance_year  finance_month         price\n",
       "count  90024.000000   90024.000000  90024.000000\n",
       "mean    2017.831345       5.959444   6106.293207\n",
       "std        0.761993       3.346194  10178.772012\n",
       "min     2017.000000       1.000000      0.010000\n",
       "25%     2017.000000       3.000000    547.820000\n",
       "50%     2018.000000       6.000000   1886.960000\n",
       "75%     2018.000000       9.000000   6753.500000\n",
       "max     2019.000000      12.000000  71318.260000"
      ]
     },
     "execution_count": 13,
     "metadata": {},
     "output_type": "execute_result"
    }
   ],
   "source": [
    "df.describe()"
   ]
  },
  {
   "cell_type": "code",
   "execution_count": 14,
   "metadata": {},
   "outputs": [],
   "source": [
    "df = pd.get_dummies(df)"
   ]
  },
  {
   "cell_type": "code",
   "execution_count": 15,
   "metadata": {},
   "outputs": [
    {
     "data": {
      "text/html": [
       "<div>\n",
       "<style scoped>\n",
       "    .dataframe tbody tr th:only-of-type {\n",
       "        vertical-align: middle;\n",
       "    }\n",
       "\n",
       "    .dataframe tbody tr th {\n",
       "        vertical-align: top;\n",
       "    }\n",
       "\n",
       "    .dataframe thead th {\n",
       "        text-align: right;\n",
       "    }\n",
       "</style>\n",
       "<table border=\"1\" class=\"dataframe\">\n",
       "  <thead>\n",
       "    <tr style=\"text-align: right;\">\n",
       "      <th></th>\n",
       "      <th>finance_year</th>\n",
       "      <th>finance_month</th>\n",
       "      <th>price</th>\n",
       "      <th>source_system_JDE_VC</th>\n",
       "      <th>source_system_MFPRAV</th>\n",
       "      <th>source_system_MSAPXX</th>\n",
       "      <th>source_system_ORACVC</th>\n",
       "      <th>source_system_QTM_UK</th>\n",
       "      <th>source_system_QTM_US</th>\n",
       "      <th>source_system_SAP_SG</th>\n",
       "      <th>...</th>\n",
       "      <th>selling_site_MSS Basingstoke</th>\n",
       "      <th>selling_site_MSS Fribourg</th>\n",
       "      <th>selling_site_MSS OECO Portland</th>\n",
       "      <th>selling_site_MSS Orange County</th>\n",
       "      <th>selling_site_NASCO</th>\n",
       "      <th>type_of_sales_Spares</th>\n",
       "      <th>pipeline_category_Base</th>\n",
       "      <th>pipeline_category_IP</th>\n",
       "      <th>pipeline_category_RMU</th>\n",
       "      <th>pipeline_category_Unknown</th>\n",
       "    </tr>\n",
       "  </thead>\n",
       "  <tbody>\n",
       "    <tr>\n",
       "      <th>7</th>\n",
       "      <td>2017</td>\n",
       "      <td>1</td>\n",
       "      <td>598.0</td>\n",
       "      <td>1</td>\n",
       "      <td>0</td>\n",
       "      <td>0</td>\n",
       "      <td>0</td>\n",
       "      <td>0</td>\n",
       "      <td>0</td>\n",
       "      <td>0</td>\n",
       "      <td>...</td>\n",
       "      <td>0</td>\n",
       "      <td>0</td>\n",
       "      <td>0</td>\n",
       "      <td>0</td>\n",
       "      <td>0</td>\n",
       "      <td>1</td>\n",
       "      <td>0</td>\n",
       "      <td>0</td>\n",
       "      <td>0</td>\n",
       "      <td>1</td>\n",
       "    </tr>\n",
       "    <tr>\n",
       "      <th>8</th>\n",
       "      <td>2017</td>\n",
       "      <td>1</td>\n",
       "      <td>1638.0</td>\n",
       "      <td>1</td>\n",
       "      <td>0</td>\n",
       "      <td>0</td>\n",
       "      <td>0</td>\n",
       "      <td>0</td>\n",
       "      <td>0</td>\n",
       "      <td>0</td>\n",
       "      <td>...</td>\n",
       "      <td>0</td>\n",
       "      <td>0</td>\n",
       "      <td>0</td>\n",
       "      <td>0</td>\n",
       "      <td>0</td>\n",
       "      <td>1</td>\n",
       "      <td>0</td>\n",
       "      <td>0</td>\n",
       "      <td>0</td>\n",
       "      <td>1</td>\n",
       "    </tr>\n",
       "    <tr>\n",
       "      <th>9</th>\n",
       "      <td>2017</td>\n",
       "      <td>1</td>\n",
       "      <td>1326.0</td>\n",
       "      <td>1</td>\n",
       "      <td>0</td>\n",
       "      <td>0</td>\n",
       "      <td>0</td>\n",
       "      <td>0</td>\n",
       "      <td>0</td>\n",
       "      <td>0</td>\n",
       "      <td>...</td>\n",
       "      <td>0</td>\n",
       "      <td>0</td>\n",
       "      <td>0</td>\n",
       "      <td>0</td>\n",
       "      <td>0</td>\n",
       "      <td>1</td>\n",
       "      <td>0</td>\n",
       "      <td>0</td>\n",
       "      <td>0</td>\n",
       "      <td>1</td>\n",
       "    </tr>\n",
       "    <tr>\n",
       "      <th>48</th>\n",
       "      <td>2017</td>\n",
       "      <td>2</td>\n",
       "      <td>4165.2</td>\n",
       "      <td>1</td>\n",
       "      <td>0</td>\n",
       "      <td>0</td>\n",
       "      <td>0</td>\n",
       "      <td>0</td>\n",
       "      <td>0</td>\n",
       "      <td>0</td>\n",
       "      <td>...</td>\n",
       "      <td>0</td>\n",
       "      <td>0</td>\n",
       "      <td>0</td>\n",
       "      <td>0</td>\n",
       "      <td>0</td>\n",
       "      <td>1</td>\n",
       "      <td>0</td>\n",
       "      <td>0</td>\n",
       "      <td>0</td>\n",
       "      <td>1</td>\n",
       "    </tr>\n",
       "    <tr>\n",
       "      <th>50</th>\n",
       "      <td>2017</td>\n",
       "      <td>2</td>\n",
       "      <td>4745.0</td>\n",
       "      <td>1</td>\n",
       "      <td>0</td>\n",
       "      <td>0</td>\n",
       "      <td>0</td>\n",
       "      <td>0</td>\n",
       "      <td>0</td>\n",
       "      <td>0</td>\n",
       "      <td>...</td>\n",
       "      <td>0</td>\n",
       "      <td>0</td>\n",
       "      <td>0</td>\n",
       "      <td>0</td>\n",
       "      <td>0</td>\n",
       "      <td>1</td>\n",
       "      <td>0</td>\n",
       "      <td>0</td>\n",
       "      <td>0</td>\n",
       "      <td>1</td>\n",
       "    </tr>\n",
       "  </tbody>\n",
       "</table>\n",
       "<p>5 rows × 13646 columns</p>\n",
       "</div>"
      ],
      "text/plain": [
       "    finance_year  finance_month   price  source_system_JDE_VC  \\\n",
       "7           2017              1   598.0                     1   \n",
       "8           2017              1  1638.0                     1   \n",
       "9           2017              1  1326.0                     1   \n",
       "48          2017              2  4165.2                     1   \n",
       "50          2017              2  4745.0                     1   \n",
       "\n",
       "    source_system_MFPRAV  source_system_MSAPXX  source_system_ORACVC  \\\n",
       "7                      0                     0                     0   \n",
       "8                      0                     0                     0   \n",
       "9                      0                     0                     0   \n",
       "48                     0                     0                     0   \n",
       "50                     0                     0                     0   \n",
       "\n",
       "    source_system_QTM_UK  source_system_QTM_US  source_system_SAP_SG  ...  \\\n",
       "7                      0                     0                     0  ...   \n",
       "8                      0                     0                     0  ...   \n",
       "9                      0                     0                     0  ...   \n",
       "48                     0                     0                     0  ...   \n",
       "50                     0                     0                     0  ...   \n",
       "\n",
       "    selling_site_MSS Basingstoke  selling_site_MSS Fribourg  \\\n",
       "7                              0                          0   \n",
       "8                              0                          0   \n",
       "9                              0                          0   \n",
       "48                             0                          0   \n",
       "50                             0                          0   \n",
       "\n",
       "    selling_site_MSS OECO Portland  selling_site_MSS Orange County  \\\n",
       "7                                0                               0   \n",
       "8                                0                               0   \n",
       "9                                0                               0   \n",
       "48                               0                               0   \n",
       "50                               0                               0   \n",
       "\n",
       "    selling_site_NASCO  type_of_sales_Spares  pipeline_category_Base  \\\n",
       "7                    0                     1                       0   \n",
       "8                    0                     1                       0   \n",
       "9                    0                     1                       0   \n",
       "48                   0                     1                       0   \n",
       "50                   0                     1                       0   \n",
       "\n",
       "    pipeline_category_IP  pipeline_category_RMU  pipeline_category_Unknown  \n",
       "7                      0                      0                          1  \n",
       "8                      0                      0                          1  \n",
       "9                      0                      0                          1  \n",
       "48                     0                      0                          1  \n",
       "50                     0                      0                          1  \n",
       "\n",
       "[5 rows x 13646 columns]"
      ]
     },
     "execution_count": 15,
     "metadata": {},
     "output_type": "execute_result"
    }
   ],
   "source": [
    "df.head()"
   ]
  },
  {
   "cell_type": "code",
   "execution_count": 17,
   "metadata": {},
   "outputs": [
    {
     "data": {
      "text/plain": [
       "(176659, 18940)"
      ]
     },
     "execution_count": 17,
     "metadata": {},
     "output_type": "execute_result"
    }
   ],
   "source": [
    "df.shape"
   ]
  },
  {
   "cell_type": "code",
   "execution_count": 18,
   "metadata": {},
   "outputs": [],
   "source": [
    "dep_var = 'price'\n",
    "labels = np.array(df[dep_var])\n",
    "features= df.drop(dep_var, axis = 1)"
   ]
  },
  {
   "cell_type": "code",
   "execution_count": 19,
   "metadata": {},
   "outputs": [
    {
     "data": {
      "text/plain": [
       "(176659,)"
      ]
     },
     "execution_count": 19,
     "metadata": {},
     "output_type": "execute_result"
    }
   ],
   "source": [
    "labels.shape"
   ]
  },
  {
   "cell_type": "code",
   "execution_count": 20,
   "metadata": {},
   "outputs": [
    {
     "data": {
      "text/plain": [
       "(176659, 18939)"
      ]
     },
     "execution_count": 20,
     "metadata": {},
     "output_type": "execute_result"
    }
   ],
   "source": [
    "features.shape"
   ]
  },
  {
   "cell_type": "code",
   "execution_count": 21,
   "metadata": {},
   "outputs": [
    {
     "ename": "MemoryError",
     "evalue": "",
     "output_type": "error",
     "traceback": [
      "\u001b[0;31m---------------------------------------------------------------------------\u001b[0m",
      "\u001b[0;31mMemoryError\u001b[0m                               Traceback (most recent call last)",
      "\u001b[0;32m<ipython-input-21-ec0fd7243b57>\u001b[0m in \u001b[0;36m<module>\u001b[0;34m\u001b[0m\n\u001b[1;32m      2\u001b[0m \u001b[0mfeature_list\u001b[0m \u001b[0;34m=\u001b[0m \u001b[0mlist\u001b[0m\u001b[0;34m(\u001b[0m\u001b[0mfeatures\u001b[0m\u001b[0;34m.\u001b[0m\u001b[0mcolumns\u001b[0m\u001b[0;34m)\u001b[0m\u001b[0;34m\u001b[0m\u001b[0;34m\u001b[0m\u001b[0m\n\u001b[1;32m      3\u001b[0m \u001b[0;31m# Convert to numpy array\u001b[0m\u001b[0;34m\u001b[0m\u001b[0;34m\u001b[0m\u001b[0;34m\u001b[0m\u001b[0m\n\u001b[0;32m----> 4\u001b[0;31m \u001b[0mfeatures\u001b[0m \u001b[0;34m=\u001b[0m \u001b[0mnp\u001b[0m\u001b[0;34m.\u001b[0m\u001b[0marray\u001b[0m\u001b[0;34m(\u001b[0m\u001b[0mfeatures\u001b[0m\u001b[0;34m)\u001b[0m\u001b[0;34m\u001b[0m\u001b[0;34m\u001b[0m\u001b[0m\n\u001b[0m",
      "\u001b[0;31mMemoryError\u001b[0m: "
     ]
    }
   ],
   "source": [
    "# Saving feature names for later use\n",
    "feature_list = list(features.columns)\n",
    "# Convert to numpy array\n",
    "features = np.array(features)"
   ]
  },
  {
   "cell_type": "code",
   "execution_count": 33,
   "metadata": {},
   "outputs": [],
   "source": [
    "rf = RandomForestRegressor(n_estimators = 1000, random_state = 42)"
   ]
  },
  {
   "cell_type": "code",
   "execution_count": 38,
   "metadata": {},
   "outputs": [
    {
     "data": {
      "text/plain": [
       "302610.4"
      ]
     },
     "execution_count": 38,
     "metadata": {},
     "output_type": "execute_result"
    }
   ],
   "source": [
    "features.shape[0] * 0.8"
   ]
  },
  {
   "cell_type": "code",
   "execution_count": 39,
   "metadata": {},
   "outputs": [],
   "source": [
    "# Split the data into training and testing sets\n",
    "split = 302610\n",
    "train_features, test_features, train_labels, test_labels = features[:split], features[split:], labels[:split], labels[split:]"
   ]
  },
  {
   "cell_type": "code",
   "execution_count": 40,
   "metadata": {},
   "outputs": [
    {
     "name": "stdout",
     "output_type": "stream",
     "text": [
      "Training Features Shape: (302610, 6357)\n",
      "Training Labels Shape: (302610,)\n",
      "Testing Features Shape: (75653, 6357)\n",
      "Testing Labels Shape: (75653,)\n"
     ]
    }
   ],
   "source": [
    "print('Training Features Shape:', train_features.shape)\n",
    "print('Training Labels Shape:', train_labels.shape)\n",
    "print('Testing Features Shape:', test_features.shape)\n",
    "print('Testing Labels Shape:', test_labels.shape)"
   ]
  },
  {
   "cell_type": "code",
   "execution_count": 41,
   "metadata": {},
   "outputs": [],
   "source": [
    "rf = RandomForestRegressor(n_estimators = 1000, random_state = 42)"
   ]
  },
  {
   "cell_type": "code",
   "execution_count": null,
   "metadata": {},
   "outputs": [],
   "source": [
    "rf.fit(train_features, train_labels);"
   ]
  },
  {
   "cell_type": "code",
   "execution_count": null,
   "metadata": {},
   "outputs": [],
   "source": []
  }
 ],
 "metadata": {
  "kernelspec": {
   "display_name": "Python 3",
   "language": "python",
   "name": "python3"
  },
  "language_info": {
   "codemirror_mode": {
    "name": "ipython",
    "version": 3
   },
   "file_extension": ".py",
   "mimetype": "text/x-python",
   "name": "python",
   "nbconvert_exporter": "python",
   "pygments_lexer": "ipython3",
   "version": "3.7.3"
  }
 },
 "nbformat": 4,
 "nbformat_minor": 2
}
