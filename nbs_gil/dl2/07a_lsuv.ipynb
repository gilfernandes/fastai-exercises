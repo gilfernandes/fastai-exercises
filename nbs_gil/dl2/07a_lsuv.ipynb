{
 "cells": [
  {
   "cell_type": "code",
   "execution_count": 1,
   "metadata": {},
   "outputs": [],
   "source": [
    "%load_ext autoreload\n",
    "%autoreload 2\n",
    "\n",
    "%matplotlib inline"
   ]
  },
  {
   "cell_type": "code",
   "execution_count": 2,
   "metadata": {},
   "outputs": [],
   "source": [
    "#export\n",
    "from exp.nb_07 import *"
   ]
  },
  {
   "cell_type": "markdown",
   "metadata": {},
   "source": [
    "## Layerwise Sequential Unit Variance (LSUV)"
   ]
  },
  {
   "cell_type": "markdown",
   "metadata": {},
   "source": [
    "Getting the MNIST data and a CNN"
   ]
  },
  {
   "cell_type": "code",
   "execution_count": 3,
   "metadata": {},
   "outputs": [],
   "source": [
    "x_train,y_train,x_valid,y_valid = get_data()"
   ]
  },
  {
   "cell_type": "code",
   "execution_count": 4,
   "metadata": {},
   "outputs": [],
   "source": [
    "x_train, x_valid = normalize_to(x_train, x_valid)"
   ]
  },
  {
   "cell_type": "code",
   "execution_count": 5,
   "metadata": {},
   "outputs": [],
   "source": [
    "train_ds = Dataset(x_train, y_train)\n",
    "valid_ds = Dataset(x_valid, y_valid)\n",
    "\n",
    "bs = 512\n",
    "c = y_train.max().item() + 1\n",
    "loss_func = F.cross_entropy\n",
    "data = DataBunch(*get_dls(train_ds, valid_ds, bs), c)"
   ]
  },
  {
   "cell_type": "code",
   "execution_count": 6,
   "metadata": {},
   "outputs": [],
   "source": [
    "mnist_view = view_tfm(1, 28, 28)"
   ]
  },
  {
   "cell_type": "code",
   "execution_count": 7,
   "metadata": {},
   "outputs": [],
   "source": [
    "cbfs = [Recorder, partial(AvgStatsCallback, accuracy), CudaCallback, partial(BatchTransformXCallback, mnist_view)]"
   ]
  },
  {
   "cell_type": "code",
   "execution_count": 8,
   "metadata": {},
   "outputs": [],
   "source": [
    "nfs = [8, 16, 32, 64, 64]"
   ]
  },
  {
   "cell_type": "code",
   "execution_count": 9,
   "metadata": {},
   "outputs": [],
   "source": [
    "class ConvLayer(nn.Module):\n",
    "    def __init__(self, ni, nf, ks=3, stride=2, sub=0., **kwargs):\n",
    "        super().__init__()\n",
    "        self.conv = nn.Conv2d(ni, nf, ks, padding=ks//2, stride=stride, bias=True)\n",
    "        self.relu = GeneralRelu(sub=sub, **kwargs)\n",
    "        \n",
    "    def forward(self, x):\n",
    "        return self.relu(self.conv(x))\n",
    "    \n",
    "    @property\n",
    "    def bias(self):\n",
    "        return -self.relu.sub\n",
    "    \n",
    "    @bias.setter\n",
    "    def bias(self, s):\n",
    "        self.relu.sub = -s\n",
    "        \n",
    "    @property\n",
    "    def weight(self):\n",
    "        return self.conv.weight"
   ]
  },
  {
   "cell_type": "markdown",
   "metadata": {},
   "source": [
    "Now we're going to look at the paper [All You Need is a Good Init](https://arxiv.org/pdf/1511.06422.pdf), which introduces *Layer-wise Sequential Unit-Variance* (*LSUV*). We initialize our neural net with the usual technique, then we pass a batch through the model and check the outputs of the linear and convolutional layers. We can then rescale the weights according to the actual variance we observe on the activations, and subtract the mean we observe from the initial bias. That way we will have activations that stay normalized.\n",
    "\n",
    "We repeat this process until we are satisfied with the mean/variance we observe.\n",
    "\n",
    "Let's start by looking at a baseline:"
   ]
  },
  {
   "cell_type": "code",
   "execution_count": 10,
   "metadata": {},
   "outputs": [],
   "source": [
    "learn, run = get_learn_run(nfs, data, 0.6, ConvLayer, cbs=cbfs)"
   ]
  },
  {
   "cell_type": "code",
   "execution_count": 11,
   "metadata": {},
   "outputs": [
    {
     "name": "stdout",
     "output_type": "stream",
     "text": [
      "train: [1.86333109375, tensor(0.3742, device='cuda:0')]\n",
      "valid: [0.99767978515625, tensor(0.7254, device='cuda:0')]\n",
      "train: [0.3444769921875, tensor(0.8943, device='cuda:0')]\n",
      "valid: [0.156250634765625, tensor(0.9520, device='cuda:0')]\n"
     ]
    }
   ],
   "source": [
    "run.fit(2, learn)"
   ]
  },
  {
   "cell_type": "markdown",
   "metadata": {},
   "source": [
    "Now we try the same thing again with LSUV"
   ]
  },
  {
   "cell_type": "code",
   "execution_count": 12,
   "metadata": {},
   "outputs": [],
   "source": [
    "learn, run = get_learn_run(nfs, data, 0.6, ConvLayer, cbs=cbfs)"
   ]
  },
  {
   "cell_type": "code",
   "execution_count": 13,
   "metadata": {},
   "outputs": [],
   "source": [
    "#export\n",
    "def get_batch(dl, run):\n",
    "    run.xb, run.yb = next(iter(dl))\n",
    "    for cb in run.cbs:\n",
    "        cb.set_runner(run)\n",
    "    run('begin_batch')\n",
    "    return run.xb, run.yb"
   ]
  },
  {
   "cell_type": "code",
   "execution_count": 14,
   "metadata": {},
   "outputs": [],
   "source": [
    "xb, yb = get_batch(data.train_dl, run)"
   ]
  },
  {
   "cell_type": "markdown",
   "metadata": {},
   "source": [
    "We only want the outputs of convolutional or linear layers. To find them, we need a recursive function. We can use `sum(list, [])` to concatenate the lists the function finds (`sum` applies the + operate between the elements of the list you pass it, beginning with the initial state in the second argument)."
   ]
  },
  {
   "cell_type": "code",
   "execution_count": 15,
   "metadata": {},
   "outputs": [],
   "source": [
    "#export\n",
    "def find_modules(m, cond):\n",
    "    if cond(m): \n",
    "        return [m]\n",
    "    return sum([find_modules(o,cond) for o in m.children()], [])"
   ]
  },
  {
   "cell_type": "code",
   "execution_count": 16,
   "metadata": {},
   "outputs": [],
   "source": [
    "#export\n",
    "lin_layers = (nn.Conv1d, nn.Conv2d, nn.Conv3d, nn.Linear, nn.ReLU)\n",
    "\n",
    "def is_lin_layer(l):\n",
    "    return isinstance(l, lin_layers)"
   ]
  },
  {
   "cell_type": "code",
   "execution_count": 17,
   "metadata": {},
   "outputs": [],
   "source": [
    "mods = find_modules(learn.model, lambda o: isinstance(o, ConvLayer))"
   ]
  },
  {
   "cell_type": "code",
   "execution_count": 18,
   "metadata": {},
   "outputs": [
    {
     "data": {
      "text/plain": [
       "[ConvLayer(\n",
       "   (conv): Conv2d(1, 8, kernel_size=(5, 5), stride=(2, 2), padding=(2, 2))\n",
       "   (relu): GeneralRelu()\n",
       " ), ConvLayer(\n",
       "   (conv): Conv2d(8, 16, kernel_size=(3, 3), stride=(2, 2), padding=(1, 1))\n",
       "   (relu): GeneralRelu()\n",
       " ), ConvLayer(\n",
       "   (conv): Conv2d(16, 32, kernel_size=(3, 3), stride=(2, 2), padding=(1, 1))\n",
       "   (relu): GeneralRelu()\n",
       " ), ConvLayer(\n",
       "   (conv): Conv2d(32, 64, kernel_size=(3, 3), stride=(2, 2), padding=(1, 1))\n",
       "   (relu): GeneralRelu()\n",
       " ), ConvLayer(\n",
       "   (conv): Conv2d(64, 64, kernel_size=(3, 3), stride=(2, 2), padding=(1, 1))\n",
       "   (relu): GeneralRelu()\n",
       " )]"
      ]
     },
     "execution_count": 18,
     "metadata": {},
     "output_type": "execute_result"
    }
   ],
   "source": [
    "mods"
   ]
  },
  {
   "cell_type": "code",
   "execution_count": 19,
   "metadata": {},
   "outputs": [],
   "source": [
    "def append_stat(hook, mod, inp, out):\n",
    "    d = out.data\n",
    "    hook.mean = d.mean().item()\n",
    "    hook.std = d.std().item()"
   ]
  },
  {
   "cell_type": "code",
   "execution_count": 20,
   "metadata": {},
   "outputs": [],
   "source": [
    "mdl = learn.model.cuda()"
   ]
  },
  {
   "cell_type": "code",
   "execution_count": 21,
   "metadata": {},
   "outputs": [
    {
     "name": "stdout",
     "output_type": "stream",
     "text": [
      "mean std\n",
      "0.41495972871780396 0.949091911315918\n",
      "mean std\n",
      "0.28937381505966187 0.7219604253768921\n",
      "mean std\n",
      "0.3263041377067566 0.6011371612548828\n",
      "mean std\n",
      "0.3057039976119995 0.5519192814826965\n",
      "mean std\n",
      "0.1758633553981781 0.3234204649925232\n"
     ]
    }
   ],
   "source": [
    "with Hooks(mods, append_stat) as hooks:\n",
    "    mdl(xb)\n",
    "    for hook in hooks:\n",
    "        print('mean', 'std')\n",
    "        print(hook.mean, hook.std)"
   ]
  },
  {
   "cell_type": "markdown",
   "metadata": {},
   "source": [
    "We first adjust the bias terms to make the means 0, then we adjust the standard deviations to make the stds 1 (with a threshold of 1e-3). The `mdl(xb) is not None` clause is just there to pass `xb` through `mdl` and compute all the activations so that the hooks get updated. "
   ]
  },
  {
   "cell_type": "code",
   "execution_count": 22,
   "metadata": {},
   "outputs": [],
   "source": [
    "#export\n",
    "def lsuv_module(m, xb, eps=1e-3):\n",
    "    '''\n",
    "    m - module\n",
    "    xb - The initial train batch\n",
    "    '''\n",
    "    h = Hook(m, append_stat)\n",
    "    while mdl(xb) is not None and abs(h.mean) > eps:\n",
    "        m.bias = m.bias - h.mean\n",
    "    while mdl(xb) is not None and abs(h.std - 1) > eps:\n",
    "        m.weight.data = m.weight.data / h.std\n",
    "        \n",
    "    h.remove()\n",
    "    return h.mean, h.std"
   ]
  },
  {
   "cell_type": "code",
   "execution_count": 23,
   "metadata": {},
   "outputs": [
    {
     "name": "stdout",
     "output_type": "stream",
     "text": [
      "(0.022257886826992035, 0.9999998211860657)\n",
      "(0.1354677826166153, 1.0000001192092896)\n",
      "(0.12510040402412415, 1.0)\n",
      "(0.13081035017967224, 1.0)\n",
      "(0.2776840925216675, 1.0)\n"
     ]
    }
   ],
   "source": [
    "for m in mods:\n",
    "    print(lsuv_module(m, xb))"
   ]
  },
  {
   "cell_type": "code",
   "execution_count": 24,
   "metadata": {},
   "outputs": [
    {
     "name": "stdout",
     "output_type": "stream",
     "text": [
      "train: [0.5841968359375, tensor(0.8129, device='cuda:0')]\n",
      "valid: [0.1207434814453125, tensor(0.9637, device='cuda:0')]\n",
      "train: [0.10576078125, tensor(0.9677, device='cuda:0')]\n",
      "valid: [0.10011312255859375, tensor(0.9694, device='cuda:0')]\n",
      "CPU times: user 1.8 s, sys: 14.9 ms, total: 1.81 s\n",
      "Wall time: 1.4 s\n"
     ]
    }
   ],
   "source": [
    "%time run.fit(2, learn)"
   ]
  },
  {
   "cell_type": "markdown",
   "metadata": {},
   "source": [
    "LSUV is particularly useful for more complex and deeper architectures that are hard to initialize to get unit variance at the last layer."
   ]
  },
  {
   "cell_type": "markdown",
   "metadata": {},
   "source": [
    "## Export"
   ]
  },
  {
   "cell_type": "code",
   "execution_count": 25,
   "metadata": {},
   "outputs": [
    {
     "name": "stdout",
     "output_type": "stream",
     "text": [
      "Converted 07a_lsuv.ipynb to exp/nb_07a.py\r\n"
     ]
    }
   ],
   "source": [
    "!python notebook2script.py 07a_lsuv.ipynb"
   ]
  }
 ],
 "metadata": {
  "kernelspec": {
   "display_name": "Python 3",
   "language": "python",
   "name": "python3"
  },
  "language_info": {
   "codemirror_mode": {
    "name": "ipython",
    "version": 3
   },
   "file_extension": ".py",
   "mimetype": "text/x-python",
   "name": "python",
   "nbconvert_exporter": "python",
   "pygments_lexer": "ipython3",
   "version": "3.7.4"
  }
 },
 "nbformat": 4,
 "nbformat_minor": 4
}
