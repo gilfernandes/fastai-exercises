{
 "cells": [
  {
   "cell_type": "code",
   "execution_count": 1,
   "metadata": {},
   "outputs": [],
   "source": [
    "%load_ext autoreload\n",
    "%autoreload 2\n",
    "\n",
    "%matplotlib inline"
   ]
  },
  {
   "cell_type": "code",
   "execution_count": 2,
   "metadata": {},
   "outputs": [],
   "source": [
    "import os\n",
    "import warnings\n",
    "import sys\n",
    "\n",
    "import pandas as pd\n",
    "import numpy as np\n",
    "\n",
    "from sklearn.metrics import mean_squared_error, mean_absolute_error, r2_score\n",
    "from sklearn.model_selection import train_test_split\n",
    "from sklearn.tree import DecisionTreeClassifier\n",
    "from sklearn.neighbors import KNeighborsClassifier\n",
    "\n",
    "import mlflow\n",
    "import mlflow.sklearn\n",
    "\n",
    "from pathlib import Path"
   ]
  },
  {
   "cell_type": "markdown",
   "metadata": {},
   "source": [
    "## Data"
   ]
  },
  {
   "cell_type": "markdown",
   "metadata": {},
   "source": [
    "The data in this notebook was used in a hackathon: https://www.machinehack.com/course/plugin-hackathon-cardiac-arrest-risk-prediction/"
   ]
  },
  {
   "cell_type": "code",
   "execution_count": 3,
   "metadata": {},
   "outputs": [
    {
     "name": "stdout",
     "output_type": "stream",
     "text": [
      "Cardiac_Arrest_Participants_Data  Sample_Submission.xlsx  Test.csv  Train.csv\n"
     ]
    }
   ],
   "source": [
    "!ls Cardiac_Arrest_Participants_Data"
   ]
  },
  {
   "cell_type": "code",
   "execution_count": 4,
   "metadata": {},
   "outputs": [],
   "source": [
    "path = Path('Cardiac_Arrest_Participants_Data')"
   ]
  },
  {
   "cell_type": "markdown",
   "metadata": {},
   "source": [
    "## Read data"
   ]
  },
  {
   "cell_type": "code",
   "execution_count": 5,
   "metadata": {},
   "outputs": [],
   "source": [
    "df = pd.read_csv(path/'Train.csv')"
   ]
  },
  {
   "cell_type": "code",
   "execution_count": 6,
   "metadata": {},
   "outputs": [],
   "source": [
    "df.replace({'UnderRisk': {'yes': 1, 'no': 0}}, inplace=True)"
   ]
  },
  {
   "cell_type": "code",
   "execution_count": 7,
   "metadata": {},
   "outputs": [
    {
     "data": {
      "text/html": [
       "<div>\n",
       "<style scoped>\n",
       "    .dataframe tbody tr th:only-of-type {\n",
       "        vertical-align: middle;\n",
       "    }\n",
       "\n",
       "    .dataframe tbody tr th {\n",
       "        vertical-align: top;\n",
       "    }\n",
       "\n",
       "    .dataframe thead th {\n",
       "        text-align: right;\n",
       "    }\n",
       "</style>\n",
       "<table border=\"1\" class=\"dataframe\">\n",
       "  <thead>\n",
       "    <tr style=\"text-align: right;\">\n",
       "      <th></th>\n",
       "      <th>Gender</th>\n",
       "      <th>Chain_smoker</th>\n",
       "      <th>Consumes_other_tobacco_products</th>\n",
       "      <th>HighBP</th>\n",
       "      <th>Obese</th>\n",
       "      <th>Diabetes</th>\n",
       "      <th>Metabolic_syndrome</th>\n",
       "      <th>Use_of_stimulant_drugs</th>\n",
       "      <th>Family_history</th>\n",
       "      <th>History_of_preeclampsia</th>\n",
       "      <th>CABG_history</th>\n",
       "      <th>Respiratory_illness</th>\n",
       "      <th>UnderRisk</th>\n",
       "    </tr>\n",
       "  </thead>\n",
       "  <tbody>\n",
       "    <tr>\n",
       "      <th>0</th>\n",
       "      <td>1</td>\n",
       "      <td>1</td>\n",
       "      <td>1</td>\n",
       "      <td>0</td>\n",
       "      <td>1</td>\n",
       "      <td>0</td>\n",
       "      <td>0</td>\n",
       "      <td>0</td>\n",
       "      <td>1</td>\n",
       "      <td>0</td>\n",
       "      <td>0</td>\n",
       "      <td>0</td>\n",
       "      <td>0</td>\n",
       "    </tr>\n",
       "    <tr>\n",
       "      <th>1</th>\n",
       "      <td>1</td>\n",
       "      <td>0</td>\n",
       "      <td>1</td>\n",
       "      <td>0</td>\n",
       "      <td>1</td>\n",
       "      <td>0</td>\n",
       "      <td>0</td>\n",
       "      <td>0</td>\n",
       "      <td>1</td>\n",
       "      <td>0</td>\n",
       "      <td>0</td>\n",
       "      <td>0</td>\n",
       "      <td>0</td>\n",
       "    </tr>\n",
       "    <tr>\n",
       "      <th>2</th>\n",
       "      <td>1</td>\n",
       "      <td>0</td>\n",
       "      <td>1</td>\n",
       "      <td>0</td>\n",
       "      <td>1</td>\n",
       "      <td>0</td>\n",
       "      <td>0</td>\n",
       "      <td>0</td>\n",
       "      <td>1</td>\n",
       "      <td>0</td>\n",
       "      <td>0</td>\n",
       "      <td>0</td>\n",
       "      <td>0</td>\n",
       "    </tr>\n",
       "    <tr>\n",
       "      <th>3</th>\n",
       "      <td>1</td>\n",
       "      <td>0</td>\n",
       "      <td>1</td>\n",
       "      <td>0</td>\n",
       "      <td>1</td>\n",
       "      <td>0</td>\n",
       "      <td>0</td>\n",
       "      <td>0</td>\n",
       "      <td>1</td>\n",
       "      <td>0</td>\n",
       "      <td>0</td>\n",
       "      <td>0</td>\n",
       "      <td>0</td>\n",
       "    </tr>\n",
       "    <tr>\n",
       "      <th>4</th>\n",
       "      <td>1</td>\n",
       "      <td>0</td>\n",
       "      <td>0</td>\n",
       "      <td>0</td>\n",
       "      <td>0</td>\n",
       "      <td>0</td>\n",
       "      <td>1</td>\n",
       "      <td>1</td>\n",
       "      <td>0</td>\n",
       "      <td>0</td>\n",
       "      <td>0</td>\n",
       "      <td>0</td>\n",
       "      <td>0</td>\n",
       "    </tr>\n",
       "    <tr>\n",
       "      <th>...</th>\n",
       "      <td>...</td>\n",
       "      <td>...</td>\n",
       "      <td>...</td>\n",
       "      <td>...</td>\n",
       "      <td>...</td>\n",
       "      <td>...</td>\n",
       "      <td>...</td>\n",
       "      <td>...</td>\n",
       "      <td>...</td>\n",
       "      <td>...</td>\n",
       "      <td>...</td>\n",
       "      <td>...</td>\n",
       "      <td>...</td>\n",
       "    </tr>\n",
       "    <tr>\n",
       "      <th>884</th>\n",
       "      <td>2</td>\n",
       "      <td>0</td>\n",
       "      <td>1</td>\n",
       "      <td>0</td>\n",
       "      <td>1</td>\n",
       "      <td>0</td>\n",
       "      <td>0</td>\n",
       "      <td>0</td>\n",
       "      <td>1</td>\n",
       "      <td>0</td>\n",
       "      <td>0</td>\n",
       "      <td>0</td>\n",
       "      <td>0</td>\n",
       "    </tr>\n",
       "    <tr>\n",
       "      <th>885</th>\n",
       "      <td>1</td>\n",
       "      <td>0</td>\n",
       "      <td>1</td>\n",
       "      <td>0</td>\n",
       "      <td>1</td>\n",
       "      <td>0</td>\n",
       "      <td>0</td>\n",
       "      <td>0</td>\n",
       "      <td>1</td>\n",
       "      <td>0</td>\n",
       "      <td>0</td>\n",
       "      <td>0</td>\n",
       "      <td>0</td>\n",
       "    </tr>\n",
       "    <tr>\n",
       "      <th>886</th>\n",
       "      <td>1</td>\n",
       "      <td>0</td>\n",
       "      <td>0</td>\n",
       "      <td>1</td>\n",
       "      <td>1</td>\n",
       "      <td>0</td>\n",
       "      <td>0</td>\n",
       "      <td>0</td>\n",
       "      <td>1</td>\n",
       "      <td>0</td>\n",
       "      <td>0</td>\n",
       "      <td>0</td>\n",
       "      <td>1</td>\n",
       "    </tr>\n",
       "    <tr>\n",
       "      <th>887</th>\n",
       "      <td>2</td>\n",
       "      <td>0</td>\n",
       "      <td>1</td>\n",
       "      <td>0</td>\n",
       "      <td>0</td>\n",
       "      <td>0</td>\n",
       "      <td>0</td>\n",
       "      <td>1</td>\n",
       "      <td>1</td>\n",
       "      <td>0</td>\n",
       "      <td>0</td>\n",
       "      <td>0</td>\n",
       "      <td>0</td>\n",
       "    </tr>\n",
       "    <tr>\n",
       "      <th>888</th>\n",
       "      <td>1</td>\n",
       "      <td>1</td>\n",
       "      <td>1</td>\n",
       "      <td>0</td>\n",
       "      <td>1</td>\n",
       "      <td>0</td>\n",
       "      <td>0</td>\n",
       "      <td>0</td>\n",
       "      <td>1</td>\n",
       "      <td>0</td>\n",
       "      <td>0</td>\n",
       "      <td>0</td>\n",
       "      <td>1</td>\n",
       "    </tr>\n",
       "  </tbody>\n",
       "</table>\n",
       "<p>889 rows × 13 columns</p>\n",
       "</div>"
      ],
      "text/plain": [
       "     Gender  Chain_smoker  Consumes_other_tobacco_products  HighBP  Obese  \\\n",
       "0         1             1                                1       0      1   \n",
       "1         1             0                                1       0      1   \n",
       "2         1             0                                1       0      1   \n",
       "3         1             0                                1       0      1   \n",
       "4         1             0                                0       0      0   \n",
       "..      ...           ...                              ...     ...    ...   \n",
       "884       2             0                                1       0      1   \n",
       "885       1             0                                1       0      1   \n",
       "886       1             0                                0       1      1   \n",
       "887       2             0                                1       0      0   \n",
       "888       1             1                                1       0      1   \n",
       "\n",
       "     Diabetes  Metabolic_syndrome  Use_of_stimulant_drugs  Family_history  \\\n",
       "0           0                   0                       0               1   \n",
       "1           0                   0                       0               1   \n",
       "2           0                   0                       0               1   \n",
       "3           0                   0                       0               1   \n",
       "4           0                   1                       1               0   \n",
       "..        ...                 ...                     ...             ...   \n",
       "884         0                   0                       0               1   \n",
       "885         0                   0                       0               1   \n",
       "886         0                   0                       0               1   \n",
       "887         0                   0                       1               1   \n",
       "888         0                   0                       0               1   \n",
       "\n",
       "     History_of_preeclampsia  CABG_history  Respiratory_illness  UnderRisk  \n",
       "0                          0             0                    0          0  \n",
       "1                          0             0                    0          0  \n",
       "2                          0             0                    0          0  \n",
       "3                          0             0                    0          0  \n",
       "4                          0             0                    0          0  \n",
       "..                       ...           ...                  ...        ...  \n",
       "884                        0             0                    0          0  \n",
       "885                        0             0                    0          0  \n",
       "886                        0             0                    0          1  \n",
       "887                        0             0                    0          0  \n",
       "888                        0             0                    0          1  \n",
       "\n",
       "[889 rows x 13 columns]"
      ]
     },
     "execution_count": 7,
     "metadata": {},
     "output_type": "execute_result"
    }
   ],
   "source": [
    "df"
   ]
  },
  {
   "cell_type": "code",
   "execution_count": 8,
   "metadata": {},
   "outputs": [],
   "source": [
    "test_df = pd.read_csv(path/'Test.csv')"
   ]
  },
  {
   "cell_type": "markdown",
   "metadata": {},
   "source": [
    "## Connect to MLflow server"
   ]
  },
  {
   "cell_type": "code",
   "execution_count": 9,
   "metadata": {},
   "outputs": [],
   "source": [
    "# mlflow server --backend-store-uri mlruns/ --default-artifact-root mlruns/ --host 0.0.0.0 --port 5000\n",
    "remote_server_uri = \"http://localhost:5000\" # set to your server URI\n",
    "mlflow.set_tracking_uri(remote_server_uri)  # or set the MLFLOW_TRACKING_URI in the env"
   ]
  },
  {
   "cell_type": "code",
   "execution_count": 25,
   "metadata": {},
   "outputs": [
    {
     "data": {
      "text/plain": [
       "'http://localhost:5000'"
      ]
     },
     "execution_count": 25,
     "metadata": {},
     "output_type": "execute_result"
    }
   ],
   "source": [
    "mlflow.tracking.get_tracking_uri()"
   ]
  },
  {
   "cell_type": "code",
   "execution_count": 10,
   "metadata": {},
   "outputs": [],
   "source": [
    "mlflow.set_experiment('Cardiac')"
   ]
  },
  {
   "cell_type": "markdown",
   "metadata": {},
   "source": [
    "## Training"
   ]
  },
  {
   "cell_type": "code",
   "execution_count": 11,
   "metadata": {},
   "outputs": [],
   "source": [
    "def eval_metrics(actual, pred):\n",
    "    # compute relevant metrics\n",
    "    rmse = np.sqrt(mean_squared_error(actual, pred))\n",
    "    mae = mean_absolute_error(actual, pred)\n",
    "    r2 = r2_score(actual, pred)\n",
    "    return rmse, mae, r2"
   ]
  },
  {
   "cell_type": "code",
   "execution_count": 12,
   "metadata": {},
   "outputs": [],
   "source": [
    "def prepare_split(data):\n",
    "\n",
    "    target = \"UnderRisk\"\n",
    "    \n",
    "    # Split the data into training and test sets. (0.75, 0.25) split.\n",
    "    train, test = train_test_split(data, test_size=0.1)\n",
    "\n",
    "    # The predicted column is target which is a scalar from [3, 9]\n",
    "    train_x = train.drop([target], axis=1)\n",
    "    test_x = test.drop([target], axis=1)\n",
    "    train_y = train[[target]]\n",
    "    test_y = test[[target]]\n",
    "    return train_x, train_y, test_x, test_y"
   ]
  },
  {
   "cell_type": "code",
   "execution_count": 22,
   "metadata": {},
   "outputs": [],
   "source": [
    "def train_decision_tree(train_x, train_y, test_x, test_y, decision_tree_params):\n",
    "    \n",
    "    max_depth = decision_tree_params['max_depth']\n",
    "    min_samples_split = decision_tree_params['min_samples_split']\n",
    "    # Execute DecisionTreeClassifier\n",
    "    lr = DecisionTreeClassifier(random_state=0, max_depth=max_depth, min_samples_split=min_samples_split)\n",
    "    lr.fit(train_x, train_y)\n",
    "\n",
    "    # Evaluate Metrics\n",
    "    predicted_qualities = lr.predict(test_x)\n",
    "    (rmse, mae, r2) = eval_metrics(test_y, predicted_qualities)\n",
    "\n",
    "    # Print out metrics\n",
    "    print(f\"DecisionTreeClassifier model (max_depth={max_depth}, min_samples_split={min_samples_split}):\")\n",
    "    print(\"  RMSE: %s\" % rmse)\n",
    "    print(\"  MAE: %s\" % mae)\n",
    "    print(\"  R2: %s\" % r2)\n",
    "\n",
    "    # Log parameter, metrics, and model to MLflow\n",
    "    mlflow.log_param(key=\"max_depth\", value=max_depth)\n",
    "    mlflow.log_param(key=\"min_samples_split\", value=min_samples_split)\n",
    "    mlflow.log_metric(key=\"rmse\", value=rmse)\n",
    "    mlflow.log_metrics({\"mae\": mae, \"r2\": r2})\n",
    "    print('data_path', data_path)\n",
    "    mlflow.log_artifact(data_path)\n",
    "    print(\"Save to: {}\".format(mlflow.get_artifact_uri()))\n",
    "\n",
    "    mlflow.sklearn.log_model(lr, \"tree_model\")\n",
    "    \n",
    "def train_knn(train_x, train_y, test_x, test_y, knn_params):\n",
    "    \n",
    "    n_neighbors = knn_params['n_neighbors']\n",
    "    leaf_size=knn_params['leaf_size']\n",
    "    \n",
    "    # Execute DecisionTreeClassifier\n",
    "    lr = KNeighborsClassifier(n_neighbors=n_neighbors, leaf_size=leaf_size)\n",
    "    lr.fit(train_x, train_y)\n",
    "\n",
    "    # Evaluate Metrics\n",
    "    predicted_qualities = lr.predict(test_x)\n",
    "    (rmse, mae, r2) = eval_metrics(test_y, predicted_qualities)\n",
    "\n",
    "    # Print out metrics\n",
    "    print(f\"KNeighborsClassifier model (n_neighbors={n_neighbors}, leaf_size={leaf_size}):\")\n",
    "    print(\"  RMSE: %s\" % rmse)\n",
    "    print(\"  MAE: %s\" % mae)\n",
    "    print(\"  R2: %s\" % r2)\n",
    "\n",
    "    # Log parameter, metrics, and model to MLflow\n",
    "    mlflow.log_param(key=\"n_neighbors\", value=n_neighbors)\n",
    "    mlflow.log_param(key=\"leaf_size\", value=leaf_size)\n",
    "    mlflow.log_metric(key=\"rmse\", value=rmse)\n",
    "    mlflow.log_metrics({\"mae\": mae, \"r2\": r2})\n",
    "    mlflow.log_artifact(data_path, 'test123')\n",
    "    print(\"Save to: {}\".format(mlflow.get_artifact_uri()))\n",
    "\n",
    "    mlflow.sklearn.log_model(lr, \"knn_model\")"
   ]
  },
  {
   "cell_type": "code",
   "execution_count": 23,
   "metadata": {},
   "outputs": [],
   "source": [
    "data_path = 'Cardiac_Arrest_Participants_Data/Train.csv'\n",
    "\n",
    "def train(data, decision_tree_params, knn_params):\n",
    "    # train a model with given parameters\n",
    "    warnings.filterwarnings(\"ignore\")\n",
    "    np.random.seed(777)\n",
    "\n",
    "    train_x, train_y, test_x, test_y = prepare_split(data)\n",
    "\n",
    "    # Useful for multiple runs (only doing one run in this sample notebook)    \n",
    "    with mlflow.start_run():\n",
    "        train_decision_tree(train_x, train_y, test_x, test_y, decision_tree_params)\n",
    "    \n",
    "    with mlflow.start_run():\n",
    "        train_knn(train_x, train_y, test_x, test_y, knn_params)"
   ]
  },
  {
   "cell_type": "code",
   "execution_count": 24,
   "metadata": {},
   "outputs": [
    {
     "name": "stdout",
     "output_type": "stream",
     "text": [
      "DecisionTreeClassifier model (max_depth=3, min_samples_split=2):\n",
      "  RMSE: 0.4740454631399772\n",
      "  MAE: 0.2247191011235955\n",
      "  R2: -0.2898550724637683\n",
      "data_path Cardiac_Arrest_Participants_Data/Train.csv\n",
      "Save to: mlruns/1/4465b107bcb843a3b07f100c67aebd51/artifacts\n",
      "KNeighborsClassifier model (n_neighbors=3, leaf_size=30):\n",
      "  RMSE: 0.4620423639315076\n",
      "  MAE: 0.21348314606741572\n",
      "  R2: -0.22536231884057978\n",
      "Save to: mlruns/1/08294761de5e44ac80490f106bdfde24/artifacts\n"
     ]
    }
   ],
   "source": [
    "train(df, {'max_depth':3, 'min_samples_split':2}, {'n_neighbors': 3, 'leaf_size': 30})"
   ]
  },
  {
   "cell_type": "code",
   "execution_count": 21,
   "metadata": {},
   "outputs": [
    {
     "name": "stdout",
     "output_type": "stream",
     "text": [
      "DecisionTreeClassifier model (max_depth=4, min_samples_split=2):\n",
      "  RMSE: 0.4740454631399772\n",
      "  MAE: 0.2247191011235955\n",
      "  R2: -0.2898550724637683\n",
      "data_path Cardiac_Arrest_Participants_Data/Train.csv\n",
      "Save to: mlruns/1/2e289137a9b945508cf929d77c3107b5/artifacts\n",
      "KNeighborsClassifier model (n_neighbors=4, leaf_size=30):\n",
      "  RMSE: 0.4620423639315076\n",
      "  MAE: 0.21348314606741572\n",
      "  R2: -0.22536231884057978\n",
      "Save to: mlruns/1/d3c44f85e5774d31bb9184bf537d2f2e/artifacts\n"
     ]
    }
   ],
   "source": [
    "train(df, {'max_depth':4, 'min_samples_split':2}, {'n_neighbors': 4, 'leaf_size': 30})"
   ]
  },
  {
   "cell_type": "code",
   "execution_count": 17,
   "metadata": {},
   "outputs": [
    {
     "name": "stdout",
     "output_type": "stream",
     "text": [
      "DecisionTreeClassifier model (max_depth=4, min_samples_split=3):\n",
      "  RMSE: 0.4740454631399772\n",
      "  MAE: 0.2247191011235955\n",
      "  R2: -0.2898550724637683\n",
      "Save to: mlruns/1/6614589b4b014052899e185fbd11d2f4/artifacts\n",
      "KNeighborsClassifier model (n_neighbors=5, leaf_size=30):\n",
      "  RMSE: 0.4620423639315076\n",
      "  MAE: 0.21348314606741572\n",
      "  R2: -0.22536231884057978\n",
      "Save to: mlruns/1/b2642a2dce0447cda178bce6a8dac71a/artifacts\n"
     ]
    }
   ],
   "source": [
    "train(df, {'max_depth':4, 'min_samples_split':3}, {'n_neighbors': 5, 'leaf_size': 30})"
   ]
  },
  {
   "cell_type": "code",
   "execution_count": null,
   "metadata": {},
   "outputs": [],
   "source": []
  }
 ],
 "metadata": {
  "kernelspec": {
   "display_name": "Python 3",
   "language": "python",
   "name": "python3"
  },
  "language_info": {
   "codemirror_mode": {
    "name": "ipython",
    "version": 3
   },
   "file_extension": ".py",
   "mimetype": "text/x-python",
   "name": "python",
   "nbconvert_exporter": "python",
   "pygments_lexer": "ipython3",
   "version": "3.7.4"
  }
 },
 "nbformat": 4,
 "nbformat_minor": 4
}
