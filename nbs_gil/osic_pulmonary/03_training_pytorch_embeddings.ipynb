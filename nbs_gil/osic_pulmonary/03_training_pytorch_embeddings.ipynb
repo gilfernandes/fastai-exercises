{
 "cells": [
  {
   "cell_type": "code",
   "execution_count": 1,
   "metadata": {},
   "outputs": [],
   "source": [
    "%load_ext autoreload\n",
    "%autoreload 2\n",
    "\n",
    "%matplotlib inline"
   ]
  },
  {
   "cell_type": "code",
   "execution_count": 2,
   "metadata": {},
   "outputs": [],
   "source": [
    "import numpy as np\n",
    "import pandas as pd"
   ]
  },
  {
   "cell_type": "code",
   "execution_count": 3,
   "metadata": {},
   "outputs": [],
   "source": [
    "from pathlib import Path\n",
    "import torch\n",
    "import random\n",
    "import os\n",
    "import torch.nn as nn\n",
    "from torch.utils.data import Dataset, DataLoader\n",
    "from tqdm.notebook import tqdm\n",
    "from sklearn.model_selection import KFold\n",
    "from sklearn.metrics import mean_absolute_error\n",
    "import matplotlib.pyplot as plt\n",
    "import torch.nn.functional as F\n",
    "from sklearn.preprocessing import LabelEncoder"
   ]
  },
  {
   "cell_type": "code",
   "execution_count": 4,
   "metadata": {},
   "outputs": [],
   "source": [
    "from lib import common"
   ]
  },
  {
   "cell_type": "code",
   "execution_count": 5,
   "metadata": {},
   "outputs": [],
   "source": [
    "pd.options.mode.chained_assignment = None"
   ]
  },
  {
   "cell_type": "markdown",
   "metadata": {},
   "source": [
    "### Path"
   ]
  },
  {
   "cell_type": "code",
   "execution_count": 6,
   "metadata": {},
   "outputs": [],
   "source": [
    "path = Path('/kaggle/osic_pulmonary')\n",
    "assert path.exists()"
   ]
  },
  {
   "cell_type": "markdown",
   "metadata": {},
   "source": [
    "### Read Data"
   ]
  },
  {
   "cell_type": "code",
   "execution_count": 7,
   "metadata": {},
   "outputs": [],
   "source": [
    "train_df, test_df, submission_df = common.read_data(path)"
   ]
  },
  {
   "cell_type": "markdown",
   "metadata": {},
   "source": [
    "#### Feature generation"
   ]
  },
  {
   "cell_type": "code",
   "execution_count": 8,
   "metadata": {},
   "outputs": [
    {
     "data": {
      "text/plain": [
       "1542"
      ]
     },
     "execution_count": 8,
     "metadata": {},
     "output_type": "execute_result"
    }
   ],
   "source": [
    "len(train_df)"
   ]
  },
  {
   "cell_type": "code",
   "execution_count": 9,
   "metadata": {},
   "outputs": [],
   "source": [
    "submission_df['Patient'] = submission_df['Patient_Week'].apply(lambda x:x.split('_')[0])\n",
    "submission_df['Weeks'] = submission_df['Patient_Week'].apply(lambda x: int(x.split('_')[-1]))\n",
    "submission_df = submission_df[['Patient','Weeks','Confidence','Patient_Week']]\n",
    "submission_df = submission_df.merge(test_df.drop('Weeks', axis=1).copy(), on=['Patient'])"
   ]
  },
  {
   "cell_type": "code",
   "execution_count": 10,
   "metadata": {},
   "outputs": [
    {
     "data": {
      "text/html": [
       "<div>\n",
       "<style scoped>\n",
       "    .dataframe tbody tr th:only-of-type {\n",
       "        vertical-align: middle;\n",
       "    }\n",
       "\n",
       "    .dataframe tbody tr th {\n",
       "        vertical-align: top;\n",
       "    }\n",
       "\n",
       "    .dataframe thead th {\n",
       "        text-align: right;\n",
       "    }\n",
       "</style>\n",
       "<table border=\"1\" class=\"dataframe\">\n",
       "  <thead>\n",
       "    <tr style=\"text-align: right;\">\n",
       "      <th></th>\n",
       "      <th>Patient</th>\n",
       "      <th>Weeks</th>\n",
       "      <th>FVC</th>\n",
       "      <th>Percent</th>\n",
       "      <th>Age</th>\n",
       "      <th>Sex</th>\n",
       "      <th>SmokingStatus</th>\n",
       "    </tr>\n",
       "  </thead>\n",
       "  <tbody>\n",
       "    <tr>\n",
       "      <th>0</th>\n",
       "      <td>ID00419637202311204720264</td>\n",
       "      <td>6</td>\n",
       "      <td>3020</td>\n",
       "      <td>70.186852</td>\n",
       "      <td>73</td>\n",
       "      <td>Male</td>\n",
       "      <td>Ex-smoker</td>\n",
       "    </tr>\n",
       "  </tbody>\n",
       "</table>\n",
       "</div>"
      ],
      "text/plain": [
       "                     Patient  Weeks   FVC    Percent  Age   Sex SmokingStatus\n",
       "0  ID00419637202311204720264      6  3020  70.186852   73  Male     Ex-smoker"
      ]
     },
     "execution_count": 10,
     "metadata": {},
     "output_type": "execute_result"
    }
   ],
   "source": [
    "test_df[test_df['Patient'] == 'ID00419637202311204720264']"
   ]
  },
  {
   "cell_type": "code",
   "execution_count": 11,
   "metadata": {},
   "outputs": [
    {
     "data": {
      "text/html": [
       "<div>\n",
       "<style scoped>\n",
       "    .dataframe tbody tr th:only-of-type {\n",
       "        vertical-align: middle;\n",
       "    }\n",
       "\n",
       "    .dataframe tbody tr th {\n",
       "        vertical-align: top;\n",
       "    }\n",
       "\n",
       "    .dataframe thead th {\n",
       "        text-align: right;\n",
       "    }\n",
       "</style>\n",
       "<table border=\"1\" class=\"dataframe\">\n",
       "  <thead>\n",
       "    <tr style=\"text-align: right;\">\n",
       "      <th></th>\n",
       "      <th>Patient</th>\n",
       "      <th>Weeks</th>\n",
       "      <th>FVC</th>\n",
       "      <th>Percent</th>\n",
       "      <th>Age</th>\n",
       "      <th>Sex</th>\n",
       "      <th>SmokingStatus</th>\n",
       "    </tr>\n",
       "  </thead>\n",
       "  <tbody>\n",
       "    <tr>\n",
       "      <th>1504</th>\n",
       "      <td>ID00419637202311204720264</td>\n",
       "      <td>6</td>\n",
       "      <td>3020</td>\n",
       "      <td>70.186852</td>\n",
       "      <td>73</td>\n",
       "      <td>Male</td>\n",
       "      <td>Ex-smoker</td>\n",
       "    </tr>\n",
       "    <tr>\n",
       "      <th>1505</th>\n",
       "      <td>ID00419637202311204720264</td>\n",
       "      <td>7</td>\n",
       "      <td>2859</td>\n",
       "      <td>66.445107</td>\n",
       "      <td>73</td>\n",
       "      <td>Male</td>\n",
       "      <td>Ex-smoker</td>\n",
       "    </tr>\n",
       "    <tr>\n",
       "      <th>1506</th>\n",
       "      <td>ID00419637202311204720264</td>\n",
       "      <td>9</td>\n",
       "      <td>2783</td>\n",
       "      <td>64.678810</td>\n",
       "      <td>73</td>\n",
       "      <td>Male</td>\n",
       "      <td>Ex-smoker</td>\n",
       "    </tr>\n",
       "    <tr>\n",
       "      <th>1507</th>\n",
       "      <td>ID00419637202311204720264</td>\n",
       "      <td>10</td>\n",
       "      <td>2719</td>\n",
       "      <td>63.191410</td>\n",
       "      <td>73</td>\n",
       "      <td>Male</td>\n",
       "      <td>Ex-smoker</td>\n",
       "    </tr>\n",
       "    <tr>\n",
       "      <th>1508</th>\n",
       "      <td>ID00419637202311204720264</td>\n",
       "      <td>13</td>\n",
       "      <td>2738</td>\n",
       "      <td>63.632984</td>\n",
       "      <td>73</td>\n",
       "      <td>Male</td>\n",
       "      <td>Ex-smoker</td>\n",
       "    </tr>\n",
       "    <tr>\n",
       "      <th>1509</th>\n",
       "      <td>ID00419637202311204720264</td>\n",
       "      <td>18</td>\n",
       "      <td>2694</td>\n",
       "      <td>62.610394</td>\n",
       "      <td>73</td>\n",
       "      <td>Male</td>\n",
       "      <td>Ex-smoker</td>\n",
       "    </tr>\n",
       "    <tr>\n",
       "      <th>1510</th>\n",
       "      <td>ID00419637202311204720264</td>\n",
       "      <td>31</td>\n",
       "      <td>2708</td>\n",
       "      <td>62.935764</td>\n",
       "      <td>73</td>\n",
       "      <td>Male</td>\n",
       "      <td>Ex-smoker</td>\n",
       "    </tr>\n",
       "    <tr>\n",
       "      <th>1511</th>\n",
       "      <td>ID00419637202311204720264</td>\n",
       "      <td>43</td>\n",
       "      <td>2793</td>\n",
       "      <td>64.911224</td>\n",
       "      <td>73</td>\n",
       "      <td>Male</td>\n",
       "      <td>Ex-smoker</td>\n",
       "    </tr>\n",
       "    <tr>\n",
       "      <th>1512</th>\n",
       "      <td>ID00419637202311204720264</td>\n",
       "      <td>59</td>\n",
       "      <td>2727</td>\n",
       "      <td>63.377335</td>\n",
       "      <td>73</td>\n",
       "      <td>Male</td>\n",
       "      <td>Ex-smoker</td>\n",
       "    </tr>\n",
       "  </tbody>\n",
       "</table>\n",
       "</div>"
      ],
      "text/plain": [
       "                        Patient  Weeks   FVC    Percent  Age   Sex  \\\n",
       "1504  ID00419637202311204720264      6  3020  70.186852   73  Male   \n",
       "1505  ID00419637202311204720264      7  2859  66.445107   73  Male   \n",
       "1506  ID00419637202311204720264      9  2783  64.678810   73  Male   \n",
       "1507  ID00419637202311204720264     10  2719  63.191410   73  Male   \n",
       "1508  ID00419637202311204720264     13  2738  63.632984   73  Male   \n",
       "1509  ID00419637202311204720264     18  2694  62.610394   73  Male   \n",
       "1510  ID00419637202311204720264     31  2708  62.935764   73  Male   \n",
       "1511  ID00419637202311204720264     43  2793  64.911224   73  Male   \n",
       "1512  ID00419637202311204720264     59  2727  63.377335   73  Male   \n",
       "\n",
       "     SmokingStatus  \n",
       "1504     Ex-smoker  \n",
       "1505     Ex-smoker  \n",
       "1506     Ex-smoker  \n",
       "1507     Ex-smoker  \n",
       "1508     Ex-smoker  \n",
       "1509     Ex-smoker  \n",
       "1510     Ex-smoker  \n",
       "1511     Ex-smoker  \n",
       "1512     Ex-smoker  "
      ]
     },
     "execution_count": 11,
     "metadata": {},
     "output_type": "execute_result"
    }
   ],
   "source": [
    "train_df[train_df['Patient'] == 'ID00419637202311204720264']"
   ]
  },
  {
   "cell_type": "code",
   "execution_count": 12,
   "metadata": {},
   "outputs": [
    {
     "data": {
      "text/html": [
       "<div>\n",
       "<style scoped>\n",
       "    .dataframe tbody tr th:only-of-type {\n",
       "        vertical-align: middle;\n",
       "    }\n",
       "\n",
       "    .dataframe tbody tr th {\n",
       "        vertical-align: top;\n",
       "    }\n",
       "\n",
       "    .dataframe thead th {\n",
       "        text-align: right;\n",
       "    }\n",
       "</style>\n",
       "<table border=\"1\" class=\"dataframe\">\n",
       "  <thead>\n",
       "    <tr style=\"text-align: right;\">\n",
       "      <th></th>\n",
       "      <th>Patient</th>\n",
       "      <th>Weeks</th>\n",
       "      <th>Confidence</th>\n",
       "      <th>Patient_Week</th>\n",
       "      <th>FVC</th>\n",
       "      <th>Percent</th>\n",
       "      <th>Age</th>\n",
       "      <th>Sex</th>\n",
       "      <th>SmokingStatus</th>\n",
       "    </tr>\n",
       "  </thead>\n",
       "  <tbody>\n",
       "    <tr>\n",
       "      <th>0</th>\n",
       "      <td>ID00419637202311204720264</td>\n",
       "      <td>-12</td>\n",
       "      <td>100</td>\n",
       "      <td>ID00419637202311204720264_-12</td>\n",
       "      <td>3020</td>\n",
       "      <td>70.186852</td>\n",
       "      <td>73</td>\n",
       "      <td>Male</td>\n",
       "      <td>Ex-smoker</td>\n",
       "    </tr>\n",
       "    <tr>\n",
       "      <th>1</th>\n",
       "      <td>ID00419637202311204720264</td>\n",
       "      <td>-11</td>\n",
       "      <td>100</td>\n",
       "      <td>ID00419637202311204720264_-11</td>\n",
       "      <td>3020</td>\n",
       "      <td>70.186852</td>\n",
       "      <td>73</td>\n",
       "      <td>Male</td>\n",
       "      <td>Ex-smoker</td>\n",
       "    </tr>\n",
       "    <tr>\n",
       "      <th>2</th>\n",
       "      <td>ID00419637202311204720264</td>\n",
       "      <td>-10</td>\n",
       "      <td>100</td>\n",
       "      <td>ID00419637202311204720264_-10</td>\n",
       "      <td>3020</td>\n",
       "      <td>70.186852</td>\n",
       "      <td>73</td>\n",
       "      <td>Male</td>\n",
       "      <td>Ex-smoker</td>\n",
       "    </tr>\n",
       "    <tr>\n",
       "      <th>3</th>\n",
       "      <td>ID00419637202311204720264</td>\n",
       "      <td>-9</td>\n",
       "      <td>100</td>\n",
       "      <td>ID00419637202311204720264_-9</td>\n",
       "      <td>3020</td>\n",
       "      <td>70.186852</td>\n",
       "      <td>73</td>\n",
       "      <td>Male</td>\n",
       "      <td>Ex-smoker</td>\n",
       "    </tr>\n",
       "    <tr>\n",
       "      <th>4</th>\n",
       "      <td>ID00419637202311204720264</td>\n",
       "      <td>-8</td>\n",
       "      <td>100</td>\n",
       "      <td>ID00419637202311204720264_-8</td>\n",
       "      <td>3020</td>\n",
       "      <td>70.186852</td>\n",
       "      <td>73</td>\n",
       "      <td>Male</td>\n",
       "      <td>Ex-smoker</td>\n",
       "    </tr>\n",
       "    <tr>\n",
       "      <th>5</th>\n",
       "      <td>ID00419637202311204720264</td>\n",
       "      <td>-7</td>\n",
       "      <td>100</td>\n",
       "      <td>ID00419637202311204720264_-7</td>\n",
       "      <td>3020</td>\n",
       "      <td>70.186852</td>\n",
       "      <td>73</td>\n",
       "      <td>Male</td>\n",
       "      <td>Ex-smoker</td>\n",
       "    </tr>\n",
       "    <tr>\n",
       "      <th>6</th>\n",
       "      <td>ID00419637202311204720264</td>\n",
       "      <td>-6</td>\n",
       "      <td>100</td>\n",
       "      <td>ID00419637202311204720264_-6</td>\n",
       "      <td>3020</td>\n",
       "      <td>70.186852</td>\n",
       "      <td>73</td>\n",
       "      <td>Male</td>\n",
       "      <td>Ex-smoker</td>\n",
       "    </tr>\n",
       "    <tr>\n",
       "      <th>7</th>\n",
       "      <td>ID00419637202311204720264</td>\n",
       "      <td>-5</td>\n",
       "      <td>100</td>\n",
       "      <td>ID00419637202311204720264_-5</td>\n",
       "      <td>3020</td>\n",
       "      <td>70.186852</td>\n",
       "      <td>73</td>\n",
       "      <td>Male</td>\n",
       "      <td>Ex-smoker</td>\n",
       "    </tr>\n",
       "    <tr>\n",
       "      <th>8</th>\n",
       "      <td>ID00419637202311204720264</td>\n",
       "      <td>-4</td>\n",
       "      <td>100</td>\n",
       "      <td>ID00419637202311204720264_-4</td>\n",
       "      <td>3020</td>\n",
       "      <td>70.186852</td>\n",
       "      <td>73</td>\n",
       "      <td>Male</td>\n",
       "      <td>Ex-smoker</td>\n",
       "    </tr>\n",
       "    <tr>\n",
       "      <th>9</th>\n",
       "      <td>ID00419637202311204720264</td>\n",
       "      <td>-3</td>\n",
       "      <td>100</td>\n",
       "      <td>ID00419637202311204720264_-3</td>\n",
       "      <td>3020</td>\n",
       "      <td>70.186852</td>\n",
       "      <td>73</td>\n",
       "      <td>Male</td>\n",
       "      <td>Ex-smoker</td>\n",
       "    </tr>\n",
       "  </tbody>\n",
       "</table>\n",
       "</div>"
      ],
      "text/plain": [
       "                     Patient  Weeks  Confidence  \\\n",
       "0  ID00419637202311204720264    -12         100   \n",
       "1  ID00419637202311204720264    -11         100   \n",
       "2  ID00419637202311204720264    -10         100   \n",
       "3  ID00419637202311204720264     -9         100   \n",
       "4  ID00419637202311204720264     -8         100   \n",
       "5  ID00419637202311204720264     -7         100   \n",
       "6  ID00419637202311204720264     -6         100   \n",
       "7  ID00419637202311204720264     -5         100   \n",
       "8  ID00419637202311204720264     -4         100   \n",
       "9  ID00419637202311204720264     -3         100   \n",
       "\n",
       "                    Patient_Week   FVC    Percent  Age   Sex SmokingStatus  \n",
       "0  ID00419637202311204720264_-12  3020  70.186852   73  Male     Ex-smoker  \n",
       "1  ID00419637202311204720264_-11  3020  70.186852   73  Male     Ex-smoker  \n",
       "2  ID00419637202311204720264_-10  3020  70.186852   73  Male     Ex-smoker  \n",
       "3   ID00419637202311204720264_-9  3020  70.186852   73  Male     Ex-smoker  \n",
       "4   ID00419637202311204720264_-8  3020  70.186852   73  Male     Ex-smoker  \n",
       "5   ID00419637202311204720264_-7  3020  70.186852   73  Male     Ex-smoker  \n",
       "6   ID00419637202311204720264_-6  3020  70.186852   73  Male     Ex-smoker  \n",
       "7   ID00419637202311204720264_-5  3020  70.186852   73  Male     Ex-smoker  \n",
       "8   ID00419637202311204720264_-4  3020  70.186852   73  Male     Ex-smoker  \n",
       "9   ID00419637202311204720264_-3  3020  70.186852   73  Male     Ex-smoker  "
      ]
     },
     "execution_count": 12,
     "metadata": {},
     "output_type": "execute_result"
    }
   ],
   "source": [
    "submission_df[submission_df['Patient'] == 'ID00419637202311204720264'].head(10)"
   ]
  },
  {
   "cell_type": "markdown",
   "metadata": {},
   "source": [
    "Adding missing values"
   ]
  },
  {
   "cell_type": "code",
   "execution_count": 13,
   "metadata": {},
   "outputs": [],
   "source": [
    "train_df['WHERE'] = 'train'\n",
    "test_df['WHERE'] = 'val'\n",
    "submission_df['WHERE'] = 'test'\n",
    "data = train_df.append([test_df, submission_df])"
   ]
  },
  {
   "cell_type": "code",
   "execution_count": 14,
   "metadata": {},
   "outputs": [],
   "source": [
    "data['min_week'] = data['Weeks']\n",
    "data.loc[data.WHERE=='test','min_week'] = np.nan\n",
    "data['min_week'] = data.groupby('Patient')['min_week'].transform('min')"
   ]
  },
  {
   "cell_type": "code",
   "execution_count": 15,
   "metadata": {},
   "outputs": [
    {
     "data": {
      "text/html": [
       "<div>\n",
       "<style scoped>\n",
       "    .dataframe tbody tr th:only-of-type {\n",
       "        vertical-align: middle;\n",
       "    }\n",
       "\n",
       "    .dataframe tbody tr th {\n",
       "        vertical-align: top;\n",
       "    }\n",
       "\n",
       "    .dataframe thead th {\n",
       "        text-align: right;\n",
       "    }\n",
       "</style>\n",
       "<table border=\"1\" class=\"dataframe\">\n",
       "  <thead>\n",
       "    <tr style=\"text-align: right;\">\n",
       "      <th></th>\n",
       "      <th>Patient</th>\n",
       "      <th>min_FVC</th>\n",
       "      <th>nb</th>\n",
       "    </tr>\n",
       "  </thead>\n",
       "  <tbody>\n",
       "    <tr>\n",
       "      <th>1504</th>\n",
       "      <td>ID00419637202311204720264</td>\n",
       "      <td>3020</td>\n",
       "      <td>1</td>\n",
       "    </tr>\n",
       "  </tbody>\n",
       "</table>\n",
       "</div>"
      ],
      "text/plain": [
       "                        Patient  min_FVC  nb\n",
       "1504  ID00419637202311204720264     3020   1"
      ]
     },
     "execution_count": 15,
     "metadata": {},
     "output_type": "execute_result"
    }
   ],
   "source": [
    "base = data.loc[data.Weeks == data.min_week]\n",
    "base = base[['Patient','FVC']].copy()\n",
    "base.columns = ['Patient','min_FVC']\n",
    "base['nb'] = 1\n",
    "base['nb'] = base.groupby('Patient')['nb'].transform('cumsum')\n",
    "base = base[base.nb==1]\n",
    "base[base['Patient'] == 'ID00419637202311204720264']"
   ]
  },
  {
   "cell_type": "code",
   "execution_count": 16,
   "metadata": {},
   "outputs": [],
   "source": [
    "data = data.merge(base, on='Patient', how='left')\n",
    "data['base_week'] = data['Weeks'] - data['min_week']\n",
    "data['base_week'] = data['base_week']\n",
    "del base"
   ]
  },
  {
   "cell_type": "code",
   "execution_count": 17,
   "metadata": {},
   "outputs": [
    {
     "data": {
      "text/html": [
       "<div>\n",
       "<style scoped>\n",
       "    .dataframe tbody tr th:only-of-type {\n",
       "        vertical-align: middle;\n",
       "    }\n",
       "\n",
       "    .dataframe tbody tr th {\n",
       "        vertical-align: top;\n",
       "    }\n",
       "\n",
       "    .dataframe thead th {\n",
       "        text-align: right;\n",
       "    }\n",
       "</style>\n",
       "<table border=\"1\" class=\"dataframe\">\n",
       "  <thead>\n",
       "    <tr style=\"text-align: right;\">\n",
       "      <th></th>\n",
       "      <th>Patient</th>\n",
       "      <th>Weeks</th>\n",
       "      <th>FVC</th>\n",
       "      <th>Percent</th>\n",
       "      <th>Age</th>\n",
       "      <th>Sex</th>\n",
       "      <th>SmokingStatus</th>\n",
       "      <th>WHERE</th>\n",
       "      <th>Confidence</th>\n",
       "      <th>Patient_Week</th>\n",
       "      <th>min_week</th>\n",
       "      <th>min_FVC</th>\n",
       "      <th>nb</th>\n",
       "      <th>base_week</th>\n",
       "    </tr>\n",
       "  </thead>\n",
       "  <tbody>\n",
       "    <tr>\n",
       "      <th>1498</th>\n",
       "      <td>ID00419637202311204720264</td>\n",
       "      <td>6</td>\n",
       "      <td>3020</td>\n",
       "      <td>70.186852</td>\n",
       "      <td>73</td>\n",
       "      <td>Male</td>\n",
       "      <td>Ex-smoker</td>\n",
       "      <td>train</td>\n",
       "      <td>NaN</td>\n",
       "      <td>NaN</td>\n",
       "      <td>6.0</td>\n",
       "      <td>3020</td>\n",
       "      <td>1</td>\n",
       "      <td>0.0</td>\n",
       "    </tr>\n",
       "    <tr>\n",
       "      <th>1499</th>\n",
       "      <td>ID00419637202311204720264</td>\n",
       "      <td>7</td>\n",
       "      <td>2859</td>\n",
       "      <td>66.445107</td>\n",
       "      <td>73</td>\n",
       "      <td>Male</td>\n",
       "      <td>Ex-smoker</td>\n",
       "      <td>train</td>\n",
       "      <td>NaN</td>\n",
       "      <td>NaN</td>\n",
       "      <td>6.0</td>\n",
       "      <td>3020</td>\n",
       "      <td>1</td>\n",
       "      <td>1.0</td>\n",
       "    </tr>\n",
       "    <tr>\n",
       "      <th>1500</th>\n",
       "      <td>ID00419637202311204720264</td>\n",
       "      <td>9</td>\n",
       "      <td>2783</td>\n",
       "      <td>64.678810</td>\n",
       "      <td>73</td>\n",
       "      <td>Male</td>\n",
       "      <td>Ex-smoker</td>\n",
       "      <td>train</td>\n",
       "      <td>NaN</td>\n",
       "      <td>NaN</td>\n",
       "      <td>6.0</td>\n",
       "      <td>3020</td>\n",
       "      <td>1</td>\n",
       "      <td>3.0</td>\n",
       "    </tr>\n",
       "    <tr>\n",
       "      <th>1501</th>\n",
       "      <td>ID00419637202311204720264</td>\n",
       "      <td>10</td>\n",
       "      <td>2719</td>\n",
       "      <td>63.191410</td>\n",
       "      <td>73</td>\n",
       "      <td>Male</td>\n",
       "      <td>Ex-smoker</td>\n",
       "      <td>train</td>\n",
       "      <td>NaN</td>\n",
       "      <td>NaN</td>\n",
       "      <td>6.0</td>\n",
       "      <td>3020</td>\n",
       "      <td>1</td>\n",
       "      <td>4.0</td>\n",
       "    </tr>\n",
       "    <tr>\n",
       "      <th>1502</th>\n",
       "      <td>ID00419637202311204720264</td>\n",
       "      <td>13</td>\n",
       "      <td>2738</td>\n",
       "      <td>63.632984</td>\n",
       "      <td>73</td>\n",
       "      <td>Male</td>\n",
       "      <td>Ex-smoker</td>\n",
       "      <td>train</td>\n",
       "      <td>NaN</td>\n",
       "      <td>NaN</td>\n",
       "      <td>6.0</td>\n",
       "      <td>3020</td>\n",
       "      <td>1</td>\n",
       "      <td>7.0</td>\n",
       "    </tr>\n",
       "    <tr>\n",
       "      <th>...</th>\n",
       "      <td>...</td>\n",
       "      <td>...</td>\n",
       "      <td>...</td>\n",
       "      <td>...</td>\n",
       "      <td>...</td>\n",
       "      <td>...</td>\n",
       "      <td>...</td>\n",
       "      <td>...</td>\n",
       "      <td>...</td>\n",
       "      <td>...</td>\n",
       "      <td>...</td>\n",
       "      <td>...</td>\n",
       "      <td>...</td>\n",
       "      <td>...</td>\n",
       "    </tr>\n",
       "    <tr>\n",
       "      <th>1688</th>\n",
       "      <td>ID00419637202311204720264</td>\n",
       "      <td>129</td>\n",
       "      <td>3020</td>\n",
       "      <td>70.186852</td>\n",
       "      <td>73</td>\n",
       "      <td>Male</td>\n",
       "      <td>Ex-smoker</td>\n",
       "      <td>test</td>\n",
       "      <td>100.0</td>\n",
       "      <td>ID00419637202311204720264_129</td>\n",
       "      <td>6.0</td>\n",
       "      <td>3020</td>\n",
       "      <td>1</td>\n",
       "      <td>123.0</td>\n",
       "    </tr>\n",
       "    <tr>\n",
       "      <th>1689</th>\n",
       "      <td>ID00419637202311204720264</td>\n",
       "      <td>130</td>\n",
       "      <td>3020</td>\n",
       "      <td>70.186852</td>\n",
       "      <td>73</td>\n",
       "      <td>Male</td>\n",
       "      <td>Ex-smoker</td>\n",
       "      <td>test</td>\n",
       "      <td>100.0</td>\n",
       "      <td>ID00419637202311204720264_130</td>\n",
       "      <td>6.0</td>\n",
       "      <td>3020</td>\n",
       "      <td>1</td>\n",
       "      <td>124.0</td>\n",
       "    </tr>\n",
       "    <tr>\n",
       "      <th>1690</th>\n",
       "      <td>ID00419637202311204720264</td>\n",
       "      <td>131</td>\n",
       "      <td>3020</td>\n",
       "      <td>70.186852</td>\n",
       "      <td>73</td>\n",
       "      <td>Male</td>\n",
       "      <td>Ex-smoker</td>\n",
       "      <td>test</td>\n",
       "      <td>100.0</td>\n",
       "      <td>ID00419637202311204720264_131</td>\n",
       "      <td>6.0</td>\n",
       "      <td>3020</td>\n",
       "      <td>1</td>\n",
       "      <td>125.0</td>\n",
       "    </tr>\n",
       "    <tr>\n",
       "      <th>1691</th>\n",
       "      <td>ID00419637202311204720264</td>\n",
       "      <td>132</td>\n",
       "      <td>3020</td>\n",
       "      <td>70.186852</td>\n",
       "      <td>73</td>\n",
       "      <td>Male</td>\n",
       "      <td>Ex-smoker</td>\n",
       "      <td>test</td>\n",
       "      <td>100.0</td>\n",
       "      <td>ID00419637202311204720264_132</td>\n",
       "      <td>6.0</td>\n",
       "      <td>3020</td>\n",
       "      <td>1</td>\n",
       "      <td>126.0</td>\n",
       "    </tr>\n",
       "    <tr>\n",
       "      <th>1692</th>\n",
       "      <td>ID00419637202311204720264</td>\n",
       "      <td>133</td>\n",
       "      <td>3020</td>\n",
       "      <td>70.186852</td>\n",
       "      <td>73</td>\n",
       "      <td>Male</td>\n",
       "      <td>Ex-smoker</td>\n",
       "      <td>test</td>\n",
       "      <td>100.0</td>\n",
       "      <td>ID00419637202311204720264_133</td>\n",
       "      <td>6.0</td>\n",
       "      <td>3020</td>\n",
       "      <td>1</td>\n",
       "      <td>127.0</td>\n",
       "    </tr>\n",
       "  </tbody>\n",
       "</table>\n",
       "<p>156 rows × 14 columns</p>\n",
       "</div>"
      ],
      "text/plain": [
       "                        Patient  Weeks   FVC    Percent  Age   Sex  \\\n",
       "1498  ID00419637202311204720264      6  3020  70.186852   73  Male   \n",
       "1499  ID00419637202311204720264      7  2859  66.445107   73  Male   \n",
       "1500  ID00419637202311204720264      9  2783  64.678810   73  Male   \n",
       "1501  ID00419637202311204720264     10  2719  63.191410   73  Male   \n",
       "1502  ID00419637202311204720264     13  2738  63.632984   73  Male   \n",
       "...                         ...    ...   ...        ...  ...   ...   \n",
       "1688  ID00419637202311204720264    129  3020  70.186852   73  Male   \n",
       "1689  ID00419637202311204720264    130  3020  70.186852   73  Male   \n",
       "1690  ID00419637202311204720264    131  3020  70.186852   73  Male   \n",
       "1691  ID00419637202311204720264    132  3020  70.186852   73  Male   \n",
       "1692  ID00419637202311204720264    133  3020  70.186852   73  Male   \n",
       "\n",
       "     SmokingStatus  WHERE  Confidence                   Patient_Week  \\\n",
       "1498     Ex-smoker  train         NaN                            NaN   \n",
       "1499     Ex-smoker  train         NaN                            NaN   \n",
       "1500     Ex-smoker  train         NaN                            NaN   \n",
       "1501     Ex-smoker  train         NaN                            NaN   \n",
       "1502     Ex-smoker  train         NaN                            NaN   \n",
       "...            ...    ...         ...                            ...   \n",
       "1688     Ex-smoker   test       100.0  ID00419637202311204720264_129   \n",
       "1689     Ex-smoker   test       100.0  ID00419637202311204720264_130   \n",
       "1690     Ex-smoker   test       100.0  ID00419637202311204720264_131   \n",
       "1691     Ex-smoker   test       100.0  ID00419637202311204720264_132   \n",
       "1692     Ex-smoker   test       100.0  ID00419637202311204720264_133   \n",
       "\n",
       "      min_week  min_FVC  nb  base_week  \n",
       "1498       6.0     3020   1        0.0  \n",
       "1499       6.0     3020   1        1.0  \n",
       "1500       6.0     3020   1        3.0  \n",
       "1501       6.0     3020   1        4.0  \n",
       "1502       6.0     3020   1        7.0  \n",
       "...        ...      ...  ..        ...  \n",
       "1688       6.0     3020   1      123.0  \n",
       "1689       6.0     3020   1      124.0  \n",
       "1690       6.0     3020   1      125.0  \n",
       "1691       6.0     3020   1      126.0  \n",
       "1692       6.0     3020   1      127.0  \n",
       "\n",
       "[156 rows x 14 columns]"
      ]
     },
     "execution_count": 17,
     "metadata": {},
     "output_type": "execute_result"
    }
   ],
   "source": [
    "data[data['Patient'] == 'ID00419637202311204720264']"
   ]
  },
  {
   "cell_type": "code",
   "execution_count": 18,
   "metadata": {},
   "outputs": [],
   "source": [
    "cat_feats = ['SmokingStatus', 'Sex', 'Age']\n",
    "label_encoders = {}\n",
    "for cat_col in cat_feats:\n",
    "    label_encoders[cat_col] = LabelEncoder()\n",
    "    data[cat_col] = label_encoders[cat_col].fit_transform(data[cat_col])"
   ]
  },
  {
   "cell_type": "code",
   "execution_count": 19,
   "metadata": {},
   "outputs": [],
   "source": [
    "def normalize(df:pd.DataFrame, cont_names):\n",
    "    \"Compute the means and stds of `self.cont_names` columns to normalize them.\"\n",
    "    means, stds = {},{}\n",
    "    for n in cont_names:\n",
    "        means[n], stds[n] = df[n].mean(), df[n].std()\n",
    "        df[n] = (df[n]-means[n]) / (1e-7 + stds[n])"
   ]
  },
  {
   "cell_type": "code",
   "execution_count": 20,
   "metadata": {},
   "outputs": [],
   "source": [
    "data['BASE'] = data['min_FVC']\n",
    "data['week'] = data['base_week']\n",
    "data['percent'] = data['Percent']\n",
    "normalize(data, ['BASE', 'week', 'percent'])"
   ]
  },
  {
   "cell_type": "code",
   "execution_count": 21,
   "metadata": {},
   "outputs": [
    {
     "data": {
      "text/html": [
       "<div>\n",
       "<style scoped>\n",
       "    .dataframe tbody tr th:only-of-type {\n",
       "        vertical-align: middle;\n",
       "    }\n",
       "\n",
       "    .dataframe tbody tr th {\n",
       "        vertical-align: top;\n",
       "    }\n",
       "\n",
       "    .dataframe thead th {\n",
       "        text-align: right;\n",
       "    }\n",
       "</style>\n",
       "<table border=\"1\" class=\"dataframe\">\n",
       "  <thead>\n",
       "    <tr style=\"text-align: right;\">\n",
       "      <th></th>\n",
       "      <th>Patient</th>\n",
       "      <th>Weeks</th>\n",
       "      <th>FVC</th>\n",
       "      <th>Percent</th>\n",
       "      <th>Age</th>\n",
       "      <th>Sex</th>\n",
       "      <th>SmokingStatus</th>\n",
       "      <th>WHERE</th>\n",
       "      <th>Confidence</th>\n",
       "      <th>Patient_Week</th>\n",
       "      <th>min_week</th>\n",
       "      <th>min_FVC</th>\n",
       "      <th>nb</th>\n",
       "      <th>base_week</th>\n",
       "      <th>BASE</th>\n",
       "      <th>week</th>\n",
       "      <th>percent</th>\n",
       "    </tr>\n",
       "  </thead>\n",
       "  <tbody>\n",
       "    <tr>\n",
       "      <th>0</th>\n",
       "      <td>ID00007637202177411956430</td>\n",
       "      <td>-4</td>\n",
       "      <td>2315</td>\n",
       "      <td>58.253647</td>\n",
       "      <td>29</td>\n",
       "      <td>1</td>\n",
       "      <td>1</td>\n",
       "      <td>train</td>\n",
       "      <td>NaN</td>\n",
       "      <td>NaN</td>\n",
       "      <td>-4.0</td>\n",
       "      <td>2315</td>\n",
       "      <td>1</td>\n",
       "      <td>0.0</td>\n",
       "      <td>-0.636809</td>\n",
       "      <td>-0.876378</td>\n",
       "      <td>-1.142194</td>\n",
       "    </tr>\n",
       "    <tr>\n",
       "      <th>1</th>\n",
       "      <td>ID00007637202177411956430</td>\n",
       "      <td>5</td>\n",
       "      <td>2214</td>\n",
       "      <td>55.712128</td>\n",
       "      <td>29</td>\n",
       "      <td>1</td>\n",
       "      <td>1</td>\n",
       "      <td>train</td>\n",
       "      <td>NaN</td>\n",
       "      <td>NaN</td>\n",
       "      <td>-4.0</td>\n",
       "      <td>2315</td>\n",
       "      <td>1</td>\n",
       "      <td>9.0</td>\n",
       "      <td>-0.636809</td>\n",
       "      <td>-0.598597</td>\n",
       "      <td>-1.295784</td>\n",
       "    </tr>\n",
       "    <tr>\n",
       "      <th>2</th>\n",
       "      <td>ID00007637202177411956430</td>\n",
       "      <td>7</td>\n",
       "      <td>2061</td>\n",
       "      <td>51.862103</td>\n",
       "      <td>29</td>\n",
       "      <td>1</td>\n",
       "      <td>1</td>\n",
       "      <td>train</td>\n",
       "      <td>NaN</td>\n",
       "      <td>NaN</td>\n",
       "      <td>-4.0</td>\n",
       "      <td>2315</td>\n",
       "      <td>1</td>\n",
       "      <td>11.0</td>\n",
       "      <td>-0.636809</td>\n",
       "      <td>-0.536868</td>\n",
       "      <td>-1.528450</td>\n",
       "    </tr>\n",
       "    <tr>\n",
       "      <th>3</th>\n",
       "      <td>ID00007637202177411956430</td>\n",
       "      <td>9</td>\n",
       "      <td>2144</td>\n",
       "      <td>53.950680</td>\n",
       "      <td>29</td>\n",
       "      <td>1</td>\n",
       "      <td>1</td>\n",
       "      <td>train</td>\n",
       "      <td>NaN</td>\n",
       "      <td>NaN</td>\n",
       "      <td>-4.0</td>\n",
       "      <td>2315</td>\n",
       "      <td>1</td>\n",
       "      <td>13.0</td>\n",
       "      <td>-0.636809</td>\n",
       "      <td>-0.475140</td>\n",
       "      <td>-1.402233</td>\n",
       "    </tr>\n",
       "    <tr>\n",
       "      <th>4</th>\n",
       "      <td>ID00007637202177411956430</td>\n",
       "      <td>11</td>\n",
       "      <td>2069</td>\n",
       "      <td>52.063412</td>\n",
       "      <td>29</td>\n",
       "      <td>1</td>\n",
       "      <td>1</td>\n",
       "      <td>train</td>\n",
       "      <td>NaN</td>\n",
       "      <td>NaN</td>\n",
       "      <td>-4.0</td>\n",
       "      <td>2315</td>\n",
       "      <td>1</td>\n",
       "      <td>15.0</td>\n",
       "      <td>-0.636809</td>\n",
       "      <td>-0.413411</td>\n",
       "      <td>-1.516285</td>\n",
       "    </tr>\n",
       "    <tr>\n",
       "      <th>...</th>\n",
       "      <td>...</td>\n",
       "      <td>...</td>\n",
       "      <td>...</td>\n",
       "      <td>...</td>\n",
       "      <td>...</td>\n",
       "      <td>...</td>\n",
       "      <td>...</td>\n",
       "      <td>...</td>\n",
       "      <td>...</td>\n",
       "      <td>...</td>\n",
       "      <td>...</td>\n",
       "      <td>...</td>\n",
       "      <td>...</td>\n",
       "      <td>...</td>\n",
       "      <td>...</td>\n",
       "      <td>...</td>\n",
       "      <td>...</td>\n",
       "    </tr>\n",
       "    <tr>\n",
       "      <th>2272</th>\n",
       "      <td>ID00426637202313170790466</td>\n",
       "      <td>129</td>\n",
       "      <td>2925</td>\n",
       "      <td>71.824966</td>\n",
       "      <td>23</td>\n",
       "      <td>1</td>\n",
       "      <td>2</td>\n",
       "      <td>test</td>\n",
       "      <td>100.0</td>\n",
       "      <td>ID00426637202313170790466_129</td>\n",
       "      <td>0.0</td>\n",
       "      <td>2925</td>\n",
       "      <td>1</td>\n",
       "      <td>129.0</td>\n",
       "      <td>0.190043</td>\n",
       "      <td>3.105140</td>\n",
       "      <td>-0.322046</td>\n",
       "    </tr>\n",
       "    <tr>\n",
       "      <th>2273</th>\n",
       "      <td>ID00426637202313170790466</td>\n",
       "      <td>130</td>\n",
       "      <td>2925</td>\n",
       "      <td>71.824966</td>\n",
       "      <td>23</td>\n",
       "      <td>1</td>\n",
       "      <td>2</td>\n",
       "      <td>test</td>\n",
       "      <td>100.0</td>\n",
       "      <td>ID00426637202313170790466_130</td>\n",
       "      <td>0.0</td>\n",
       "      <td>2925</td>\n",
       "      <td>1</td>\n",
       "      <td>130.0</td>\n",
       "      <td>0.190043</td>\n",
       "      <td>3.136005</td>\n",
       "      <td>-0.322046</td>\n",
       "    </tr>\n",
       "    <tr>\n",
       "      <th>2274</th>\n",
       "      <td>ID00426637202313170790466</td>\n",
       "      <td>131</td>\n",
       "      <td>2925</td>\n",
       "      <td>71.824966</td>\n",
       "      <td>23</td>\n",
       "      <td>1</td>\n",
       "      <td>2</td>\n",
       "      <td>test</td>\n",
       "      <td>100.0</td>\n",
       "      <td>ID00426637202313170790466_131</td>\n",
       "      <td>0.0</td>\n",
       "      <td>2925</td>\n",
       "      <td>1</td>\n",
       "      <td>131.0</td>\n",
       "      <td>0.190043</td>\n",
       "      <td>3.166869</td>\n",
       "      <td>-0.322046</td>\n",
       "    </tr>\n",
       "    <tr>\n",
       "      <th>2275</th>\n",
       "      <td>ID00426637202313170790466</td>\n",
       "      <td>132</td>\n",
       "      <td>2925</td>\n",
       "      <td>71.824966</td>\n",
       "      <td>23</td>\n",
       "      <td>1</td>\n",
       "      <td>2</td>\n",
       "      <td>test</td>\n",
       "      <td>100.0</td>\n",
       "      <td>ID00426637202313170790466_132</td>\n",
       "      <td>0.0</td>\n",
       "      <td>2925</td>\n",
       "      <td>1</td>\n",
       "      <td>132.0</td>\n",
       "      <td>0.190043</td>\n",
       "      <td>3.197734</td>\n",
       "      <td>-0.322046</td>\n",
       "    </tr>\n",
       "    <tr>\n",
       "      <th>2276</th>\n",
       "      <td>ID00426637202313170790466</td>\n",
       "      <td>133</td>\n",
       "      <td>2925</td>\n",
       "      <td>71.824966</td>\n",
       "      <td>23</td>\n",
       "      <td>1</td>\n",
       "      <td>2</td>\n",
       "      <td>test</td>\n",
       "      <td>100.0</td>\n",
       "      <td>ID00426637202313170790466_133</td>\n",
       "      <td>0.0</td>\n",
       "      <td>2925</td>\n",
       "      <td>1</td>\n",
       "      <td>133.0</td>\n",
       "      <td>0.190043</td>\n",
       "      <td>3.228598</td>\n",
       "      <td>-0.322046</td>\n",
       "    </tr>\n",
       "  </tbody>\n",
       "</table>\n",
       "<p>2277 rows × 17 columns</p>\n",
       "</div>"
      ],
      "text/plain": [
       "                        Patient  Weeks   FVC    Percent  Age  Sex  \\\n",
       "0     ID00007637202177411956430     -4  2315  58.253647   29    1   \n",
       "1     ID00007637202177411956430      5  2214  55.712128   29    1   \n",
       "2     ID00007637202177411956430      7  2061  51.862103   29    1   \n",
       "3     ID00007637202177411956430      9  2144  53.950680   29    1   \n",
       "4     ID00007637202177411956430     11  2069  52.063412   29    1   \n",
       "...                         ...    ...   ...        ...  ...  ...   \n",
       "2272  ID00426637202313170790466    129  2925  71.824966   23    1   \n",
       "2273  ID00426637202313170790466    130  2925  71.824966   23    1   \n",
       "2274  ID00426637202313170790466    131  2925  71.824966   23    1   \n",
       "2275  ID00426637202313170790466    132  2925  71.824966   23    1   \n",
       "2276  ID00426637202313170790466    133  2925  71.824966   23    1   \n",
       "\n",
       "      SmokingStatus  WHERE  Confidence                   Patient_Week  \\\n",
       "0                 1  train         NaN                            NaN   \n",
       "1                 1  train         NaN                            NaN   \n",
       "2                 1  train         NaN                            NaN   \n",
       "3                 1  train         NaN                            NaN   \n",
       "4                 1  train         NaN                            NaN   \n",
       "...             ...    ...         ...                            ...   \n",
       "2272              2   test       100.0  ID00426637202313170790466_129   \n",
       "2273              2   test       100.0  ID00426637202313170790466_130   \n",
       "2274              2   test       100.0  ID00426637202313170790466_131   \n",
       "2275              2   test       100.0  ID00426637202313170790466_132   \n",
       "2276              2   test       100.0  ID00426637202313170790466_133   \n",
       "\n",
       "      min_week  min_FVC  nb  base_week      BASE      week   percent  \n",
       "0         -4.0     2315   1        0.0 -0.636809 -0.876378 -1.142194  \n",
       "1         -4.0     2315   1        9.0 -0.636809 -0.598597 -1.295784  \n",
       "2         -4.0     2315   1       11.0 -0.636809 -0.536868 -1.528450  \n",
       "3         -4.0     2315   1       13.0 -0.636809 -0.475140 -1.402233  \n",
       "4         -4.0     2315   1       15.0 -0.636809 -0.413411 -1.516285  \n",
       "...        ...      ...  ..        ...       ...       ...       ...  \n",
       "2272       0.0     2925   1      129.0  0.190043  3.105140 -0.322046  \n",
       "2273       0.0     2925   1      130.0  0.190043  3.136005 -0.322046  \n",
       "2274       0.0     2925   1      131.0  0.190043  3.166869 -0.322046  \n",
       "2275       0.0     2925   1      132.0  0.190043  3.197734 -0.322046  \n",
       "2276       0.0     2925   1      133.0  0.190043  3.228598 -0.322046  \n",
       "\n",
       "[2277 rows x 17 columns]"
      ]
     },
     "execution_count": 21,
     "metadata": {},
     "output_type": "execute_result"
    }
   ],
   "source": [
    "data"
   ]
  },
  {
   "cell_type": "code",
   "execution_count": 22,
   "metadata": {},
   "outputs": [],
   "source": [
    "# data['age'] = (data['Age'] - data['Age'].min() ) / ( data['Age'].max() - data['Age'].min() )\n",
    "# data['BASE'] = (data['min_FVC'] - data['min_FVC'].min() ) / ( data['min_FVC'].max() - data['min_FVC'].min() )\n",
    "# data['week'] = (data['base_week'] - data['base_week'].min() ) / ( data['base_week'].max() - data['base_week'].min() )\n",
    "# data['percent'] = (data['Percent'] - data['Percent'].min() ) / ( data['Percent'].max() - data['Percent'].min() )\n",
    "FE = ['SmokingStatus', 'Sex', 'Age','percent','week','BASE']"
   ]
  },
  {
   "cell_type": "code",
   "execution_count": 23,
   "metadata": {},
   "outputs": [],
   "source": [
    "train_df = data.loc[data.WHERE=='train']\n",
    "test_df = data.loc[data.WHERE=='val']\n",
    "submission_df = data.loc[data.WHERE=='test']\n",
    "del data"
   ]
  },
  {
   "cell_type": "code",
   "execution_count": 24,
   "metadata": {},
   "outputs": [
    {
     "data": {
      "text/plain": [
       "array([1, 0])"
      ]
     },
     "execution_count": 24,
     "metadata": {},
     "output_type": "execute_result"
    }
   ],
   "source": [
    "train_df['Sex'].unique()"
   ]
  },
  {
   "cell_type": "code",
   "execution_count": 25,
   "metadata": {},
   "outputs": [
    {
     "data": {
      "text/html": [
       "<div>\n",
       "<style scoped>\n",
       "    .dataframe tbody tr th:only-of-type {\n",
       "        vertical-align: middle;\n",
       "    }\n",
       "\n",
       "    .dataframe tbody tr th {\n",
       "        vertical-align: top;\n",
       "    }\n",
       "\n",
       "    .dataframe thead th {\n",
       "        text-align: right;\n",
       "    }\n",
       "</style>\n",
       "<table border=\"1\" class=\"dataframe\">\n",
       "  <thead>\n",
       "    <tr style=\"text-align: right;\">\n",
       "      <th></th>\n",
       "      <th>SmokingStatus</th>\n",
       "      <th>Sex</th>\n",
       "      <th>Age</th>\n",
       "      <th>percent</th>\n",
       "      <th>week</th>\n",
       "      <th>BASE</th>\n",
       "      <th>FVC</th>\n",
       "    </tr>\n",
       "  </thead>\n",
       "  <tbody>\n",
       "    <tr>\n",
       "      <th>0</th>\n",
       "      <td>1</td>\n",
       "      <td>1</td>\n",
       "      <td>29</td>\n",
       "      <td>-1.142194</td>\n",
       "      <td>-0.876378</td>\n",
       "      <td>-0.636809</td>\n",
       "      <td>2315</td>\n",
       "    </tr>\n",
       "    <tr>\n",
       "      <th>1</th>\n",
       "      <td>1</td>\n",
       "      <td>1</td>\n",
       "      <td>29</td>\n",
       "      <td>-1.295784</td>\n",
       "      <td>-0.598597</td>\n",
       "      <td>-0.636809</td>\n",
       "      <td>2214</td>\n",
       "    </tr>\n",
       "    <tr>\n",
       "      <th>2</th>\n",
       "      <td>1</td>\n",
       "      <td>1</td>\n",
       "      <td>29</td>\n",
       "      <td>-1.528450</td>\n",
       "      <td>-0.536868</td>\n",
       "      <td>-0.636809</td>\n",
       "      <td>2061</td>\n",
       "    </tr>\n",
       "    <tr>\n",
       "      <th>3</th>\n",
       "      <td>1</td>\n",
       "      <td>1</td>\n",
       "      <td>29</td>\n",
       "      <td>-1.402233</td>\n",
       "      <td>-0.475140</td>\n",
       "      <td>-0.636809</td>\n",
       "      <td>2144</td>\n",
       "    </tr>\n",
       "    <tr>\n",
       "      <th>4</th>\n",
       "      <td>1</td>\n",
       "      <td>1</td>\n",
       "      <td>29</td>\n",
       "      <td>-1.516285</td>\n",
       "      <td>-0.413411</td>\n",
       "      <td>-0.636809</td>\n",
       "      <td>2069</td>\n",
       "    </tr>\n",
       "    <tr>\n",
       "      <th>...</th>\n",
       "      <td>...</td>\n",
       "      <td>...</td>\n",
       "      <td>...</td>\n",
       "      <td>...</td>\n",
       "      <td>...</td>\n",
       "      <td>...</td>\n",
       "      <td>...</td>\n",
       "    </tr>\n",
       "    <tr>\n",
       "      <th>1537</th>\n",
       "      <td>2</td>\n",
       "      <td>1</td>\n",
       "      <td>23</td>\n",
       "      <td>-0.638128</td>\n",
       "      <td>-0.475140</td>\n",
       "      <td>0.190043</td>\n",
       "      <td>2712</td>\n",
       "    </tr>\n",
       "    <tr>\n",
       "      <th>1538</th>\n",
       "      <td>2</td>\n",
       "      <td>1</td>\n",
       "      <td>23</td>\n",
       "      <td>-0.243396</td>\n",
       "      <td>-0.289953</td>\n",
       "      <td>0.190043</td>\n",
       "      <td>2978</td>\n",
       "    </tr>\n",
       "    <tr>\n",
       "      <th>1539</th>\n",
       "      <td>2</td>\n",
       "      <td>1</td>\n",
       "      <td>23</td>\n",
       "      <td>-0.347273</td>\n",
       "      <td>0.080421</td>\n",
       "      <td>0.190043</td>\n",
       "      <td>2908</td>\n",
       "    </tr>\n",
       "    <tr>\n",
       "      <th>1540</th>\n",
       "      <td>2</td>\n",
       "      <td>1</td>\n",
       "      <td>23</td>\n",
       "      <td>-0.247849</td>\n",
       "      <td>0.450795</td>\n",
       "      <td>0.190043</td>\n",
       "      <td>2975</td>\n",
       "    </tr>\n",
       "    <tr>\n",
       "      <th>1541</th>\n",
       "      <td>2</td>\n",
       "      <td>1</td>\n",
       "      <td>23</td>\n",
       "      <td>-0.546123</td>\n",
       "      <td>0.944627</td>\n",
       "      <td>0.190043</td>\n",
       "      <td>2774</td>\n",
       "    </tr>\n",
       "  </tbody>\n",
       "</table>\n",
       "<p>1542 rows × 7 columns</p>\n",
       "</div>"
      ],
      "text/plain": [
       "      SmokingStatus  Sex  Age   percent      week      BASE   FVC\n",
       "0                 1    1   29 -1.142194 -0.876378 -0.636809  2315\n",
       "1                 1    1   29 -1.295784 -0.598597 -0.636809  2214\n",
       "2                 1    1   29 -1.528450 -0.536868 -0.636809  2061\n",
       "3                 1    1   29 -1.402233 -0.475140 -0.636809  2144\n",
       "4                 1    1   29 -1.516285 -0.413411 -0.636809  2069\n",
       "...             ...  ...  ...       ...       ...       ...   ...\n",
       "1537              2    1   23 -0.638128 -0.475140  0.190043  2712\n",
       "1538              2    1   23 -0.243396 -0.289953  0.190043  2978\n",
       "1539              2    1   23 -0.347273  0.080421  0.190043  2908\n",
       "1540              2    1   23 -0.247849  0.450795  0.190043  2975\n",
       "1541              2    1   23 -0.546123  0.944627  0.190043  2774\n",
       "\n",
       "[1542 rows x 7 columns]"
      ]
     },
     "execution_count": 25,
     "metadata": {},
     "output_type": "execute_result"
    }
   ],
   "source": [
    "train_df = train_df[FE + ['FVC']]\n",
    "train_df"
   ]
  },
  {
   "cell_type": "markdown",
   "metadata": {},
   "source": [
    "#### Seed"
   ]
  },
  {
   "cell_type": "code",
   "execution_count": 26,
   "metadata": {},
   "outputs": [],
   "source": [
    "def seed_everything(seed=2020):\n",
    "    random.seed(seed)\n",
    "    os.environ['PYTHONHASHSEED'] = str(seed)\n",
    "    np.random.seed(seed)\n",
    "    torch.manual_seed(42)\n",
    "    torch.cuda.manual_seed(42)\n",
    "    \n",
    "seed_everything(42)"
   ]
  },
  {
   "cell_type": "markdown",
   "metadata": {},
   "source": [
    "### Create Dataset"
   ]
  },
  {
   "cell_type": "code",
   "execution_count": 27,
   "metadata": {},
   "outputs": [],
   "source": [
    "class TabularDataset(Dataset):\n",
    "    def __init__(self, data, cat_cols=None, output_col=None):\n",
    "        self.n = len(data)\n",
    "        if output_col:\n",
    "            self.y = data[output_col].astype(np.float32).values.reshape(-1, 1)\n",
    "        else:\n",
    "            self.y = np.zeros((self.n, 1))\n",
    "        self.cat_cols = cat_cols if cat_cols else []\n",
    "        \n",
    "        self.cont_cols = [\n",
    "            col for col in data.columns if col not in self.cat_cols + [output_col]\n",
    "        ]\n",
    "        \n",
    "        self.cont_X = data[self.cont_cols].astype(np.float32).values\n",
    "        self.cat_X = data[cat_cols].astype(np.int64).values\n",
    "        \n",
    "    def __len__(self):\n",
    "        \"\"\"\n",
    "        Denotes the total number of samples.\n",
    "        \"\"\"\n",
    "        return self.n\n",
    "    \n",
    "    def __getitem__(self, idx):\n",
    "        \"\"\"\n",
    "        Generates one sample of data.\n",
    "        \"\"\"\n",
    "        return [self.y[idx], self.cont_X[idx], self.cat_X[idx]]\n",
    "    \n",
    "    def __repr__(self):\n",
    "        return f'cat_cols: {self.cat_cols} cont_cols: {self.cont_cols} cont_X: {self.cont_X.shape} cat_X: {self.cat_X.shape} y: {self.y.shape}'\n",
    "    \n",
    "    def cont_cols_len(self):\n",
    "        return len(self.cont_cols)"
   ]
  },
  {
   "cell_type": "code",
   "execution_count": 28,
   "metadata": {},
   "outputs": [],
   "source": [
    "# Test the dataset\n",
    "sample_ds = TabularDataset(train_df, cat_cols=['SmokingStatus', 'Sex',  'Age'], output_col='FVC')"
   ]
  },
  {
   "cell_type": "code",
   "execution_count": 29,
   "metadata": {},
   "outputs": [],
   "source": [
    "def create_dl(df, batch_size=128, num_workers=10):\n",
    "    ds = TabularDataset(df, cat_cols=cat_feats, output_col='FVC')\n",
    "    return DataLoader(ds, batch_size, shuffle=True, num_workers=num_workers)"
   ]
  },
  {
   "cell_type": "code",
   "execution_count": 30,
   "metadata": {},
   "outputs": [
    {
     "data": {
      "text/plain": [
       "(torch.Size([128, 3]), torch.Size([128, 3]), torch.Size([128, 1]))"
      ]
     },
     "execution_count": 30,
     "metadata": {},
     "output_type": "execute_result"
    }
   ],
   "source": [
    "sample_dl = create_dl(train_df)\n",
    "y_sample, x_cont_sample, x_cat_sample = next(iter(sample_dl))\n",
    "x_cont_sample.shape, x_cat_sample.shape, y_sample.shape"
   ]
  },
  {
   "cell_type": "markdown",
   "metadata": {},
   "source": [
    "### Prepare neural network"
   ]
  },
  {
   "cell_type": "code",
   "execution_count": 31,
   "metadata": {},
   "outputs": [
    {
     "data": {
      "text/plain": [
       "[(3, 2), (2, 1), (34, 17)]"
      ]
     },
     "execution_count": 31,
     "metadata": {},
     "output_type": "execute_result"
    }
   ],
   "source": [
    "cat_dims = [int(train_df[col].nunique()) for col in cat_feats]\n",
    "emb_dims = [(x, min(50, (x + 1) // 2)) for x in cat_dims]\n",
    "emb_dims"
   ]
  },
  {
   "cell_type": "code",
   "execution_count": 32,
   "metadata": {},
   "outputs": [],
   "source": [
    "device = torch.device(\"cuda\" if torch.cuda.is_available() else \"cpu\")\n",
    "device = \"cpu\"\n",
    "\n",
    "def move_to_dev(*args):\n",
    "    return [x.to(device) for x in args]"
   ]
  },
  {
   "cell_type": "code",
   "execution_count": 33,
   "metadata": {},
   "outputs": [],
   "source": [
    "C1, C2 = torch.tensor(70, dtype=torch.float32), torch.tensor(1000, dtype=torch.float32)\n",
    "C1, C2 = move_to_dev(C1, C2)\n",
    "Q = torch.tensor([0.2, 0.50, 0.8]).float().to(device)\n",
    "\n",
    "def score(y_true, y_pred):\n",
    "    sigma = y_pred[:, 2] - y_pred[:, 0]\n",
    "    fvc_pred = y_pred[:, 1]\n",
    "    \n",
    "    #sigma_clip = sigma + C1\n",
    "    sigma_clip = torch.max(sigma, C1)\n",
    "    delta = torch.abs(y_true[:, 0] - fvc_pred)\n",
    "    delta = torch.min(delta, C2)\n",
    "    sq2 = torch.sqrt(torch.tensor(2.))\n",
    "    metric = (delta / sigma_clip)*sq2 + torch.log(sigma_clip* sq2)\n",
    "    return torch.mean(metric)\n",
    "\n",
    "def qloss(y_true, y_pred):\n",
    "    # Pinball loss for multiple quantiles\n",
    "    e = y_true - y_pred\n",
    "    v = torch.max(Q*e, (Q-1)*e)\n",
    "    return torch.mean(v)\n",
    "\n",
    "def mloss(_lambda):\n",
    "    def loss(y_true, y_pred):\n",
    "        y_true = y_true.unsqueeze(1)\n",
    "        return _lambda * qloss(y_true, y_pred) + (1 - _lambda)*score(y_true, y_pred)\n",
    "    return loss"
   ]
  },
  {
   "cell_type": "code",
   "execution_count": 34,
   "metadata": {},
   "outputs": [],
   "source": [
    "class OsicModel(nn.Module):\n",
    "    def __init__(self, emb_dims, no_of_cont, lin_layer_sizes, output_size=3, emb_dropout=0.0, lin_layer_dropouts=[0.001,0.001], y_range=[0, 5000]):\n",
    "        super().__init__()\n",
    "        \n",
    "        # Embedding layers\n",
    "        self.emb_layers = nn.ModuleList([nn.Embedding(x, y) for x, y in emb_dims])\n",
    "        self.no_of_embs = sum([y for _, y in emb_dims])\n",
    "        self.no_of_cont = no_of_cont\n",
    "        \n",
    "        # Linear Layers\n",
    "        first_lin_layer = nn.Linear(self.no_of_embs + self.no_of_cont, lin_layer_sizes[0])\n",
    "        self.lin_layers = nn.ModuleList(\n",
    "            [first_lin_layer] + [nn.Linear(lin_layer_sizes[i], lin_layer_sizes[i + 1]) for i in range(len(lin_layer_sizes) - 1)]\n",
    "        )\n",
    "        \n",
    "        for lin_layer in self.lin_layers:\n",
    "            nn.init.kaiming_normal_(lin_layer.weight.data)\n",
    "            \n",
    "        # Output Layers\n",
    "        self.p1 = nn.Linear(lin_layer_sizes[-1], 3)\n",
    "        self.p2 = nn.Linear(lin_layer_sizes[-1], 3)\n",
    "        for output_layer in [self.p1, self.p2]:\n",
    "            nn.init.kaiming_normal_(output_layer.weight.data)\n",
    "            \n",
    "        # Batch Norm Layers\n",
    "        self.first_bn_layer = nn.BatchNorm1d(self.no_of_cont, momentum=0.1)\n",
    "        self.bn_layers = nn.ModuleList([nn.BatchNorm1d(size) for size in lin_layer_sizes])\n",
    "        \n",
    "        # Dropout Layers\n",
    "        self.emb_dropout_layer = nn.Dropout(emb_dropout) if emb_dropout > 0.0 else None\n",
    "        self.droput_layers = nn.ModuleList(\n",
    "            [nn.Dropout(size) for size in lin_layer_dropouts]\n",
    "        )\n",
    "        \n",
    "        self.y_range = y_range\n",
    "        \n",
    "    def forward(self, cont_data, cat_data):\n",
    "        \n",
    "        x = [emb_layer(cat_data[:, i]) for i, emb_layer in enumerate(self.emb_layers)]\n",
    "        x = torch.cat(x, 1)\n",
    "        if self.emb_dropout_layer is not None:\n",
    "            x = self.emb_dropout_layer(x)\n",
    "        \n",
    "        normalized_cont_data = self.first_bn_layer(cont_data)\n",
    "        x = torch.cat([x, normalized_cont_data], 1)\n",
    "        \n",
    "        for i, (lin_layer, dropout_layer, bn_layer) in enumerate(zip(self.lin_layers, self.droput_layers, self.bn_layers)):\n",
    "            x = F.relu(lin_layer(x))\n",
    "            x = bn_layer(x)\n",
    "#             x = dropout_layer(x)\n",
    "\n",
    "        p1 = self.p1(x)\n",
    "        p2 = F.relu(self.p2(x))\n",
    "        preds = p1 + torch.cumsum(p2, axis=1)\n",
    "        if self.y_range is not None:\n",
    "            preds = (self.y_range[1]-self.y_range[0]) * torch.sigmoid(preds) + self.y_range[0]\n",
    "        return preds"
   ]
  },
  {
   "cell_type": "code",
   "execution_count": 35,
   "metadata": {},
   "outputs": [],
   "source": [
    "def create_model(nh1=100, nh2=100):\n",
    "    model = OsicModel(emb_dims, x_cont_sample.shape[1], [nh1, nh2])\n",
    "    model = model.to(device)\n",
    "    return model"
   ]
  },
  {
   "cell_type": "code",
   "execution_count": 36,
   "metadata": {},
   "outputs": [
    {
     "data": {
      "text/plain": [
       "OsicModel(\n",
       "  (emb_layers): ModuleList(\n",
       "    (0): Embedding(3, 2)\n",
       "    (1): Embedding(2, 1)\n",
       "    (2): Embedding(34, 17)\n",
       "  )\n",
       "  (lin_layers): ModuleList(\n",
       "    (0): Linear(in_features=23, out_features=100, bias=True)\n",
       "    (1): Linear(in_features=100, out_features=100, bias=True)\n",
       "  )\n",
       "  (p1): Linear(in_features=100, out_features=3, bias=True)\n",
       "  (p2): Linear(in_features=100, out_features=3, bias=True)\n",
       "  (first_bn_layer): BatchNorm1d(3, eps=1e-05, momentum=0.1, affine=True, track_running_stats=True)\n",
       "  (bn_layers): ModuleList(\n",
       "    (0): BatchNorm1d(100, eps=1e-05, momentum=0.1, affine=True, track_running_stats=True)\n",
       "    (1): BatchNorm1d(100, eps=1e-05, momentum=0.1, affine=True, track_running_stats=True)\n",
       "  )\n",
       "  (droput_layers): ModuleList(\n",
       "    (0): Dropout(p=0.001, inplace=False)\n",
       "    (1): Dropout(p=0.001, inplace=False)\n",
       "  )\n",
       ")"
      ]
     },
     "execution_count": 36,
     "metadata": {},
     "output_type": "execute_result"
    }
   ],
   "source": [
    "sample_model = create_model(nh1=100, nh2=100)\n",
    "sample_model"
   ]
  },
  {
   "cell_type": "code",
   "execution_count": 37,
   "metadata": {},
   "outputs": [],
   "source": [
    "criterion=mloss(0.8)"
   ]
  },
  {
   "cell_type": "code",
   "execution_count": 38,
   "metadata": {},
   "outputs": [
    {
     "data": {
      "text/plain": [
       "(torch.Size([128, 1]), torch.Size([128, 3]), torch.Size([128, 3]))"
      ]
     },
     "execution_count": 38,
     "metadata": {},
     "output_type": "execute_result"
    }
   ],
   "source": [
    "y_sample, x_cont_sample, x_cat_sample = move_to_dev(y_sample, x_cont_sample, x_cat_sample)\n",
    "y_sample.shape, x_cont_sample.shape, x_cat_sample.shape"
   ]
  },
  {
   "cell_type": "code",
   "execution_count": 39,
   "metadata": {},
   "outputs": [
    {
     "data": {
      "text/plain": [
       "tensor(519.7242, grad_fn=<AddBackward0>)"
      ]
     },
     "execution_count": 39,
     "metadata": {},
     "output_type": "execute_result"
    }
   ],
   "source": [
    "# Test model\n",
    "\n",
    "output = sample_model(x_cont_sample, x_cat_sample)\n",
    "criterion(y_sample, output)"
   ]
  },
  {
   "cell_type": "markdown",
   "metadata": {},
   "source": [
    "#### Training functions"
   ]
  },
  {
   "cell_type": "code",
   "execution_count": 40,
   "metadata": {},
   "outputs": [],
   "source": [
    "def get_lr(optimizer):\n",
    "    for param_group in optimizer.param_groups:\n",
    "        return param_group['lr']"
   ]
  },
  {
   "cell_type": "code",
   "execution_count": 41,
   "metadata": {},
   "outputs": [],
   "source": [
    "def eval_loop(valid_dl, model):\n",
    "    model.eval()\n",
    "    total_eval_loss = 0\n",
    "    total_eval_score = 0\n",
    "    for i, (y, x_cont, x_cat) in enumerate(valid_dl):\n",
    "        y, x_cont, x_cat = move_to_dev(y, x_cont, x_cat)\n",
    "        output = model(x_cont, x_cat)\n",
    "        loss = criterion(y, output)\n",
    "        total_eval_loss += loss.item()\n",
    "        total_eval_score += score(y.unsqueeze(1), output)\n",
    "        \n",
    "    avg_val_loss = total_eval_loss / len(valid_dl)\n",
    "    avg_val_score = total_eval_score / len(valid_dl) * -1\n",
    "    return {\n",
    "        'avg_val_loss': avg_val_loss,\n",
    "        'avg_val_score': avg_val_score\n",
    "    }"
   ]
  },
  {
   "cell_type": "code",
   "execution_count": 42,
   "metadata": {},
   "outputs": [],
   "source": [
    "def train_loop(epochs, train_dl, valid_dl, model, lr = 1e-3):\n",
    "    steps = len(train_dl) * epochs\n",
    "    optimizer = torch.optim.Adam(model.parameters(), lr=lr)\n",
    "    scheduler = torch.optim.lr_scheduler.OneCycleLR(optimizer, max_lr=lr, steps_per_epoch=len(train_dl), epochs=epochs)\n",
    "    avg_train_losses = []\n",
    "    avg_val_losses = []\n",
    "    avg_val_scores = []\n",
    "    lr = []\n",
    "    for epoch in tqdm(range(epochs), total=epochs):\n",
    "        model.train()\n",
    "        total_train_loss = 0.0\n",
    "        for i, (y, x_cont, x_cat) in enumerate(train_dl):\n",
    "            y, x_cont, x_cat = move_to_dev(y, x_cont, x_cat)\n",
    "            model.zero_grad()\n",
    "            output = model(x_cont, x_cat)\n",
    "            loss = criterion(y, output)\n",
    "            total_train_loss += loss.item()\n",
    "            \n",
    "            # Backward Pass and Optimization\n",
    "            loss.backward()\n",
    "            optimizer.step()\n",
    "            scheduler.step()\n",
    "            lr.append(get_lr(optimizer))\n",
    "        \n",
    "        avg_train_loss = total_train_loss / len(train_dl)\n",
    "        avg_train_losses.append(avg_train_loss)\n",
    "        eval_res = eval_loop(valid_dl, model)\n",
    "        avg_val_loss = eval_res['avg_val_loss']\n",
    "        avg_val_score = eval_res['avg_val_score']\n",
    "        avg_val_losses.append(avg_val_loss)\n",
    "        avg_val_scores.append(avg_val_score.item())\n",
    "#         print(f'{epoch}: avg_val_score: {avg_val_score}')\n",
    "    return pd.DataFrame({'avg_train_losses': avg_train_losses, 'avg_val_losses': avg_val_losses, 'avg_val_scores': avg_val_scores}), pd.DataFrame({'lr': lr})"
   ]
  },
  {
   "cell_type": "code",
   "execution_count": 43,
   "metadata": {},
   "outputs": [
    {
     "data": {
      "application/vnd.jupyter.widget-view+json": {
       "model_id": "6d21612119ae4cee9b05cedb00cf6aac",
       "version_major": 2,
       "version_minor": 0
      },
      "text/plain": [
       "HBox(children=(FloatProgress(value=0.0, max=500.0), HTML(value='')))"
      ]
     },
     "metadata": {},
     "output_type": "display_data"
    },
    {
     "name": "stdout",
     "output_type": "stream",
     "text": [
      "\n"
     ]
    }
   ],
   "source": [
    "res_df, lr_df = train_loop(500, sample_dl, sample_dl, sample_model, lr=1e-3)"
   ]
  },
  {
   "cell_type": "code",
   "execution_count": 44,
   "metadata": {},
   "outputs": [
    {
     "data": {
      "text/plain": [
       "<matplotlib.axes._subplots.AxesSubplot at 0x7f6710b2eb90>"
      ]
     },
     "execution_count": 44,
     "metadata": {},
     "output_type": "execute_result"
    },
    {
     "data": {
      "image/png": "[encoded data removed]",
      "text/plain": [
       "<Figure size 432x288 with 1 Axes>"
      ]
     },
     "metadata": {
      "needs_background": "light"
     },
     "output_type": "display_data"
    }
   ],
   "source": [
    "res_df[['avg_train_losses', 'avg_val_losses']].plot()"
   ]
  },
  {
   "cell_type": "code",
   "execution_count": 45,
   "metadata": {},
   "outputs": [
    {
     "data": {
      "text/plain": [
       "<matplotlib.axes._subplots.AxesSubplot at 0x7f67105f8750>"
      ]
     },
     "execution_count": 45,
     "metadata": {},
     "output_type": "execute_result"
    },
    {
     "data": {
      "image/png": "[encoded data removed]",
      "text/plain": [
       "<Figure size 432x288 with 1 Axes>"
      ]
     },
     "metadata": {
      "needs_background": "light"
     },
     "output_type": "display_data"
    }
   ],
   "source": [
    "res_df[['avg_val_scores']].plot()"
   ]
  },
  {
   "cell_type": "code",
   "execution_count": 46,
   "metadata": {},
   "outputs": [
    {
     "data": {
      "text/plain": [
       "<matplotlib.axes._subplots.AxesSubplot at 0x7f6710575790>"
      ]
     },
     "execution_count": 46,
     "metadata": {},
     "output_type": "execute_result"
    },
    {
     "data": {
      "image/png": "[encoded data removed]",
      "text/plain": [
       "<Figure size 432x288 with 1 Axes>"
      ]
     },
     "metadata": {
      "needs_background": "light"
     },
     "output_type": "display_data"
    }
   ],
   "source": [
    "lr_df.plot()"
   ]
  },
  {
   "cell_type": "code",
   "execution_count": 47,
   "metadata": {},
   "outputs": [
    {
     "data": {
      "text/plain": [
       "avg_val_scores   -8.102057\n",
       "dtype: float64"
      ]
     },
     "execution_count": 47,
     "metadata": {},
     "output_type": "execute_result"
    }
   ],
   "source": [
    "res_df[['avg_val_scores']].max()"
   ]
  },
  {
   "cell_type": "markdown",
   "metadata": {},
   "source": [
    "#### Training"
   ]
  },
  {
   "cell_type": "code",
   "execution_count": 48,
   "metadata": {},
   "outputs": [],
   "source": [
    "NFOLD = 5\n",
    "kf = KFold(n_splits=NFOLD)\n",
    "EPOCHS=500"
   ]
  },
  {
   "cell_type": "code",
   "execution_count": 49,
   "metadata": {},
   "outputs": [],
   "source": [
    "def convert_to_tensor(df, dtype):\n",
    "    return torch.tensor(df.values, dtype=dtype).to(device)"
   ]
  },
  {
   "cell_type": "code",
   "execution_count": 50,
   "metadata": {},
   "outputs": [],
   "source": [
    "cont_cols = sample_ds.cont_cols"
   ]
  },
  {
   "cell_type": "code",
   "execution_count": 51,
   "metadata": {},
   "outputs": [
    {
     "data": {
      "text/plain": [
       "(torch.Size([730, 3]), torch.Size([730, 3]), torch.int64)"
      ]
     },
     "execution_count": 51,
     "metadata": {},
     "output_type": "execute_result"
    }
   ],
   "source": [
    "cat_values = convert_to_tensor(submission_df[cat_feats], torch.int64)\n",
    "cont_values = convert_to_tensor(submission_df[cont_cols], torch.float32)\n",
    "cat_values.shape, cont_values.shape, cat_values.dtype"
   ]
  },
  {
   "cell_type": "code",
   "execution_count": 52,
   "metadata": {},
   "outputs": [
    {
     "data": {
      "text/plain": [
       "(1542, 3)"
      ]
     },
     "execution_count": 52,
     "metadata": {},
     "output_type": "execute_result"
    }
   ],
   "source": [
    "pe = np.zeros((cat_values.shape[0], 3))\n",
    "pred = np.zeros((train_df.shape[0], 3))\n",
    "pred.shape"
   ]
  },
  {
   "cell_type": "code",
   "execution_count": 53,
   "metadata": {},
   "outputs": [],
   "source": [
    "def predict(cont_values, cat_values, model):\n",
    "    return model(cont_values, cat_values).detach().cpu().numpy()"
   ]
  },
  {
   "cell_type": "code",
   "execution_count": 54,
   "metadata": {},
   "outputs": [
    {
     "data": {
      "application/vnd.jupyter.widget-view+json": {
       "model_id": "ba725729ab1a4fc28331a6b912e696e1",
       "version_major": 2,
       "version_minor": 0
      },
      "text/plain": [
       "HBox(children=(FloatProgress(value=0.0, max=5.0), HTML(value='')))"
      ]
     },
     "metadata": {},
     "output_type": "display_data"
    },
    {
     "name": "stdout",
     "output_type": "stream",
     "text": [
      "FOLD 0 (1233, 7) (309, 7)\n"
     ]
    },
    {
     "data": {
      "application/vnd.jupyter.widget-view+json": {
       "model_id": "1b303cd6c6c34781bc994714fded507b",
       "version_major": 2,
       "version_minor": 0
      },
      "text/plain": [
       "HBox(children=(FloatProgress(value=0.0, max=500.0), HTML(value='')))"
      ]
     },
     "metadata": {},
     "output_type": "display_data"
    },
    {
     "name": "stdout",
     "output_type": "stream",
     "text": [
      "\n",
      "FOLD 1 (1233, 7) (309, 7)\n"
     ]
    },
    {
     "data": {
      "application/vnd.jupyter.widget-view+json": {
       "model_id": "3e753927983c4a258d681cb47e01cf91",
       "version_major": 2,
       "version_minor": 0
      },
      "text/plain": [
       "HBox(children=(FloatProgress(value=0.0, max=500.0), HTML(value='')))"
      ]
     },
     "metadata": {},
     "output_type": "display_data"
    },
    {
     "name": "stdout",
     "output_type": "stream",
     "text": [
      "\n",
      "FOLD 2 (1234, 7) (308, 7)\n"
     ]
    },
    {
     "data": {
      "application/vnd.jupyter.widget-view+json": {
       "model_id": "82d0eb3efb174e8284089171f5dce389",
       "version_major": 2,
       "version_minor": 0
      },
      "text/plain": [
       "HBox(children=(FloatProgress(value=0.0, max=500.0), HTML(value='')))"
      ]
     },
     "metadata": {},
     "output_type": "display_data"
    },
    {
     "name": "stdout",
     "output_type": "stream",
     "text": [
      "\n",
      "FOLD 3 (1234, 7) (308, 7)\n"
     ]
    },
    {
     "data": {
      "application/vnd.jupyter.widget-view+json": {
       "model_id": "75a3c799b06b497f805899153ed340b0",
       "version_major": 2,
       "version_minor": 0
      },
      "text/plain": [
       "HBox(children=(FloatProgress(value=0.0, max=500.0), HTML(value='')))"
      ]
     },
     "metadata": {},
     "output_type": "display_data"
    },
    {
     "name": "stdout",
     "output_type": "stream",
     "text": [
      "\n",
      "FOLD 4 (1234, 7) (308, 7)\n"
     ]
    },
    {
     "data": {
      "application/vnd.jupyter.widget-view+json": {
       "model_id": "1922ed0237e94654983c8ace4434dc23",
       "version_major": 2,
       "version_minor": 0
      },
      "text/plain": [
       "HBox(children=(FloatProgress(value=0.0, max=500.0), HTML(value='')))"
      ]
     },
     "metadata": {},
     "output_type": "display_data"
    },
    {
     "name": "stdout",
     "output_type": "stream",
     "text": [
      "\n",
      "\n",
      "CPU times: user 1h 15min 41s, sys: 1h 7min 20s, total: 2h 23min 1s\n",
      "Wall time: 15min 1s\n"
     ]
    }
   ],
   "source": [
    "%%time\n",
    "\n",
    "res_dfs = []\n",
    "for cnt, (tr_idx, val_idx) in tqdm(enumerate(kf.split(train_df)), total=NFOLD):\n",
    "    X_y_train = train_df.loc[tr_idx]\n",
    "    X_y_valid = train_df.loc[val_idx]\n",
    "    print(f\"FOLD {cnt}\", X_y_train.shape, X_y_valid.shape)\n",
    "    model = create_model()\n",
    "    train_dl = create_dl(X_y_train)\n",
    "    valid_dl = create_dl(X_y_valid)\n",
    "    res_df, _ = train_loop(EPOCHS, train_dl, valid_dl, model)\n",
    "    res_dfs.append(res_df)\n",
    "    pe += predict(cont_values, cat_values, model)\n",
    "    pred[val_idx] = predict(\n",
    "        convert_to_tensor(X_y_valid[cont_cols], torch.float32), \n",
    "        convert_to_tensor(X_y_valid[cat_feats], torch.int64), \n",
    "        model\n",
    "    )"
   ]
  },
  {
   "cell_type": "code",
   "execution_count": 55,
   "metadata": {},
   "outputs": [],
   "source": [
    "pe = pe / NFOLD"
   ]
  },
  {
   "cell_type": "code",
   "execution_count": 56,
   "metadata": {},
   "outputs": [
    {
     "data": {
      "image/png": "[encoded data removed]",
      "text/plain": [
       "<Figure size 1440x720 with 6 Axes>"
      ]
     },
     "metadata": {
      "needs_background": "light"
     },
     "output_type": "display_data"
    },
    {
     "data": {
      "text/plain": [
       "<Figure size 800x480 with 0 Axes>"
      ]
     },
     "metadata": {},
     "output_type": "display_data"
    }
   ],
   "source": [
    "from matplotlib.pyplot import figure\n",
    "\n",
    "nrows = len(res_dfs) // 2 + 1\n",
    "ncols = 2\n",
    "fig, axes = plt.subplots(nrows, ncols, figsize=(20, 10))\n",
    "figure(num=None, figsize=(10, 6), dpi=80, facecolor='w', edgecolor='k')\n",
    "for r in range(nrows):\n",
    "    for c in range(ncols):\n",
    "        index = r * 2 + c\n",
    "        if index < len(res_dfs):\n",
    "            res_dfs[r * 2 + c].plot(ax=axes[r,c])"
   ]
  },
  {
   "cell_type": "code",
   "execution_count": 57,
   "metadata": {},
   "outputs": [
    {
     "name": "stdout",
     "output_type": "stream",
     "text": [
      "Mean validation score -8.15509090423584\n"
     ]
    }
   ],
   "source": [
    "print(\"Mean validation score\", np.mean([res_dfs[i]['avg_val_scores'][len(res_dfs[0]) - 1] for i in range(NFOLD)]))"
   ]
  },
  {
   "cell_type": "markdown",
   "metadata": {},
   "source": [
    "#### Prediction"
   ]
  },
  {
   "cell_type": "code",
   "execution_count": 59,
   "metadata": {},
   "outputs": [
    {
     "data": {
      "text/plain": [
       "(695.1763634193113, 1329.448906132838)"
      ]
     },
     "execution_count": 59,
     "metadata": {},
     "output_type": "execute_result"
    }
   ],
   "source": [
    "sigma_opt = mean_absolute_error(train_df['FVC'], pred[:, 1])\n",
    "unc = pred[:,2] - pred[:, 0]\n",
    "sigma_mean = np.mean(unc)\n",
    "sigma_opt, sigma_mean"
   ]
  },
  {
   "cell_type": "code",
   "execution_count": null,
   "metadata": {},
   "outputs": [],
   "source": [
    "submission_df['FVC1'] = pe[:,1]\n",
    "submission_df['Confidence1'] = pe[:, 2] - pe[:, 0]"
   ]
  },
  {
   "cell_type": "code",
   "execution_count": null,
   "metadata": {},
   "outputs": [],
   "source": [
    "submission_df.head(15)"
   ]
  },
  {
   "cell_type": "code",
   "execution_count": null,
   "metadata": {},
   "outputs": [],
   "source": [
    "subm = submission_df[['Patient_Week','FVC','Confidence','FVC1','Confidence1']].copy()"
   ]
  },
  {
   "cell_type": "code",
   "execution_count": null,
   "metadata": {},
   "outputs": [],
   "source": [
    "subm.loc[~subm.FVC1.isnull()].shape, subm.shape"
   ]
  },
  {
   "cell_type": "code",
   "execution_count": null,
   "metadata": {},
   "outputs": [],
   "source": [
    "subm.loc[~subm.FVC1.isnull(),'FVC'] = subm.loc[~subm.FVC1.isnull(),'FVC1']"
   ]
  },
  {
   "cell_type": "code",
   "execution_count": null,
   "metadata": {},
   "outputs": [],
   "source": [
    "if sigma_mean<70:\n",
    "    subm['Confidence'] = sigma_opt\n",
    "else:\n",
    "    subm.loc[~subm.FVC1.isnull(),'Confidence'] = subm.loc[~subm.FVC1.isnull(),'Confidence1']"
   ]
  },
  {
   "cell_type": "code",
   "execution_count": null,
   "metadata": {},
   "outputs": [],
   "source": [
    "subm.describe().T"
   ]
  },
  {
   "cell_type": "code",
   "execution_count": null,
   "metadata": {},
   "outputs": [],
   "source": [
    "def replace_with_existing(df):\n",
    "    for i in range(len(df)):\n",
    "        patient_week_filter = subm['Patient_Week']==df.Patient[i]+'_'+str(df.Weeks[i])\n",
    "        subm.loc[patient_week_filter, 'FVC'] = df.FVC[i]\n",
    "        subm.loc[patient_week_filter, 'Confidence'] = 0.1\n",
    "\n",
    "train_df = pd.read_csv(path/'train.csv', dtype = common.TRAIN_TYPES)\n",
    "test_df = pd.read_csv(path/'test.csv', dtype = common.TRAIN_TYPES)\n",
    "replace_with_existing(train_df)\n",
    "replace_with_existing(test_df)"
   ]
  },
  {
   "cell_type": "code",
   "execution_count": null,
   "metadata": {},
   "outputs": [],
   "source": [
    "subm[subm['Patient_Week'].str.find('ID00419637202311204720264') > -1].head(30)"
   ]
  },
  {
   "cell_type": "code",
   "execution_count": null,
   "metadata": {},
   "outputs": [],
   "source": [
    "subm[[\"Patient_Week\",\"FVC\",\"Confidence\"]].to_csv(\"submission.csv\", index=False)"
   ]
  },
  {
   "cell_type": "code",
   "execution_count": null,
   "metadata": {},
   "outputs": [],
   "source": [
    "pd.read_csv('submission.csv')"
   ]
  },
  {
   "cell_type": "code",
   "execution_count": null,
   "metadata": {},
   "outputs": [],
   "source": [
    "!cat submission.csv"
   ]
  },
  {
   "cell_type": "code",
   "execution_count": null,
   "metadata": {},
   "outputs": [],
   "source": []
  }
 ],
 "metadata": {
  "kernelspec": {
   "display_name": "Python 3",
   "language": "python",
   "name": "python3"
  },
  "language_info": {
   "codemirror_mode": {
    "name": "ipython",
    "version": 3
   },
   "file_extension": ".py",
   "mimetype": "text/x-python",
   "name": "python",
   "nbconvert_exporter": "python",
   "pygments_lexer": "ipython3",
   "version": "3.7.7"
  }
 },
 "nbformat": 4,
 "nbformat_minor": 4
}
