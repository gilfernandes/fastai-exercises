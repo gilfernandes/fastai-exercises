{
 "cells": [
  {
   "cell_type": "code",
   "execution_count": 1,
   "metadata": {},
   "outputs": [],
   "source": [
    "%load_ext autoreload\n",
    "%autoreload 2\n",
    "\n",
    "%matplotlib inline"
   ]
  },
  {
   "cell_type": "code",
   "execution_count": 2,
   "metadata": {},
   "outputs": [],
   "source": [
    "import numpy as np\n",
    "import pandas as pd"
   ]
  },
  {
   "cell_type": "code",
   "execution_count": 3,
   "metadata": {},
   "outputs": [],
   "source": [
    "from pathlib import Path\n",
    "import torch\n",
    "import random\n",
    "import os\n",
    "import torch.nn as nn\n",
    "from torch.utils.data import Dataset, DataLoader\n",
    "from tqdm.notebook import tqdm\n",
    "from sklearn.model_selection import KFold\n",
    "from sklearn.metrics import mean_absolute_error\n",
    "import matplotlib.pyplot as plt\n",
    "import torch.nn.functional as F\n",
    "from fastai import *\n",
    "from fastai.basic_train import *\n",
    "from fastai.basic_data import *"
   ]
  },
  {
   "cell_type": "code",
   "execution_count": 4,
   "metadata": {},
   "outputs": [],
   "source": [
    "from lib import common"
   ]
  },
  {
   "cell_type": "code",
   "execution_count": 5,
   "metadata": {},
   "outputs": [],
   "source": [
    "pd.options.mode.chained_assignment = None"
   ]
  },
  {
   "cell_type": "markdown",
   "metadata": {},
   "source": [
    "### Path"
   ]
  },
  {
   "cell_type": "code",
   "execution_count": 6,
   "metadata": {},
   "outputs": [],
   "source": [
    "path = Path('/kaggle/osic_pulmonary')\n",
    "assert path.exists()"
   ]
  },
  {
   "cell_type": "code",
   "execution_count": 7,
   "metadata": {},
   "outputs": [],
   "source": [
    "model_path = Path('/kaggle/osic_pulmonary/model')\n",
    "if os.path.isdir(model_path) == False:\n",
    "    os.makedirs(model_path)\n",
    "assert model_path.exists()"
   ]
  },
  {
   "cell_type": "markdown",
   "metadata": {},
   "source": [
    "### Read Data"
   ]
  },
  {
   "cell_type": "code",
   "execution_count": 8,
   "metadata": {},
   "outputs": [],
   "source": [
    "train_df, test_df, submission_df = common.read_data(path)"
   ]
  },
  {
   "cell_type": "markdown",
   "metadata": {},
   "source": [
    "#### Feature generation"
   ]
  },
  {
   "cell_type": "code",
   "execution_count": 9,
   "metadata": {},
   "outputs": [
    {
     "data": {
      "text/plain": [
       "1542"
      ]
     },
     "execution_count": 9,
     "metadata": {},
     "output_type": "execute_result"
    }
   ],
   "source": [
    "len(train_df)"
   ]
  },
  {
   "cell_type": "code",
   "execution_count": 10,
   "metadata": {},
   "outputs": [],
   "source": [
    "submission_df = common.prepare_submission(submission_df, test_df)"
   ]
  },
  {
   "cell_type": "code",
   "execution_count": 11,
   "metadata": {},
   "outputs": [
    {
     "data": {
      "text/html": [
       "<div>\n",
       "<style scoped>\n",
       "    .dataframe tbody tr th:only-of-type {\n",
       "        vertical-align: middle;\n",
       "    }\n",
       "\n",
       "    .dataframe tbody tr th {\n",
       "        vertical-align: top;\n",
       "    }\n",
       "\n",
       "    .dataframe thead th {\n",
       "        text-align: right;\n",
       "    }\n",
       "</style>\n",
       "<table border=\"1\" class=\"dataframe\">\n",
       "  <thead>\n",
       "    <tr style=\"text-align: right;\">\n",
       "      <th></th>\n",
       "      <th>Patient</th>\n",
       "      <th>Weeks</th>\n",
       "      <th>Confidence</th>\n",
       "      <th>Patient_Week</th>\n",
       "      <th>FVC</th>\n",
       "      <th>Percent</th>\n",
       "      <th>Age</th>\n",
       "      <th>Sex</th>\n",
       "      <th>SmokingStatus</th>\n",
       "    </tr>\n",
       "  </thead>\n",
       "  <tbody>\n",
       "    <tr>\n",
       "      <th>18</th>\n",
       "      <td>ID00419637202311204720264</td>\n",
       "      <td>6</td>\n",
       "      <td>100</td>\n",
       "      <td>ID00419637202311204720264_6</td>\n",
       "      <td>3020</td>\n",
       "      <td>70.186852</td>\n",
       "      <td>73</td>\n",
       "      <td>Male</td>\n",
       "      <td>Ex-smoker</td>\n",
       "    </tr>\n",
       "  </tbody>\n",
       "</table>\n",
       "</div>"
      ],
      "text/plain": [
       "                      Patient  Weeks  Confidence                 Patient_Week  \\\n",
       "18  ID00419637202311204720264      6         100  ID00419637202311204720264_6   \n",
       "\n",
       "     FVC    Percent  Age   Sex SmokingStatus  \n",
       "18  3020  70.186852   73  Male     Ex-smoker  "
      ]
     },
     "execution_count": 11,
     "metadata": {},
     "output_type": "execute_result"
    }
   ],
   "source": [
    "submission_df[((submission_df['Patient'] == 'ID00419637202311204720264') & (submission_df['Weeks'] == 6))].head(25)"
   ]
  },
  {
   "cell_type": "code",
   "execution_count": 12,
   "metadata": {},
   "outputs": [],
   "source": [
    "def adapt_percent_in_submission():\n",
    "    previous_match = None\n",
    "    for i, r in submission_df.iterrows():\n",
    "        in_training = train_df[(train_df['Patient'] == r['Patient']) & (train_df['Weeks'] == r['Weeks'])]\n",
    "        if(len(in_training) > 0):\n",
    "            previous_match = in_training['Percent'].item()\n",
    "            submission_df.iloc[i, submission_df.columns.get_loc('Percent')] = previous_match\n",
    "        elif previous_match is not None:\n",
    "            submission_df.iloc[i, submission_df.columns.get_loc('Percent')] = previous_match"
   ]
  },
  {
   "cell_type": "code",
   "execution_count": 13,
   "metadata": {},
   "outputs": [],
   "source": [
    "adapt_percent_in_submission()"
   ]
  },
  {
   "cell_type": "code",
   "execution_count": 14,
   "metadata": {},
   "outputs": [
    {
     "data": {
      "text/html": [
       "<div>\n",
       "<style scoped>\n",
       "    .dataframe tbody tr th:only-of-type {\n",
       "        vertical-align: middle;\n",
       "    }\n",
       "\n",
       "    .dataframe tbody tr th {\n",
       "        vertical-align: top;\n",
       "    }\n",
       "\n",
       "    .dataframe thead th {\n",
       "        text-align: right;\n",
       "    }\n",
       "</style>\n",
       "<table border=\"1\" class=\"dataframe\">\n",
       "  <thead>\n",
       "    <tr style=\"text-align: right;\">\n",
       "      <th></th>\n",
       "      <th>Patient</th>\n",
       "      <th>Weeks</th>\n",
       "      <th>FVC</th>\n",
       "      <th>Percent</th>\n",
       "      <th>Age</th>\n",
       "      <th>Sex</th>\n",
       "      <th>SmokingStatus</th>\n",
       "    </tr>\n",
       "  </thead>\n",
       "  <tbody>\n",
       "    <tr>\n",
       "      <th>0</th>\n",
       "      <td>ID00419637202311204720264</td>\n",
       "      <td>6</td>\n",
       "      <td>3020</td>\n",
       "      <td>70.186852</td>\n",
       "      <td>73</td>\n",
       "      <td>Male</td>\n",
       "      <td>Ex-smoker</td>\n",
       "    </tr>\n",
       "    <tr>\n",
       "      <th>1</th>\n",
       "      <td>ID00421637202311550012437</td>\n",
       "      <td>15</td>\n",
       "      <td>2739</td>\n",
       "      <td>82.045288</td>\n",
       "      <td>68</td>\n",
       "      <td>Male</td>\n",
       "      <td>Ex-smoker</td>\n",
       "    </tr>\n",
       "    <tr>\n",
       "      <th>2</th>\n",
       "      <td>ID00422637202311677017371</td>\n",
       "      <td>6</td>\n",
       "      <td>1930</td>\n",
       "      <td>76.672493</td>\n",
       "      <td>73</td>\n",
       "      <td>Male</td>\n",
       "      <td>Ex-smoker</td>\n",
       "    </tr>\n",
       "    <tr>\n",
       "      <th>3</th>\n",
       "      <td>ID00423637202312137826377</td>\n",
       "      <td>17</td>\n",
       "      <td>3294</td>\n",
       "      <td>79.258904</td>\n",
       "      <td>72</td>\n",
       "      <td>Male</td>\n",
       "      <td>Ex-smoker</td>\n",
       "    </tr>\n",
       "    <tr>\n",
       "      <th>4</th>\n",
       "      <td>ID00426637202313170790466</td>\n",
       "      <td>0</td>\n",
       "      <td>2925</td>\n",
       "      <td>71.824966</td>\n",
       "      <td>73</td>\n",
       "      <td>Male</td>\n",
       "      <td>Never smoked</td>\n",
       "    </tr>\n",
       "  </tbody>\n",
       "</table>\n",
       "</div>"
      ],
      "text/plain": [
       "                     Patient  Weeks   FVC    Percent  Age   Sex SmokingStatus\n",
       "0  ID00419637202311204720264      6  3020  70.186852   73  Male     Ex-smoker\n",
       "1  ID00421637202311550012437     15  2739  82.045288   68  Male     Ex-smoker\n",
       "2  ID00422637202311677017371      6  1930  76.672493   73  Male     Ex-smoker\n",
       "3  ID00423637202312137826377     17  3294  79.258904   72  Male     Ex-smoker\n",
       "4  ID00426637202313170790466      0  2925  71.824966   73  Male  Never smoked"
      ]
     },
     "execution_count": 14,
     "metadata": {},
     "output_type": "execute_result"
    }
   ],
   "source": [
    "test_df"
   ]
  },
  {
   "cell_type": "code",
   "execution_count": 15,
   "metadata": {},
   "outputs": [
    {
     "data": {
      "text/html": [
       "<div>\n",
       "<style scoped>\n",
       "    .dataframe tbody tr th:only-of-type {\n",
       "        vertical-align: middle;\n",
       "    }\n",
       "\n",
       "    .dataframe tbody tr th {\n",
       "        vertical-align: top;\n",
       "    }\n",
       "\n",
       "    .dataframe thead th {\n",
       "        text-align: right;\n",
       "    }\n",
       "</style>\n",
       "<table border=\"1\" class=\"dataframe\">\n",
       "  <thead>\n",
       "    <tr style=\"text-align: right;\">\n",
       "      <th></th>\n",
       "      <th>Patient</th>\n",
       "      <th>Weeks</th>\n",
       "      <th>FVC</th>\n",
       "      <th>Percent</th>\n",
       "      <th>Age</th>\n",
       "      <th>Sex</th>\n",
       "      <th>SmokingStatus</th>\n",
       "    </tr>\n",
       "  </thead>\n",
       "  <tbody>\n",
       "    <tr>\n",
       "      <th>0</th>\n",
       "      <td>ID00419637202311204720264</td>\n",
       "      <td>6</td>\n",
       "      <td>3020</td>\n",
       "      <td>70.186852</td>\n",
       "      <td>73</td>\n",
       "      <td>Male</td>\n",
       "      <td>Ex-smoker</td>\n",
       "    </tr>\n",
       "  </tbody>\n",
       "</table>\n",
       "</div>"
      ],
      "text/plain": [
       "                     Patient  Weeks   FVC    Percent  Age   Sex SmokingStatus\n",
       "0  ID00419637202311204720264      6  3020  70.186852   73  Male     Ex-smoker"
      ]
     },
     "execution_count": 15,
     "metadata": {},
     "output_type": "execute_result"
    }
   ],
   "source": [
    "test_df[test_df['Patient'] == 'ID00419637202311204720264']"
   ]
  },
  {
   "cell_type": "code",
   "execution_count": 16,
   "metadata": {},
   "outputs": [
    {
     "data": {
      "text/html": [
       "<div>\n",
       "<style scoped>\n",
       "    .dataframe tbody tr th:only-of-type {\n",
       "        vertical-align: middle;\n",
       "    }\n",
       "\n",
       "    .dataframe tbody tr th {\n",
       "        vertical-align: top;\n",
       "    }\n",
       "\n",
       "    .dataframe thead th {\n",
       "        text-align: right;\n",
       "    }\n",
       "</style>\n",
       "<table border=\"1\" class=\"dataframe\">\n",
       "  <thead>\n",
       "    <tr style=\"text-align: right;\">\n",
       "      <th></th>\n",
       "      <th>Patient</th>\n",
       "      <th>Weeks</th>\n",
       "      <th>FVC</th>\n",
       "      <th>Percent</th>\n",
       "      <th>Age</th>\n",
       "      <th>Sex</th>\n",
       "      <th>SmokingStatus</th>\n",
       "    </tr>\n",
       "  </thead>\n",
       "  <tbody>\n",
       "    <tr>\n",
       "      <th>1504</th>\n",
       "      <td>ID00419637202311204720264</td>\n",
       "      <td>6</td>\n",
       "      <td>3020</td>\n",
       "      <td>70.186852</td>\n",
       "      <td>73</td>\n",
       "      <td>Male</td>\n",
       "      <td>Ex-smoker</td>\n",
       "    </tr>\n",
       "    <tr>\n",
       "      <th>1505</th>\n",
       "      <td>ID00419637202311204720264</td>\n",
       "      <td>7</td>\n",
       "      <td>2859</td>\n",
       "      <td>66.445107</td>\n",
       "      <td>73</td>\n",
       "      <td>Male</td>\n",
       "      <td>Ex-smoker</td>\n",
       "    </tr>\n",
       "    <tr>\n",
       "      <th>1506</th>\n",
       "      <td>ID00419637202311204720264</td>\n",
       "      <td>9</td>\n",
       "      <td>2783</td>\n",
       "      <td>64.678810</td>\n",
       "      <td>73</td>\n",
       "      <td>Male</td>\n",
       "      <td>Ex-smoker</td>\n",
       "    </tr>\n",
       "    <tr>\n",
       "      <th>1507</th>\n",
       "      <td>ID00419637202311204720264</td>\n",
       "      <td>10</td>\n",
       "      <td>2719</td>\n",
       "      <td>63.191410</td>\n",
       "      <td>73</td>\n",
       "      <td>Male</td>\n",
       "      <td>Ex-smoker</td>\n",
       "    </tr>\n",
       "    <tr>\n",
       "      <th>1508</th>\n",
       "      <td>ID00419637202311204720264</td>\n",
       "      <td>13</td>\n",
       "      <td>2738</td>\n",
       "      <td>63.632984</td>\n",
       "      <td>73</td>\n",
       "      <td>Male</td>\n",
       "      <td>Ex-smoker</td>\n",
       "    </tr>\n",
       "    <tr>\n",
       "      <th>1509</th>\n",
       "      <td>ID00419637202311204720264</td>\n",
       "      <td>18</td>\n",
       "      <td>2694</td>\n",
       "      <td>62.610394</td>\n",
       "      <td>73</td>\n",
       "      <td>Male</td>\n",
       "      <td>Ex-smoker</td>\n",
       "    </tr>\n",
       "    <tr>\n",
       "      <th>1510</th>\n",
       "      <td>ID00419637202311204720264</td>\n",
       "      <td>31</td>\n",
       "      <td>2708</td>\n",
       "      <td>62.935764</td>\n",
       "      <td>73</td>\n",
       "      <td>Male</td>\n",
       "      <td>Ex-smoker</td>\n",
       "    </tr>\n",
       "    <tr>\n",
       "      <th>1511</th>\n",
       "      <td>ID00419637202311204720264</td>\n",
       "      <td>43</td>\n",
       "      <td>2793</td>\n",
       "      <td>64.911224</td>\n",
       "      <td>73</td>\n",
       "      <td>Male</td>\n",
       "      <td>Ex-smoker</td>\n",
       "    </tr>\n",
       "    <tr>\n",
       "      <th>1512</th>\n",
       "      <td>ID00419637202311204720264</td>\n",
       "      <td>59</td>\n",
       "      <td>2727</td>\n",
       "      <td>63.377335</td>\n",
       "      <td>73</td>\n",
       "      <td>Male</td>\n",
       "      <td>Ex-smoker</td>\n",
       "    </tr>\n",
       "  </tbody>\n",
       "</table>\n",
       "</div>"
      ],
      "text/plain": [
       "                        Patient  Weeks   FVC    Percent  Age   Sex  \\\n",
       "1504  ID00419637202311204720264      6  3020  70.186852   73  Male   \n",
       "1505  ID00419637202311204720264      7  2859  66.445107   73  Male   \n",
       "1506  ID00419637202311204720264      9  2783  64.678810   73  Male   \n",
       "1507  ID00419637202311204720264     10  2719  63.191410   73  Male   \n",
       "1508  ID00419637202311204720264     13  2738  63.632984   73  Male   \n",
       "1509  ID00419637202311204720264     18  2694  62.610394   73  Male   \n",
       "1510  ID00419637202311204720264     31  2708  62.935764   73  Male   \n",
       "1511  ID00419637202311204720264     43  2793  64.911224   73  Male   \n",
       "1512  ID00419637202311204720264     59  2727  63.377335   73  Male   \n",
       "\n",
       "     SmokingStatus  \n",
       "1504     Ex-smoker  \n",
       "1505     Ex-smoker  \n",
       "1506     Ex-smoker  \n",
       "1507     Ex-smoker  \n",
       "1508     Ex-smoker  \n",
       "1509     Ex-smoker  \n",
       "1510     Ex-smoker  \n",
       "1511     Ex-smoker  \n",
       "1512     Ex-smoker  "
      ]
     },
     "execution_count": 16,
     "metadata": {},
     "output_type": "execute_result"
    }
   ],
   "source": [
    "train_df[train_df['Patient'] == 'ID00419637202311204720264']"
   ]
  },
  {
   "cell_type": "code",
   "execution_count": 17,
   "metadata": {},
   "outputs": [
    {
     "data": {
      "text/html": [
       "<div>\n",
       "<style scoped>\n",
       "    .dataframe tbody tr th:only-of-type {\n",
       "        vertical-align: middle;\n",
       "    }\n",
       "\n",
       "    .dataframe tbody tr th {\n",
       "        vertical-align: top;\n",
       "    }\n",
       "\n",
       "    .dataframe thead th {\n",
       "        text-align: right;\n",
       "    }\n",
       "</style>\n",
       "<table border=\"1\" class=\"dataframe\">\n",
       "  <thead>\n",
       "    <tr style=\"text-align: right;\">\n",
       "      <th></th>\n",
       "      <th>Patient</th>\n",
       "      <th>Weeks</th>\n",
       "      <th>Confidence</th>\n",
       "      <th>Patient_Week</th>\n",
       "      <th>FVC</th>\n",
       "      <th>Percent</th>\n",
       "      <th>Age</th>\n",
       "      <th>Sex</th>\n",
       "      <th>SmokingStatus</th>\n",
       "    </tr>\n",
       "  </thead>\n",
       "  <tbody>\n",
       "    <tr>\n",
       "      <th>0</th>\n",
       "      <td>ID00419637202311204720264</td>\n",
       "      <td>-12</td>\n",
       "      <td>100</td>\n",
       "      <td>ID00419637202311204720264_-12</td>\n",
       "      <td>3020</td>\n",
       "      <td>70.186852</td>\n",
       "      <td>73</td>\n",
       "      <td>Male</td>\n",
       "      <td>Ex-smoker</td>\n",
       "    </tr>\n",
       "    <tr>\n",
       "      <th>1</th>\n",
       "      <td>ID00419637202311204720264</td>\n",
       "      <td>-11</td>\n",
       "      <td>100</td>\n",
       "      <td>ID00419637202311204720264_-11</td>\n",
       "      <td>3020</td>\n",
       "      <td>70.186852</td>\n",
       "      <td>73</td>\n",
       "      <td>Male</td>\n",
       "      <td>Ex-smoker</td>\n",
       "    </tr>\n",
       "    <tr>\n",
       "      <th>2</th>\n",
       "      <td>ID00419637202311204720264</td>\n",
       "      <td>-10</td>\n",
       "      <td>100</td>\n",
       "      <td>ID00419637202311204720264_-10</td>\n",
       "      <td>3020</td>\n",
       "      <td>70.186852</td>\n",
       "      <td>73</td>\n",
       "      <td>Male</td>\n",
       "      <td>Ex-smoker</td>\n",
       "    </tr>\n",
       "    <tr>\n",
       "      <th>3</th>\n",
       "      <td>ID00419637202311204720264</td>\n",
       "      <td>-9</td>\n",
       "      <td>100</td>\n",
       "      <td>ID00419637202311204720264_-9</td>\n",
       "      <td>3020</td>\n",
       "      <td>70.186852</td>\n",
       "      <td>73</td>\n",
       "      <td>Male</td>\n",
       "      <td>Ex-smoker</td>\n",
       "    </tr>\n",
       "    <tr>\n",
       "      <th>4</th>\n",
       "      <td>ID00419637202311204720264</td>\n",
       "      <td>-8</td>\n",
       "      <td>100</td>\n",
       "      <td>ID00419637202311204720264_-8</td>\n",
       "      <td>3020</td>\n",
       "      <td>70.186852</td>\n",
       "      <td>73</td>\n",
       "      <td>Male</td>\n",
       "      <td>Ex-smoker</td>\n",
       "    </tr>\n",
       "    <tr>\n",
       "      <th>5</th>\n",
       "      <td>ID00419637202311204720264</td>\n",
       "      <td>-7</td>\n",
       "      <td>100</td>\n",
       "      <td>ID00419637202311204720264_-7</td>\n",
       "      <td>3020</td>\n",
       "      <td>70.186852</td>\n",
       "      <td>73</td>\n",
       "      <td>Male</td>\n",
       "      <td>Ex-smoker</td>\n",
       "    </tr>\n",
       "    <tr>\n",
       "      <th>6</th>\n",
       "      <td>ID00419637202311204720264</td>\n",
       "      <td>-6</td>\n",
       "      <td>100</td>\n",
       "      <td>ID00419637202311204720264_-6</td>\n",
       "      <td>3020</td>\n",
       "      <td>70.186852</td>\n",
       "      <td>73</td>\n",
       "      <td>Male</td>\n",
       "      <td>Ex-smoker</td>\n",
       "    </tr>\n",
       "    <tr>\n",
       "      <th>7</th>\n",
       "      <td>ID00419637202311204720264</td>\n",
       "      <td>-5</td>\n",
       "      <td>100</td>\n",
       "      <td>ID00419637202311204720264_-5</td>\n",
       "      <td>3020</td>\n",
       "      <td>70.186852</td>\n",
       "      <td>73</td>\n",
       "      <td>Male</td>\n",
       "      <td>Ex-smoker</td>\n",
       "    </tr>\n",
       "    <tr>\n",
       "      <th>8</th>\n",
       "      <td>ID00419637202311204720264</td>\n",
       "      <td>-4</td>\n",
       "      <td>100</td>\n",
       "      <td>ID00419637202311204720264_-4</td>\n",
       "      <td>3020</td>\n",
       "      <td>70.186852</td>\n",
       "      <td>73</td>\n",
       "      <td>Male</td>\n",
       "      <td>Ex-smoker</td>\n",
       "    </tr>\n",
       "    <tr>\n",
       "      <th>9</th>\n",
       "      <td>ID00419637202311204720264</td>\n",
       "      <td>-3</td>\n",
       "      <td>100</td>\n",
       "      <td>ID00419637202311204720264_-3</td>\n",
       "      <td>3020</td>\n",
       "      <td>70.186852</td>\n",
       "      <td>73</td>\n",
       "      <td>Male</td>\n",
       "      <td>Ex-smoker</td>\n",
       "    </tr>\n",
       "  </tbody>\n",
       "</table>\n",
       "</div>"
      ],
      "text/plain": [
       "                     Patient  Weeks  Confidence  \\\n",
       "0  ID00419637202311204720264    -12         100   \n",
       "1  ID00419637202311204720264    -11         100   \n",
       "2  ID00419637202311204720264    -10         100   \n",
       "3  ID00419637202311204720264     -9         100   \n",
       "4  ID00419637202311204720264     -8         100   \n",
       "5  ID00419637202311204720264     -7         100   \n",
       "6  ID00419637202311204720264     -6         100   \n",
       "7  ID00419637202311204720264     -5         100   \n",
       "8  ID00419637202311204720264     -4         100   \n",
       "9  ID00419637202311204720264     -3         100   \n",
       "\n",
       "                    Patient_Week   FVC    Percent  Age   Sex SmokingStatus  \n",
       "0  ID00419637202311204720264_-12  3020  70.186852   73  Male     Ex-smoker  \n",
       "1  ID00419637202311204720264_-11  3020  70.186852   73  Male     Ex-smoker  \n",
       "2  ID00419637202311204720264_-10  3020  70.186852   73  Male     Ex-smoker  \n",
       "3   ID00419637202311204720264_-9  3020  70.186852   73  Male     Ex-smoker  \n",
       "4   ID00419637202311204720264_-8  3020  70.186852   73  Male     Ex-smoker  \n",
       "5   ID00419637202311204720264_-7  3020  70.186852   73  Male     Ex-smoker  \n",
       "6   ID00419637202311204720264_-6  3020  70.186852   73  Male     Ex-smoker  \n",
       "7   ID00419637202311204720264_-5  3020  70.186852   73  Male     Ex-smoker  \n",
       "8   ID00419637202311204720264_-4  3020  70.186852   73  Male     Ex-smoker  \n",
       "9   ID00419637202311204720264_-3  3020  70.186852   73  Male     Ex-smoker  "
      ]
     },
     "execution_count": 17,
     "metadata": {},
     "output_type": "execute_result"
    }
   ],
   "source": [
    "submission_df[submission_df['Patient'] == 'ID00419637202311204720264'].head(10)"
   ]
  },
  {
   "cell_type": "markdown",
   "metadata": {},
   "source": [
    "Adding missing values"
   ]
  },
  {
   "cell_type": "code",
   "execution_count": 18,
   "metadata": {},
   "outputs": [],
   "source": [
    "train_df['WHERE'] = 'train'\n",
    "test_df['WHERE'] = 'val'\n",
    "submission_df['WHERE'] = 'test'\n",
    "data = train_df.append([test_df, submission_df])"
   ]
  },
  {
   "cell_type": "code",
   "execution_count": 19,
   "metadata": {},
   "outputs": [],
   "source": [
    "data['min_week'] = data['Weeks']\n",
    "data.loc[data.WHERE=='test','min_week'] = np.nan\n",
    "data['min_week'] = data.groupby('Patient')['min_week'].transform('min')"
   ]
  },
  {
   "cell_type": "code",
   "execution_count": 20,
   "metadata": {},
   "outputs": [
    {
     "data": {
      "text/html": [
       "<div>\n",
       "<style scoped>\n",
       "    .dataframe tbody tr th:only-of-type {\n",
       "        vertical-align: middle;\n",
       "    }\n",
       "\n",
       "    .dataframe tbody tr th {\n",
       "        vertical-align: top;\n",
       "    }\n",
       "\n",
       "    .dataframe thead th {\n",
       "        text-align: right;\n",
       "    }\n",
       "</style>\n",
       "<table border=\"1\" class=\"dataframe\">\n",
       "  <thead>\n",
       "    <tr style=\"text-align: right;\">\n",
       "      <th></th>\n",
       "      <th>Patient</th>\n",
       "      <th>min_FVC</th>\n",
       "      <th>min_Percent</th>\n",
       "      <th>nb</th>\n",
       "    </tr>\n",
       "  </thead>\n",
       "  <tbody>\n",
       "    <tr>\n",
       "      <th>0</th>\n",
       "      <td>ID00007637202177411956430</td>\n",
       "      <td>2315</td>\n",
       "      <td>58.253647</td>\n",
       "      <td>1</td>\n",
       "    </tr>\n",
       "    <tr>\n",
       "      <th>9</th>\n",
       "      <td>ID00009637202177434476278</td>\n",
       "      <td>3660</td>\n",
       "      <td>85.282875</td>\n",
       "      <td>1</td>\n",
       "    </tr>\n",
       "    <tr>\n",
       "      <th>18</th>\n",
       "      <td>ID00010637202177584971671</td>\n",
       "      <td>3523</td>\n",
       "      <td>94.724670</td>\n",
       "      <td>1</td>\n",
       "    </tr>\n",
       "    <tr>\n",
       "      <th>27</th>\n",
       "      <td>ID00011637202177653955184</td>\n",
       "      <td>3326</td>\n",
       "      <td>85.987587</td>\n",
       "      <td>1</td>\n",
       "    </tr>\n",
       "    <tr>\n",
       "      <th>36</th>\n",
       "      <td>ID00012637202177665765362</td>\n",
       "      <td>3418</td>\n",
       "      <td>93.726006</td>\n",
       "      <td>1</td>\n",
       "    </tr>\n",
       "    <tr>\n",
       "      <th>...</th>\n",
       "      <td>...</td>\n",
       "      <td>...</td>\n",
       "      <td>...</td>\n",
       "      <td>...</td>\n",
       "    </tr>\n",
       "    <tr>\n",
       "      <th>1504</th>\n",
       "      <td>ID00419637202311204720264</td>\n",
       "      <td>3020</td>\n",
       "      <td>70.186852</td>\n",
       "      <td>1</td>\n",
       "    </tr>\n",
       "    <tr>\n",
       "      <th>1513</th>\n",
       "      <td>ID00421637202311550012437</td>\n",
       "      <td>2739</td>\n",
       "      <td>82.045288</td>\n",
       "      <td>1</td>\n",
       "    </tr>\n",
       "    <tr>\n",
       "      <th>1523</th>\n",
       "      <td>ID00422637202311677017371</td>\n",
       "      <td>1930</td>\n",
       "      <td>76.672493</td>\n",
       "      <td>1</td>\n",
       "    </tr>\n",
       "    <tr>\n",
       "      <th>1531</th>\n",
       "      <td>ID00423637202312137826377</td>\n",
       "      <td>3294</td>\n",
       "      <td>79.258904</td>\n",
       "      <td>1</td>\n",
       "    </tr>\n",
       "    <tr>\n",
       "      <th>1540</th>\n",
       "      <td>ID00426637202313170790466</td>\n",
       "      <td>2925</td>\n",
       "      <td>71.824966</td>\n",
       "      <td>1</td>\n",
       "    </tr>\n",
       "  </tbody>\n",
       "</table>\n",
       "<p>176 rows × 4 columns</p>\n",
       "</div>"
      ],
      "text/plain": [
       "                        Patient  min_FVC  min_Percent  nb\n",
       "0     ID00007637202177411956430     2315    58.253647   1\n",
       "9     ID00009637202177434476278     3660    85.282875   1\n",
       "18    ID00010637202177584971671     3523    94.724670   1\n",
       "27    ID00011637202177653955184     3326    85.987587   1\n",
       "36    ID00012637202177665765362     3418    93.726006   1\n",
       "...                         ...      ...          ...  ..\n",
       "1504  ID00419637202311204720264     3020    70.186852   1\n",
       "1513  ID00421637202311550012437     2739    82.045288   1\n",
       "1523  ID00422637202311677017371     1930    76.672493   1\n",
       "1531  ID00423637202312137826377     3294    79.258904   1\n",
       "1540  ID00426637202313170790466     2925    71.824966   1\n",
       "\n",
       "[176 rows x 4 columns]"
      ]
     },
     "execution_count": 20,
     "metadata": {},
     "output_type": "execute_result"
    }
   ],
   "source": [
    "base = data.loc[data.Weeks == data.min_week]\n",
    "base = base[['Patient','FVC', 'Percent']].copy()\n",
    "base.columns = ['Patient','min_FVC', 'min_Percent']\n",
    "base['nb'] = 1\n",
    "base['nb'] = base.groupby('Patient')['nb'].transform('cumsum')\n",
    "base = base[base.nb==1]\n",
    "base"
   ]
  },
  {
   "cell_type": "code",
   "execution_count": 21,
   "metadata": {},
   "outputs": [],
   "source": [
    "data = data.merge(base, on='Patient', how='left')"
   ]
  },
  {
   "cell_type": "code",
   "execution_count": 22,
   "metadata": {},
   "outputs": [],
   "source": [
    "data['base_week'] = data['Weeks'] - data['min_week']\n",
    "data['base_week'] = data['base_week']\n",
    "del base"
   ]
  },
  {
   "cell_type": "code",
   "execution_count": 23,
   "metadata": {},
   "outputs": [
    {
     "data": {
      "text/html": [
       "<div>\n",
       "<style scoped>\n",
       "    .dataframe tbody tr th:only-of-type {\n",
       "        vertical-align: middle;\n",
       "    }\n",
       "\n",
       "    .dataframe tbody tr th {\n",
       "        vertical-align: top;\n",
       "    }\n",
       "\n",
       "    .dataframe thead th {\n",
       "        text-align: right;\n",
       "    }\n",
       "</style>\n",
       "<table border=\"1\" class=\"dataframe\">\n",
       "  <thead>\n",
       "    <tr style=\"text-align: right;\">\n",
       "      <th></th>\n",
       "      <th>Patient</th>\n",
       "      <th>Weeks</th>\n",
       "      <th>FVC</th>\n",
       "      <th>Percent</th>\n",
       "      <th>Age</th>\n",
       "      <th>Sex</th>\n",
       "      <th>SmokingStatus</th>\n",
       "      <th>WHERE</th>\n",
       "      <th>Confidence</th>\n",
       "      <th>Patient_Week</th>\n",
       "      <th>min_week</th>\n",
       "      <th>min_FVC</th>\n",
       "      <th>min_Percent</th>\n",
       "      <th>nb</th>\n",
       "      <th>base_week</th>\n",
       "    </tr>\n",
       "  </thead>\n",
       "  <tbody>\n",
       "    <tr>\n",
       "      <th>1507</th>\n",
       "      <td>ID00421637202311550012437</td>\n",
       "      <td>15</td>\n",
       "      <td>2739</td>\n",
       "      <td>82.045288</td>\n",
       "      <td>68</td>\n",
       "      <td>Male</td>\n",
       "      <td>Ex-smoker</td>\n",
       "      <td>train</td>\n",
       "      <td>NaN</td>\n",
       "      <td>NaN</td>\n",
       "      <td>15.0</td>\n",
       "      <td>2739</td>\n",
       "      <td>82.045288</td>\n",
       "      <td>1</td>\n",
       "      <td>0.0</td>\n",
       "    </tr>\n",
       "    <tr>\n",
       "      <th>1508</th>\n",
       "      <td>ID00421637202311550012437</td>\n",
       "      <td>17</td>\n",
       "      <td>2756</td>\n",
       "      <td>82.554520</td>\n",
       "      <td>68</td>\n",
       "      <td>Male</td>\n",
       "      <td>Ex-smoker</td>\n",
       "      <td>train</td>\n",
       "      <td>NaN</td>\n",
       "      <td>NaN</td>\n",
       "      <td>15.0</td>\n",
       "      <td>2739</td>\n",
       "      <td>82.045288</td>\n",
       "      <td>1</td>\n",
       "      <td>2.0</td>\n",
       "    </tr>\n",
       "    <tr>\n",
       "      <th>1509</th>\n",
       "      <td>ID00421637202311550012437</td>\n",
       "      <td>19</td>\n",
       "      <td>2755</td>\n",
       "      <td>82.524559</td>\n",
       "      <td>68</td>\n",
       "      <td>Male</td>\n",
       "      <td>Ex-smoker</td>\n",
       "      <td>train</td>\n",
       "      <td>NaN</td>\n",
       "      <td>NaN</td>\n",
       "      <td>15.0</td>\n",
       "      <td>2739</td>\n",
       "      <td>82.045288</td>\n",
       "      <td>1</td>\n",
       "      <td>4.0</td>\n",
       "    </tr>\n",
       "    <tr>\n",
       "      <th>1510</th>\n",
       "      <td>ID00421637202311550012437</td>\n",
       "      <td>21</td>\n",
       "      <td>2820</td>\n",
       "      <td>84.471603</td>\n",
       "      <td>68</td>\n",
       "      <td>Male</td>\n",
       "      <td>Ex-smoker</td>\n",
       "      <td>train</td>\n",
       "      <td>NaN</td>\n",
       "      <td>NaN</td>\n",
       "      <td>15.0</td>\n",
       "      <td>2739</td>\n",
       "      <td>82.045288</td>\n",
       "      <td>1</td>\n",
       "      <td>6.0</td>\n",
       "    </tr>\n",
       "    <tr>\n",
       "      <th>1511</th>\n",
       "      <td>ID00421637202311550012437</td>\n",
       "      <td>23</td>\n",
       "      <td>2853</td>\n",
       "      <td>85.460098</td>\n",
       "      <td>68</td>\n",
       "      <td>Male</td>\n",
       "      <td>Ex-smoker</td>\n",
       "      <td>train</td>\n",
       "      <td>NaN</td>\n",
       "      <td>NaN</td>\n",
       "      <td>15.0</td>\n",
       "      <td>2739</td>\n",
       "      <td>82.045288</td>\n",
       "      <td>1</td>\n",
       "      <td>8.0</td>\n",
       "    </tr>\n",
       "    <tr>\n",
       "      <th>...</th>\n",
       "      <td>...</td>\n",
       "      <td>...</td>\n",
       "      <td>...</td>\n",
       "      <td>...</td>\n",
       "      <td>...</td>\n",
       "      <td>...</td>\n",
       "      <td>...</td>\n",
       "      <td>...</td>\n",
       "      <td>...</td>\n",
       "      <td>...</td>\n",
       "      <td>...</td>\n",
       "      <td>...</td>\n",
       "      <td>...</td>\n",
       "      <td>...</td>\n",
       "      <td>...</td>\n",
       "    </tr>\n",
       "    <tr>\n",
       "      <th>1834</th>\n",
       "      <td>ID00421637202311550012437</td>\n",
       "      <td>129</td>\n",
       "      <td>2739</td>\n",
       "      <td>78.720345</td>\n",
       "      <td>68</td>\n",
       "      <td>Male</td>\n",
       "      <td>Ex-smoker</td>\n",
       "      <td>test</td>\n",
       "      <td>100.0</td>\n",
       "      <td>ID00421637202311550012437_129</td>\n",
       "      <td>15.0</td>\n",
       "      <td>2739</td>\n",
       "      <td>82.045288</td>\n",
       "      <td>1</td>\n",
       "      <td>114.0</td>\n",
       "    </tr>\n",
       "    <tr>\n",
       "      <th>1835</th>\n",
       "      <td>ID00421637202311550012437</td>\n",
       "      <td>130</td>\n",
       "      <td>2739</td>\n",
       "      <td>78.720345</td>\n",
       "      <td>68</td>\n",
       "      <td>Male</td>\n",
       "      <td>Ex-smoker</td>\n",
       "      <td>test</td>\n",
       "      <td>100.0</td>\n",
       "      <td>ID00421637202311550012437_130</td>\n",
       "      <td>15.0</td>\n",
       "      <td>2739</td>\n",
       "      <td>82.045288</td>\n",
       "      <td>1</td>\n",
       "      <td>115.0</td>\n",
       "    </tr>\n",
       "    <tr>\n",
       "      <th>1836</th>\n",
       "      <td>ID00421637202311550012437</td>\n",
       "      <td>131</td>\n",
       "      <td>2739</td>\n",
       "      <td>78.720345</td>\n",
       "      <td>68</td>\n",
       "      <td>Male</td>\n",
       "      <td>Ex-smoker</td>\n",
       "      <td>test</td>\n",
       "      <td>100.0</td>\n",
       "      <td>ID00421637202311550012437_131</td>\n",
       "      <td>15.0</td>\n",
       "      <td>2739</td>\n",
       "      <td>82.045288</td>\n",
       "      <td>1</td>\n",
       "      <td>116.0</td>\n",
       "    </tr>\n",
       "    <tr>\n",
       "      <th>1837</th>\n",
       "      <td>ID00421637202311550012437</td>\n",
       "      <td>132</td>\n",
       "      <td>2739</td>\n",
       "      <td>78.720345</td>\n",
       "      <td>68</td>\n",
       "      <td>Male</td>\n",
       "      <td>Ex-smoker</td>\n",
       "      <td>test</td>\n",
       "      <td>100.0</td>\n",
       "      <td>ID00421637202311550012437_132</td>\n",
       "      <td>15.0</td>\n",
       "      <td>2739</td>\n",
       "      <td>82.045288</td>\n",
       "      <td>1</td>\n",
       "      <td>117.0</td>\n",
       "    </tr>\n",
       "    <tr>\n",
       "      <th>1838</th>\n",
       "      <td>ID00421637202311550012437</td>\n",
       "      <td>133</td>\n",
       "      <td>2739</td>\n",
       "      <td>78.720345</td>\n",
       "      <td>68</td>\n",
       "      <td>Male</td>\n",
       "      <td>Ex-smoker</td>\n",
       "      <td>test</td>\n",
       "      <td>100.0</td>\n",
       "      <td>ID00421637202311550012437_133</td>\n",
       "      <td>15.0</td>\n",
       "      <td>2739</td>\n",
       "      <td>82.045288</td>\n",
       "      <td>1</td>\n",
       "      <td>118.0</td>\n",
       "    </tr>\n",
       "  </tbody>\n",
       "</table>\n",
       "<p>156 rows × 15 columns</p>\n",
       "</div>"
      ],
      "text/plain": [
       "                        Patient  Weeks   FVC    Percent  Age   Sex  \\\n",
       "1507  ID00421637202311550012437     15  2739  82.045288   68  Male   \n",
       "1508  ID00421637202311550012437     17  2756  82.554520   68  Male   \n",
       "1509  ID00421637202311550012437     19  2755  82.524559   68  Male   \n",
       "1510  ID00421637202311550012437     21  2820  84.471603   68  Male   \n",
       "1511  ID00421637202311550012437     23  2853  85.460098   68  Male   \n",
       "...                         ...    ...   ...        ...  ...   ...   \n",
       "1834  ID00421637202311550012437    129  2739  78.720345   68  Male   \n",
       "1835  ID00421637202311550012437    130  2739  78.720345   68  Male   \n",
       "1836  ID00421637202311550012437    131  2739  78.720345   68  Male   \n",
       "1837  ID00421637202311550012437    132  2739  78.720345   68  Male   \n",
       "1838  ID00421637202311550012437    133  2739  78.720345   68  Male   \n",
       "\n",
       "     SmokingStatus  WHERE  Confidence                   Patient_Week  \\\n",
       "1507     Ex-smoker  train         NaN                            NaN   \n",
       "1508     Ex-smoker  train         NaN                            NaN   \n",
       "1509     Ex-smoker  train         NaN                            NaN   \n",
       "1510     Ex-smoker  train         NaN                            NaN   \n",
       "1511     Ex-smoker  train         NaN                            NaN   \n",
       "...            ...    ...         ...                            ...   \n",
       "1834     Ex-smoker   test       100.0  ID00421637202311550012437_129   \n",
       "1835     Ex-smoker   test       100.0  ID00421637202311550012437_130   \n",
       "1836     Ex-smoker   test       100.0  ID00421637202311550012437_131   \n",
       "1837     Ex-smoker   test       100.0  ID00421637202311550012437_132   \n",
       "1838     Ex-smoker   test       100.0  ID00421637202311550012437_133   \n",
       "\n",
       "      min_week  min_FVC  min_Percent  nb  base_week  \n",
       "1507      15.0     2739    82.045288   1        0.0  \n",
       "1508      15.0     2739    82.045288   1        2.0  \n",
       "1509      15.0     2739    82.045288   1        4.0  \n",
       "1510      15.0     2739    82.045288   1        6.0  \n",
       "1511      15.0     2739    82.045288   1        8.0  \n",
       "...        ...      ...          ...  ..        ...  \n",
       "1834      15.0     2739    82.045288   1      114.0  \n",
       "1835      15.0     2739    82.045288   1      115.0  \n",
       "1836      15.0     2739    82.045288   1      116.0  \n",
       "1837      15.0     2739    82.045288   1      117.0  \n",
       "1838      15.0     2739    82.045288   1      118.0  \n",
       "\n",
       "[156 rows x 15 columns]"
      ]
     },
     "execution_count": 23,
     "metadata": {},
     "output_type": "execute_result"
    }
   ],
   "source": [
    "data[data['Patient'] == 'ID00421637202311550012437']"
   ]
  },
  {
   "cell_type": "code",
   "execution_count": 24,
   "metadata": {},
   "outputs": [],
   "source": [
    "COLS = ['Sex','SmokingStatus'] #,'Age', 'Sex_SmokingStatus'\n",
    "FE = []\n",
    "for col in COLS:\n",
    "    for mod in data[col].unique():\n",
    "        FE.append(mod)\n",
    "        data[mod] = (data[col] == mod).astype(int)"
   ]
  },
  {
   "cell_type": "code",
   "execution_count": 25,
   "metadata": {},
   "outputs": [
    {
     "data": {
      "text/html": [
       "<div>\n",
       "<style scoped>\n",
       "    .dataframe tbody tr th:only-of-type {\n",
       "        vertical-align: middle;\n",
       "    }\n",
       "\n",
       "    .dataframe tbody tr th {\n",
       "        vertical-align: top;\n",
       "    }\n",
       "\n",
       "    .dataframe thead th {\n",
       "        text-align: right;\n",
       "    }\n",
       "</style>\n",
       "<table border=\"1\" class=\"dataframe\">\n",
       "  <thead>\n",
       "    <tr style=\"text-align: right;\">\n",
       "      <th></th>\n",
       "      <th>Patient</th>\n",
       "      <th>Weeks</th>\n",
       "      <th>FVC</th>\n",
       "      <th>Percent</th>\n",
       "      <th>Age</th>\n",
       "      <th>Sex</th>\n",
       "      <th>SmokingStatus</th>\n",
       "      <th>WHERE</th>\n",
       "      <th>Confidence</th>\n",
       "      <th>Patient_Week</th>\n",
       "      <th>min_week</th>\n",
       "      <th>min_FVC</th>\n",
       "      <th>min_Percent</th>\n",
       "      <th>nb</th>\n",
       "      <th>base_week</th>\n",
       "      <th>Male</th>\n",
       "      <th>Female</th>\n",
       "      <th>Ex-smoker</th>\n",
       "      <th>Never smoked</th>\n",
       "      <th>Currently smokes</th>\n",
       "    </tr>\n",
       "  </thead>\n",
       "  <tbody>\n",
       "    <tr>\n",
       "      <th>1507</th>\n",
       "      <td>ID00421637202311550012437</td>\n",
       "      <td>15</td>\n",
       "      <td>2739</td>\n",
       "      <td>82.045288</td>\n",
       "      <td>68</td>\n",
       "      <td>Male</td>\n",
       "      <td>Ex-smoker</td>\n",
       "      <td>train</td>\n",
       "      <td>NaN</td>\n",
       "      <td>NaN</td>\n",
       "      <td>15.0</td>\n",
       "      <td>2739</td>\n",
       "      <td>82.045288</td>\n",
       "      <td>1</td>\n",
       "      <td>0.0</td>\n",
       "      <td>1</td>\n",
       "      <td>0</td>\n",
       "      <td>1</td>\n",
       "      <td>0</td>\n",
       "      <td>0</td>\n",
       "    </tr>\n",
       "    <tr>\n",
       "      <th>1508</th>\n",
       "      <td>ID00421637202311550012437</td>\n",
       "      <td>17</td>\n",
       "      <td>2756</td>\n",
       "      <td>82.554520</td>\n",
       "      <td>68</td>\n",
       "      <td>Male</td>\n",
       "      <td>Ex-smoker</td>\n",
       "      <td>train</td>\n",
       "      <td>NaN</td>\n",
       "      <td>NaN</td>\n",
       "      <td>15.0</td>\n",
       "      <td>2739</td>\n",
       "      <td>82.045288</td>\n",
       "      <td>1</td>\n",
       "      <td>2.0</td>\n",
       "      <td>1</td>\n",
       "      <td>0</td>\n",
       "      <td>1</td>\n",
       "      <td>0</td>\n",
       "      <td>0</td>\n",
       "    </tr>\n",
       "    <tr>\n",
       "      <th>1509</th>\n",
       "      <td>ID00421637202311550012437</td>\n",
       "      <td>19</td>\n",
       "      <td>2755</td>\n",
       "      <td>82.524559</td>\n",
       "      <td>68</td>\n",
       "      <td>Male</td>\n",
       "      <td>Ex-smoker</td>\n",
       "      <td>train</td>\n",
       "      <td>NaN</td>\n",
       "      <td>NaN</td>\n",
       "      <td>15.0</td>\n",
       "      <td>2739</td>\n",
       "      <td>82.045288</td>\n",
       "      <td>1</td>\n",
       "      <td>4.0</td>\n",
       "      <td>1</td>\n",
       "      <td>0</td>\n",
       "      <td>1</td>\n",
       "      <td>0</td>\n",
       "      <td>0</td>\n",
       "    </tr>\n",
       "    <tr>\n",
       "      <th>1510</th>\n",
       "      <td>ID00421637202311550012437</td>\n",
       "      <td>21</td>\n",
       "      <td>2820</td>\n",
       "      <td>84.471603</td>\n",
       "      <td>68</td>\n",
       "      <td>Male</td>\n",
       "      <td>Ex-smoker</td>\n",
       "      <td>train</td>\n",
       "      <td>NaN</td>\n",
       "      <td>NaN</td>\n",
       "      <td>15.0</td>\n",
       "      <td>2739</td>\n",
       "      <td>82.045288</td>\n",
       "      <td>1</td>\n",
       "      <td>6.0</td>\n",
       "      <td>1</td>\n",
       "      <td>0</td>\n",
       "      <td>1</td>\n",
       "      <td>0</td>\n",
       "      <td>0</td>\n",
       "    </tr>\n",
       "    <tr>\n",
       "      <th>1511</th>\n",
       "      <td>ID00421637202311550012437</td>\n",
       "      <td>23</td>\n",
       "      <td>2853</td>\n",
       "      <td>85.460098</td>\n",
       "      <td>68</td>\n",
       "      <td>Male</td>\n",
       "      <td>Ex-smoker</td>\n",
       "      <td>train</td>\n",
       "      <td>NaN</td>\n",
       "      <td>NaN</td>\n",
       "      <td>15.0</td>\n",
       "      <td>2739</td>\n",
       "      <td>82.045288</td>\n",
       "      <td>1</td>\n",
       "      <td>8.0</td>\n",
       "      <td>1</td>\n",
       "      <td>0</td>\n",
       "      <td>1</td>\n",
       "      <td>0</td>\n",
       "      <td>0</td>\n",
       "    </tr>\n",
       "    <tr>\n",
       "      <th>...</th>\n",
       "      <td>...</td>\n",
       "      <td>...</td>\n",
       "      <td>...</td>\n",
       "      <td>...</td>\n",
       "      <td>...</td>\n",
       "      <td>...</td>\n",
       "      <td>...</td>\n",
       "      <td>...</td>\n",
       "      <td>...</td>\n",
       "      <td>...</td>\n",
       "      <td>...</td>\n",
       "      <td>...</td>\n",
       "      <td>...</td>\n",
       "      <td>...</td>\n",
       "      <td>...</td>\n",
       "      <td>...</td>\n",
       "      <td>...</td>\n",
       "      <td>...</td>\n",
       "      <td>...</td>\n",
       "      <td>...</td>\n",
       "    </tr>\n",
       "    <tr>\n",
       "      <th>1834</th>\n",
       "      <td>ID00421637202311550012437</td>\n",
       "      <td>129</td>\n",
       "      <td>2739</td>\n",
       "      <td>78.720345</td>\n",
       "      <td>68</td>\n",
       "      <td>Male</td>\n",
       "      <td>Ex-smoker</td>\n",
       "      <td>test</td>\n",
       "      <td>100.0</td>\n",
       "      <td>ID00421637202311550012437_129</td>\n",
       "      <td>15.0</td>\n",
       "      <td>2739</td>\n",
       "      <td>82.045288</td>\n",
       "      <td>1</td>\n",
       "      <td>114.0</td>\n",
       "      <td>1</td>\n",
       "      <td>0</td>\n",
       "      <td>1</td>\n",
       "      <td>0</td>\n",
       "      <td>0</td>\n",
       "    </tr>\n",
       "    <tr>\n",
       "      <th>1835</th>\n",
       "      <td>ID00421637202311550012437</td>\n",
       "      <td>130</td>\n",
       "      <td>2739</td>\n",
       "      <td>78.720345</td>\n",
       "      <td>68</td>\n",
       "      <td>Male</td>\n",
       "      <td>Ex-smoker</td>\n",
       "      <td>test</td>\n",
       "      <td>100.0</td>\n",
       "      <td>ID00421637202311550012437_130</td>\n",
       "      <td>15.0</td>\n",
       "      <td>2739</td>\n",
       "      <td>82.045288</td>\n",
       "      <td>1</td>\n",
       "      <td>115.0</td>\n",
       "      <td>1</td>\n",
       "      <td>0</td>\n",
       "      <td>1</td>\n",
       "      <td>0</td>\n",
       "      <td>0</td>\n",
       "    </tr>\n",
       "    <tr>\n",
       "      <th>1836</th>\n",
       "      <td>ID00421637202311550012437</td>\n",
       "      <td>131</td>\n",
       "      <td>2739</td>\n",
       "      <td>78.720345</td>\n",
       "      <td>68</td>\n",
       "      <td>Male</td>\n",
       "      <td>Ex-smoker</td>\n",
       "      <td>test</td>\n",
       "      <td>100.0</td>\n",
       "      <td>ID00421637202311550012437_131</td>\n",
       "      <td>15.0</td>\n",
       "      <td>2739</td>\n",
       "      <td>82.045288</td>\n",
       "      <td>1</td>\n",
       "      <td>116.0</td>\n",
       "      <td>1</td>\n",
       "      <td>0</td>\n",
       "      <td>1</td>\n",
       "      <td>0</td>\n",
       "      <td>0</td>\n",
       "    </tr>\n",
       "    <tr>\n",
       "      <th>1837</th>\n",
       "      <td>ID00421637202311550012437</td>\n",
       "      <td>132</td>\n",
       "      <td>2739</td>\n",
       "      <td>78.720345</td>\n",
       "      <td>68</td>\n",
       "      <td>Male</td>\n",
       "      <td>Ex-smoker</td>\n",
       "      <td>test</td>\n",
       "      <td>100.0</td>\n",
       "      <td>ID00421637202311550012437_132</td>\n",
       "      <td>15.0</td>\n",
       "      <td>2739</td>\n",
       "      <td>82.045288</td>\n",
       "      <td>1</td>\n",
       "      <td>117.0</td>\n",
       "      <td>1</td>\n",
       "      <td>0</td>\n",
       "      <td>1</td>\n",
       "      <td>0</td>\n",
       "      <td>0</td>\n",
       "    </tr>\n",
       "    <tr>\n",
       "      <th>1838</th>\n",
       "      <td>ID00421637202311550012437</td>\n",
       "      <td>133</td>\n",
       "      <td>2739</td>\n",
       "      <td>78.720345</td>\n",
       "      <td>68</td>\n",
       "      <td>Male</td>\n",
       "      <td>Ex-smoker</td>\n",
       "      <td>test</td>\n",
       "      <td>100.0</td>\n",
       "      <td>ID00421637202311550012437_133</td>\n",
       "      <td>15.0</td>\n",
       "      <td>2739</td>\n",
       "      <td>82.045288</td>\n",
       "      <td>1</td>\n",
       "      <td>118.0</td>\n",
       "      <td>1</td>\n",
       "      <td>0</td>\n",
       "      <td>1</td>\n",
       "      <td>0</td>\n",
       "      <td>0</td>\n",
       "    </tr>\n",
       "  </tbody>\n",
       "</table>\n",
       "<p>156 rows × 20 columns</p>\n",
       "</div>"
      ],
      "text/plain": [
       "                        Patient  Weeks   FVC    Percent  Age   Sex  \\\n",
       "1507  ID00421637202311550012437     15  2739  82.045288   68  Male   \n",
       "1508  ID00421637202311550012437     17  2756  82.554520   68  Male   \n",
       "1509  ID00421637202311550012437     19  2755  82.524559   68  Male   \n",
       "1510  ID00421637202311550012437     21  2820  84.471603   68  Male   \n",
       "1511  ID00421637202311550012437     23  2853  85.460098   68  Male   \n",
       "...                         ...    ...   ...        ...  ...   ...   \n",
       "1834  ID00421637202311550012437    129  2739  78.720345   68  Male   \n",
       "1835  ID00421637202311550012437    130  2739  78.720345   68  Male   \n",
       "1836  ID00421637202311550012437    131  2739  78.720345   68  Male   \n",
       "1837  ID00421637202311550012437    132  2739  78.720345   68  Male   \n",
       "1838  ID00421637202311550012437    133  2739  78.720345   68  Male   \n",
       "\n",
       "     SmokingStatus  WHERE  Confidence                   Patient_Week  \\\n",
       "1507     Ex-smoker  train         NaN                            NaN   \n",
       "1508     Ex-smoker  train         NaN                            NaN   \n",
       "1509     Ex-smoker  train         NaN                            NaN   \n",
       "1510     Ex-smoker  train         NaN                            NaN   \n",
       "1511     Ex-smoker  train         NaN                            NaN   \n",
       "...            ...    ...         ...                            ...   \n",
       "1834     Ex-smoker   test       100.0  ID00421637202311550012437_129   \n",
       "1835     Ex-smoker   test       100.0  ID00421637202311550012437_130   \n",
       "1836     Ex-smoker   test       100.0  ID00421637202311550012437_131   \n",
       "1837     Ex-smoker   test       100.0  ID00421637202311550012437_132   \n",
       "1838     Ex-smoker   test       100.0  ID00421637202311550012437_133   \n",
       "\n",
       "      min_week  min_FVC  min_Percent  nb  base_week  Male  Female  Ex-smoker  \\\n",
       "1507      15.0     2739    82.045288   1        0.0     1       0          1   \n",
       "1508      15.0     2739    82.045288   1        2.0     1       0          1   \n",
       "1509      15.0     2739    82.045288   1        4.0     1       0          1   \n",
       "1510      15.0     2739    82.045288   1        6.0     1       0          1   \n",
       "1511      15.0     2739    82.045288   1        8.0     1       0          1   \n",
       "...        ...      ...          ...  ..        ...   ...     ...        ...   \n",
       "1834      15.0     2739    82.045288   1      114.0     1       0          1   \n",
       "1835      15.0     2739    82.045288   1      115.0     1       0          1   \n",
       "1836      15.0     2739    82.045288   1      116.0     1       0          1   \n",
       "1837      15.0     2739    82.045288   1      117.0     1       0          1   \n",
       "1838      15.0     2739    82.045288   1      118.0     1       0          1   \n",
       "\n",
       "      Never smoked  Currently smokes  \n",
       "1507             0                 0  \n",
       "1508             0                 0  \n",
       "1509             0                 0  \n",
       "1510             0                 0  \n",
       "1511             0                 0  \n",
       "...            ...               ...  \n",
       "1834             0                 0  \n",
       "1835             0                 0  \n",
       "1836             0                 0  \n",
       "1837             0                 0  \n",
       "1838             0                 0  \n",
       "\n",
       "[156 rows x 20 columns]"
      ]
     },
     "execution_count": 25,
     "metadata": {},
     "output_type": "execute_result"
    }
   ],
   "source": [
    "data[data['Patient'] == 'ID00421637202311550012437']"
   ]
  },
  {
   "cell_type": "code",
   "execution_count": 26,
   "metadata": {},
   "outputs": [
    {
     "data": {
      "text/plain": [
       "(4.924904657504615, 4.924904657504615)"
      ]
     },
     "execution_count": 26,
     "metadata": {},
     "output_type": "execute_result"
    }
   ],
   "source": [
    "np.mean(np.abs(data['Age'] - data['Age'].mean())), data['Age'].mad()"
   ]
  },
  {
   "cell_type": "code",
   "execution_count": 27,
   "metadata": {},
   "outputs": [],
   "source": [
    "def normalize(df:pd.DataFrame, cont_names, target_names):\n",
    "    \"Compute the means and stds of `self.cont_names` columns to normalize them.\"\n",
    "    means, stds = {},{}\n",
    "    for n, t in zip(cont_names, target_names):\n",
    "        means[n], stds[n] = df[n].mean(), df[n].std()\n",
    "#         means[n], stds[n] = df[n].mean(), df[n].mad()\n",
    "        df[t] = (df[n]-means[n]) / (1e-7 + stds[n])\n",
    "\n",
    "normalize(data, ['Age','min_FVC','base_week','Percent', 'min_Percent', 'min_week'], ['age','BASE','week','percent', 'min_percent', 'min_week'])\n",
    "FE += ['age','week','BASE', 'percent']"
   ]
  },
  {
   "cell_type": "code",
   "execution_count": 28,
   "metadata": {},
   "outputs": [
    {
     "data": {
      "text/plain": [
       "-29.0"
      ]
     },
     "execution_count": 28,
     "metadata": {},
     "output_type": "execute_result"
    }
   ],
   "source": [
    "data['base_week'].min()"
   ]
  },
  {
   "cell_type": "code",
   "execution_count": 29,
   "metadata": {},
   "outputs": [],
   "source": [
    "train_df = data.loc[data.WHERE=='train']\n",
    "test_df = data.loc[data.WHERE=='val']\n",
    "submission_df = data.loc[data.WHERE=='test']\n",
    "del data"
   ]
  },
  {
   "cell_type": "code",
   "execution_count": 30,
   "metadata": {},
   "outputs": [
    {
     "data": {
      "text/html": [
       "<div>\n",
       "<style scoped>\n",
       "    .dataframe tbody tr th:only-of-type {\n",
       "        vertical-align: middle;\n",
       "    }\n",
       "\n",
       "    .dataframe tbody tr th {\n",
       "        vertical-align: top;\n",
       "    }\n",
       "\n",
       "    .dataframe thead th {\n",
       "        text-align: right;\n",
       "    }\n",
       "</style>\n",
       "<table border=\"1\" class=\"dataframe\">\n",
       "  <thead>\n",
       "    <tr style=\"text-align: right;\">\n",
       "      <th></th>\n",
       "      <th>Patient</th>\n",
       "      <th>Weeks</th>\n",
       "      <th>FVC</th>\n",
       "      <th>Percent</th>\n",
       "      <th>Age</th>\n",
       "      <th>Sex</th>\n",
       "      <th>SmokingStatus</th>\n",
       "      <th>WHERE</th>\n",
       "      <th>Confidence</th>\n",
       "      <th>Patient_Week</th>\n",
       "      <th>...</th>\n",
       "      <th>Male</th>\n",
       "      <th>Female</th>\n",
       "      <th>Ex-smoker</th>\n",
       "      <th>Never smoked</th>\n",
       "      <th>Currently smokes</th>\n",
       "      <th>age</th>\n",
       "      <th>BASE</th>\n",
       "      <th>week</th>\n",
       "      <th>percent</th>\n",
       "      <th>min_percent</th>\n",
       "    </tr>\n",
       "  </thead>\n",
       "  <tbody>\n",
       "    <tr>\n",
       "      <th>0</th>\n",
       "      <td>ID00007637202177411956430</td>\n",
       "      <td>-4</td>\n",
       "      <td>2315</td>\n",
       "      <td>58.253647</td>\n",
       "      <td>79</td>\n",
       "      <td>Male</td>\n",
       "      <td>Ex-smoker</td>\n",
       "      <td>train</td>\n",
       "      <td>NaN</td>\n",
       "      <td>NaN</td>\n",
       "      <td>...</td>\n",
       "      <td>1</td>\n",
       "      <td>0</td>\n",
       "      <td>1</td>\n",
       "      <td>0</td>\n",
       "      <td>0</td>\n",
       "      <td>1.638237</td>\n",
       "      <td>-0.636809</td>\n",
       "      <td>-0.876378</td>\n",
       "      <td>-0.970624</td>\n",
       "      <td>-1.275371</td>\n",
       "    </tr>\n",
       "    <tr>\n",
       "      <th>1</th>\n",
       "      <td>ID00007637202177411956430</td>\n",
       "      <td>5</td>\n",
       "      <td>2214</td>\n",
       "      <td>55.712128</td>\n",
       "      <td>79</td>\n",
       "      <td>Male</td>\n",
       "      <td>Ex-smoker</td>\n",
       "      <td>train</td>\n",
       "      <td>NaN</td>\n",
       "      <td>NaN</td>\n",
       "      <td>...</td>\n",
       "      <td>1</td>\n",
       "      <td>0</td>\n",
       "      <td>1</td>\n",
       "      <td>0</td>\n",
       "      <td>0</td>\n",
       "      <td>1.638237</td>\n",
       "      <td>-0.636809</td>\n",
       "      <td>-0.598597</td>\n",
       "      <td>-1.118062</td>\n",
       "      <td>-1.275371</td>\n",
       "    </tr>\n",
       "    <tr>\n",
       "      <th>2</th>\n",
       "      <td>ID00007637202177411956430</td>\n",
       "      <td>7</td>\n",
       "      <td>2061</td>\n",
       "      <td>51.862103</td>\n",
       "      <td>79</td>\n",
       "      <td>Male</td>\n",
       "      <td>Ex-smoker</td>\n",
       "      <td>train</td>\n",
       "      <td>NaN</td>\n",
       "      <td>NaN</td>\n",
       "      <td>...</td>\n",
       "      <td>1</td>\n",
       "      <td>0</td>\n",
       "      <td>1</td>\n",
       "      <td>0</td>\n",
       "      <td>0</td>\n",
       "      <td>1.638237</td>\n",
       "      <td>-0.636809</td>\n",
       "      <td>-0.536868</td>\n",
       "      <td>-1.341409</td>\n",
       "      <td>-1.275371</td>\n",
       "    </tr>\n",
       "    <tr>\n",
       "      <th>3</th>\n",
       "      <td>ID00007637202177411956430</td>\n",
       "      <td>9</td>\n",
       "      <td>2144</td>\n",
       "      <td>53.950680</td>\n",
       "      <td>79</td>\n",
       "      <td>Male</td>\n",
       "      <td>Ex-smoker</td>\n",
       "      <td>train</td>\n",
       "      <td>NaN</td>\n",
       "      <td>NaN</td>\n",
       "      <td>...</td>\n",
       "      <td>1</td>\n",
       "      <td>0</td>\n",
       "      <td>1</td>\n",
       "      <td>0</td>\n",
       "      <td>0</td>\n",
       "      <td>1.638237</td>\n",
       "      <td>-0.636809</td>\n",
       "      <td>-0.475140</td>\n",
       "      <td>-1.220247</td>\n",
       "      <td>-1.275371</td>\n",
       "    </tr>\n",
       "    <tr>\n",
       "      <th>4</th>\n",
       "      <td>ID00007637202177411956430</td>\n",
       "      <td>11</td>\n",
       "      <td>2069</td>\n",
       "      <td>52.063412</td>\n",
       "      <td>79</td>\n",
       "      <td>Male</td>\n",
       "      <td>Ex-smoker</td>\n",
       "      <td>train</td>\n",
       "      <td>NaN</td>\n",
       "      <td>NaN</td>\n",
       "      <td>...</td>\n",
       "      <td>1</td>\n",
       "      <td>0</td>\n",
       "      <td>1</td>\n",
       "      <td>0</td>\n",
       "      <td>0</td>\n",
       "      <td>1.638237</td>\n",
       "      <td>-0.636809</td>\n",
       "      <td>-0.413411</td>\n",
       "      <td>-1.329731</td>\n",
       "      <td>-1.275371</td>\n",
       "    </tr>\n",
       "    <tr>\n",
       "      <th>5</th>\n",
       "      <td>ID00007637202177411956430</td>\n",
       "      <td>17</td>\n",
       "      <td>2101</td>\n",
       "      <td>52.868645</td>\n",
       "      <td>79</td>\n",
       "      <td>Male</td>\n",
       "      <td>Ex-smoker</td>\n",
       "      <td>train</td>\n",
       "      <td>NaN</td>\n",
       "      <td>NaN</td>\n",
       "      <td>...</td>\n",
       "      <td>1</td>\n",
       "      <td>0</td>\n",
       "      <td>1</td>\n",
       "      <td>0</td>\n",
       "      <td>0</td>\n",
       "      <td>1.638237</td>\n",
       "      <td>-0.636809</td>\n",
       "      <td>-0.228224</td>\n",
       "      <td>-1.283018</td>\n",
       "      <td>-1.275371</td>\n",
       "    </tr>\n",
       "    <tr>\n",
       "      <th>6</th>\n",
       "      <td>ID00007637202177411956430</td>\n",
       "      <td>29</td>\n",
       "      <td>2000</td>\n",
       "      <td>50.327126</td>\n",
       "      <td>79</td>\n",
       "      <td>Male</td>\n",
       "      <td>Ex-smoker</td>\n",
       "      <td>train</td>\n",
       "      <td>NaN</td>\n",
       "      <td>NaN</td>\n",
       "      <td>...</td>\n",
       "      <td>1</td>\n",
       "      <td>0</td>\n",
       "      <td>1</td>\n",
       "      <td>0</td>\n",
       "      <td>0</td>\n",
       "      <td>1.638237</td>\n",
       "      <td>-0.636809</td>\n",
       "      <td>0.142150</td>\n",
       "      <td>-1.430455</td>\n",
       "      <td>-1.275371</td>\n",
       "    </tr>\n",
       "    <tr>\n",
       "      <th>7</th>\n",
       "      <td>ID00007637202177411956430</td>\n",
       "      <td>41</td>\n",
       "      <td>2064</td>\n",
       "      <td>51.937595</td>\n",
       "      <td>79</td>\n",
       "      <td>Male</td>\n",
       "      <td>Ex-smoker</td>\n",
       "      <td>train</td>\n",
       "      <td>NaN</td>\n",
       "      <td>NaN</td>\n",
       "      <td>...</td>\n",
       "      <td>1</td>\n",
       "      <td>0</td>\n",
       "      <td>1</td>\n",
       "      <td>0</td>\n",
       "      <td>0</td>\n",
       "      <td>1.638237</td>\n",
       "      <td>-0.636809</td>\n",
       "      <td>0.512524</td>\n",
       "      <td>-1.337029</td>\n",
       "      <td>-1.275371</td>\n",
       "    </tr>\n",
       "    <tr>\n",
       "      <th>8</th>\n",
       "      <td>ID00007637202177411956430</td>\n",
       "      <td>57</td>\n",
       "      <td>2057</td>\n",
       "      <td>51.761448</td>\n",
       "      <td>79</td>\n",
       "      <td>Male</td>\n",
       "      <td>Ex-smoker</td>\n",
       "      <td>train</td>\n",
       "      <td>NaN</td>\n",
       "      <td>NaN</td>\n",
       "      <td>...</td>\n",
       "      <td>1</td>\n",
       "      <td>0</td>\n",
       "      <td>1</td>\n",
       "      <td>0</td>\n",
       "      <td>0</td>\n",
       "      <td>1.638237</td>\n",
       "      <td>-0.636809</td>\n",
       "      <td>1.006356</td>\n",
       "      <td>-1.347248</td>\n",
       "      <td>-1.275371</td>\n",
       "    </tr>\n",
       "    <tr>\n",
       "      <th>9</th>\n",
       "      <td>ID00009637202177434476278</td>\n",
       "      <td>8</td>\n",
       "      <td>3660</td>\n",
       "      <td>85.282875</td>\n",
       "      <td>69</td>\n",
       "      <td>Male</td>\n",
       "      <td>Ex-smoker</td>\n",
       "      <td>train</td>\n",
       "      <td>NaN</td>\n",
       "      <td>NaN</td>\n",
       "      <td>...</td>\n",
       "      <td>1</td>\n",
       "      <td>0</td>\n",
       "      <td>1</td>\n",
       "      <td>0</td>\n",
       "      <td>0</td>\n",
       "      <td>0.050822</td>\n",
       "      <td>1.186333</td>\n",
       "      <td>-0.876378</td>\n",
       "      <td>0.597388</td>\n",
       "      <td>0.385378</td>\n",
       "    </tr>\n",
       "    <tr>\n",
       "      <th>10</th>\n",
       "      <td>ID00009637202177434476278</td>\n",
       "      <td>9</td>\n",
       "      <td>3610</td>\n",
       "      <td>84.117813</td>\n",
       "      <td>69</td>\n",
       "      <td>Male</td>\n",
       "      <td>Ex-smoker</td>\n",
       "      <td>train</td>\n",
       "      <td>NaN</td>\n",
       "      <td>NaN</td>\n",
       "      <td>...</td>\n",
       "      <td>1</td>\n",
       "      <td>0</td>\n",
       "      <td>1</td>\n",
       "      <td>0</td>\n",
       "      <td>0</td>\n",
       "      <td>0.050822</td>\n",
       "      <td>1.186333</td>\n",
       "      <td>-0.845513</td>\n",
       "      <td>0.529800</td>\n",
       "      <td>0.385378</td>\n",
       "    </tr>\n",
       "    <tr>\n",
       "      <th>11</th>\n",
       "      <td>ID00009637202177434476278</td>\n",
       "      <td>11</td>\n",
       "      <td>3895</td>\n",
       "      <td>90.758690</td>\n",
       "      <td>69</td>\n",
       "      <td>Male</td>\n",
       "      <td>Ex-smoker</td>\n",
       "      <td>train</td>\n",
       "      <td>NaN</td>\n",
       "      <td>NaN</td>\n",
       "      <td>...</td>\n",
       "      <td>1</td>\n",
       "      <td>0</td>\n",
       "      <td>1</td>\n",
       "      <td>0</td>\n",
       "      <td>0</td>\n",
       "      <td>0.050822</td>\n",
       "      <td>1.186333</td>\n",
       "      <td>-0.783784</td>\n",
       "      <td>0.915049</td>\n",
       "      <td>0.385378</td>\n",
       "    </tr>\n",
       "    <tr>\n",
       "      <th>12</th>\n",
       "      <td>ID00009637202177434476278</td>\n",
       "      <td>13</td>\n",
       "      <td>3759</td>\n",
       "      <td>87.589706</td>\n",
       "      <td>69</td>\n",
       "      <td>Male</td>\n",
       "      <td>Ex-smoker</td>\n",
       "      <td>train</td>\n",
       "      <td>NaN</td>\n",
       "      <td>NaN</td>\n",
       "      <td>...</td>\n",
       "      <td>1</td>\n",
       "      <td>0</td>\n",
       "      <td>1</td>\n",
       "      <td>0</td>\n",
       "      <td>0</td>\n",
       "      <td>0.050822</td>\n",
       "      <td>1.186333</td>\n",
       "      <td>-0.722055</td>\n",
       "      <td>0.731211</td>\n",
       "      <td>0.385378</td>\n",
       "    </tr>\n",
       "    <tr>\n",
       "      <th>13</th>\n",
       "      <td>ID00009637202177434476278</td>\n",
       "      <td>15</td>\n",
       "      <td>3639</td>\n",
       "      <td>84.793549</td>\n",
       "      <td>69</td>\n",
       "      <td>Male</td>\n",
       "      <td>Ex-smoker</td>\n",
       "      <td>train</td>\n",
       "      <td>NaN</td>\n",
       "      <td>NaN</td>\n",
       "      <td>...</td>\n",
       "      <td>1</td>\n",
       "      <td>0</td>\n",
       "      <td>1</td>\n",
       "      <td>0</td>\n",
       "      <td>0</td>\n",
       "      <td>0.050822</td>\n",
       "      <td>1.186333</td>\n",
       "      <td>-0.660326</td>\n",
       "      <td>0.569001</td>\n",
       "      <td>0.385378</td>\n",
       "    </tr>\n",
       "    <tr>\n",
       "      <th>14</th>\n",
       "      <td>ID00009637202177434476278</td>\n",
       "      <td>22</td>\n",
       "      <td>3578</td>\n",
       "      <td>83.372169</td>\n",
       "      <td>69</td>\n",
       "      <td>Male</td>\n",
       "      <td>Ex-smoker</td>\n",
       "      <td>train</td>\n",
       "      <td>NaN</td>\n",
       "      <td>NaN</td>\n",
       "      <td>...</td>\n",
       "      <td>1</td>\n",
       "      <td>0</td>\n",
       "      <td>1</td>\n",
       "      <td>0</td>\n",
       "      <td>0</td>\n",
       "      <td>0.050822</td>\n",
       "      <td>1.186333</td>\n",
       "      <td>-0.444275</td>\n",
       "      <td>0.486544</td>\n",
       "      <td>0.385378</td>\n",
       "    </tr>\n",
       "  </tbody>\n",
       "</table>\n",
       "<p>15 rows × 25 columns</p>\n",
       "</div>"
      ],
      "text/plain": [
       "                      Patient  Weeks   FVC    Percent  Age   Sex  \\\n",
       "0   ID00007637202177411956430     -4  2315  58.253647   79  Male   \n",
       "1   ID00007637202177411956430      5  2214  55.712128   79  Male   \n",
       "2   ID00007637202177411956430      7  2061  51.862103   79  Male   \n",
       "3   ID00007637202177411956430      9  2144  53.950680   79  Male   \n",
       "4   ID00007637202177411956430     11  2069  52.063412   79  Male   \n",
       "5   ID00007637202177411956430     17  2101  52.868645   79  Male   \n",
       "6   ID00007637202177411956430     29  2000  50.327126   79  Male   \n",
       "7   ID00007637202177411956430     41  2064  51.937595   79  Male   \n",
       "8   ID00007637202177411956430     57  2057  51.761448   79  Male   \n",
       "9   ID00009637202177434476278      8  3660  85.282875   69  Male   \n",
       "10  ID00009637202177434476278      9  3610  84.117813   69  Male   \n",
       "11  ID00009637202177434476278     11  3895  90.758690   69  Male   \n",
       "12  ID00009637202177434476278     13  3759  87.589706   69  Male   \n",
       "13  ID00009637202177434476278     15  3639  84.793549   69  Male   \n",
       "14  ID00009637202177434476278     22  3578  83.372169   69  Male   \n",
       "\n",
       "   SmokingStatus  WHERE  Confidence Patient_Week  ...  Male  Female  \\\n",
       "0      Ex-smoker  train         NaN          NaN  ...     1       0   \n",
       "1      Ex-smoker  train         NaN          NaN  ...     1       0   \n",
       "2      Ex-smoker  train         NaN          NaN  ...     1       0   \n",
       "3      Ex-smoker  train         NaN          NaN  ...     1       0   \n",
       "4      Ex-smoker  train         NaN          NaN  ...     1       0   \n",
       "5      Ex-smoker  train         NaN          NaN  ...     1       0   \n",
       "6      Ex-smoker  train         NaN          NaN  ...     1       0   \n",
       "7      Ex-smoker  train         NaN          NaN  ...     1       0   \n",
       "8      Ex-smoker  train         NaN          NaN  ...     1       0   \n",
       "9      Ex-smoker  train         NaN          NaN  ...     1       0   \n",
       "10     Ex-smoker  train         NaN          NaN  ...     1       0   \n",
       "11     Ex-smoker  train         NaN          NaN  ...     1       0   \n",
       "12     Ex-smoker  train         NaN          NaN  ...     1       0   \n",
       "13     Ex-smoker  train         NaN          NaN  ...     1       0   \n",
       "14     Ex-smoker  train         NaN          NaN  ...     1       0   \n",
       "\n",
       "    Ex-smoker  Never smoked  Currently smokes       age      BASE      week  \\\n",
       "0           1             0                 0  1.638237 -0.636809 -0.876378   \n",
       "1           1             0                 0  1.638237 -0.636809 -0.598597   \n",
       "2           1             0                 0  1.638237 -0.636809 -0.536868   \n",
       "3           1             0                 0  1.638237 -0.636809 -0.475140   \n",
       "4           1             0                 0  1.638237 -0.636809 -0.413411   \n",
       "5           1             0                 0  1.638237 -0.636809 -0.228224   \n",
       "6           1             0                 0  1.638237 -0.636809  0.142150   \n",
       "7           1             0                 0  1.638237 -0.636809  0.512524   \n",
       "8           1             0                 0  1.638237 -0.636809  1.006356   \n",
       "9           1             0                 0  0.050822  1.186333 -0.876378   \n",
       "10          1             0                 0  0.050822  1.186333 -0.845513   \n",
       "11          1             0                 0  0.050822  1.186333 -0.783784   \n",
       "12          1             0                 0  0.050822  1.186333 -0.722055   \n",
       "13          1             0                 0  0.050822  1.186333 -0.660326   \n",
       "14          1             0                 0  0.050822  1.186333 -0.444275   \n",
       "\n",
       "     percent  min_percent  \n",
       "0  -0.970624    -1.275371  \n",
       "1  -1.118062    -1.275371  \n",
       "2  -1.341409    -1.275371  \n",
       "3  -1.220247    -1.275371  \n",
       "4  -1.329731    -1.275371  \n",
       "5  -1.283018    -1.275371  \n",
       "6  -1.430455    -1.275371  \n",
       "7  -1.337029    -1.275371  \n",
       "8  -1.347248    -1.275371  \n",
       "9   0.597388     0.385378  \n",
       "10  0.529800     0.385378  \n",
       "11  0.915049     0.385378  \n",
       "12  0.731211     0.385378  \n",
       "13  0.569001     0.385378  \n",
       "14  0.486544     0.385378  \n",
       "\n",
       "[15 rows x 25 columns]"
      ]
     },
     "execution_count": 30,
     "metadata": {},
     "output_type": "execute_result"
    }
   ],
   "source": [
    "train_df.sort_values(['Patient', 'Weeks']).head(15)"
   ]
  },
  {
   "cell_type": "code",
   "execution_count": 31,
   "metadata": {},
   "outputs": [
    {
     "data": {
      "text/html": [
       "<div>\n",
       "<style scoped>\n",
       "    .dataframe tbody tr th:only-of-type {\n",
       "        vertical-align: middle;\n",
       "    }\n",
       "\n",
       "    .dataframe tbody tr th {\n",
       "        vertical-align: top;\n",
       "    }\n",
       "\n",
       "    .dataframe thead th {\n",
       "        text-align: right;\n",
       "    }\n",
       "</style>\n",
       "<table border=\"1\" class=\"dataframe\">\n",
       "  <thead>\n",
       "    <tr style=\"text-align: right;\">\n",
       "      <th></th>\n",
       "      <th>Male</th>\n",
       "      <th>Female</th>\n",
       "      <th>Ex-smoker</th>\n",
       "      <th>Never smoked</th>\n",
       "      <th>Currently smokes</th>\n",
       "      <th>age</th>\n",
       "      <th>week</th>\n",
       "      <th>BASE</th>\n",
       "      <th>percent</th>\n",
       "    </tr>\n",
       "  </thead>\n",
       "  <tbody>\n",
       "    <tr>\n",
       "      <th>0</th>\n",
       "      <td>1</td>\n",
       "      <td>0</td>\n",
       "      <td>1</td>\n",
       "      <td>0</td>\n",
       "      <td>0</td>\n",
       "      <td>1.638237</td>\n",
       "      <td>-0.876378</td>\n",
       "      <td>-0.636809</td>\n",
       "      <td>-0.970624</td>\n",
       "    </tr>\n",
       "    <tr>\n",
       "      <th>1</th>\n",
       "      <td>1</td>\n",
       "      <td>0</td>\n",
       "      <td>1</td>\n",
       "      <td>0</td>\n",
       "      <td>0</td>\n",
       "      <td>1.638237</td>\n",
       "      <td>-0.598597</td>\n",
       "      <td>-0.636809</td>\n",
       "      <td>-1.118062</td>\n",
       "    </tr>\n",
       "    <tr>\n",
       "      <th>2</th>\n",
       "      <td>1</td>\n",
       "      <td>0</td>\n",
       "      <td>1</td>\n",
       "      <td>0</td>\n",
       "      <td>0</td>\n",
       "      <td>1.638237</td>\n",
       "      <td>-0.536868</td>\n",
       "      <td>-0.636809</td>\n",
       "      <td>-1.341409</td>\n",
       "    </tr>\n",
       "    <tr>\n",
       "      <th>3</th>\n",
       "      <td>1</td>\n",
       "      <td>0</td>\n",
       "      <td>1</td>\n",
       "      <td>0</td>\n",
       "      <td>0</td>\n",
       "      <td>1.638237</td>\n",
       "      <td>-0.475140</td>\n",
       "      <td>-0.636809</td>\n",
       "      <td>-1.220247</td>\n",
       "    </tr>\n",
       "    <tr>\n",
       "      <th>4</th>\n",
       "      <td>1</td>\n",
       "      <td>0</td>\n",
       "      <td>1</td>\n",
       "      <td>0</td>\n",
       "      <td>0</td>\n",
       "      <td>1.638237</td>\n",
       "      <td>-0.413411</td>\n",
       "      <td>-0.636809</td>\n",
       "      <td>-1.329731</td>\n",
       "    </tr>\n",
       "    <tr>\n",
       "      <th>5</th>\n",
       "      <td>1</td>\n",
       "      <td>0</td>\n",
       "      <td>1</td>\n",
       "      <td>0</td>\n",
       "      <td>0</td>\n",
       "      <td>1.638237</td>\n",
       "      <td>-0.228224</td>\n",
       "      <td>-0.636809</td>\n",
       "      <td>-1.283018</td>\n",
       "    </tr>\n",
       "    <tr>\n",
       "      <th>6</th>\n",
       "      <td>1</td>\n",
       "      <td>0</td>\n",
       "      <td>1</td>\n",
       "      <td>0</td>\n",
       "      <td>0</td>\n",
       "      <td>1.638237</td>\n",
       "      <td>0.142150</td>\n",
       "      <td>-0.636809</td>\n",
       "      <td>-1.430455</td>\n",
       "    </tr>\n",
       "    <tr>\n",
       "      <th>7</th>\n",
       "      <td>1</td>\n",
       "      <td>0</td>\n",
       "      <td>1</td>\n",
       "      <td>0</td>\n",
       "      <td>0</td>\n",
       "      <td>1.638237</td>\n",
       "      <td>0.512524</td>\n",
       "      <td>-0.636809</td>\n",
       "      <td>-1.337029</td>\n",
       "    </tr>\n",
       "    <tr>\n",
       "      <th>8</th>\n",
       "      <td>1</td>\n",
       "      <td>0</td>\n",
       "      <td>1</td>\n",
       "      <td>0</td>\n",
       "      <td>0</td>\n",
       "      <td>1.638237</td>\n",
       "      <td>1.006356</td>\n",
       "      <td>-0.636809</td>\n",
       "      <td>-1.347248</td>\n",
       "    </tr>\n",
       "    <tr>\n",
       "      <th>9</th>\n",
       "      <td>1</td>\n",
       "      <td>0</td>\n",
       "      <td>1</td>\n",
       "      <td>0</td>\n",
       "      <td>0</td>\n",
       "      <td>0.050822</td>\n",
       "      <td>-0.876378</td>\n",
       "      <td>1.186333</td>\n",
       "      <td>0.597388</td>\n",
       "    </tr>\n",
       "    <tr>\n",
       "      <th>10</th>\n",
       "      <td>1</td>\n",
       "      <td>0</td>\n",
       "      <td>1</td>\n",
       "      <td>0</td>\n",
       "      <td>0</td>\n",
       "      <td>0.050822</td>\n",
       "      <td>-0.845513</td>\n",
       "      <td>1.186333</td>\n",
       "      <td>0.529800</td>\n",
       "    </tr>\n",
       "    <tr>\n",
       "      <th>11</th>\n",
       "      <td>1</td>\n",
       "      <td>0</td>\n",
       "      <td>1</td>\n",
       "      <td>0</td>\n",
       "      <td>0</td>\n",
       "      <td>0.050822</td>\n",
       "      <td>-0.783784</td>\n",
       "      <td>1.186333</td>\n",
       "      <td>0.915049</td>\n",
       "    </tr>\n",
       "    <tr>\n",
       "      <th>12</th>\n",
       "      <td>1</td>\n",
       "      <td>0</td>\n",
       "      <td>1</td>\n",
       "      <td>0</td>\n",
       "      <td>0</td>\n",
       "      <td>0.050822</td>\n",
       "      <td>-0.722055</td>\n",
       "      <td>1.186333</td>\n",
       "      <td>0.731211</td>\n",
       "    </tr>\n",
       "    <tr>\n",
       "      <th>13</th>\n",
       "      <td>1</td>\n",
       "      <td>0</td>\n",
       "      <td>1</td>\n",
       "      <td>0</td>\n",
       "      <td>0</td>\n",
       "      <td>0.050822</td>\n",
       "      <td>-0.660326</td>\n",
       "      <td>1.186333</td>\n",
       "      <td>0.569001</td>\n",
       "    </tr>\n",
       "    <tr>\n",
       "      <th>14</th>\n",
       "      <td>1</td>\n",
       "      <td>0</td>\n",
       "      <td>1</td>\n",
       "      <td>0</td>\n",
       "      <td>0</td>\n",
       "      <td>0.050822</td>\n",
       "      <td>-0.444275</td>\n",
       "      <td>1.186333</td>\n",
       "      <td>0.486544</td>\n",
       "    </tr>\n",
       "  </tbody>\n",
       "</table>\n",
       "</div>"
      ],
      "text/plain": [
       "    Male  Female  Ex-smoker  Never smoked  Currently smokes       age  \\\n",
       "0      1       0          1             0                 0  1.638237   \n",
       "1      1       0          1             0                 0  1.638237   \n",
       "2      1       0          1             0                 0  1.638237   \n",
       "3      1       0          1             0                 0  1.638237   \n",
       "4      1       0          1             0                 0  1.638237   \n",
       "5      1       0          1             0                 0  1.638237   \n",
       "6      1       0          1             0                 0  1.638237   \n",
       "7      1       0          1             0                 0  1.638237   \n",
       "8      1       0          1             0                 0  1.638237   \n",
       "9      1       0          1             0                 0  0.050822   \n",
       "10     1       0          1             0                 0  0.050822   \n",
       "11     1       0          1             0                 0  0.050822   \n",
       "12     1       0          1             0                 0  0.050822   \n",
       "13     1       0          1             0                 0  0.050822   \n",
       "14     1       0          1             0                 0  0.050822   \n",
       "\n",
       "        week      BASE   percent  \n",
       "0  -0.876378 -0.636809 -0.970624  \n",
       "1  -0.598597 -0.636809 -1.118062  \n",
       "2  -0.536868 -0.636809 -1.341409  \n",
       "3  -0.475140 -0.636809 -1.220247  \n",
       "4  -0.413411 -0.636809 -1.329731  \n",
       "5  -0.228224 -0.636809 -1.283018  \n",
       "6   0.142150 -0.636809 -1.430455  \n",
       "7   0.512524 -0.636809 -1.337029  \n",
       "8   1.006356 -0.636809 -1.347248  \n",
       "9  -0.876378  1.186333  0.597388  \n",
       "10 -0.845513  1.186333  0.529800  \n",
       "11 -0.783784  1.186333  0.915049  \n",
       "12 -0.722055  1.186333  0.731211  \n",
       "13 -0.660326  1.186333  0.569001  \n",
       "14 -0.444275  1.186333  0.486544  "
      ]
     },
     "execution_count": 31,
     "metadata": {},
     "output_type": "execute_result"
    }
   ],
   "source": [
    "X = train_df[FE]\n",
    "X.head(15)"
   ]
  },
  {
   "cell_type": "code",
   "execution_count": 32,
   "metadata": {},
   "outputs": [
    {
     "data": {
      "text/plain": [
       "(1542,)"
      ]
     },
     "execution_count": 32,
     "metadata": {},
     "output_type": "execute_result"
    }
   ],
   "source": [
    "y = train_df['FVC']\n",
    "y.shape"
   ]
  },
  {
   "cell_type": "markdown",
   "metadata": {},
   "source": [
    "#### Seed"
   ]
  },
  {
   "cell_type": "code",
   "execution_count": 33,
   "metadata": {},
   "outputs": [],
   "source": [
    "def seed_everything(seed=2020):\n",
    "    random.seed(seed)\n",
    "    os.environ['PYTHONHASHSEED'] = str(seed)\n",
    "    np.random.seed(seed)\n",
    "    torch.manual_seed(42)\n",
    "    torch.cuda.manual_seed(42)\n",
    "    \n",
    "seed_everything(42)"
   ]
  },
  {
   "cell_type": "markdown",
   "metadata": {},
   "source": [
    "### Create Dataset"
   ]
  },
  {
   "cell_type": "code",
   "execution_count": 34,
   "metadata": {},
   "outputs": [],
   "source": [
    "class ArrayDataset(Dataset):\n",
    "    \n",
    "    def __init__(self, x, y):\n",
    "        self.x, self.y = torch.tensor(x.values, dtype=torch.float32), torch.tensor(y.values, dtype=torch.float32)\n",
    "        assert(len(self.x) == len(self.y))\n",
    "        \n",
    "    def __len__(self):\n",
    "        return len(self.x)\n",
    "    \n",
    "    def __getitem__(self, i):\n",
    "        return self.x[i], self.y[i]\n",
    "    \n",
    "    def __repr__(self):\n",
    "        return f'x: {self.x.shape} y: {self.y.shape}'"
   ]
  },
  {
   "cell_type": "code",
   "execution_count": 35,
   "metadata": {},
   "outputs": [],
   "source": [
    "def create_dl(X, y, batch_size=128, num_workers=10):\n",
    "    ds = ArrayDataset(X, y)\n",
    "    return DataLoader(ds, batch_size, shuffle=True, num_workers=num_workers)"
   ]
  },
  {
   "cell_type": "code",
   "execution_count": 36,
   "metadata": {},
   "outputs": [],
   "source": [
    "sample_dl = create_dl(X, y)"
   ]
  },
  {
   "cell_type": "code",
   "execution_count": 37,
   "metadata": {},
   "outputs": [
    {
     "data": {
      "text/plain": [
       "x: torch.Size([1542, 9]) y: torch.Size([1542])"
      ]
     },
     "execution_count": 37,
     "metadata": {},
     "output_type": "execute_result"
    }
   ],
   "source": [
    "sample_ds = ArrayDataset(X, y)\n",
    "sample_ds"
   ]
  },
  {
   "cell_type": "markdown",
   "metadata": {},
   "source": [
    "### Prepare neural network"
   ]
  },
  {
   "cell_type": "code",
   "execution_count": 38,
   "metadata": {},
   "outputs": [],
   "source": [
    "device = torch.device(\"cuda\" if torch.cuda.is_available() else \"cpu\")\n",
    "\n",
    "def move_to_dev(x, y):\n",
    "    x = x.to(device)\n",
    "    y  = y.to(device)\n",
    "    return x, y"
   ]
  },
  {
   "cell_type": "code",
   "execution_count": 39,
   "metadata": {},
   "outputs": [],
   "source": [
    "C1, C2 = torch.tensor(70, dtype=torch.float32), torch.tensor(1000, dtype=torch.float32)\n",
    "C1, C2 = move_to_dev(C1, C2)\n",
    "q = torch.tensor([0.2, 0.50, 0.8]).float().to(device)\n",
    "\n",
    "def score(y_true, y_pred):\n",
    "    y_true = y_true.unsqueeze(1)\n",
    "    sigma = y_pred[:, 2] - y_pred[:, 0]\n",
    "    fvc_pred = y_pred[:, 1]\n",
    "    \n",
    "    #sigma_clip = sigma + C1\n",
    "    sigma_clip = torch.max(sigma, C1)\n",
    "    delta = torch.abs(y_true[:, 0] - fvc_pred)\n",
    "    delta = torch.min(delta, C2)\n",
    "    sq2 = torch.sqrt(torch.tensor(2.))\n",
    "    metric = (delta / sigma_clip)*sq2 + torch.log(sigma_clip* sq2)\n",
    "    return torch.mean(metric)\n",
    "\n",
    "def qloss(y_true, y_pred):\n",
    "    # Pinball loss for multiple quantiles\n",
    "    e = y_true - y_pred\n",
    "    v = torch.max(q*e, (q-1)*e)\n",
    "    return torch.mean(v)\n",
    "\n",
    "def mloss(_lambda):\n",
    "    def loss(y_pred, y_true):\n",
    "        y_true = y_true.unsqueeze(1)\n",
    "        return _lambda * qloss(y_true, y_pred) + (1 - _lambda)*score(y_true, y_pred)\n",
    "    return loss\n",
    "\n",
    "def laplace_log(y_pred, y_true):\n",
    "    return score(y_true, y_pred)"
   ]
  },
  {
   "cell_type": "code",
   "execution_count": 40,
   "metadata": {},
   "outputs": [],
   "source": [
    "class OsicModel(torch.nn.Module):\n",
    "    def __init__(self, ni, nh1, nh2):\n",
    "        super(OsicModel, self).__init__()\n",
    "        self.l1 = nn.Linear(ni, nh1)\n",
    "        self.l1_bn = nn.BatchNorm1d(nh1, momentum=0.1)\n",
    "        self.l2 = nn.Linear(nh1, nh2)\n",
    "        self.relu = nn.ReLU()\n",
    "        self.p1 = nn.Linear(nh2, 3)\n",
    "        self.p2 = nn.Linear(nh2, 3)\n",
    "        \n",
    "    def forward(self, x):\n",
    "        x = self.relu(self.l1(x))\n",
    "        x = self.l1_bn(x)\n",
    "        x = self.relu(self.l2(x))\n",
    "        p1 = self.p1(x)\n",
    "        p2 = self.relu(self.p2(x))\n",
    "        preds = p1 + torch.cumsum(p2, axis=1)\n",
    "        return preds"
   ]
  },
  {
   "cell_type": "code",
   "execution_count": 41,
   "metadata": {},
   "outputs": [],
   "source": [
    "def create_model(nh1=100, nh2=100):\n",
    "    model = OsicModel(X.shape[1], nh1, nh2)\n",
    "    model = model.to(device)\n",
    "    return model"
   ]
  },
  {
   "cell_type": "code",
   "execution_count": 42,
   "metadata": {},
   "outputs": [
    {
     "data": {
      "text/plain": [
       "OsicModel(\n",
       "  (l1): Linear(in_features=9, out_features=100, bias=True)\n",
       "  (l1_bn): BatchNorm1d(100, eps=1e-05, momentum=0.1, affine=True, track_running_stats=True)\n",
       "  (l2): Linear(in_features=100, out_features=100, bias=True)\n",
       "  (relu): ReLU()\n",
       "  (p1): Linear(in_features=100, out_features=3, bias=True)\n",
       "  (p2): Linear(in_features=100, out_features=3, bias=True)\n",
       ")"
      ]
     },
     "execution_count": 42,
     "metadata": {},
     "output_type": "execute_result"
    }
   ],
   "source": [
    "sample_model = create_model()\n",
    "sample_model"
   ]
  },
  {
   "cell_type": "code",
   "execution_count": 43,
   "metadata": {},
   "outputs": [],
   "source": [
    "criterion=mloss(0.8)"
   ]
  },
  {
   "cell_type": "code",
   "execution_count": 44,
   "metadata": {},
   "outputs": [
    {
     "data": {
      "text/plain": [
       "tensor(1085.7528, device='cuda:0', grad_fn=<AddBackward0>)"
      ]
     },
     "execution_count": 44,
     "metadata": {},
     "output_type": "execute_result"
    }
   ],
   "source": [
    "# Test model\n",
    "x_sample, y_sample = next(iter(sample_dl))\n",
    "y_sample, x_sample = move_to_dev(y_sample, x_sample)\n",
    "output = sample_model(x_sample)\n",
    "criterion(output, y_sample)"
   ]
  },
  {
   "cell_type": "markdown",
   "metadata": {},
   "source": [
    "#### Training functions"
   ]
  },
  {
   "cell_type": "code",
   "execution_count": 45,
   "metadata": {},
   "outputs": [],
   "source": [
    "import fastai.callbacks"
   ]
  },
  {
   "cell_type": "code",
   "execution_count": 46,
   "metadata": {},
   "outputs": [],
   "source": [
    "LR=1e-3\n",
    "learn = Learner(DataBunch.create(sample_ds, sample_ds), sample_model, loss_func=criterion, metrics=laplace_log, silent=True)"
   ]
  },
  {
   "cell_type": "code",
   "execution_count": 47,
   "metadata": {},
   "outputs": [
    {
     "data": {
      "text/html": [],
      "text/plain": [
       "<IPython.core.display.HTML object>"
      ]
     },
     "metadata": {},
     "output_type": "display_data"
    }
   ],
   "source": [
    "learn.fit(100, LR)"
   ]
  },
  {
   "cell_type": "code",
   "execution_count": 48,
   "metadata": {},
   "outputs": [
    {
     "data": {
      "image/png": "[encoded data removed]",
      "text/plain": [
       "<Figure size 432x288 with 1 Axes>"
      ]
     },
     "metadata": {
      "needs_background": "light"
     },
     "output_type": "display_data"
    }
   ],
   "source": [
    "learn.recorder.plot_metrics()"
   ]
  },
  {
   "cell_type": "code",
   "execution_count": 49,
   "metadata": {},
   "outputs": [
    {
     "data": {
      "image/png": "[encoded data removed]",
      "text/plain": [
       "<Figure size 432x288 with 1 Axes>"
      ]
     },
     "metadata": {
      "needs_background": "light"
     },
     "output_type": "display_data"
    }
   ],
   "source": [
    "learn.recorder.plot_losses()"
   ]
  },
  {
   "cell_type": "code",
   "execution_count": 50,
   "metadata": {},
   "outputs": [
    {
     "data": {
      "image/png": "[encoded data removed]",
      "text/plain": [
       "<Figure size 432x288 with 1 Axes>"
      ]
     },
     "metadata": {
      "needs_background": "light"
     },
     "output_type": "display_data"
    }
   ],
   "source": [
    "learn.recorder.plot_lr()"
   ]
  },
  {
   "cell_type": "code",
   "execution_count": 73,
   "metadata": {},
   "outputs": [
    {
     "data": {
      "text/plain": [
       "6.803339958190918"
      ]
     },
     "execution_count": 73,
     "metadata": {},
     "output_type": "execute_result"
    }
   ],
   "source": [
    "def get_last_metric(recorder):\n",
    "    return recorder.metrics[-1][0].item()\n",
    "\n",
    "get_last_metric(learn.recorder)"
   ]
  },
  {
   "cell_type": "markdown",
   "metadata": {},
   "source": [
    "#### Training"
   ]
  },
  {
   "cell_type": "code",
   "execution_count": 111,
   "metadata": {},
   "outputs": [],
   "source": [
    "NFOLD = 5\n",
    "kf = KFold(n_splits=NFOLD)\n",
    "EPOCHS=100"
   ]
  },
  {
   "cell_type": "code",
   "execution_count": 102,
   "metadata": {},
   "outputs": [],
   "source": [
    "def convert_to_tensor(df):\n",
    "    return torch.tensor(df.values, dtype=torch.float32).to(device)"
   ]
  },
  {
   "cell_type": "code",
   "execution_count": 103,
   "metadata": {},
   "outputs": [],
   "source": [
    "submission_patients = submission_df['Patient']\n",
    "submission_df['dummy_FVC'] = 0.0"
   ]
  },
  {
   "cell_type": "code",
   "execution_count": 104,
   "metadata": {},
   "outputs": [],
   "source": [
    "submission_dl = create_dl(submission_df[FE], pd.Series(np.zeros(submission_df[FE].shape[0])))"
   ]
  },
  {
   "cell_type": "code",
   "execution_count": 105,
   "metadata": {},
   "outputs": [
    {
     "data": {
      "text/plain": [
       "(torch.Size([128, 9]), torch.Size([128]))"
      ]
     },
     "execution_count": 105,
     "metadata": {},
     "output_type": "execute_result"
    }
   ],
   "source": [
    "x_sample, y_sample = next(iter(submission_dl))\n",
    "x_sample.shape, y_sample.shape"
   ]
  },
  {
   "cell_type": "code",
   "execution_count": 106,
   "metadata": {},
   "outputs": [
    {
     "data": {
      "text/plain": [
       "(1542, 3)"
      ]
     },
     "execution_count": 106,
     "metadata": {},
     "output_type": "execute_result"
    }
   ],
   "source": [
    "pe = np.zeros((submission_df.shape[0], 3))\n",
    "pred = np.zeros((train_df.shape[0], 3))\n",
    "pred.shape"
   ]
  },
  {
   "cell_type": "code",
   "execution_count": 107,
   "metadata": {},
   "outputs": [
    {
     "data": {
      "text/plain": [
       "torch.Size([730, 9])"
      ]
     },
     "execution_count": 107,
     "metadata": {},
     "output_type": "execute_result"
    }
   ],
   "source": [
    "test_values = convert_to_tensor(submission_df[FE])\n",
    "test_values.shape"
   ]
  },
  {
   "cell_type": "code",
   "execution_count": 108,
   "metadata": {},
   "outputs": [],
   "source": [
    "def predict(features, model):\n",
    "    return model(features).detach().cpu().numpy()"
   ]
  },
  {
   "cell_type": "code",
   "execution_count": 116,
   "metadata": {},
   "outputs": [
    {
     "data": {
      "application/vnd.jupyter.widget-view+json": {
       "model_id": "f20eaab3e2d2459fbd571ae3b7f2fdcb",
       "version_major": 2,
       "version_minor": 0
      },
      "text/plain": [
       "HBox(children=(FloatProgress(value=0.0, max=5.0), HTML(value='')))"
      ]
     },
     "metadata": {},
     "output_type": "display_data"
    },
    {
     "name": "stdout",
     "output_type": "stream",
     "text": [
      "FOLD 0 (1233, 9) (1233,) (309, 9) (309,)\n"
     ]
    },
    {
     "data": {
      "text/html": [],
      "text/plain": [
       "<IPython.core.display.HTML object>"
      ]
     },
     "metadata": {},
     "output_type": "display_data"
    },
    {
     "name": "stdout",
     "output_type": "stream",
     "text": [
      "FOLD 1 (1233, 9) (1233,) (309, 9) (309,)\n"
     ]
    },
    {
     "data": {
      "text/html": [],
      "text/plain": [
       "<IPython.core.display.HTML object>"
      ]
     },
     "metadata": {},
     "output_type": "display_data"
    },
    {
     "name": "stdout",
     "output_type": "stream",
     "text": [
      "FOLD 2 (1234, 9) (1234,) (308, 9) (308,)\n"
     ]
    },
    {
     "data": {
      "text/html": [],
      "text/plain": [
       "<IPython.core.display.HTML object>"
      ]
     },
     "metadata": {},
     "output_type": "display_data"
    },
    {
     "name": "stdout",
     "output_type": "stream",
     "text": [
      "FOLD 3 (1234, 9) (1234,) (308, 9) (308,)\n"
     ]
    },
    {
     "data": {
      "text/html": [],
      "text/plain": [
       "<IPython.core.display.HTML object>"
      ]
     },
     "metadata": {},
     "output_type": "display_data"
    },
    {
     "name": "stdout",
     "output_type": "stream",
     "text": [
      "FOLD 4 (1234, 9) (1234,) (308, 9) (308,)\n"
     ]
    },
    {
     "data": {
      "text/html": [],
      "text/plain": [
       "<IPython.core.display.HTML object>"
      ]
     },
     "metadata": {},
     "output_type": "display_data"
    },
    {
     "name": "stdout",
     "output_type": "stream",
     "text": [
      "\n",
      "CPU times: user 53.1 s, sys: 3min 59s, total: 4min 52s\n",
      "Wall time: 5min 15s\n"
     ]
    }
   ],
   "source": [
    "%%time\n",
    "\n",
    "recorders = []\n",
    "for cnt, (tr_idx, val_idx) in tqdm(enumerate(kf.split(X)), total=NFOLD):\n",
    "    X_train, y_train = X.loc[tr_idx], y[tr_idx]\n",
    "    X_valid, y_valid = X.loc[val_idx], y[val_idx]\n",
    "    print(f\"FOLD {cnt}\", X_train.shape, y_train.shape, X_valid.shape, y_valid.shape)\n",
    "    model = create_model()\n",
    "    train_ds = ArrayDataset(X_train, y_train)\n",
    "    valid_ds = ArrayDataset(X_valid, y_valid)\n",
    "    learn = Learner(DataBunch.create(train_ds, valid_ds), model, loss_func=criterion, metrics=laplace_log, silent=True)\n",
    "    learn.fit(EPOCHS, LR, callbacks=[fastai.callbacks.OneCycleScheduler(lr_max = LR * 4, learn=learn)])\n",
    "    recorders.append(learn.recorder)\n",
    "    pred[val_idx] = predict(convert_to_tensor(X_valid), model)"
   ]
  },
  {
   "cell_type": "code",
   "execution_count": 118,
   "metadata": {},
   "outputs": [
    {
     "name": "stdout",
     "output_type": "stream",
     "text": [
      "Mean validation score: 6.753117084503174\n"
     ]
    }
   ],
   "source": [
    "print(\"Mean validation score:\", np.array([get_last_metric(recorder) for recorder in recorders]).mean())"
   ]
  },
  {
   "cell_type": "code",
   "execution_count": 112,
   "metadata": {},
   "outputs": [
    {
     "data": {
      "text/plain": [
       "['ActivationStats',\n",
       " 'CSVLogger',\n",
       " 'EarlyStoppingCallback',\n",
       " 'FlatCosAnnealScheduler',\n",
       " 'GeneralScheduler',\n",
       " 'Hook',\n",
       " 'HookCallback',\n",
       " 'Hooks',\n",
       " 'LRFinder',\n",
       " 'LossMetrics',\n",
       " 'MixUpCallback',\n",
       " 'MixUpLoss',\n",
       " 'MixedPrecision',\n",
       " 'OneCycleScheduler',\n",
       " 'OverSamplingCallback',\n",
       " 'RNNTrainer',\n",
       " 'ReduceLROnPlateauCallback',\n",
       " 'SaveModelCallback',\n",
       " 'TerminateOnNaNCallback',\n",
       " 'TrackEpochCallback',\n",
       " 'TrackerCallback',\n",
       " 'TrainingPhase',\n",
       " '__all__',\n",
       " '__builtins__',\n",
       " '__cached__',\n",
       " '__doc__',\n",
       " '__file__',\n",
       " '__loader__',\n",
       " '__name__',\n",
       " '__package__',\n",
       " '__path__',\n",
       " '__spec__',\n",
       " 'csv_logger',\n",
       " 'dummy_batch',\n",
       " 'dummy_eval',\n",
       " 'flat_cos_anneal',\n",
       " 'fp16',\n",
       " 'general_sched',\n",
       " 'hook_output',\n",
       " 'hook_outputs',\n",
       " 'hooks',\n",
       " 'loss_metrics',\n",
       " 'lr_finder',\n",
       " 'mixup',\n",
       " 'model_sizes',\n",
       " 'model_summary',\n",
       " 'num_features_model',\n",
       " 'one_cycle',\n",
       " 'oversampling',\n",
       " 'rnn',\n",
       " 'tracker']"
      ]
     },
     "execution_count": 112,
     "metadata": {},
     "output_type": "execute_result"
    }
   ],
   "source": [
    "torch.optim.AdamW"
   ]
  },
  {
   "cell_type": "code",
   "execution_count": 96,
   "metadata": {},
   "outputs": [
    {
     "data": {
      "image/png": "[encoded data removed]",
      "text/plain": [
       "<Figure size 432x288 with 1 Axes>"
      ]
     },
     "metadata": {
      "needs_background": "light"
     },
     "output_type": "display_data"
    },
    {
     "data": {
      "image/png": "[encoded data removed]",
      "text/plain": [
       "<Figure size 432x288 with 1 Axes>"
      ]
     },
     "metadata": {
      "needs_background": "light"
     },
     "output_type": "display_data"
    },
    {
     "data": {
      "image/png": "[encoded data removed]",
      "text/plain": [
       "<Figure size 432x288 with 1 Axes>"
      ]
     },
     "metadata": {
      "needs_background": "light"
     },
     "output_type": "display_data"
    },
    {
     "data": {
      "image/png": "[encoded data removed]",
      "text/plain": [
       "<Figure size 432x288 with 1 Axes>"
      ]
     },
     "metadata": {
      "needs_background": "light"
     },
     "output_type": "display_data"
    },
    {
     "data": {
      "image/png": "[encoded data removed]",
      "text/plain": [
       "<Figure size 432x288 with 1 Axes>"
      ]
     },
     "metadata": {
      "needs_background": "light"
     },
     "output_type": "display_data"
    }
   ],
   "source": [
    "for recorder in recorders:\n",
    "    recorder.plot_losses()"
   ]
  },
  {
   "cell_type": "code",
   "execution_count": 97,
   "metadata": {},
   "outputs": [
    {
     "data": {
      "image/png": "[encoded data removed]",
      "text/plain": [
       "<Figure size 432x288 with 1 Axes>"
      ]
     },
     "metadata": {
      "needs_background": "light"
     },
     "output_type": "display_data"
    },
    {
     "data": {
      "image/png": "[encoded data removed]",
      "text/plain": [
       "<Figure size 432x288 with 1 Axes>"
      ]
     },
     "metadata": {
      "needs_background": "light"
     },
     "output_type": "display_data"
    },
    {
     "data": {
      "image/png": "[encoded data removed]",
      "text/plain": [
       "<Figure size 432x288 with 1 Axes>"
      ]
     },
     "metadata": {
      "needs_background": "light"
     },
     "output_type": "display_data"
    },
    {
     "data": {
      "image/png": "[encoded data removed]",
      "text/plain": [
       "<Figure size 432x288 with 1 Axes>"
      ]
     },
     "metadata": {
      "needs_background": "light"
     },
     "output_type": "display_data"
    },
    {
     "data": {
      "image/png": "[encoded data removed]",
      "text/plain": [
       "<Figure size 432x288 with 1 Axes>"
      ]
     },
     "metadata": {
      "needs_background": "light"
     },
     "output_type": "display_data"
    }
   ],
   "source": [
    "for recorder in recorders:\n",
    "    recorder.plot_metrics()"
   ]
  },
  {
   "cell_type": "code",
   "execution_count": null,
   "metadata": {},
   "outputs": [],
   "source": [
    "def load_best_model(i):\n",
    "    model_file = model_path/f'best_model_simple_{i}.pt'\n",
    "    model = create_model()\n",
    "    model.load_state_dict(torch.load(model_file))\n",
    "    model.to(device)\n",
    "    model.eval()\n",
    "    return model"
   ]
  },
  {
   "cell_type": "code",
   "execution_count": null,
   "metadata": {},
   "outputs": [],
   "source": [
    "# Using best models for prediction\n",
    "pe = np.zeros((submission_df.shape[0], 3))\n",
    "for i in range(NFOLD):\n",
    "    model = load_best_model(i)\n",
    "    pe += predict(test_values, model)\n",
    "pe = pe / NFOLD"
   ]
  },
  {
   "cell_type": "markdown",
   "metadata": {},
   "source": [
    "#### Prediction"
   ]
  },
  {
   "cell_type": "code",
   "execution_count": null,
   "metadata": {},
   "outputs": [],
   "source": [
    "sigma_opt = mean_absolute_error(y, pred[:, 1])\n",
    "unc = pred[:,2] - pred[:, 0]\n",
    "sigma_mean = np.mean(unc)\n",
    "sigma_opt, sigma_mean"
   ]
  },
  {
   "cell_type": "code",
   "execution_count": null,
   "metadata": {},
   "outputs": [],
   "source": [
    "submission_df['FVC1'] = pe[:,1]\n",
    "submission_df['Confidence1'] = pe[:, 2] - pe[:, 0]"
   ]
  },
  {
   "cell_type": "code",
   "execution_count": null,
   "metadata": {},
   "outputs": [],
   "source": [
    "submission_df.head(15)"
   ]
  },
  {
   "cell_type": "code",
   "execution_count": null,
   "metadata": {},
   "outputs": [],
   "source": [
    "subm = submission_df[['Patient_Week','FVC','Confidence','FVC1','Confidence1']].copy()"
   ]
  },
  {
   "cell_type": "code",
   "execution_count": null,
   "metadata": {},
   "outputs": [],
   "source": [
    "subm.loc[~subm.FVC1.isnull()].shape, subm.shape"
   ]
  },
  {
   "cell_type": "code",
   "execution_count": null,
   "metadata": {},
   "outputs": [],
   "source": [
    "subm.loc[~subm.FVC1.isnull(),'FVC'] = subm.loc[~subm.FVC1.isnull(),'FVC1']"
   ]
  },
  {
   "cell_type": "code",
   "execution_count": null,
   "metadata": {},
   "outputs": [],
   "source": [
    "if sigma_mean<70:\n",
    "    subm['Confidence'] = sigma_opt\n",
    "else:\n",
    "    subm.loc[~subm.FVC1.isnull(),'Confidence'] = subm.loc[~subm.FVC1.isnull(),'Confidence1']"
   ]
  },
  {
   "cell_type": "code",
   "execution_count": null,
   "metadata": {},
   "outputs": [],
   "source": [
    "subm.describe().T"
   ]
  },
  {
   "cell_type": "code",
   "execution_count": null,
   "metadata": {},
   "outputs": [],
   "source": [
    "def replace_with_existing(df):\n",
    "    for i in range(len(df)):\n",
    "        patient_week_filter = subm['Patient_Week']==df.Patient[i]+'_'+str(df.Weeks[i])\n",
    "        subm.loc[patient_week_filter, 'FVC'] = df.FVC[i]\n",
    "        subm.loc[patient_week_filter, 'Confidence'] = 0.1\n",
    "\n",
    "train_df = pd.read_csv(path/'train.csv', dtype = common.TRAIN_TYPES)\n",
    "test_df = pd.read_csv(path/'test.csv', dtype = common.TRAIN_TYPES)\n",
    "replace_with_existing(train_df)\n",
    "replace_with_existing(test_df)"
   ]
  },
  {
   "cell_type": "code",
   "execution_count": null,
   "metadata": {},
   "outputs": [],
   "source": [
    "subm[subm['Patient_Week'].str.find('ID00419637202311204720264') > -1].head(30)"
   ]
  },
  {
   "cell_type": "code",
   "execution_count": null,
   "metadata": {},
   "outputs": [],
   "source": [
    "subm[[\"Patient_Week\",\"FVC\",\"Confidence\"]].to_csv(\"submission.csv\", index=False)"
   ]
  },
  {
   "cell_type": "code",
   "execution_count": null,
   "metadata": {},
   "outputs": [],
   "source": [
    "submission_final_df = pd.read_csv('submission.csv')"
   ]
  },
  {
   "cell_type": "code",
   "execution_count": null,
   "metadata": {},
   "outputs": [],
   "source": [
    "submission_final_df[submission_final_df['Patient_Week'].str.find('ID00419637202311204720264') == 0]['FVC'].plot()"
   ]
  },
  {
   "cell_type": "code",
   "execution_count": null,
   "metadata": {},
   "outputs": [],
   "source": [
    "submission_final_df[submission_final_df['Patient_Week'].str.find('ID00421637202311550012437') == 0]['FVC'].plot()"
   ]
  },
  {
   "cell_type": "code",
   "execution_count": null,
   "metadata": {},
   "outputs": [],
   "source": [
    "submission_final_df[submission_final_df['Patient_Week'].str.find('ID00423637202312137826377') == 0]['FVC'].plot()"
   ]
  },
  {
   "cell_type": "code",
   "execution_count": null,
   "metadata": {},
   "outputs": [],
   "source": [
    "train_df[train_df['Patient'].str.find('ID00419637202311204720264') == 0][['Weeks', 'FVC']].plot(x='Weeks', y='FVC')"
   ]
  },
  {
   "cell_type": "code",
   "execution_count": null,
   "metadata": {},
   "outputs": [],
   "source": [
    "!cat submission.csv"
   ]
  },
  {
   "cell_type": "code",
   "execution_count": null,
   "metadata": {},
   "outputs": [],
   "source": []
  }
 ],
 "metadata": {
  "kernelspec": {
   "display_name": "Python 3",
   "language": "python",
   "name": "python3"
  },
  "language_info": {
   "codemirror_mode": {
    "name": "ipython",
    "version": 3
   },
   "file_extension": ".py",
   "mimetype": "text/x-python",
   "name": "python",
   "nbconvert_exporter": "python",
   "pygments_lexer": "ipython3",
   "version": "3.7.7"
  }
 },
 "nbformat": 4,
 "nbformat_minor": 4
}
