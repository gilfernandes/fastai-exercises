{
 "cells": [
  {
   "cell_type": "code",
   "execution_count": 2,
   "metadata": {},
   "outputs": [],
   "source": [
    "%reload_ext autoreload\n",
    "%autoreload 2"
   ]
  },
  {
   "cell_type": "code",
   "execution_count": 3,
   "metadata": {},
   "outputs": [],
   "source": [
    "from fastai.tabular import *"
   ]
  },
  {
   "cell_type": "code",
   "execution_count": 4,
   "metadata": {},
   "outputs": [],
   "source": [
    "from pathlib import Path"
   ]
  },
  {
   "cell_type": "code",
   "execution_count": 5,
   "metadata": {},
   "outputs": [],
   "source": [
    "path = Path('/root/.fastai/dataautovista_tabular')"
   ]
  },
  {
   "cell_type": "code",
   "execution_count": 6,
   "metadata": {},
   "outputs": [
    {
     "data": {
      "text/plain": [
       "PosixPath('/root/.fastai/dataautovista_tabular')"
      ]
     },
     "execution_count": 6,
     "metadata": {},
     "output_type": "execute_result"
    }
   ],
   "source": [
    "path"
   ]
  },
  {
   "cell_type": "code",
   "execution_count": 7,
   "metadata": {},
   "outputs": [],
   "source": [
    "df = pd.read_csv(path/'autoscout.it-2019-07-31-0200.csv.extract.csv', sep='|')"
   ]
  },
  {
   "cell_type": "code",
   "execution_count": 8,
   "metadata": {},
   "outputs": [],
   "source": [
    "df = df[df['VehicleCategory'] == 'Car']"
   ]
  },
  {
   "cell_type": "code",
   "execution_count": 9,
   "metadata": {},
   "outputs": [],
   "source": [
    "df['FiscalHorsePower'] = df['FiscalHorsePower'].replace({'[^\\d]+' : ''}, regex=True)\n",
    "df['FiscalHorsePower'] = pd.to_numeric(df['FiscalHorsePower'])"
   ]
  },
  {
   "cell_type": "code",
   "execution_count": 10,
   "metadata": {
    "scrolled": true
   },
   "outputs": [
    {
     "data": {
      "text/html": [
       "<div>\n",
       "<style scoped>\n",
       "    .dataframe tbody tr th:only-of-type {\n",
       "        vertical-align: middle;\n",
       "    }\n",
       "\n",
       "    .dataframe tbody tr th {\n",
       "        vertical-align: top;\n",
       "    }\n",
       "\n",
       "    .dataframe thead th {\n",
       "        text-align: right;\n",
       "    }\n",
       "</style>\n",
       "<table border=\"1\" class=\"dataframe\">\n",
       "  <thead>\n",
       "    <tr style=\"text-align: right;\">\n",
       "      <th></th>\n",
       "      <th>CountryCode</th>\n",
       "      <th>LanguageCode</th>\n",
       "      <th>Town</th>\n",
       "      <th>RegistrationDate</th>\n",
       "      <th>YearOfManufacture</th>\n",
       "      <th>Make</th>\n",
       "      <th>Model</th>\n",
       "      <th>Type</th>\n",
       "      <th>Trim</th>\n",
       "      <th>FuelType</th>\n",
       "      <th>...</th>\n",
       "      <th>MILEAGE</th>\n",
       "      <th>MileageUnits</th>\n",
       "      <th>PRICE</th>\n",
       "      <th>NumberOfOwners</th>\n",
       "      <th>FourWheelDrive</th>\n",
       "      <th>OPTIONS</th>\n",
       "      <th>VehicleCategory</th>\n",
       "      <th>CO2Emissions</th>\n",
       "      <th>FiscalHorsePower</th>\n",
       "      <th>Seats</th>\n",
       "    </tr>\n",
       "  </thead>\n",
       "  <tbody>\n",
       "    <tr>\n",
       "      <th>0</th>\n",
       "      <td>IT</td>\n",
       "      <td>ITIT</td>\n",
       "      <td>Milano - Mi</td>\n",
       "      <td>1.498864e+09</td>\n",
       "      <td>2017</td>\n",
       "      <td>Porsche</td>\n",
       "      <td>911</td>\n",
       "      <td>3.0 Carrera 4S Cabriolet</td>\n",
       "      <td>NaN</td>\n",
       "      <td>Benzina</td>\n",
       "      <td>...</td>\n",
       "      <td>10360.0</td>\n",
       "      <td>KM</td>\n",
       "      <td>118900.0</td>\n",
       "      <td>0</td>\n",
       "      <td>1.0</td>\n",
       "      <td>Climatizzatore,Volante in pelle,Volante riscal...</td>\n",
       "      <td>Car</td>\n",
       "      <td>208.0</td>\n",
       "      <td>420.0</td>\n",
       "      <td>4.0</td>\n",
       "    </tr>\n",
       "    <tr>\n",
       "      <th>1</th>\n",
       "      <td>IT</td>\n",
       "      <td>ITIT</td>\n",
       "      <td>Busto Arsizio</td>\n",
       "      <td>1.548979e+09</td>\n",
       "      <td>2019</td>\n",
       "      <td>Fiat</td>\n",
       "      <td>500</td>\n",
       "      <td>1.2 S</td>\n",
       "      <td>NaN</td>\n",
       "      <td>Benzina</td>\n",
       "      <td>...</td>\n",
       "      <td>2200.0</td>\n",
       "      <td>KM</td>\n",
       "      <td>10500.0</td>\n",
       "      <td>0</td>\n",
       "      <td>NaN</td>\n",
       "      <td>Vetri oscurati,Volante in pelle,Start/Stop Aut...</td>\n",
       "      <td>Car</td>\n",
       "      <td>123.0</td>\n",
       "      <td>69.0</td>\n",
       "      <td>4.0</td>\n",
       "    </tr>\n",
       "    <tr>\n",
       "      <th>2</th>\n",
       "      <td>IT</td>\n",
       "      <td>ITIT</td>\n",
       "      <td>Vigorovea, Sant'Angelo di Piove di Sacco- Pd</td>\n",
       "      <td>1.296518e+09</td>\n",
       "      <td>2011</td>\n",
       "      <td>Dacia</td>\n",
       "      <td>Duster</td>\n",
       "      <td>1.5 dCi 110CV 4x2 Lauréate</td>\n",
       "      <td>NaN</td>\n",
       "      <td>Diesel</td>\n",
       "      <td>...</td>\n",
       "      <td>149000.0</td>\n",
       "      <td>KM</td>\n",
       "      <td>6290.0</td>\n",
       "      <td>0</td>\n",
       "      <td>0.0</td>\n",
       "      <td>Climatizzatore,Alzacristalli elettrici,Autorad...</td>\n",
       "      <td>Car</td>\n",
       "      <td>135.0</td>\n",
       "      <td>110.0</td>\n",
       "      <td>5.0</td>\n",
       "    </tr>\n",
       "    <tr>\n",
       "      <th>3</th>\n",
       "      <td>IT</td>\n",
       "      <td>ITIT</td>\n",
       "      <td>Genova - Ge</td>\n",
       "      <td>1.275347e+09</td>\n",
       "      <td>2010</td>\n",
       "      <td>Volkswagen</td>\n",
       "      <td>Tiguan</td>\n",
       "      <td>4Motion Sport&amp;Style</td>\n",
       "      <td>NaN</td>\n",
       "      <td>Diesel</td>\n",
       "      <td>...</td>\n",
       "      <td>121000.0</td>\n",
       "      <td>KM</td>\n",
       "      <td>9800.0</td>\n",
       "      <td>0</td>\n",
       "      <td>1.0</td>\n",
       "      <td>Hill Holder,Sensore di luminosità,Climatizzato...</td>\n",
       "      <td>Car</td>\n",
       "      <td>0.0</td>\n",
       "      <td>140.0</td>\n",
       "      <td>5.0</td>\n",
       "    </tr>\n",
       "    <tr>\n",
       "      <th>4</th>\n",
       "      <td>IT</td>\n",
       "      <td>ITIT</td>\n",
       "      <td>Bologna - Bo</td>\n",
       "      <td>0.000000e+00</td>\n",
       "      <td>0</td>\n",
       "      <td>Opel</td>\n",
       "      <td>Mokka</td>\n",
       "      <td>X 1.6 CDTI Ecotec 136CV 4x2 Start&amp;Stop Vision</td>\n",
       "      <td>NaN</td>\n",
       "      <td>Diesel</td>\n",
       "      <td>...</td>\n",
       "      <td>0.0</td>\n",
       "      <td>KM</td>\n",
       "      <td>22500.0</td>\n",
       "      <td>0</td>\n",
       "      <td>0.0</td>\n",
       "      <td>Climatizzatore,Cruise Control,Alzacristalli el...</td>\n",
       "      <td>Car</td>\n",
       "      <td>131.0</td>\n",
       "      <td>136.0</td>\n",
       "      <td>5.0</td>\n",
       "    </tr>\n",
       "  </tbody>\n",
       "</table>\n",
       "<p>5 rows × 23 columns</p>\n",
       "</div>"
      ],
      "text/plain": [
       "  CountryCode LanguageCode                                          Town  \\\n",
       "0          IT         ITIT                                   Milano - Mi   \n",
       "1          IT         ITIT                                 Busto Arsizio   \n",
       "2          IT         ITIT  Vigorovea, Sant'Angelo di Piove di Sacco- Pd   \n",
       "3          IT         ITIT                                   Genova - Ge   \n",
       "4          IT         ITIT                                  Bologna - Bo   \n",
       "\n",
       "   RegistrationDate  YearOfManufacture        Make   Model  \\\n",
       "0      1.498864e+09               2017     Porsche     911   \n",
       "1      1.548979e+09               2019        Fiat     500   \n",
       "2      1.296518e+09               2011       Dacia  Duster   \n",
       "3      1.275347e+09               2010  Volkswagen  Tiguan   \n",
       "4      0.000000e+00                  0        Opel   Mokka   \n",
       "\n",
       "                                            Type  Trim FuelType  ...  \\\n",
       "0                       3.0 Carrera 4S Cabriolet   NaN  Benzina  ...   \n",
       "1                                          1.2 S   NaN  Benzina  ...   \n",
       "2                     1.5 dCi 110CV 4x2 Lauréate   NaN   Diesel  ...   \n",
       "3                            4Motion Sport&Style   NaN   Diesel  ...   \n",
       "4  X 1.6 CDTI Ecotec 136CV 4x2 Start&Stop Vision   NaN   Diesel  ...   \n",
       "\n",
       "    MILEAGE  MileageUnits     PRICE  NumberOfOwners FourWheelDrive  \\\n",
       "0   10360.0            KM  118900.0               0            1.0   \n",
       "1    2200.0            KM   10500.0               0            NaN   \n",
       "2  149000.0            KM    6290.0               0            0.0   \n",
       "3  121000.0            KM    9800.0               0            1.0   \n",
       "4       0.0            KM   22500.0               0            0.0   \n",
       "\n",
       "                                             OPTIONS  VehicleCategory  \\\n",
       "0  Climatizzatore,Volante in pelle,Volante riscal...              Car   \n",
       "1  Vetri oscurati,Volante in pelle,Start/Stop Aut...              Car   \n",
       "2  Climatizzatore,Alzacristalli elettrici,Autorad...              Car   \n",
       "3  Hill Holder,Sensore di luminosità,Climatizzato...              Car   \n",
       "4  Climatizzatore,Cruise Control,Alzacristalli el...              Car   \n",
       "\n",
       "   CO2Emissions FiscalHorsePower Seats  \n",
       "0         208.0            420.0   4.0  \n",
       "1         123.0             69.0   4.0  \n",
       "2         135.0            110.0   5.0  \n",
       "3           0.0            140.0   5.0  \n",
       "4         131.0            136.0   5.0  \n",
       "\n",
       "[5 rows x 23 columns]"
      ]
     },
     "execution_count": 10,
     "metadata": {},
     "output_type": "execute_result"
    }
   ],
   "source": [
    "df.head()"
   ]
  },
  {
   "cell_type": "code",
   "execution_count": 11,
   "metadata": {},
   "outputs": [
    {
     "data": {
      "text/plain": [
       "(418425, 23)"
      ]
     },
     "execution_count": 11,
     "metadata": {},
     "output_type": "execute_result"
    }
   ],
   "source": [
    "df.shape"
   ]
  },
  {
   "cell_type": "code",
   "execution_count": 12,
   "metadata": {},
   "outputs": [
    {
     "data": {
      "text/plain": [
       "array([ 420.,   69.,  110.,  140., ...,  339.,  598., 2484., 1043.])"
      ]
     },
     "execution_count": 12,
     "metadata": {},
     "output_type": "execute_result"
    }
   ],
   "source": [
    "df['FiscalHorsePower'].unique()"
   ]
  },
  {
   "cell_type": "code",
   "execution_count": 13,
   "metadata": {},
   "outputs": [],
   "source": [
    "dep_var = 'PRICE'\n",
    "cat_names = ['Make', 'Model', 'Trim', 'FuelType', 'BodyType', 'DOORS', 'Type', 'FourWheelDrive', 'Seats']\n",
    "cont_names = ['RegistrationDate', 'YearOfManufacture', 'EngineSize', 'MILEAGE', 'FiscalHorsePower']\n",
    "procs = [FillMissing, Categorify, Normalize]"
   ]
  },
  {
   "cell_type": "code",
   "execution_count": 14,
   "metadata": {},
   "outputs": [
    {
     "data": {
      "text/plain": [
       "41842.5"
      ]
     },
     "execution_count": 14,
     "metadata": {},
     "output_type": "execute_result"
    }
   ],
   "source": [
    "df.shape[0] * 0.1"
   ]
  },
  {
   "cell_type": "code",
   "execution_count": 15,
   "metadata": {},
   "outputs": [],
   "source": [
    "range_start = 10000\n",
    "range_end = int(10000 + df.shape[0] * 0.1)"
   ]
  },
  {
   "cell_type": "code",
   "execution_count": 16,
   "metadata": {},
   "outputs": [],
   "source": [
    "test = TabularList.from_df(df.iloc[range_start:range_end].copy(), path=path, cat_names=cat_names, cont_names=cont_names)"
   ]
  },
  {
   "cell_type": "code",
   "execution_count": 17,
   "metadata": {},
   "outputs": [],
   "source": [
    "data = (TabularList.from_df(df, path=path, cat_names=cat_names, cont_names=cont_names, procs=procs)\n",
    "                           .split_by_idx(list(range(range_start,range_end)))\n",
    "                           .label_from_df(cols=dep_var, label_cls=FloatList, log=True)\n",
    "                           .add_test(test)\n",
    "                           .databunch())"
   ]
  },
  {
   "cell_type": "code",
   "execution_count": 18,
   "metadata": {},
   "outputs": [
    {
     "data": {
      "text/html": [
       "<table border=\"1\" class=\"dataframe\">\n",
       "  <thead>\n",
       "    <tr style=\"text-align: right;\">\n",
       "      <th>Make</th>\n",
       "      <th>Model</th>\n",
       "      <th>Trim</th>\n",
       "      <th>FuelType</th>\n",
       "      <th>BodyType</th>\n",
       "      <th>DOORS</th>\n",
       "      <th>Type</th>\n",
       "      <th>FourWheelDrive</th>\n",
       "      <th>Seats</th>\n",
       "      <th>EngineSize_na</th>\n",
       "      <th>FiscalHorsePower_na</th>\n",
       "      <th>RegistrationDate</th>\n",
       "      <th>YearOfManufacture</th>\n",
       "      <th>EngineSize</th>\n",
       "      <th>MILEAGE</th>\n",
       "      <th>FiscalHorsePower</th>\n",
       "      <th>target</th>\n",
       "    </tr>\n",
       "  </thead>\n",
       "  <tbody>\n",
       "    <tr>\n",
       "      <td>Jeep</td>\n",
       "      <td>Renegade</td>\n",
       "      <td>#na#</td>\n",
       "      <td>Benzina</td>\n",
       "      <td>SUV/Fuoristrada/Pick-up</td>\n",
       "      <td>5.0</td>\n",
       "      <td>1.0 t3 Longitude fwd</td>\n",
       "      <td>0.0</td>\n",
       "      <td>5.0</td>\n",
       "      <td>False</td>\n",
       "      <td>False</td>\n",
       "      <td>0.7613</td>\n",
       "      <td>0.2560</td>\n",
       "      <td>-1.1727</td>\n",
       "      <td>-0.0187</td>\n",
       "      <td>-0.1964</td>\n",
       "      <td>9.846917</td>\n",
       "    </tr>\n",
       "    <tr>\n",
       "      <td>Dodge</td>\n",
       "      <td>RAM</td>\n",
       "      <td>#na#</td>\n",
       "      <td>Benzina</td>\n",
       "      <td>SUV/Fuoristrada/Pick-up</td>\n",
       "      <td>5.0</td>\n",
       "      <td>LongBed Laramie 6.4 box DETRAZIONE 130%</td>\n",
       "      <td>1.0</td>\n",
       "      <td>5.0</td>\n",
       "      <td>False</td>\n",
       "      <td>False</td>\n",
       "      <td>-3.1836</td>\n",
       "      <td>-4.1654</td>\n",
       "      <td>6.0022</td>\n",
       "      <td>-0.0187</td>\n",
       "      <td>3.8205</td>\n",
       "      <td>10.757903</td>\n",
       "    </tr>\n",
       "    <tr>\n",
       "      <td>Audi</td>\n",
       "      <td>A6</td>\n",
       "      <td>#na#</td>\n",
       "      <td>Elettrica/Diesel</td>\n",
       "      <td>Berlina</td>\n",
       "      <td>4.0</td>\n",
       "      <td>45 3.0 TDI quattro tiptronic Business Sport</td>\n",
       "      <td>1.0</td>\n",
       "      <td>5.0</td>\n",
       "      <td>False</td>\n",
       "      <td>False</td>\n",
       "      <td>0.7082</td>\n",
       "      <td>0.2538</td>\n",
       "      <td>1.8607</td>\n",
       "      <td>-0.0187</td>\n",
       "      <td>1.3904</td>\n",
       "      <td>11.080603</td>\n",
       "    </tr>\n",
       "    <tr>\n",
       "      <td>Ford</td>\n",
       "      <td>EcoSport</td>\n",
       "      <td>#na#</td>\n",
       "      <td>Diesel</td>\n",
       "      <td>SUV/Fuoristrada/Pick-up</td>\n",
       "      <td>5.0</td>\n",
       "      <td>1.5 TDCi 100 CV Start&amp;Stop ST-Line Plus</td>\n",
       "      <td>0.0</td>\n",
       "      <td>5.0</td>\n",
       "      <td>False</td>\n",
       "      <td>False</td>\n",
       "      <td>0.6881</td>\n",
       "      <td>0.2538</td>\n",
       "      <td>-0.4036</td>\n",
       "      <td>-0.0148</td>\n",
       "      <td>-0.4966</td>\n",
       "      <td>9.797571</td>\n",
       "    </tr>\n",
       "    <tr>\n",
       "      <td>Fiat</td>\n",
       "      <td>Punto</td>\n",
       "      <td>#na#</td>\n",
       "      <td>Benzina</td>\n",
       "      <td>City car</td>\n",
       "      <td>3.0</td>\n",
       "      <td>Classic 1.2 3 porte OK neopatentati</td>\n",
       "      <td>0.0</td>\n",
       "      <td>5.0</td>\n",
       "      <td>False</td>\n",
       "      <td>False</td>\n",
       "      <td>-0.1301</td>\n",
       "      <td>0.2319</td>\n",
       "      <td>-0.7981</td>\n",
       "      <td>-0.0074</td>\n",
       "      <td>-1.0541</td>\n",
       "      <td>8.242756</td>\n",
       "    </tr>\n",
       "    <tr>\n",
       "      <td>Kia</td>\n",
       "      <td>Sorento</td>\n",
       "      <td>#na#</td>\n",
       "      <td>Diesel</td>\n",
       "      <td>SUV/Fuoristrada/Pick-up</td>\n",
       "      <td>5.0</td>\n",
       "      <td>2.5 16V CRDI VGT 4WD KM 110.000 TAGLIANDATI CERT.</td>\n",
       "      <td>1.0</td>\n",
       "      <td>5.0</td>\n",
       "      <td>False</td>\n",
       "      <td>False</td>\n",
       "      <td>-0.1967</td>\n",
       "      <td>0.2297</td>\n",
       "      <td>1.1362</td>\n",
       "      <td>0.0035</td>\n",
       "      <td>0.5184</td>\n",
       "      <td>8.824677</td>\n",
       "    </tr>\n",
       "    <tr>\n",
       "      <td>BMW</td>\n",
       "      <td>X3</td>\n",
       "      <td>#na#</td>\n",
       "      <td>Benzina</td>\n",
       "      <td>SUV/Fuoristrada/Pick-up</td>\n",
       "      <td>5.0</td>\n",
       "      <td>xDrive 20i Msport</td>\n",
       "      <td>1.0</td>\n",
       "      <td>5.0</td>\n",
       "      <td>False</td>\n",
       "      <td>False</td>\n",
       "      <td>0.7412</td>\n",
       "      <td>0.2560</td>\n",
       "      <td>0.3671</td>\n",
       "      <td>-0.0187</td>\n",
       "      <td>0.7185</td>\n",
       "      <td>10.857074</td>\n",
       "    </tr>\n",
       "    <tr>\n",
       "      <td>Volkswagen</td>\n",
       "      <td>Golf</td>\n",
       "      <td>#na#</td>\n",
       "      <td>Diesel</td>\n",
       "      <td>Berlina</td>\n",
       "      <td>5.0</td>\n",
       "      <td>#na#</td>\n",
       "      <td>0.0</td>\n",
       "      <td>#na#</td>\n",
       "      <td>False</td>\n",
       "      <td>False</td>\n",
       "      <td>-0.5825</td>\n",
       "      <td>0.2188</td>\n",
       "      <td>0.2161</td>\n",
       "      <td>0.0520</td>\n",
       "      <td>-0.2535</td>\n",
       "      <td>6.856462</td>\n",
       "    </tr>\n",
       "    <tr>\n",
       "      <td>Hyundai</td>\n",
       "      <td>Tucson</td>\n",
       "      <td>#na#</td>\n",
       "      <td>Diesel</td>\n",
       "      <td>SUV/Fuoristrada/Pick-up</td>\n",
       "      <td>5.0</td>\n",
       "      <td>1.7 CRDi XPossible</td>\n",
       "      <td>#na#</td>\n",
       "      <td>5.0</td>\n",
       "      <td>False</td>\n",
       "      <td>False</td>\n",
       "      <td>0.5688</td>\n",
       "      <td>0.2516</td>\n",
       "      <td>-0.1153</td>\n",
       "      <td>-0.0135</td>\n",
       "      <td>-0.2535</td>\n",
       "      <td>10.064755</td>\n",
       "    </tr>\n",
       "    <tr>\n",
       "      <td>BMW</td>\n",
       "      <td>420</td>\n",
       "      <td>#na#</td>\n",
       "      <td>Diesel</td>\n",
       "      <td>Coupé</td>\n",
       "      <td>5.0</td>\n",
       "      <td>Serie 4 Gran Coupé Msport / PELLE/VIRTUAL/PROF</td>\n",
       "      <td>0.0</td>\n",
       "      <td>5.0</td>\n",
       "      <td>False</td>\n",
       "      <td>False</td>\n",
       "      <td>0.6682</td>\n",
       "      <td>0.2538</td>\n",
       "      <td>0.3625</td>\n",
       "      <td>-0.0138</td>\n",
       "      <td>0.8043</td>\n",
       "      <td>10.616437</td>\n",
       "    </tr>\n",
       "  </tbody>\n",
       "</table>"
      ],
      "text/plain": [
       "<IPython.core.display.HTML object>"
      ]
     },
     "metadata": {},
     "output_type": "display_data"
    }
   ],
   "source": [
    "data.show_batch(rows=10)"
   ]
  },
  {
   "cell_type": "code",
   "execution_count": 19,
   "metadata": {},
   "outputs": [],
   "source": [
    "max_log_y = np.log(np.max(df['PRICE'])*1.2)\n",
    "y_range = torch.tensor([0, max_log_y], device=defaults.device)"
   ]
  },
  {
   "cell_type": "code",
   "execution_count": 20,
   "metadata": {},
   "outputs": [],
   "source": [
    "learn = tabular_learner(data, layers=[1000, 250], ps=[0.001,0.01], emb_drop=0.04, \n",
    "                        y_range=y_range, metrics=root_mean_squared_error)"
   ]
  },
  {
   "cell_type": "code",
   "execution_count": null,
   "metadata": {},
   "outputs": [],
   "source": [
    "learn.lr_find()"
   ]
  },
  {
   "cell_type": "code",
   "execution_count": null,
   "metadata": {},
   "outputs": [],
   "source": [
    "learn.recorder.plot()"
   ]
  },
  {
   "cell_type": "code",
   "execution_count": null,
   "metadata": {},
   "outputs": [],
   "source": [
    "learn.model"
   ]
  },
  {
   "cell_type": "code",
   "execution_count": null,
   "metadata": {},
   "outputs": [],
   "source": [
    "learn.fit_one_cycle(3, 1e-3)"
   ]
  },
  {
   "cell_type": "code",
   "execution_count": null,
   "metadata": {},
   "outputs": [],
   "source": [
    "learn.recorder.plot_losses()"
   ]
  },
  {
   "cell_type": "code",
   "execution_count": null,
   "metadata": {},
   "outputs": [],
   "source": [
    "learn.save('first')"
   ]
  },
  {
   "cell_type": "code",
   "execution_count": 21,
   "metadata": {},
   "outputs": [
    {
     "data": {
      "text/plain": [
       "Learner(data=TabularDataBunch;\n",
       "\n",
       "Train: LabelList (376583 items)\n",
       "x: TabularList\n",
       "Make Porsche; Model 911; Trim #na#; FuelType Benzina; BodyType Cabrio; DOORS 2.0; Type 3.0 Carrera 4S Cabriolet; FourWheelDrive 1.0; Seats 4.0; EngineSize_na False; FiscalHorsePower_na False; RegistrationDate 0.6083; YearOfManufacture 0.2516; EngineSize 1.8822; MILEAGE -0.0166; FiscalHorsePower 4.0921; ,Make Fiat; Model 500; Trim #na#; FuelType Benzina; BodyType Berlina; DOORS 3.0; Type 1.2 S; FourWheelDrive #na#; Seats 4.0; EngineSize_na False; FiscalHorsePower_na False; RegistrationDate 0.7351; YearOfManufacture 0.2560; EngineSize -0.7981; MILEAGE -0.0183; FiscalHorsePower -0.9254; ,Make Dacia; Model Duster; Trim #na#; FuelType Diesel; BodyType SUV/Fuoristrada/Pick-up; DOORS 5.0; Type 1.5 dCi 110CV 4x2 Lauréate; FourWheelDrive 0.0; Seats 5.0; EngineSize_na False; FiscalHorsePower_na False; RegistrationDate 0.0964; YearOfManufacture 0.2385; EngineSize -0.4606; MILEAGE 0.0114; FiscalHorsePower -0.3393; ,Make Volkswagen; Model Tiguan; Trim #na#; FuelType Diesel; BodyType SUV/Fuoristrada/Pick-up; DOORS 5.0; Type 4Motion Sport&Style; FourWheelDrive 1.0; Seats 5.0; EngineSize_na False; FiscalHorsePower_na False; RegistrationDate 0.0428; YearOfManufacture 0.2363; EngineSize 0.3209; MILEAGE 0.0057; FiscalHorsePower 0.0895; ,Make Opel; Model Mokka; Trim #na#; FuelType Diesel; BodyType SUV/Fuoristrada/Pick-up; DOORS 5.0; Type X 1.6 CDTI Ecotec 136CV 4x2 Start&Stop Vision; FourWheelDrive 0.0; Seats 5.0; EngineSize_na False; FiscalHorsePower_na False; RegistrationDate -3.1836; YearOfManufacture -4.1654; EngineSize -0.2494; MILEAGE -0.0187; FiscalHorsePower 0.0323; \n",
       "y: FloatList\n",
       "11.686038,9.2591305,8.7467165,9.190138,10.021271\n",
       "Path: /root/.fastai/dataautovista_tabular;\n",
       "\n",
       "Valid: LabelList (41842 items)\n",
       "x: TabularList\n",
       "Make BMW; Model X1; Trim #na#; FuelType Diesel; BodyType #na#; DOORS 5.0; Type sDrive18d xLine Auto Euro 6; FourWheelDrive 0.0; Seats 5.0; EngineSize_na False; FiscalHorsePower_na False; RegistrationDate 0.7351; YearOfManufacture 0.2560; EngineSize 0.3625; MILEAGE -0.0187; FiscalHorsePower 0.2325; ,Make Lancia; Model MUSA; Trim #na#; FuelType Diesel; BodyType Monovolume; DOORS 5.0; Type #na#; FourWheelDrive 0.0; Seats 5.0; EngineSize_na False; FiscalHorsePower_na False; RegistrationDate 0.1025; YearOfManufacture 0.2385; EngineSize -0.7889; MILEAGE 0.0061; FiscalHorsePower -0.9254; ,Make Fiat; Model Tipo; Trim #na#; FuelType Diesel; BodyType Berlina; DOORS 5.0; Type 1.6 Mjt S&S 5 porte Sport; FourWheelDrive 0.0; Seats 5.0; EngineSize_na False; FiscalHorsePower_na False; RegistrationDate -3.1836; YearOfManufacture -4.1654; EngineSize -0.2494; MILEAGE -0.0187; FiscalHorsePower -0.1964; ,Make BMW; Model 650; Trim #na#; FuelType Benzina; BodyType Cabrio; DOORS 2.0; Type Serie 6 (E63/E64) cat Cabrio; FourWheelDrive #na#; Seats 4.0; EngineSize_na False; FiscalHorsePower_na False; RegistrationDate -0.1701; YearOfManufacture 0.2297; EngineSize 4.6844; MILEAGE 0.0176; FiscalHorsePower 3.3345; ,Make Lotus; Model Esprit; Trim #na#; FuelType Benzina; BodyType Coupé; DOORS 2.0; Type #na#; FourWheelDrive 0.0; Seats 2.0; EngineSize_na False; FiscalHorsePower_na False; RegistrationDate -0.8684; YearOfManufacture 0.2122; EngineSize 0.3301; MILEAGE -0.0109; FiscalHorsePower 1.5619; \n",
       "y: FloatList\n",
       "10.5427065,8.837827,9.91591,9.825526,10.714417\n",
       "Path: /root/.fastai/dataautovista_tabular;\n",
       "\n",
       "Test: LabelList (41842 items)\n",
       "x: TabularList\n",
       "Make BMW; Model X1; Trim #na#; FuelType Diesel; BodyType #na#; DOORS 5.0; Type sDrive18d xLine Auto Euro 6; FourWheelDrive 0.0; Seats 5.0; EngineSize_na False; FiscalHorsePower_na False; RegistrationDate 0.7351; YearOfManufacture 0.2560; EngineSize 0.3625; MILEAGE -0.0187; FiscalHorsePower 0.2325; ,Make Lancia; Model MUSA; Trim #na#; FuelType Diesel; BodyType Monovolume; DOORS 5.0; Type #na#; FourWheelDrive 0.0; Seats 5.0; EngineSize_na False; FiscalHorsePower_na False; RegistrationDate 0.1025; YearOfManufacture 0.2385; EngineSize -0.7889; MILEAGE 0.0061; FiscalHorsePower -0.9254; ,Make Fiat; Model Tipo; Trim #na#; FuelType Diesel; BodyType Berlina; DOORS 5.0; Type 1.6 Mjt S&S 5 porte Sport; FourWheelDrive 0.0; Seats 5.0; EngineSize_na False; FiscalHorsePower_na False; RegistrationDate -3.1836; YearOfManufacture -4.1654; EngineSize -0.2494; MILEAGE -0.0187; FiscalHorsePower -0.1964; ,Make BMW; Model 650; Trim #na#; FuelType Benzina; BodyType Cabrio; DOORS 2.0; Type Serie 6 (E63/E64) cat Cabrio; FourWheelDrive #na#; Seats 4.0; EngineSize_na False; FiscalHorsePower_na False; RegistrationDate -0.1701; YearOfManufacture 0.2297; EngineSize 4.6844; MILEAGE 0.0176; FiscalHorsePower 3.3345; ,Make Lotus; Model Esprit; Trim #na#; FuelType Benzina; BodyType Coupé; DOORS 2.0; Type #na#; FourWheelDrive 0.0; Seats 2.0; EngineSize_na False; FiscalHorsePower_na False; RegistrationDate -0.8684; YearOfManufacture 0.2122; EngineSize 0.3301; MILEAGE -0.0109; FiscalHorsePower 1.5619; \n",
       "y: EmptyLabelList\n",
       ",,,,\n",
       "Path: /root/.fastai/dataautovista_tabular, model=TabularModel(\n",
       "  (embeds): ModuleList(\n",
       "    (0): Embedding(140, 25)\n",
       "    (1): Embedding(1851, 108)\n",
       "    (2): Embedding(1, 2)\n",
       "    (3): Embedding(10, 6)\n",
       "    (4): Embedding(10, 6)\n",
       "    (5): Embedding(10, 6)\n",
       "    (6): Embedding(143382, 600)\n",
       "    (7): Embedding(3, 3)\n",
       "    (8): Embedding(21, 9)\n",
       "    (9): Embedding(3, 3)\n",
       "    (10): Embedding(3, 3)\n",
       "  )\n",
       "  (emb_drop): Dropout(p=0.04)\n",
       "  (bn_cont): BatchNorm1d(5, eps=1e-05, momentum=0.1, affine=True, track_running_stats=True)\n",
       "  (layers): Sequential(\n",
       "    (0): Linear(in_features=776, out_features=1000, bias=True)\n",
       "    (1): ReLU(inplace)\n",
       "    (2): BatchNorm1d(1000, eps=1e-05, momentum=0.1, affine=True, track_running_stats=True)\n",
       "    (3): Dropout(p=0.001)\n",
       "    (4): Linear(in_features=1000, out_features=250, bias=True)\n",
       "    (5): ReLU(inplace)\n",
       "    (6): BatchNorm1d(250, eps=1e-05, momentum=0.1, affine=True, track_running_stats=True)\n",
       "    (7): Dropout(p=0.01)\n",
       "    (8): Linear(in_features=250, out_features=1, bias=True)\n",
       "  )\n",
       "), opt_func=functools.partial(<class 'torch.optim.adam.Adam'>, betas=(0.9, 0.99)), loss_func=FlattenedLoss of MSELoss(), metrics=[<function root_mean_squared_error at 0x7f768a7d97b8>], true_wd=True, bn_wd=True, wd=0.01, train_bn=True, path=PosixPath('/root/.fastai/dataautovista_tabular'), model_dir='models', callback_fns=[functools.partial(<class 'fastai.basic_train.Recorder'>, add_time=True, silent=False)], callbacks=[], layer_groups=[Sequential(\n",
       "  (0): Embedding(140, 25)\n",
       "  (1): Embedding(1851, 108)\n",
       "  (2): Embedding(1, 2)\n",
       "  (3): Embedding(10, 6)\n",
       "  (4): Embedding(10, 6)\n",
       "  (5): Embedding(10, 6)\n",
       "  (6): Embedding(143382, 600)\n",
       "  (7): Embedding(3, 3)\n",
       "  (8): Embedding(21, 9)\n",
       "  (9): Embedding(3, 3)\n",
       "  (10): Embedding(3, 3)\n",
       "  (11): Dropout(p=0.04)\n",
       "  (12): BatchNorm1d(5, eps=1e-05, momentum=0.1, affine=True, track_running_stats=True)\n",
       "  (13): Linear(in_features=776, out_features=1000, bias=True)\n",
       "  (14): ReLU(inplace)\n",
       "  (15): BatchNorm1d(1000, eps=1e-05, momentum=0.1, affine=True, track_running_stats=True)\n",
       "  (16): Dropout(p=0.001)\n",
       "  (17): Linear(in_features=1000, out_features=250, bias=True)\n",
       "  (18): ReLU(inplace)\n",
       "  (19): BatchNorm1d(250, eps=1e-05, momentum=0.1, affine=True, track_running_stats=True)\n",
       "  (20): Dropout(p=0.01)\n",
       "  (21): Linear(in_features=250, out_features=1, bias=True)\n",
       ")], add_time=True, silent=None)"
      ]
     },
     "execution_count": 21,
     "metadata": {},
     "output_type": "execute_result"
    }
   ],
   "source": [
    "learn.load('first')"
   ]
  },
  {
   "cell_type": "markdown",
   "metadata": {},
   "source": [
    "### Predictions"
   ]
  },
  {
   "cell_type": "code",
   "execution_count": 22,
   "metadata": {},
   "outputs": [],
   "source": [
    "row = df.iloc[0]"
   ]
  },
  {
   "cell_type": "code",
   "execution_count": 24,
   "metadata": {},
   "outputs": [
    {
     "data": {
      "text/plain": [
       "CountryCode                                                         IT\n",
       "LanguageCode                                                      ITIT\n",
       "Town                                                       Milano - Mi\n",
       "RegistrationDate                                           1.49886e+09\n",
       "YearOfManufacture                                                 2017\n",
       "Make                                                           Porsche\n",
       "Model                                                              911\n",
       "Type                                          3.0 Carrera 4S Cabriolet\n",
       "Trim                                                               NaN\n",
       "FuelType                                                       Benzina\n",
       "BodyType                                                        Cabrio\n",
       "DOORS                                                                2\n",
       "EngineSize                                                        2981\n",
       "MILEAGE                                                          10360\n",
       "MileageUnits                                                        KM\n",
       "PRICE                                                           118900\n",
       "NumberOfOwners                                                       0\n",
       "FourWheelDrive                                                       1\n",
       "OPTIONS              Climatizzatore,Volante in pelle,Volante riscal...\n",
       "VehicleCategory                                                    Car\n",
       "CO2Emissions                                                       208\n",
       "FiscalHorsePower                                                   420\n",
       "Seats                                                                4\n",
       "Name: 0, dtype: object"
      ]
     },
     "execution_count": 24,
     "metadata": {},
     "output_type": "execute_result"
    }
   ],
   "source": [
    "row"
   ]
  },
  {
   "cell_type": "code",
   "execution_count": 25,
   "metadata": {},
   "outputs": [
    {
     "data": {
      "text/plain": [
       "113068.9035641907"
      ]
     },
     "execution_count": 25,
     "metadata": {},
     "output_type": "execute_result"
    }
   ],
   "source": [
    "np.exp(learn.predict(row)[1].data[0].item())"
   ]
  },
  {
   "cell_type": "code",
   "execution_count": 26,
   "metadata": {},
   "outputs": [
    {
     "name": "stdout",
     "output_type": "stream",
     "text": [
      "118900.0   113068.9035641907             \n",
      "10500.0    12349.71946111136             \n",
      "6290.0     6700.685634608472             \n",
      "9800.0     9834.577611423836             \n",
      "22500.0    20921.828462310234            \n",
      "5400.0     5442.768641609127             \n",
      "26800.0    27291.814943789595            \n",
      "5850.0     6675.147775693727             \n",
      "4712.0     4311.340905051571             \n",
      "6500.0     5465.254048149292             \n",
      "17800.0    19511.9665587519              \n",
      "1800.0     2494.2741027059906            \n",
      "27000.0    25137.81878157424             \n",
      "12000.0    9106.937139977023             \n",
      "5500.0     5620.357230794441             \n",
      "18800.0    18337.751690808043            \n",
      "18990.0    18462.145859718978            \n",
      "39000.0    33245.27144503543             \n",
      "12880.0    13068.606934111422            \n",
      "19850.0    19188.240904137427            \n"
     ]
    }
   ],
   "source": [
    "for i in range(20):\n",
    "    r = df.iloc[i]\n",
    "    price = r.PRICE\n",
    "    prediction = np.exp(learn.predict(r)[1].data[0].item())\n",
    "    print(f'{price: <10} {prediction: <30}')"
   ]
  }
 ],
 "metadata": {
  "kernelspec": {
   "display_name": "Python 3",
   "language": "python",
   "name": "python3"
  },
  "language_info": {
   "codemirror_mode": {
    "name": "ipython",
    "version": 3
   },
   "file_extension": ".py",
   "mimetype": "text/x-python",
   "name": "python",
   "nbconvert_exporter": "python",
   "pygments_lexer": "ipython3",
   "version": "3.7.3"
  }
 },
 "nbformat": 4,
 "nbformat_minor": 2
}
