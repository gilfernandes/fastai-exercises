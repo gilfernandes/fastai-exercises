{
 "cells": [
  {
   "cell_type": "code",
   "execution_count": 1,
   "metadata": {},
   "outputs": [],
   "source": [
    "%reload_ext autoreload\n",
    "%autoreload 2\n",
    "%matplotlib inline"
   ]
  },
  {
   "cell_type": "code",
   "execution_count": 2,
   "metadata": {},
   "outputs": [],
   "source": [
    "from fastai.text import *"
   ]
  },
  {
   "cell_type": "code",
   "execution_count": 3,
   "metadata": {},
   "outputs": [],
   "source": [
    "path = untar_data(URLs.YELP_REVIEWS)"
   ]
  },
  {
   "cell_type": "code",
   "execution_count": 4,
   "metadata": {},
   "outputs": [
    {
     "data": {
      "text/plain": [
       "PosixPath('/root/.fastai/data/yelp_review_full_csv')"
      ]
     },
     "execution_count": 4,
     "metadata": {},
     "output_type": "execute_result"
    }
   ],
   "source": [
    "path"
   ]
  },
  {
   "cell_type": "code",
   "execution_count": 5,
   "metadata": {},
   "outputs": [
    {
     "data": {
      "text/plain": [
       "[PosixPath('/root/.fastai/data/yelp_review_full_csv/train.csv'),\n",
       " PosixPath('/root/.fastai/data/yelp_review_full_csv/models'),\n",
       " PosixPath('/root/.fastai/data/yelp_review_full_csv/test.csv'),\n",
       " PosixPath('/root/.fastai/data/yelp_review_full_csv/data_lm.pkl'),\n",
       " PosixPath('/root/.fastai/data/yelp_review_full_csv/data_clas.pkl'),\n",
       " PosixPath('/root/.fastai/data/yelp_review_full_csv/readme.txt')]"
      ]
     },
     "execution_count": 5,
     "metadata": {},
     "output_type": "execute_result"
    }
   ],
   "source": [
    "path.ls()"
   ]
  },
  {
   "cell_type": "code",
   "execution_count": 6,
   "metadata": {},
   "outputs": [],
   "source": [
    "def display_head(file):\n",
    "    df = pd.read_csv(path/file, header=None)\n",
    "    print(df.head())"
   ]
  },
  {
   "cell_type": "code",
   "execution_count": 7,
   "metadata": {},
   "outputs": [
    {
     "name": "stdout",
     "output_type": "stream",
     "text": [
      "   0                                                  1\n",
      "0  5  dr. goldberg offers everything i look for in a...\n",
      "1  2  Unfortunately, the frustration of being Dr. Go...\n",
      "2  4  Been going to Dr. Goldberg for over 10 years. ...\n",
      "3  4  Got a letter in the mail last week that said D...\n",
      "4  1  I don't know what Dr. Goldberg was like before...\n"
     ]
    }
   ],
   "source": [
    "display_head('train.csv')"
   ]
  },
  {
   "cell_type": "code",
   "execution_count": 8,
   "metadata": {},
   "outputs": [
    {
     "name": "stdout",
     "output_type": "stream",
     "text": [
      "   0                                                  1\n",
      "0  1  I got 'new' tires from them and within two wee...\n",
      "1  1  Don't waste your time.  We had two different p...\n",
      "2  1  All I can say is the worst! We were the only 2...\n",
      "3  1  I have been to this restaurant twice and was d...\n",
      "4  1  Food was NOT GOOD at all! My husband & I ate h...\n"
     ]
    }
   ],
   "source": [
    "display_head('test.csv')"
   ]
  },
  {
   "cell_type": "code",
   "execution_count": 9,
   "metadata": {},
   "outputs": [
    {
     "name": "stdout",
     "output_type": "stream",
     "text": [
      "\n",
      "\n",
      "```text\n",
      "=== Software === \n",
      "python        : 3.7.4\n",
      "fastai        : 1.0.59\n",
      "fastprogress  : 0.1.21\n",
      "torch         : 1.2.0\n",
      "nvidia driver : 440.26\n",
      "torch cuda    : 10.0.130 / is available\n",
      "torch cudnn   : 7604 / is enabled\n",
      "\n",
      "=== Hardware === \n",
      "nvidia gpus   : 1\n",
      "torch devices : 1\n",
      "  - gpu0      : 7982MB | GeForce RTX 2080\n",
      "\n",
      "=== Environment === \n",
      "platform      : Linux-5.0.0-35-generic-x86_64-with-debian-buster-sid\n",
      "distro        : #38~18.04.1-Ubuntu SMP Mon Nov 11 09:16:10 UTC 2019\n",
      "conda env     : deeplearning\n",
      "python        : /opt/anaconda3/envs/deeplearning/bin/python\n",
      "sys.path      : /opt/fastai/fastai-exercises/nbs_gil/dl1\n",
      "/opt/anaconda3/envs/deeplearning/lib/python37.zip\n",
      "/opt/anaconda3/envs/deeplearning/lib/python3.7\n",
      "/opt/anaconda3/envs/deeplearning/lib/python3.7/lib-dynload\n",
      "\n",
      "/opt/anaconda3/envs/deeplearning/lib/python3.7/site-packages\n",
      "/opt/anaconda3/envs/deeplearning/lib/python3.7/site-packages/IPython/extensions\n",
      "/root/.ipython\n",
      "```\n",
      "\n",
      "Please make sure to include opening/closing ``` when you paste into forums/github to make the reports appear formatted as code sections.\n",
      "\n",
      "Optional package(s) to enhance the diagnostics can be installed with:\n",
      "pip install distro\n",
      "Once installed, re-run this utility to get the additional information\n"
     ]
    }
   ],
   "source": [
    "from fastai.utils.show_install import *\n",
    "show_install()"
   ]
  },
  {
   "cell_type": "code",
   "execution_count": 10,
   "metadata": {},
   "outputs": [
    {
     "data": {
      "text/html": [
       "<table border=\"1\" class=\"dataframe\">\n",
       "  <thead>\n",
       "    <tr style=\"text-align: right;\">\n",
       "      <th>text</th>\n",
       "      <th>target</th>\n",
       "    </tr>\n",
       "  </thead>\n",
       "  <tbody>\n",
       "    <tr>\n",
       "      <td>xxbos xxup wed , xxup march 27 , 2013 / / xxup xxunk \\n  xxup price xxup for 2 : $ xxunk ( xxup tr price ) + $ xxunk ( tax ) + $ xxunk ( tip ) = $ 80.00 \\n  xxup wait : 15 - 20mins \\n  xxup server : xxup dawn - ( 4 / 5 ) . xxmaj she looked frazzled but</td>\n",
       "      <td>5</td>\n",
       "    </tr>\n",
       "    <tr>\n",
       "      <td>xxbos i called xxmaj merry xxmaj maids to seriously scrub the tile floors in my kitchen , back hall , bathroom , and sun room . xxmaj after a lengthy visit with their estimator ( xxmaj calvin ) , who pushed other services and repeat visits hard , i also agreed to have them deep clean the rooms with the tile floors and clean 2 upstairs bathrooms . \\n \\n</td>\n",
       "      <td>1</td>\n",
       "    </tr>\n",
       "    <tr>\n",
       "      <td>xxbos i have been here three times now and each time has been rather disappointing . xxmaj the first time , they did n't have any pies . xxmaj how a place known for pies can run out of pies is just baffling . xxmaj plus , the entire time i was trying to purchase a non - existent pie , the employees were running around and acting like there</td>\n",
       "      <td>2</td>\n",
       "    </tr>\n",
       "    <tr>\n",
       "      <td>xxbos i wanted to like this place , i really did , but the crappy service and the mediocre food made it hard for me to . \\n \\n  i 've passed this place numerous times and the outside alone already made me want to try the restaurant . i love how there 's water flowing over the sign , it 's so zen ! i did n't really</td>\n",
       "      <td>2</td>\n",
       "    </tr>\n",
       "    <tr>\n",
       "      <td>xxbos \" xxmaj fuck you all , we hope you die . \\n  xxmaj that 's the xxmaj trojan xxmaj battle xxmaj cry ! \" \\n  xxmaj wow , i can not believe someone xxmaj xxunk xxup pv . \\n  xxmaj my freshman year , my science teacher was arrested from xxunk from the strip joint she owned . xxmaj we then had a different teacher every</td>\n",
       "      <td>2</td>\n",
       "    </tr>\n",
       "  </tbody>\n",
       "</table>"
      ],
      "text/plain": [
       "<IPython.core.display.HTML object>"
      ]
     },
     "metadata": {},
     "output_type": "display_data"
    }
   ],
   "source": [
    "data = TextClasDataBunch.from_csv(path, 'train.csv')\n",
    "data.show_batch()"
   ]
  },
  {
   "cell_type": "code",
   "execution_count": 12,
   "metadata": {},
   "outputs": [],
   "source": [
    "bs=48"
   ]
  },
  {
   "cell_type": "code",
   "execution_count": 13,
   "metadata": {},
   "outputs": [],
   "source": [
    "bs=24 # For later training sessions only"
   ]
  },
  {
   "cell_type": "code",
   "execution_count": 11,
   "metadata": {},
   "outputs": [],
   "source": [
    "bs=12"
   ]
  },
  {
   "cell_type": "code",
   "execution_count": 12,
   "metadata": {},
   "outputs": [],
   "source": [
    "data = TextList.from_csv(path, 'train.csv', cols=1).split_by_rand_pct(0.1).label_for_lm().databunch(bs=bs)"
   ]
  },
  {
   "cell_type": "code",
   "execution_count": 13,
   "metadata": {},
   "outputs": [
    {
     "data": {
      "text/html": [
       "<table border=\"1\" class=\"dataframe\">\n",
       "  <thead>\n",
       "    <tr style=\"text-align: right;\">\n",
       "      <th>idx</th>\n",
       "      <th>text</th>\n",
       "    </tr>\n",
       "  </thead>\n",
       "  <tbody>\n",
       "    <tr>\n",
       "      <td>0</td>\n",
       "      <td>or wants to deal with it ? i have run into this problem with many other doctors and i just do n't get it . xxmaj you have office workers , you have patients with medical needs , why is n't anyone answering the phone ? xxmaj it 's incomprehensible and not work the aggravation . xxmaj it 's with regret that i feel that i have to give xxmaj</td>\n",
       "    </tr>\n",
       "    <tr>\n",
       "      <td>1</td>\n",
       "      <td>or xxmaj applebee 's and the senior menu is scarce . xxbos xxmaj philly cheese steak omelet xxmaj was amazing ! i like am usually disappointed with omlets , they taste too commercial . xxmaj but this tasted awesome ! \\n \\n  xxmaj the waitress was ok , nothing worth writing about ! xxmaj as long as my food was good ! xxmaj that 's what is important to</td>\n",
       "    </tr>\n",
       "    <tr>\n",
       "      <td>2</td>\n",
       "      <td>what in the name of the xxmaj happy xxmaj hour gods happened here ? \\n \\n  i remember a time where you got an entire loaf of bread and a bowl of olive oil . xxmaj they replaced that with three dipping sauces and a bread basket ... i took it in stride . xxmaj then it just became passed bread , which was rough but i was still</td>\n",
       "    </tr>\n",
       "    <tr>\n",
       "      <td>3</td>\n",
       "      <td>xxmaj and on that hot xxmaj tuesday night we were feeling parched . \\n \\n  xxmaj in true xxmaj vegas fashion .. a bartender when asked if we could have a glass of water , instead offered to fill our keeper glass that my girlfriend had from the xxmaj rio with ice and water for us . \\n \\n  i wish i remembered his name , but he</td>\n",
       "    </tr>\n",
       "    <tr>\n",
       "      <td>4</td>\n",
       "      <td>over with a feather . i would not suspect that one of the best seafood places in xxmaj las xxmaj vegas is a little xxunk bar inside of xxmaj palace xxmaj station . \\n \\n  xxmaj there are literally 18 seats , and the line can be up to an hour long to get a coveted spot . xxmaj when we went , by the grace of whatever you</td>\n",
       "    </tr>\n",
       "  </tbody>\n",
       "</table>"
      ],
      "text/plain": [
       "<IPython.core.display.HTML object>"
      ]
     },
     "metadata": {},
     "output_type": "display_data"
    }
   ],
   "source": [
    "data.show_batch()"
   ]
  },
  {
   "cell_type": "code",
   "execution_count": 14,
   "metadata": {},
   "outputs": [
    {
     "data": {
      "text/plain": [
       "['xxunk',\n",
       " 'xxpad',\n",
       " 'xxbos',\n",
       " 'xxeos',\n",
       " 'xxfld',\n",
       " 'xxmaj',\n",
       " 'xxup',\n",
       " 'xxrep',\n",
       " 'xxwrep',\n",
       " '.',\n",
       " 'the',\n",
       " ',',\n",
       " 'and',\n",
       " 'i',\n",
       " 'a',\n",
       " 'to',\n",
       " 'was',\n",
       " 'it',\n",
       " 'of',\n",
       " 'for']"
      ]
     },
     "execution_count": 14,
     "metadata": {},
     "output_type": "execute_result"
    }
   ],
   "source": [
    "data.vocab.itos[:20]"
   ]
  },
  {
   "cell_type": "code",
   "execution_count": 15,
   "metadata": {},
   "outputs": [
    {
     "data": {
      "text/plain": [
       "Text xxbos xxmaj unfortunately , the frustration of being xxmaj dr. xxmaj goldberg 's patient is a repeat of the experience i 've had with so many other doctors in xxup nyc -- good doctor , terrible staff . xxmaj it seems that his staff simply never answers the phone . xxmaj it usually takes 2 hours of repeated calling to get an answer . xxmaj who has time for that or wants to deal with it ? i have run into this problem with many other doctors and i just do n't get it . xxmaj you have office workers , you have patients with medical needs , why is n't anyone answering the phone ? xxmaj it 's incomprehensible and not work the aggravation . xxmaj it 's with regret that i feel that i have to give xxmaj dr. xxmaj goldberg 2 stars ."
      ]
     },
     "execution_count": 15,
     "metadata": {},
     "output_type": "execute_result"
    }
   ],
   "source": [
    "data.train_ds[0][0]"
   ]
  },
  {
   "cell_type": "code",
   "execution_count": 16,
   "metadata": {},
   "outputs": [
    {
     "data": {
      "text/plain": [
       "array([   2,    5,  637,   11,   10, 4556,   18,  196,    5, 1358])"
      ]
     },
     "execution_count": 16,
     "metadata": {},
     "output_type": "execute_result"
    }
   ],
   "source": [
    "data.train_ds[0][0].data[:10]"
   ]
  },
  {
   "cell_type": "code",
   "execution_count": 17,
   "metadata": {},
   "outputs": [],
   "source": [
    "data_lm = data"
   ]
  },
  {
   "cell_type": "code",
   "execution_count": 21,
   "metadata": {},
   "outputs": [],
   "source": [
    "data_lm.save('data_lm.pkl')"
   ]
  },
  {
   "cell_type": "code",
   "execution_count": 18,
   "metadata": {},
   "outputs": [],
   "source": [
    "data_lm = load_data(path, 'data_lm.pkl', bs=bs)"
   ]
  },
  {
   "cell_type": "code",
   "execution_count": 23,
   "metadata": {},
   "outputs": [
    {
     "data": {
      "text/html": [
       "<table border=\"1\" class=\"dataframe\">\n",
       "  <thead>\n",
       "    <tr style=\"text-align: right;\">\n",
       "      <th>idx</th>\n",
       "      <th>text</th>\n",
       "    </tr>\n",
       "  </thead>\n",
       "  <tbody>\n",
       "    <tr>\n",
       "      <td>0</td>\n",
       "      <td>or wants to deal with it ? i have run into this problem with many other doctors and i just do n't get it . xxmaj you have office workers , you have patients with medical needs , why is n't anyone answering the phone ? xxmaj it 's incomprehensible and not work the aggravation . xxmaj it 's with regret that i feel that i have to give xxmaj</td>\n",
       "    </tr>\n",
       "    <tr>\n",
       "      <td>1</td>\n",
       "      <td>decide to call xxmaj napoli based on yelp reviews . i called and a woman answered the phone . i wanted to confirm that they deliver to my neighbourhood , she asked for my cross streets and i say warm springs and xxmaj pueblo . xxmaj the lady could not understand the word xxmaj pueblo . xxmaj so i spell it to her and she still could not understand or</td>\n",
       "    </tr>\n",
       "    <tr>\n",
       "      <td>2</td>\n",
       "      <td>but xxrep 4 . ) and at $ 16 / glass of his wine , it was n't good . xxmaj if the review had been based from my meal alone , it would 've been a 4 - 5 . \\n \\n  xxmaj we 'll be going back and giving it antoher shot - the atmostphere is really great . xxmaj service was wonderful . xxmaj food tasted</td>\n",
       "    </tr>\n",
       "    <tr>\n",
       "      <td>3</td>\n",
       "      <td>bar in xxmaj vegas . \\n \\n  xxmaj warning : not for you club - going douchebags and xxunk or for the faint of heart . xxmaj this is a hardcore party bar full of all sorts of xxunk characters . xxmaj bathrooms are filthy and the walls are held together by the grafitti and dried xxunk and assorted juices . xxmaj the xxunk is so warped and stained</td>\n",
       "    </tr>\n",
       "    <tr>\n",
       "      <td>4</td>\n",
       "      <td>the creme fraiche had a very nice and strong flavor to it . xxmaj it was tart and tasted a lot like a lobster bisque . xxmaj the tortellini was awesome ! xxmaj they give you two light pieces that look like a steamed dumpling . xxmaj it was very light and refreshing . xxmaj the pasta was not heavy and it really dissolved in your mouth . \\n \\n</td>\n",
       "    </tr>\n",
       "  </tbody>\n",
       "</table>"
      ],
      "text/plain": [
       "<IPython.core.display.HTML object>"
      ]
     },
     "metadata": {},
     "output_type": "display_data"
    }
   ],
   "source": [
    "data_lm.show_batch()"
   ]
  },
  {
   "cell_type": "code",
   "execution_count": 24,
   "metadata": {},
   "outputs": [],
   "source": [
    "learn = language_model_learner(data_lm, AWD_LSTM, drop_mult=0.3)"
   ]
  },
  {
   "cell_type": "code",
   "execution_count": 25,
   "metadata": {},
   "outputs": [
    {
     "data": {
      "text/html": [],
      "text/plain": [
       "<IPython.core.display.HTML object>"
      ]
     },
     "metadata": {},
     "output_type": "display_data"
    },
    {
     "name": "stdout",
     "output_type": "stream",
     "text": [
      "LR Finder is complete, type {learner_name}.recorder.plot() to see the graph.\n"
     ]
    }
   ],
   "source": [
    "learn.lr_find()"
   ]
  },
  {
   "cell_type": "code",
   "execution_count": 26,
   "metadata": {},
   "outputs": [
    {
     "data": {
      "image/png": "[encoded data removed]",
      "text/plain": [
       "<Figure size 432x288 with 1 Axes>"
      ]
     },
     "metadata": {
      "needs_background": "light"
     },
     "output_type": "display_data"
    }
   ],
   "source": [
    "learn.recorder.plot(skip_end=15)"
   ]
  },
  {
   "cell_type": "code",
   "execution_count": 27,
   "metadata": {},
   "outputs": [
    {
     "data": {
      "text/html": [
       "<table border=\"1\" class=\"dataframe\">\n",
       "  <thead>\n",
       "    <tr style=\"text-align: left;\">\n",
       "      <th>epoch</th>\n",
       "      <th>train_loss</th>\n",
       "      <th>valid_loss</th>\n",
       "      <th>accuracy</th>\n",
       "      <th>time</th>\n",
       "    </tr>\n",
       "  </thead>\n",
       "  <tbody>\n",
       "    <tr>\n",
       "      <td>0</td>\n",
       "      <td>4.742582</td>\n",
       "      <td>4.516707</td>\n",
       "      <td>0.236585</td>\n",
       "      <td>2:12:03</td>\n",
       "    </tr>\n",
       "  </tbody>\n",
       "</table>"
      ],
      "text/plain": [
       "<IPython.core.display.HTML object>"
      ]
     },
     "metadata": {},
     "output_type": "display_data"
    }
   ],
   "source": [
    "learn.fit_one_cycle(1, 0.05, moms=(0.8,0.7))"
   ]
  },
  {
   "cell_type": "code",
   "execution_count": 28,
   "metadata": {},
   "outputs": [],
   "source": [
    "learn.save('fit_head')"
   ]
  },
  {
   "cell_type": "code",
   "execution_count": 29,
   "metadata": {},
   "outputs": [],
   "source": [
    "learn.load('fit_head');"
   ]
  },
  {
   "cell_type": "code",
   "execution_count": 30,
   "metadata": {},
   "outputs": [],
   "source": [
    "learn.unfreeze()"
   ]
  },
  {
   "cell_type": "code",
   "execution_count": 31,
   "metadata": {},
   "outputs": [
    {
     "data": {
      "text/html": [
       "<table border=\"1\" class=\"dataframe\">\n",
       "  <thead>\n",
       "    <tr style=\"text-align: left;\">\n",
       "      <th>epoch</th>\n",
       "      <th>train_loss</th>\n",
       "      <th>valid_loss</th>\n",
       "      <th>accuracy</th>\n",
       "      <th>time</th>\n",
       "    </tr>\n",
       "  </thead>\n",
       "  <tbody>\n",
       "    <tr>\n",
       "      <td>0</td>\n",
       "      <td>4.094612</td>\n",
       "      <td>4.057229</td>\n",
       "      <td>0.284163</td>\n",
       "      <td>2:32:53</td>\n",
       "    </tr>\n",
       "    <tr>\n",
       "      <td>1</td>\n",
       "      <td>3.791999</td>\n",
       "      <td>3.680959</td>\n",
       "      <td>0.328019</td>\n",
       "      <td>2:32:39</td>\n",
       "    </tr>\n",
       "  </tbody>\n",
       "</table>"
      ],
      "text/plain": [
       "<IPython.core.display.HTML object>"
      ]
     },
     "metadata": {},
     "output_type": "display_data"
    }
   ],
   "source": [
    "learn.fit_one_cycle(2, 1e-2, moms=(0.8,0.7))"
   ]
  },
  {
   "cell_type": "code",
   "execution_count": 32,
   "metadata": {},
   "outputs": [
    {
     "name": "stderr",
     "output_type": "stream",
     "text": [
      "/opt/anaconda3/envs/deeplearning/lib/python3.7/site-packages/IPython/core/events.py:88: UserWarning: Creating legend with loc=\"best\" can be slow with large amounts of data.\n",
      "  func(*args, **kwargs)\n",
      "/opt/anaconda3/envs/deeplearning/lib/python3.7/site-packages/IPython/core/pylabtools.py:128: UserWarning: Creating legend with loc=\"best\" can be slow with large amounts of data.\n",
      "  fig.canvas.print_figure(bytes_io, **kw)\n"
     ]
    },
    {
     "data": {
      "image/png": "[encoded data removed]",
      "text/plain": [
       "<Figure size 432x288 with 1 Axes>"
      ]
     },
     "metadata": {
      "needs_background": "light"
     },
     "output_type": "display_data"
    }
   ],
   "source": [
    "learn.recorder.plot_losses()"
   ]
  },
  {
   "cell_type": "code",
   "execution_count": 33,
   "metadata": {},
   "outputs": [
    {
     "data": {
      "image/png": "[encoded data removed]",
      "text/plain": [
       "<Figure size 432x288 with 1 Axes>"
      ]
     },
     "metadata": {
      "needs_background": "light"
     },
     "output_type": "display_data"
    }
   ],
   "source": [
    "learn.recorder.plot_lr()"
   ]
  },
  {
   "cell_type": "code",
   "execution_count": 34,
   "metadata": {},
   "outputs": [],
   "source": [
    "learn.save('fine_tuned')"
   ]
  },
  {
   "cell_type": "code",
   "execution_count": 35,
   "metadata": {},
   "outputs": [],
   "source": [
    "learn.load('fine_tuned');"
   ]
  },
  {
   "cell_type": "code",
   "execution_count": 36,
   "metadata": {},
   "outputs": [],
   "source": [
    "TEXT = \"I liked this movie because\"\n",
    "N_WORDS = 40\n",
    "N_SENTENCES = 2"
   ]
  },
  {
   "cell_type": "code",
   "execution_count": 37,
   "metadata": {},
   "outputs": [
    {
     "name": "stdout",
     "output_type": "stream",
     "text": [
      "I liked this movie because i was looking for a uni and i did n't want to go to the place instead . i expected a little more for a great place but it was just what i expected . It was clean and\n",
      "I liked this movie because i had a late night group of friends ... i really liked that they had two people outside of the entire establishment , which is what i do so i do n't mind . However , i thought the\n"
     ]
    }
   ],
   "source": [
    "print(\"\\n\".join(learn.predict(TEXT, N_WORDS, temperature=0.75) for _ in range(N_SENTENCES)))"
   ]
  },
  {
   "cell_type": "code",
   "execution_count": 38,
   "metadata": {},
   "outputs": [],
   "source": [
    "learn.save_encoder('fine_tuned_enc')"
   ]
  },
  {
   "cell_type": "code",
   "execution_count": 19,
   "metadata": {},
   "outputs": [],
   "source": [
    "data_clas = TextList.from_csv(path, 'train.csv', cols=1).split_by_rand_pct(0.1).label_from_df(cols=0).databunch(bs=bs)"
   ]
  },
  {
   "cell_type": "code",
   "execution_count": 40,
   "metadata": {},
   "outputs": [],
   "source": [
    "data_clas.save('data_clas.pkl')"
   ]
  },
  {
   "cell_type": "code",
   "execution_count": 20,
   "metadata": {},
   "outputs": [],
   "source": [
    "data_clas = load_data(path, 'data_clas.pkl', bs=bs)"
   ]
  },
  {
   "cell_type": "code",
   "execution_count": 21,
   "metadata": {
    "scrolled": true
   },
   "outputs": [
    {
     "data": {
      "text/html": [
       "<table border=\"1\" class=\"dataframe\">\n",
       "  <thead>\n",
       "    <tr style=\"text-align: right;\">\n",
       "      <th>text</th>\n",
       "      <th>target</th>\n",
       "    </tr>\n",
       "  </thead>\n",
       "  <tbody>\n",
       "    <tr>\n",
       "      <td>xxbos xxup wed , xxup march 27 , 2013 / / xxup xxunk \\n  xxup price xxup for 2 : $ xxunk ( xxup tr price ) + $ xxunk ( tax ) + $ xxunk ( tip ) = $ 80.00 \\n  xxup wait : 15 - 20mins \\n  xxup server : xxup dawn - ( 4 / 5 ) . xxmaj she looked frazzled but</td>\n",
       "      <td>5</td>\n",
       "    </tr>\n",
       "    <tr>\n",
       "      <td>xxbos xxup this xxup is xxup your xxup warning xxrep 7 ! \\n  xxmaj also mike and craig both work for this place . i never write reviews but i felt like this was necessary after all the trouble i had . \\n \\n  i lived in a 600 sq ft renovated 1 bedroom . xxmaj yes the redesign in the apartment is nice , but do n't</td>\n",
       "      <td>1</td>\n",
       "    </tr>\n",
       "    <tr>\n",
       "      <td>xxbos xxmaj in our continuing quest to identify cool , locally owned places to eat and / or drink , xxmaj caroline and i xxunk xxmaj vintage 95 last night . \\n \\n  xxmaj before i go further , understand that whenever i go out for eats or drinks , i have in mind a xxmaj platonic xxmaj ideal of the xxmaj bar / xxmaj pub / xxmaj eatery</td>\n",
       "      <td>4</td>\n",
       "    </tr>\n",
       "    <tr>\n",
       "      <td>xxbos i do n't xxmaj love xxmaj district . \\n  xxmaj it 's something that i xxunk on all day before sitting down to write this review . i have finally come to terms with the fact that i do n't love the newest xxmaj downtown xxmaj phoenix gem , i simply xxmaj like . i had my first visit to xxmaj district last night after i made a</td>\n",
       "      <td>3</td>\n",
       "    </tr>\n",
       "    <tr>\n",
       "      <td>xxbos xxmaj my fiance and i came here to celebrate me getting a new job and i went through the list of xxmaj bookmarks on xxmaj yelp trying to find a place . xxmaj we opted for here since i 'd never been . xxmaj we 've been to xxmaj mastro 's several times , xxmaj flemings , and the like but i had my two choices down to xxmaj</td>\n",
       "      <td>4</td>\n",
       "    </tr>\n",
       "  </tbody>\n",
       "</table>"
      ],
      "text/plain": [
       "<IPython.core.display.HTML object>"
      ]
     },
     "metadata": {},
     "output_type": "display_data"
    }
   ],
   "source": [
    "data_clas.show_batch()"
   ]
  },
  {
   "cell_type": "code",
   "execution_count": 22,
   "metadata": {},
   "outputs": [],
   "source": [
    "learn = text_classifier_learner(data_clas, AWD_LSTM, drop_mult=0.5)\n",
    "learn.load_encoder('fine_tuned_enc');"
   ]
  },
  {
   "cell_type": "code",
   "execution_count": 44,
   "metadata": {},
   "outputs": [
    {
     "data": {
      "text/html": [],
      "text/plain": [
       "<IPython.core.display.HTML object>"
      ]
     },
     "metadata": {},
     "output_type": "display_data"
    },
    {
     "name": "stdout",
     "output_type": "stream",
     "text": [
      "LR Finder is complete, type {learner_name}.recorder.plot() to see the graph.\n"
     ]
    }
   ],
   "source": [
    "learn.lr_find()"
   ]
  },
  {
   "cell_type": "code",
   "execution_count": 45,
   "metadata": {},
   "outputs": [
    {
     "data": {
      "image/png": "[encoded data removed]",
      "text/plain": [
       "<Figure size 432x288 with 1 Axes>"
      ]
     },
     "metadata": {
      "needs_background": "light"
     },
     "output_type": "display_data"
    }
   ],
   "source": [
    "learn.recorder.plot()"
   ]
  },
  {
   "cell_type": "code",
   "execution_count": 46,
   "metadata": {},
   "outputs": [
    {
     "data": {
      "text/html": [
       "<table border=\"1\" class=\"dataframe\">\n",
       "  <thead>\n",
       "    <tr style=\"text-align: left;\">\n",
       "      <th>epoch</th>\n",
       "      <th>train_loss</th>\n",
       "      <th>valid_loss</th>\n",
       "      <th>accuracy</th>\n",
       "      <th>time</th>\n",
       "    </tr>\n",
       "  </thead>\n",
       "  <tbody>\n",
       "    <tr>\n",
       "      <td>0</td>\n",
       "      <td>1.288545</td>\n",
       "      <td>1.134021</td>\n",
       "      <td>0.524547</td>\n",
       "      <td>46:04</td>\n",
       "    </tr>\n",
       "    <tr>\n",
       "      <td>1</td>\n",
       "      <td>1.274990</td>\n",
       "      <td>1.124473</td>\n",
       "      <td>0.506685</td>\n",
       "      <td>46:03</td>\n",
       "    </tr>\n",
       "    <tr>\n",
       "      <td>2</td>\n",
       "      <td>1.211278</td>\n",
       "      <td>1.081092</td>\n",
       "      <td>0.533485</td>\n",
       "      <td>46:04</td>\n",
       "    </tr>\n",
       "    <tr>\n",
       "      <td>3</td>\n",
       "      <td>1.181153</td>\n",
       "      <td>1.056235</td>\n",
       "      <td>0.542039</td>\n",
       "      <td>46:06</td>\n",
       "    </tr>\n",
       "  </tbody>\n",
       "</table>"
      ],
      "text/plain": [
       "<IPython.core.display.HTML object>"
      ]
     },
     "metadata": {},
     "output_type": "display_data"
    },
    {
     "name": "stdout",
     "output_type": "stream",
     "text": [
      "Better model found at epoch 0 with accuracy value: 0.5245465040206909.\n",
      "Better model found at epoch 2 with accuracy value: 0.5334851145744324.\n",
      "Better model found at epoch 3 with accuracy value: 0.5420390963554382.\n"
     ]
    }
   ],
   "source": [
    "learn.fit_one_cycle(4, 1e-02, moms=(0.8,0.7), \n",
    "                    callbacks=[callbacks.SaveModelCallback(learn, monitor='accuracy',mode='max', name='best-model')])"
   ]
  },
  {
   "cell_type": "code",
   "execution_count": 47,
   "metadata": {},
   "outputs": [],
   "source": [
    "learn.save('first')"
   ]
  },
  {
   "cell_type": "code",
   "execution_count": 23,
   "metadata": {},
   "outputs": [],
   "source": [
    "learn.load('first');"
   ]
  },
  {
   "cell_type": "code",
   "execution_count": 24,
   "metadata": {
    "scrolled": true
   },
   "outputs": [
    {
     "data": {
      "text/html": [
       "<table border=\"1\" class=\"dataframe\">\n",
       "  <thead>\n",
       "    <tr style=\"text-align: left;\">\n",
       "      <th>epoch</th>\n",
       "      <th>train_loss</th>\n",
       "      <th>valid_loss</th>\n",
       "      <th>accuracy</th>\n",
       "      <th>time</th>\n",
       "    </tr>\n",
       "  </thead>\n",
       "  <tbody>\n",
       "    <tr>\n",
       "      <td>0</td>\n",
       "      <td>1.013017</td>\n",
       "      <td>1.152075</td>\n",
       "      <td>0.613456</td>\n",
       "      <td>53:38</td>\n",
       "    </tr>\n",
       "    <tr>\n",
       "      <td>1</td>\n",
       "      <td>0.952556</td>\n",
       "      <td>0.809337</td>\n",
       "      <td>0.653564</td>\n",
       "      <td>53:45</td>\n",
       "    </tr>\n",
       "  </tbody>\n",
       "</table>"
      ],
      "text/plain": [
       "<IPython.core.display.HTML object>"
      ]
     },
     "metadata": {},
     "output_type": "display_data"
    }
   ],
   "source": [
    "learn.freeze_to(-2)\n",
    "learn.fit_one_cycle(2, slice(1e-2/(2.6**4),1e-2), moms=(0.8,0.7))"
   ]
  },
  {
   "cell_type": "code",
   "execution_count": 25,
   "metadata": {},
   "outputs": [],
   "source": [
    "learn.save('second')"
   ]
  },
  {
   "cell_type": "code",
   "execution_count": 26,
   "metadata": {},
   "outputs": [],
   "source": [
    "learn.load('second');"
   ]
  },
  {
   "cell_type": "code",
   "execution_count": 27,
   "metadata": {},
   "outputs": [
    {
     "data": {
      "text/html": [
       "<table border=\"1\" class=\"dataframe\">\n",
       "  <thead>\n",
       "    <tr style=\"text-align: left;\">\n",
       "      <th>epoch</th>\n",
       "      <th>train_loss</th>\n",
       "      <th>valid_loss</th>\n",
       "      <th>accuracy</th>\n",
       "      <th>time</th>\n",
       "    </tr>\n",
       "  </thead>\n",
       "  <tbody>\n",
       "    <tr>\n",
       "      <td>0</td>\n",
       "      <td>0.965187</td>\n",
       "      <td>1.216622</td>\n",
       "      <td>0.615748</td>\n",
       "      <td>1:17:36</td>\n",
       "    </tr>\n",
       "    <tr>\n",
       "      <td>1</td>\n",
       "      <td>0.842824</td>\n",
       "      <td>0.770993</td>\n",
       "      <td>0.669841</td>\n",
       "      <td>1:17:33</td>\n",
       "    </tr>\n",
       "  </tbody>\n",
       "</table>"
      ],
      "text/plain": [
       "<IPython.core.display.HTML object>"
      ]
     },
     "metadata": {},
     "output_type": "display_data"
    }
   ],
   "source": [
    "learn.freeze_to(-3)\n",
    "learn.fit_one_cycle(2, slice(5e-3/(2.6**4),5e-3), moms=(0.8,0.7))"
   ]
  },
  {
   "cell_type": "code",
   "execution_count": 28,
   "metadata": {},
   "outputs": [],
   "source": [
    "learn.save('third')"
   ]
  },
  {
   "cell_type": "code",
   "execution_count": 29,
   "metadata": {},
   "outputs": [],
   "source": [
    "learn.load('third');"
   ]
  },
  {
   "cell_type": "code",
   "execution_count": 30,
   "metadata": {},
   "outputs": [
    {
     "data": {
      "text/html": [
       "<table border=\"1\" class=\"dataframe\">\n",
       "  <thead>\n",
       "    <tr style=\"text-align: left;\">\n",
       "      <th>epoch</th>\n",
       "      <th>train_loss</th>\n",
       "      <th>valid_loss</th>\n",
       "      <th>accuracy</th>\n",
       "      <th>time</th>\n",
       "    </tr>\n",
       "  </thead>\n",
       "  <tbody>\n",
       "    <tr>\n",
       "      <td>0</td>\n",
       "      <td>0.847447</td>\n",
       "      <td>0.774452</td>\n",
       "      <td>0.670010</td>\n",
       "      <td>1:45:11</td>\n",
       "    </tr>\n",
       "    <tr>\n",
       "      <td>1</td>\n",
       "      <td>0.806389</td>\n",
       "      <td>0.756238</td>\n",
       "      <td>0.677103</td>\n",
       "      <td>1:45:11</td>\n",
       "    </tr>\n",
       "  </tbody>\n",
       "</table>"
      ],
      "text/plain": [
       "<IPython.core.display.HTML object>"
      ]
     },
     "metadata": {},
     "output_type": "display_data"
    }
   ],
   "source": [
    "learn.unfreeze()\n",
    "learn.fit_one_cycle(2, slice(1e-3/(2.6**4),1e-3), moms=(0.8,0.7))"
   ]
  },
  {
   "cell_type": "code",
   "execution_count": 31,
   "metadata": {},
   "outputs": [],
   "source": [
    "learn.save('fully_trained')"
   ]
  },
  {
   "cell_type": "code",
   "execution_count": 32,
   "metadata": {},
   "outputs": [
    {
     "data": {
      "text/plain": [
       "(Category 5,\n",
       " tensor(4),\n",
       " tensor([3.7231e-05, 7.0804e-04, 1.8025e-03, 6.2485e-02, 9.3497e-01]))"
      ]
     },
     "execution_count": 32,
     "metadata": {},
     "output_type": "execute_result"
    }
   ],
   "source": [
    "learn.predict(\"I really loved that movie, it was awesome, excellent! This was the best movie ever\")"
   ]
  },
  {
   "cell_type": "code",
   "execution_count": 33,
   "metadata": {},
   "outputs": [
    {
     "data": {
      "text/plain": [
       "(Category 1,\n",
       " tensor(0),\n",
       " tensor([9.9909e-01, 6.3488e-04, 2.7831e-04, 2.2764e-08, 3.5285e-12]))"
      ]
     },
     "execution_count": 33,
     "metadata": {},
     "output_type": "execute_result"
    }
   ],
   "source": [
    "learn.predict(\"What a horrible movie. Really not worth watching. Just avoid it\")"
   ]
  },
  {
   "cell_type": "code",
   "execution_count": null,
   "metadata": {},
   "outputs": [],
   "source": []
  }
 ],
 "metadata": {
  "kernelspec": {
   "display_name": "Python 3",
   "language": "python",
   "name": "python3"
  },
  "language_info": {
   "codemirror_mode": {
    "name": "ipython",
    "version": 3
   },
   "file_extension": ".py",
   "mimetype": "text/x-python",
   "name": "python",
   "nbconvert_exporter": "python",
   "pygments_lexer": "ipython3",
   "version": "3.7.4"
  }
 },
 "nbformat": 4,
 "nbformat_minor": 2
}
