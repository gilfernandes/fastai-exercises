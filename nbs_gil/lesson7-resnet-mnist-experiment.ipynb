{
 "cells": [
  {
   "cell_type": "markdown",
   "metadata": {},
   "source": [
    "## MNIST CNN"
   ]
  },
  {
   "cell_type": "code",
   "execution_count": 1,
   "metadata": {},
   "outputs": [],
   "source": [
    "%reload_ext autoreload\n",
    "%autoreload 2\n",
    "%matplotlib inline"
   ]
  },
  {
   "cell_type": "code",
   "execution_count": 2,
   "metadata": {},
   "outputs": [],
   "source": [
    "from fastai.vision import *"
   ]
  },
  {
   "cell_type": "code",
   "execution_count": 3,
   "metadata": {},
   "outputs": [],
   "source": [
    "path = untar_data(URLs.MNIST)"
   ]
  },
  {
   "cell_type": "code",
   "execution_count": 4,
   "metadata": {},
   "outputs": [
    {
     "data": {
      "text/plain": [
       "[PosixPath('/root/.fastai/data/mnist_png/testing'),\n",
       " PosixPath('/root/.fastai/data/mnist_png/training')]"
      ]
     },
     "execution_count": 4,
     "metadata": {},
     "output_type": "execute_result"
    }
   ],
   "source": [
    "path; path.ls()"
   ]
  },
  {
   "cell_type": "code",
   "execution_count": 5,
   "metadata": {},
   "outputs": [
    {
     "data": {
      "text/plain": [
       "[PosixPath('/root/.fastai/data/mnist_png/training/1'),\n",
       " PosixPath('/root/.fastai/data/mnist_png/training/6'),\n",
       " PosixPath('/root/.fastai/data/mnist_png/training/8'),\n",
       " PosixPath('/root/.fastai/data/mnist_png/training/2'),\n",
       " PosixPath('/root/.fastai/data/mnist_png/training/5'),\n",
       " PosixPath('/root/.fastai/data/mnist_png/training/9'),\n",
       " PosixPath('/root/.fastai/data/mnist_png/training/0'),\n",
       " PosixPath('/root/.fastai/data/mnist_png/training/3'),\n",
       " PosixPath('/root/.fastai/data/mnist_png/training/7'),\n",
       " PosixPath('/root/.fastai/data/mnist_png/training/4')]"
      ]
     },
     "execution_count": 5,
     "metadata": {},
     "output_type": "execute_result"
    }
   ],
   "source": [
    "training_folder = path/'training'; training_folder.ls()"
   ]
  },
  {
   "cell_type": "code",
   "execution_count": 6,
   "metadata": {},
   "outputs": [],
   "source": [
    "il = ImageList.from_folder(path, convert_mode='L')"
   ]
  },
  {
   "cell_type": "code",
   "execution_count": 7,
   "metadata": {},
   "outputs": [
    {
     "data": {
      "text/plain": [
       "PosixPath('/root/.fastai/data/mnist_png/testing/1/8914.png')"
      ]
     },
     "execution_count": 7,
     "metadata": {},
     "output_type": "execute_result"
    }
   ],
   "source": [
    "il.items[0]"
   ]
  },
  {
   "cell_type": "code",
   "execution_count": 8,
   "metadata": {},
   "outputs": [],
   "source": [
    "defaults.cmap='binary'"
   ]
  },
  {
   "cell_type": "code",
   "execution_count": 9,
   "metadata": {},
   "outputs": [
    {
     "data": {
      "text/plain": [
       "ImageList (70000 items)\n",
       "Image (1, 28, 28),Image (1, 28, 28),Image (1, 28, 28),Image (1, 28, 28),Image (1, 28, 28)\n",
       "Path: /root/.fastai/data/mnist_png"
      ]
     },
     "execution_count": 9,
     "metadata": {},
     "output_type": "execute_result"
    }
   ],
   "source": [
    "il"
   ]
  },
  {
   "cell_type": "code",
   "execution_count": 10,
   "metadata": {
    "scrolled": true
   },
   "outputs": [
    {
     "data": {
      "image/png": "[encoded data removed]",
      "text/plain": [
       "<Figure size 216x216 with 1 Axes>"
      ]
     },
     "metadata": {
      "needs_background": "light"
     },
     "output_type": "display_data"
    }
   ],
   "source": [
    "il[0].show()"
   ]
  },
  {
   "cell_type": "code",
   "execution_count": 11,
   "metadata": {},
   "outputs": [
    {
     "data": {
      "image/png": "[encoded data removed]",
      "text/plain": [
       "<Figure size 216x216 with 1 Axes>"
      ]
     },
     "metadata": {
      "needs_background": "light"
     },
     "output_type": "display_data"
    }
   ],
   "source": [
    "il[1].show()"
   ]
  },
  {
   "cell_type": "code",
   "execution_count": 12,
   "metadata": {},
   "outputs": [
    {
     "data": {
      "text/plain": [
       "ItemLists;\n",
       "\n",
       "Train: ImageList (60000 items)\n",
       "Image (1, 28, 28),Image (1, 28, 28),Image (1, 28, 28),Image (1, 28, 28),Image (1, 28, 28)\n",
       "Path: /root/.fastai/data/mnist_png;\n",
       "\n",
       "Valid: ImageList (10000 items)\n",
       "Image (1, 28, 28),Image (1, 28, 28),Image (1, 28, 28),Image (1, 28, 28),Image (1, 28, 28)\n",
       "Path: /root/.fastai/data/mnist_png;\n",
       "\n",
       "Test: None"
      ]
     },
     "execution_count": 12,
     "metadata": {},
     "output_type": "execute_result"
    }
   ],
   "source": [
    "sd = il.split_by_folder(train='training', valid='testing'); sd"
   ]
  },
  {
   "cell_type": "code",
   "execution_count": 13,
   "metadata": {},
   "outputs": [
    {
     "data": {
      "text/plain": [
       "LabelLists;\n",
       "\n",
       "Train: LabelList (60000 items)\n",
       "x: ImageList\n",
       "Image (1, 28, 28),Image (1, 28, 28),Image (1, 28, 28),Image (1, 28, 28),Image (1, 28, 28)\n",
       "y: CategoryList\n",
       "1,1,1,1,1\n",
       "Path: /root/.fastai/data/mnist_png;\n",
       "\n",
       "Valid: LabelList (10000 items)\n",
       "x: ImageList\n",
       "Image (1, 28, 28),Image (1, 28, 28),Image (1, 28, 28),Image (1, 28, 28),Image (1, 28, 28)\n",
       "y: CategoryList\n",
       "1,1,1,1,1\n",
       "Path: /root/.fastai/data/mnist_png;\n",
       "\n",
       "Test: None"
      ]
     },
     "execution_count": 13,
     "metadata": {},
     "output_type": "execute_result"
    }
   ],
   "source": [
    "ll = sd.label_from_folder(); ll"
   ]
  },
  {
   "cell_type": "markdown",
   "metadata": {},
   "source": [
    "### Explore some images"
   ]
  },
  {
   "cell_type": "code",
   "execution_count": 14,
   "metadata": {},
   "outputs": [],
   "source": [
    "def print_some_image(index=0):\n",
    "    x,y = ll.train[index]\n",
    "    print(y,x.shape)\n",
    "    x.show()"
   ]
  },
  {
   "cell_type": "code",
   "execution_count": 15,
   "metadata": {},
   "outputs": [
    {
     "name": "stdout",
     "output_type": "stream",
     "text": [
      "1 torch.Size([1, 28, 28])\n"
     ]
    },
    {
     "data": {
      "image/png": "[encoded data removed]",
      "text/plain": [
       "<Figure size 216x216 with 1 Axes>"
      ]
     },
     "metadata": {
      "needs_background": "light"
     },
     "output_type": "display_data"
    }
   ],
   "source": [
    "print_some_image()"
   ]
  },
  {
   "cell_type": "code",
   "execution_count": 16,
   "metadata": {},
   "outputs": [],
   "source": [
    "tfms = ([*rand_pad(padding=3, size=28, mode='zeros')], [])"
   ]
  },
  {
   "cell_type": "code",
   "execution_count": 17,
   "metadata": {},
   "outputs": [],
   "source": [
    "ll = ll.transform(tfms)"
   ]
  },
  {
   "cell_type": "code",
   "execution_count": 18,
   "metadata": {
    "scrolled": true
   },
   "outputs": [
    {
     "name": "stdout",
     "output_type": "stream",
     "text": [
      "1 torch.Size([1, 28, 28])\n"
     ]
    },
    {
     "data": {
      "image/png": "[encoded data removed]",
      "text/plain": [
       "<Figure size 216x216 with 1 Axes>"
      ]
     },
     "metadata": {
      "needs_background": "light"
     },
     "output_type": "display_data"
    }
   ],
   "source": [
    "print_some_image()"
   ]
  },
  {
   "cell_type": "code",
   "execution_count": 19,
   "metadata": {},
   "outputs": [],
   "source": [
    "bs = 128"
   ]
  },
  {
   "cell_type": "code",
   "execution_count": 20,
   "metadata": {},
   "outputs": [],
   "source": [
    "# not using imagenet_stats because not using pretrained model\n",
    "data = ll.databunch(bs=bs).normalize()"
   ]
  },
  {
   "cell_type": "code",
   "execution_count": 22,
   "metadata": {},
   "outputs": [
    {
     "data": {
      "text/plain": [
       "ImageDataBunch;\n",
       "\n",
       "Train: LabelList (60000 items)\n",
       "x: ImageList\n",
       "Image (1, 28, 28),Image (1, 28, 28),Image (1, 28, 28),Image (1, 28, 28),Image (1, 28, 28)\n",
       "y: CategoryList\n",
       "1,1,1,1,1\n",
       "Path: /root/.fastai/data/mnist_png;\n",
       "\n",
       "Valid: LabelList (10000 items)\n",
       "x: ImageList\n",
       "Image (1, 28, 28),Image (1, 28, 28),Image (1, 28, 28),Image (1, 28, 28),Image (1, 28, 28)\n",
       "y: CategoryList\n",
       "1,1,1,1,1\n",
       "Path: /root/.fastai/data/mnist_png;\n",
       "\n",
       "Test: None"
      ]
     },
     "execution_count": 22,
     "metadata": {},
     "output_type": "execute_result"
    }
   ],
   "source": [
    "data"
   ]
  },
  {
   "cell_type": "code",
   "execution_count": 23,
   "metadata": {},
   "outputs": [],
   "source": [
    "x,y = data.train_ds[0]"
   ]
  },
  {
   "cell_type": "code",
   "execution_count": 24,
   "metadata": {},
   "outputs": [
    {
     "name": "stdout",
     "output_type": "stream",
     "text": [
      "1\n"
     ]
    },
    {
     "data": {
      "image/png": "[encoded data removed]",
      "text/plain": [
       "<Figure size 216x216 with 1 Axes>"
      ]
     },
     "metadata": {
      "needs_background": "light"
     },
     "output_type": "display_data"
    }
   ],
   "source": [
    "x.show()\n",
    "print(y)"
   ]
  },
  {
   "cell_type": "code",
   "execution_count": 28,
   "metadata": {},
   "outputs": [],
   "source": [
    "x,y = data.valid_ds[0]"
   ]
  },
  {
   "cell_type": "code",
   "execution_count": 30,
   "metadata": {},
   "outputs": [
    {
     "name": "stdout",
     "output_type": "stream",
     "text": [
      "1\n"
     ]
    },
    {
     "data": {
      "image/png": "[encoded data removed]",
      "text/plain": [
       "<Figure size 216x216 with 1 Axes>"
      ]
     },
     "metadata": {
      "needs_background": "light"
     },
     "output_type": "display_data"
    }
   ],
   "source": [
    "x.show()\n",
    "print(y)"
   ]
  },
  {
   "cell_type": "code",
   "execution_count": 31,
   "metadata": {},
   "outputs": [
    {
     "data": {
      "image/png": "[encoded data removed]",
      "text/plain": [
       "<Figure size 576x576 with 9 Axes>"
      ]
     },
     "metadata": {
      "needs_background": "light"
     },
     "output_type": "display_data"
    }
   ],
   "source": [
    "def _plot(i,j,ax): data.train_ds[0][0].show(ax, cmap='gray')\n",
    "plot_multi(_plot, 3, 3, figsize=(8,8))"
   ]
  },
  {
   "cell_type": "code",
   "execution_count": 32,
   "metadata": {},
   "outputs": [
    {
     "data": {
      "text/plain": [
       "(torch.Size([128, 1, 28, 28]), torch.Size([128]))"
      ]
     },
     "execution_count": 32,
     "metadata": {},
     "output_type": "execute_result"
    }
   ],
   "source": [
    "xb,yb = data.one_batch()\n",
    "xb.shape,yb.shape"
   ]
  },
  {
   "cell_type": "code",
   "execution_count": 33,
   "metadata": {},
   "outputs": [
    {
     "data": {
      "image/png": "[encoded data removed]",
      "text/plain": [
       "<Figure size 360x360 with 9 Axes>"
      ]
     },
     "metadata": {
      "needs_background": "light"
     },
     "output_type": "display_data"
    }
   ],
   "source": [
    "data.show_batch(rows=3, figsize=(5,5))"
   ]
  },
  {
   "cell_type": "markdown",
   "metadata": {},
   "source": [
    "### Basic CNN with batchnorm"
   ]
  },
  {
   "cell_type": "code",
   "execution_count": 35,
   "metadata": {},
   "outputs": [],
   "source": [
    "def conv(ni,nf):\n",
    "    return nn.Conv2d(ni, nf, kernel_size=3, stride=2, padding=1)"
   ]
  },
  {
   "cell_type": "code",
   "execution_count": 36,
   "metadata": {},
   "outputs": [],
   "source": [
    "model = nn.Sequential(\n",
    "    conv(1, 8), # 14\n",
    "    nn.BatchNorm2d(8),\n",
    "    nn.ReLU()\n",
    ")"
   ]
  },
  {
   "cell_type": "code",
   "execution_count": 37,
   "metadata": {},
   "outputs": [],
   "source": [
    "xb,yb = data.one_batch()"
   ]
  },
  {
   "cell_type": "code",
   "execution_count": 41,
   "metadata": {},
   "outputs": [
    {
     "data": {
      "text/plain": [
       "torch.Size([128, 8, 14, 14])"
      ]
     },
     "execution_count": 41,
     "metadata": {},
     "output_type": "execute_result"
    }
   ],
   "source": [
    "model(xb).shape"
   ]
  },
  {
   "cell_type": "code",
   "execution_count": 44,
   "metadata": {},
   "outputs": [],
   "source": [
    "model = nn.Sequential(\n",
    "    conv(1, 8), # 14\n",
    "    nn.BatchNorm2d(8),\n",
    "    nn.ReLU(),\n",
    "    conv(8, 16), # 14\n",
    "    nn.BatchNorm2d(16),\n",
    "    nn.ReLU()\n",
    ")"
   ]
  },
  {
   "cell_type": "code",
   "execution_count": 45,
   "metadata": {},
   "outputs": [
    {
     "data": {
      "text/plain": [
       "torch.Size([128, 16, 7, 7])"
      ]
     },
     "execution_count": 45,
     "metadata": {},
     "output_type": "execute_result"
    }
   ],
   "source": [
    "model(xb).shape"
   ]
  },
  {
   "cell_type": "code",
   "execution_count": 48,
   "metadata": {},
   "outputs": [],
   "source": [
    "model = nn.Sequential(\n",
    "    conv(1, 8), # 14\n",
    "    nn.BatchNorm2d(8),\n",
    "    nn.ReLU(),\n",
    "    conv(8, 16), # 7\n",
    "    nn.BatchNorm2d(16),\n",
    "    nn.ReLU(),\n",
    "    conv(16, 32), # 4\n",
    "    nn.BatchNorm2d(32),\n",
    "    nn.ReLU()\n",
    ")"
   ]
  },
  {
   "cell_type": "code",
   "execution_count": 47,
   "metadata": {},
   "outputs": [
    {
     "data": {
      "text/plain": [
       "torch.Size([128, 32, 4, 4])"
      ]
     },
     "execution_count": 47,
     "metadata": {},
     "output_type": "execute_result"
    }
   ],
   "source": [
    "model(xb).shape"
   ]
  },
  {
   "cell_type": "code",
   "execution_count": 49,
   "metadata": {},
   "outputs": [],
   "source": [
    "model = nn.Sequential(\n",
    "    conv(1, 8), # 14\n",
    "    nn.BatchNorm2d(8),\n",
    "    nn.ReLU(),\n",
    "    conv(8, 16), # 7\n",
    "    nn.BatchNorm2d(16),\n",
    "    nn.ReLU(),\n",
    "    conv(16, 32), # 4\n",
    "    nn.BatchNorm2d(32),\n",
    "    nn.ReLU(),\n",
    "    conv(32, 16), # 2\n",
    "    nn.BatchNorm2d(16),\n",
    "    nn.ReLU()\n",
    ")"
   ]
  },
  {
   "cell_type": "code",
   "execution_count": 50,
   "metadata": {},
   "outputs": [
    {
     "data": {
      "text/plain": [
       "torch.Size([128, 16, 2, 2])"
      ]
     },
     "execution_count": 50,
     "metadata": {},
     "output_type": "execute_result"
    }
   ],
   "source": [
    "model(xb).shape"
   ]
  },
  {
   "cell_type": "code",
   "execution_count": 51,
   "metadata": {},
   "outputs": [],
   "source": [
    "model = nn.Sequential(\n",
    "    conv(1, 8), # 14\n",
    "    nn.BatchNorm2d(8),\n",
    "    nn.ReLU(),\n",
    "    conv(8, 16), # 7\n",
    "    nn.BatchNorm2d(16),\n",
    "    nn.ReLU(),\n",
    "    conv(16, 32), # 4\n",
    "    nn.BatchNorm2d(32),\n",
    "    nn.ReLU(),\n",
    "    conv(32, 16), # 2\n",
    "    nn.BatchNorm2d(16),\n",
    "    nn.ReLU(),\n",
    "    conv(16, 10), # 1\n",
    "    nn.BatchNorm2d(10),\n",
    "    Flatten() # Remove 1, 1 dimension\n",
    ")"
   ]
  },
  {
   "cell_type": "code",
   "execution_count": 53,
   "metadata": {},
   "outputs": [
    {
     "data": {
      "text/plain": [
       "torch.Size([128, 10])"
      ]
     },
     "execution_count": 53,
     "metadata": {},
     "output_type": "execute_result"
    }
   ],
   "source": [
    "model(xb).shape"
   ]
  },
  {
   "cell_type": "code",
   "execution_count": 54,
   "metadata": {},
   "outputs": [
    {
     "data": {
      "text/plain": [
       "tensor([-0.0569,  0.1676, -0.0179,  0.2933,  0.6593,  0.2493,  1.3485, -0.1881,\n",
       "         0.2622, -0.3114], grad_fn=<SelectBackward>)"
      ]
     },
     "execution_count": 54,
     "metadata": {},
     "output_type": "execute_result"
    }
   ],
   "source": [
    "model(xb)[0]"
   ]
  },
  {
   "cell_type": "code",
   "execution_count": 55,
   "metadata": {},
   "outputs": [],
   "source": [
    "learn = Learner(data, model, loss_func = nn.CrossEntropyLoss(), metrics=accuracy)"
   ]
  },
  {
   "cell_type": "code",
   "execution_count": 58,
   "metadata": {},
   "outputs": [
    {
     "data": {
      "text/plain": [
       "Sequential\n",
       "======================================================================\n",
       "Layer (type)         Output Shape         Param #    Trainable \n",
       "======================================================================\n",
       "Conv2d               [8, 14, 14]          80         True      \n",
       "______________________________________________________________________\n",
       "BatchNorm2d          [8, 14, 14]          16         True      \n",
       "______________________________________________________________________\n",
       "ReLU                 [8, 14, 14]          0          False     \n",
       "______________________________________________________________________\n",
       "Conv2d               [16, 7, 7]           1,168      True      \n",
       "______________________________________________________________________\n",
       "BatchNorm2d          [16, 7, 7]           32         True      \n",
       "______________________________________________________________________\n",
       "ReLU                 [16, 7, 7]           0          False     \n",
       "______________________________________________________________________\n",
       "Conv2d               [32, 4, 4]           4,640      True      \n",
       "______________________________________________________________________\n",
       "BatchNorm2d          [32, 4, 4]           64         True      \n",
       "______________________________________________________________________\n",
       "ReLU                 [32, 4, 4]           0          False     \n",
       "______________________________________________________________________\n",
       "Conv2d               [16, 2, 2]           4,624      True      \n",
       "______________________________________________________________________\n",
       "BatchNorm2d          [16, 2, 2]           32         True      \n",
       "______________________________________________________________________\n",
       "ReLU                 [16, 2, 2]           0          False     \n",
       "______________________________________________________________________\n",
       "Conv2d               [10, 1, 1]           1,450      True      \n",
       "______________________________________________________________________\n",
       "BatchNorm2d          [10, 1, 1]           20         True      \n",
       "______________________________________________________________________\n",
       "Flatten              [10]                 0          False     \n",
       "______________________________________________________________________\n",
       "\n",
       "Total params: 12,126\n",
       "Total trainable params: 12,126\n",
       "Total non-trainable params: 0\n",
       "Optimized with 'torch.optim.adam.Adam', betas=(0.9, 0.99)\n",
       "Using true weight decay as discussed in https://www.fast.ai/2018/07/02/adam-weight-decay/ \n",
       "Loss function : CrossEntropyLoss\n",
       "======================================================================\n",
       "Callbacks functions applied "
      ]
     },
     "execution_count": 58,
     "metadata": {},
     "output_type": "execute_result"
    }
   ],
   "source": [
    "learn.summary()"
   ]
  },
  {
   "cell_type": "code",
   "execution_count": 59,
   "metadata": {
    "scrolled": true
   },
   "outputs": [
    {
     "data": {
      "text/html": [],
      "text/plain": [
       "<IPython.core.display.HTML object>"
      ]
     },
     "metadata": {},
     "output_type": "display_data"
    },
    {
     "name": "stdout",
     "output_type": "stream",
     "text": [
      "LR Finder is complete, type {learner_name}.recorder.plot() to see the graph.\n"
     ]
    }
   ],
   "source": [
    "learn.lr_find(end_lr=100)"
   ]
  },
  {
   "cell_type": "code",
   "execution_count": 60,
   "metadata": {},
   "outputs": [
    {
     "data": {
      "image/png": "[encoded data removed]",
      "text/plain": [
       "<Figure size 432x288 with 1 Axes>"
      ]
     },
     "metadata": {
      "needs_background": "light"
     },
     "output_type": "display_data"
    }
   ],
   "source": [
    "learn.recorder.plot()"
   ]
  },
  {
   "cell_type": "code",
   "execution_count": 61,
   "metadata": {},
   "outputs": [
    {
     "data": {
      "text/html": [
       "<table border=\"1\" class=\"dataframe\">\n",
       "  <thead>\n",
       "    <tr style=\"text-align: left;\">\n",
       "      <th>epoch</th>\n",
       "      <th>train_loss</th>\n",
       "      <th>valid_loss</th>\n",
       "      <th>accuracy</th>\n",
       "      <th>time</th>\n",
       "    </tr>\n",
       "  </thead>\n",
       "  <tbody>\n",
       "    <tr>\n",
       "      <td>0</td>\n",
       "      <td>0.225479</td>\n",
       "      <td>0.256052</td>\n",
       "      <td>0.921600</td>\n",
       "      <td>01:57</td>\n",
       "    </tr>\n",
       "    <tr>\n",
       "      <td>1</td>\n",
       "      <td>0.133568</td>\n",
       "      <td>0.081366</td>\n",
       "      <td>0.973800</td>\n",
       "      <td>00:05</td>\n",
       "    </tr>\n",
       "    <tr>\n",
       "      <td>2</td>\n",
       "      <td>0.070726</td>\n",
       "      <td>0.038541</td>\n",
       "      <td>0.987600</td>\n",
       "      <td>00:05</td>\n",
       "    </tr>\n",
       "  </tbody>\n",
       "</table>"
      ],
      "text/plain": [
       "<IPython.core.display.HTML object>"
      ]
     },
     "metadata": {},
     "output_type": "display_data"
    }
   ],
   "source": [
    "learn.fit_one_cycle(3, max_lr=0.1)"
   ]
  },
  {
   "cell_type": "code",
   "execution_count": 63,
   "metadata": {},
   "outputs": [
    {
     "data": {
      "image/png": "[encoded data removed]",
      "text/plain": [
       "<Figure size 432x288 with 1 Axes>"
      ]
     },
     "metadata": {
      "needs_background": "light"
     },
     "output_type": "display_data"
    }
   ],
   "source": [
    "learn.recorder.plot_lr()"
   ]
  },
  {
   "cell_type": "markdown",
   "metadata": {},
   "source": [
    "### Refactor"
   ]
  },
  {
   "cell_type": "code",
   "execution_count": 65,
   "metadata": {},
   "outputs": [],
   "source": [
    "def conv2(ni,nf): \n",
    "    return conv_layer(ni,nf,stride=2)"
   ]
  },
  {
   "cell_type": "code",
   "execution_count": 68,
   "metadata": {},
   "outputs": [],
   "source": [
    "model = nn.Sequential(\n",
    "    conv2(1, 8),   # 14\n",
    "    conv2(8, 16),  # 7\n",
    "    conv2(16, 32), # 4\n",
    "    conv2(32, 16), # 2\n",
    "    conv2(16, 10), # 1\n",
    "    Flatten()      # remove (1,1) grid\n",
    ")"
   ]
  },
  {
   "cell_type": "code",
   "execution_count": 69,
   "metadata": {},
   "outputs": [],
   "source": [
    "learn = Learner(data, model, loss_func = nn.CrossEntropyLoss(), metrics=accuracy)"
   ]
  },
  {
   "cell_type": "code",
   "execution_count": 73,
   "metadata": {},
   "outputs": [
    {
     "data": {
      "text/plain": [
       "Sequential\n",
       "======================================================================\n",
       "Layer (type)         Output Shape         Param #    Trainable \n",
       "======================================================================\n",
       "Conv2d               [8, 14, 14]          72         True      \n",
       "______________________________________________________________________\n",
       "ReLU                 [8, 14, 14]          0          False     \n",
       "______________________________________________________________________\n",
       "BatchNorm2d          [8, 14, 14]          16         True      \n",
       "______________________________________________________________________\n",
       "Conv2d               [16, 7, 7]           1,152      True      \n",
       "______________________________________________________________________\n",
       "ReLU                 [16, 7, 7]           0          False     \n",
       "______________________________________________________________________\n",
       "BatchNorm2d          [16, 7, 7]           32         True      \n",
       "______________________________________________________________________\n",
       "Conv2d               [32, 4, 4]           4,608      True      \n",
       "______________________________________________________________________\n",
       "ReLU                 [32, 4, 4]           0          False     \n",
       "______________________________________________________________________\n",
       "BatchNorm2d          [32, 4, 4]           64         True      \n",
       "______________________________________________________________________\n",
       "Conv2d               [16, 2, 2]           4,608      True      \n",
       "______________________________________________________________________\n",
       "ReLU                 [16, 2, 2]           0          False     \n",
       "______________________________________________________________________\n",
       "BatchNorm2d          [16, 2, 2]           32         True      \n",
       "______________________________________________________________________\n",
       "Conv2d               [10, 1, 1]           1,440      True      \n",
       "______________________________________________________________________\n",
       "ReLU                 [10, 1, 1]           0          False     \n",
       "______________________________________________________________________\n",
       "BatchNorm2d          [10, 1, 1]           20         True      \n",
       "______________________________________________________________________\n",
       "Flatten              [10]                 0          False     \n",
       "______________________________________________________________________\n",
       "\n",
       "Total params: 12,044\n",
       "Total trainable params: 12,044\n",
       "Total non-trainable params: 0\n",
       "Optimized with 'torch.optim.adam.Adam', betas=(0.9, 0.99)\n",
       "Using true weight decay as discussed in https://www.fast.ai/2018/07/02/adam-weight-decay/ \n",
       "Loss function : CrossEntropyLoss\n",
       "======================================================================\n",
       "Callbacks functions applied "
      ]
     },
     "execution_count": 73,
     "metadata": {},
     "output_type": "execute_result"
    }
   ],
   "source": [
    "learn.summary()"
   ]
  },
  {
   "cell_type": "code",
   "execution_count": 74,
   "metadata": {},
   "outputs": [
    {
     "data": {
      "text/html": [],
      "text/plain": [
       "<IPython.core.display.HTML object>"
      ]
     },
     "metadata": {},
     "output_type": "display_data"
    },
    {
     "name": "stdout",
     "output_type": "stream",
     "text": [
      "LR Finder is complete, type {learner_name}.recorder.plot() to see the graph.\n"
     ]
    }
   ],
   "source": [
    "learn.lr_find(end_lr=100)"
   ]
  },
  {
   "cell_type": "code",
   "execution_count": 75,
   "metadata": {},
   "outputs": [
    {
     "data": {
      "image/png": "[encoded data removed]",
      "text/plain": [
       "<Figure size 432x288 with 1 Axes>"
      ]
     },
     "metadata": {
      "needs_background": "light"
     },
     "output_type": "display_data"
    }
   ],
   "source": [
    "learn.recorder.plot()"
   ]
  },
  {
   "cell_type": "code",
   "execution_count": 76,
   "metadata": {},
   "outputs": [
    {
     "data": {
      "text/html": [
       "<table border=\"1\" class=\"dataframe\">\n",
       "  <thead>\n",
       "    <tr style=\"text-align: left;\">\n",
       "      <th>epoch</th>\n",
       "      <th>train_loss</th>\n",
       "      <th>valid_loss</th>\n",
       "      <th>accuracy</th>\n",
       "      <th>time</th>\n",
       "    </tr>\n",
       "  </thead>\n",
       "  <tbody>\n",
       "    <tr>\n",
       "      <td>0</td>\n",
       "      <td>0.221283</td>\n",
       "      <td>0.367097</td>\n",
       "      <td>0.889500</td>\n",
       "      <td>00:05</td>\n",
       "    </tr>\n",
       "    <tr>\n",
       "      <td>1</td>\n",
       "      <td>0.136409</td>\n",
       "      <td>0.088951</td>\n",
       "      <td>0.971400</td>\n",
       "      <td>00:05</td>\n",
       "    </tr>\n",
       "    <tr>\n",
       "      <td>2</td>\n",
       "      <td>0.077991</td>\n",
       "      <td>0.036641</td>\n",
       "      <td>0.988500</td>\n",
       "      <td>00:05</td>\n",
       "    </tr>\n",
       "  </tbody>\n",
       "</table>"
      ],
      "text/plain": [
       "<IPython.core.display.HTML object>"
      ]
     },
     "metadata": {},
     "output_type": "display_data"
    }
   ],
   "source": [
    "learn.fit_one_cycle(3, max_lr=0.1)"
   ]
  },
  {
   "cell_type": "markdown",
   "metadata": {},
   "source": [
    "### Resnet like"
   ]
  },
  {
   "cell_type": "code",
   "execution_count": 85,
   "metadata": {},
   "outputs": [],
   "source": [
    "class ResBlock(nn.Module):\n",
    "    def __init__(self, nf):\n",
    "        super(ResBlock, self).__init__()\n",
    "        self.conv1 = conv_layer(nf,nf)\n",
    "        self.conv2 = conv_layer(nf,nf)\n",
    "        \n",
    "    def forward(self, x):\n",
    "        return x + (self.conv2(self.conv1(x)))"
   ]
  },
  {
   "cell_type": "code",
   "execution_count": 79,
   "metadata": {},
   "outputs": [],
   "source": [
    "??res_block"
   ]
  },
  {
   "cell_type": "code",
   "execution_count": 86,
   "metadata": {},
   "outputs": [],
   "source": [
    "model = nn.Sequential(\n",
    "    conv2(1, 8),\n",
    "    ResBlock(8),\n",
    "    conv2(8, 16),\n",
    "    ResBlock(16),\n",
    "    conv2(16, 32),\n",
    "    ResBlock(32),\n",
    "    conv2(32, 16),\n",
    "    ResBlock(16),\n",
    "    conv2(16, 10),\n",
    "    Flatten()\n",
    ")"
   ]
  },
  {
   "cell_type": "code",
   "execution_count": 87,
   "metadata": {},
   "outputs": [],
   "source": [
    "learn = Learner(data, model, loss_func = nn.CrossEntropyLoss(), metrics=accuracy)"
   ]
  },
  {
   "cell_type": "code",
   "execution_count": 89,
   "metadata": {},
   "outputs": [
    {
     "data": {
      "text/plain": [
       "Sequential\n",
       "======================================================================\n",
       "Layer (type)         Output Shape         Param #    Trainable \n",
       "======================================================================\n",
       "Conv2d               [8, 14, 14]          72         True      \n",
       "______________________________________________________________________\n",
       "ReLU                 [8, 14, 14]          0          False     \n",
       "______________________________________________________________________\n",
       "BatchNorm2d          [8, 14, 14]          16         True      \n",
       "______________________________________________________________________\n",
       "Conv2d               [8, 14, 14]          576        True      \n",
       "______________________________________________________________________\n",
       "ReLU                 [8, 14, 14]          0          False     \n",
       "______________________________________________________________________\n",
       "BatchNorm2d          [8, 14, 14]          16         True      \n",
       "______________________________________________________________________\n",
       "Conv2d               [8, 14, 14]          576        True      \n",
       "______________________________________________________________________\n",
       "ReLU                 [8, 14, 14]          0          False     \n",
       "______________________________________________________________________\n",
       "BatchNorm2d          [8, 14, 14]          16         True      \n",
       "______________________________________________________________________\n",
       "Conv2d               [16, 7, 7]           1,152      True      \n",
       "______________________________________________________________________\n",
       "ReLU                 [16, 7, 7]           0          False     \n",
       "______________________________________________________________________\n",
       "BatchNorm2d          [16, 7, 7]           32         True      \n",
       "______________________________________________________________________\n",
       "Conv2d               [16, 7, 7]           2,304      True      \n",
       "______________________________________________________________________\n",
       "ReLU                 [16, 7, 7]           0          False     \n",
       "______________________________________________________________________\n",
       "BatchNorm2d          [16, 7, 7]           32         True      \n",
       "______________________________________________________________________\n",
       "Conv2d               [16, 7, 7]           2,304      True      \n",
       "______________________________________________________________________\n",
       "ReLU                 [16, 7, 7]           0          False     \n",
       "______________________________________________________________________\n",
       "BatchNorm2d          [16, 7, 7]           32         True      \n",
       "______________________________________________________________________\n",
       "Conv2d               [32, 4, 4]           4,608      True      \n",
       "______________________________________________________________________\n",
       "ReLU                 [32, 4, 4]           0          False     \n",
       "______________________________________________________________________\n",
       "BatchNorm2d          [32, 4, 4]           64         True      \n",
       "______________________________________________________________________\n",
       "Conv2d               [32, 4, 4]           9,216      True      \n",
       "______________________________________________________________________\n",
       "ReLU                 [32, 4, 4]           0          False     \n",
       "______________________________________________________________________\n",
       "BatchNorm2d          [32, 4, 4]           64         True      \n",
       "______________________________________________________________________\n",
       "Conv2d               [32, 4, 4]           9,216      True      \n",
       "______________________________________________________________________\n",
       "ReLU                 [32, 4, 4]           0          False     \n",
       "______________________________________________________________________\n",
       "BatchNorm2d          [32, 4, 4]           64         True      \n",
       "______________________________________________________________________\n",
       "Conv2d               [16, 2, 2]           4,608      True      \n",
       "______________________________________________________________________\n",
       "ReLU                 [16, 2, 2]           0          False     \n",
       "______________________________________________________________________\n",
       "BatchNorm2d          [16, 2, 2]           32         True      \n",
       "______________________________________________________________________\n",
       "Conv2d               [16, 2, 2]           2,304      True      \n",
       "______________________________________________________________________\n",
       "ReLU                 [16, 2, 2]           0          False     \n",
       "______________________________________________________________________\n",
       "BatchNorm2d          [16, 2, 2]           32         True      \n",
       "______________________________________________________________________\n",
       "Conv2d               [16, 2, 2]           2,304      True      \n",
       "______________________________________________________________________\n",
       "ReLU                 [16, 2, 2]           0          False     \n",
       "______________________________________________________________________\n",
       "BatchNorm2d          [16, 2, 2]           32         True      \n",
       "______________________________________________________________________\n",
       "Conv2d               [10, 1, 1]           1,440      True      \n",
       "______________________________________________________________________\n",
       "ReLU                 [10, 1, 1]           0          False     \n",
       "______________________________________________________________________\n",
       "BatchNorm2d          [10, 1, 1]           20         True      \n",
       "______________________________________________________________________\n",
       "Flatten              [10]                 0          False     \n",
       "______________________________________________________________________\n",
       "\n",
       "Total params: 41,132\n",
       "Total trainable params: 41,132\n",
       "Total non-trainable params: 0\n",
       "Optimized with 'torch.optim.adam.Adam', betas=(0.9, 0.99)\n",
       "Using true weight decay as discussed in https://www.fast.ai/2018/07/02/adam-weight-decay/ \n",
       "Loss function : CrossEntropyLoss\n",
       "======================================================================\n",
       "Callbacks functions applied "
      ]
     },
     "execution_count": 89,
     "metadata": {},
     "output_type": "execute_result"
    }
   ],
   "source": [
    "learn.summary()"
   ]
  },
  {
   "cell_type": "code",
   "execution_count": 90,
   "metadata": {},
   "outputs": [
    {
     "data": {
      "text/html": [],
      "text/plain": [
       "<IPython.core.display.HTML object>"
      ]
     },
     "metadata": {},
     "output_type": "display_data"
    },
    {
     "name": "stdout",
     "output_type": "stream",
     "text": [
      "LR Finder is complete, type {learner_name}.recorder.plot() to see the graph.\n"
     ]
    }
   ],
   "source": [
    "learn.lr_find(end_lr=100)"
   ]
  },
  {
   "cell_type": "code",
   "execution_count": 91,
   "metadata": {},
   "outputs": [
    {
     "data": {
      "image/png": "[encoded data removed]",
      "text/plain": [
       "<Figure size 432x288 with 1 Axes>"
      ]
     },
     "metadata": {
      "needs_background": "light"
     },
     "output_type": "display_data"
    }
   ],
   "source": [
    "learn.recorder.plot()"
   ]
  },
  {
   "cell_type": "code",
   "execution_count": 92,
   "metadata": {},
   "outputs": [
    {
     "data": {
      "text/html": [
       "<table border=\"1\" class=\"dataframe\">\n",
       "  <thead>\n",
       "    <tr style=\"text-align: left;\">\n",
       "      <th>epoch</th>\n",
       "      <th>train_loss</th>\n",
       "      <th>valid_loss</th>\n",
       "      <th>accuracy</th>\n",
       "      <th>time</th>\n",
       "    </tr>\n",
       "  </thead>\n",
       "  <tbody>\n",
       "    <tr>\n",
       "      <td>0</td>\n",
       "      <td>0.182619</td>\n",
       "      <td>0.792487</td>\n",
       "      <td>0.801600</td>\n",
       "      <td>00:07</td>\n",
       "    </tr>\n",
       "    <tr>\n",
       "      <td>1</td>\n",
       "      <td>0.086722</td>\n",
       "      <td>0.106392</td>\n",
       "      <td>0.968100</td>\n",
       "      <td>00:07</td>\n",
       "    </tr>\n",
       "    <tr>\n",
       "      <td>2</td>\n",
       "      <td>0.047821</td>\n",
       "      <td>0.028085</td>\n",
       "      <td>0.991400</td>\n",
       "      <td>00:07</td>\n",
       "    </tr>\n",
       "  </tbody>\n",
       "</table>"
      ],
      "text/plain": [
       "<IPython.core.display.HTML object>"
      ]
     },
     "metadata": {},
     "output_type": "display_data"
    }
   ],
   "source": [
    "learn.fit_one_cycle(3, max_lr=0.1)"
   ]
  },
  {
   "cell_type": "code",
   "execution_count": 129,
   "metadata": {},
   "outputs": [],
   "source": [
    "model = nn.Sequential(\n",
    "    conv2(1, 8),\n",
    "    res_block(8),\n",
    "    conv2(8, 16),\n",
    "    res_block(16),\n",
    "    conv2(16, 32),\n",
    "    res_block(32),\n",
    "    conv2(32, 16),\n",
    "    res_block(16),\n",
    "    conv2(16, 10),\n",
    "    Flatten()\n",
    ")"
   ]
  },
  {
   "cell_type": "code",
   "execution_count": 130,
   "metadata": {},
   "outputs": [],
   "source": [
    "learn = Learner(data, model, loss_func = nn.CrossEntropyLoss(), metrics=accuracy)"
   ]
  },
  {
   "cell_type": "code",
   "execution_count": 131,
   "metadata": {},
   "outputs": [
    {
     "data": {
      "text/plain": [
       "Sequential\n",
       "======================================================================\n",
       "Layer (type)         Output Shape         Param #    Trainable \n",
       "======================================================================\n",
       "Conv2d               [8, 14, 14]          72         True      \n",
       "______________________________________________________________________\n",
       "ReLU                 [8, 14, 14]          0          False     \n",
       "______________________________________________________________________\n",
       "BatchNorm2d          [8, 14, 14]          16         True      \n",
       "______________________________________________________________________\n",
       "Conv2d               [8, 14, 14]          576        True      \n",
       "______________________________________________________________________\n",
       "ReLU                 [8, 14, 14]          0          False     \n",
       "______________________________________________________________________\n",
       "BatchNorm2d          [8, 14, 14]          16         True      \n",
       "______________________________________________________________________\n",
       "Conv2d               [8, 14, 14]          576        True      \n",
       "______________________________________________________________________\n",
       "ReLU                 [8, 14, 14]          0          False     \n",
       "______________________________________________________________________\n",
       "BatchNorm2d          [8, 14, 14]          16         True      \n",
       "______________________________________________________________________\n",
       "MergeLayer           [8, 14, 14]          0          False     \n",
       "______________________________________________________________________\n",
       "Conv2d               [16, 7, 7]           1,152      True      \n",
       "______________________________________________________________________\n",
       "ReLU                 [16, 7, 7]           0          False     \n",
       "______________________________________________________________________\n",
       "BatchNorm2d          [16, 7, 7]           32         True      \n",
       "______________________________________________________________________\n",
       "Conv2d               [16, 7, 7]           2,304      True      \n",
       "______________________________________________________________________\n",
       "ReLU                 [16, 7, 7]           0          False     \n",
       "______________________________________________________________________\n",
       "BatchNorm2d          [16, 7, 7]           32         True      \n",
       "______________________________________________________________________\n",
       "Conv2d               [16, 7, 7]           2,304      True      \n",
       "______________________________________________________________________\n",
       "ReLU                 [16, 7, 7]           0          False     \n",
       "______________________________________________________________________\n",
       "BatchNorm2d          [16, 7, 7]           32         True      \n",
       "______________________________________________________________________\n",
       "MergeLayer           [16, 7, 7]           0          False     \n",
       "______________________________________________________________________\n",
       "Conv2d               [32, 4, 4]           4,608      True      \n",
       "______________________________________________________________________\n",
       "ReLU                 [32, 4, 4]           0          False     \n",
       "______________________________________________________________________\n",
       "BatchNorm2d          [32, 4, 4]           64         True      \n",
       "______________________________________________________________________\n",
       "Conv2d               [32, 4, 4]           9,216      True      \n",
       "______________________________________________________________________\n",
       "ReLU                 [32, 4, 4]           0          False     \n",
       "______________________________________________________________________\n",
       "BatchNorm2d          [32, 4, 4]           64         True      \n",
       "______________________________________________________________________\n",
       "Conv2d               [32, 4, 4]           9,216      True      \n",
       "______________________________________________________________________\n",
       "ReLU                 [32, 4, 4]           0          False     \n",
       "______________________________________________________________________\n",
       "BatchNorm2d          [32, 4, 4]           64         True      \n",
       "______________________________________________________________________\n",
       "MergeLayer           [32, 4, 4]           0          False     \n",
       "______________________________________________________________________\n",
       "Conv2d               [16, 2, 2]           4,608      True      \n",
       "______________________________________________________________________\n",
       "ReLU                 [16, 2, 2]           0          False     \n",
       "______________________________________________________________________\n",
       "BatchNorm2d          [16, 2, 2]           32         True      \n",
       "______________________________________________________________________\n",
       "Conv2d               [16, 2, 2]           2,304      True      \n",
       "______________________________________________________________________\n",
       "ReLU                 [16, 2, 2]           0          False     \n",
       "______________________________________________________________________\n",
       "BatchNorm2d          [16, 2, 2]           32         True      \n",
       "______________________________________________________________________\n",
       "Conv2d               [16, 2, 2]           2,304      True      \n",
       "______________________________________________________________________\n",
       "ReLU                 [16, 2, 2]           0          False     \n",
       "______________________________________________________________________\n",
       "BatchNorm2d          [16, 2, 2]           32         True      \n",
       "______________________________________________________________________\n",
       "MergeLayer           [16, 2, 2]           0          False     \n",
       "______________________________________________________________________\n",
       "Conv2d               [10, 1, 1]           1,440      True      \n",
       "______________________________________________________________________\n",
       "ReLU                 [10, 1, 1]           0          False     \n",
       "______________________________________________________________________\n",
       "BatchNorm2d          [10, 1, 1]           20         True      \n",
       "______________________________________________________________________\n",
       "Flatten              [10]                 0          False     \n",
       "______________________________________________________________________\n",
       "\n",
       "Total params: 41,132\n",
       "Total trainable params: 41,132\n",
       "Total non-trainable params: 0\n",
       "Optimized with 'torch.optim.adam.Adam', betas=(0.9, 0.99)\n",
       "Using true weight decay as discussed in https://www.fast.ai/2018/07/02/adam-weight-decay/ \n",
       "Loss function : CrossEntropyLoss\n",
       "======================================================================\n",
       "Callbacks functions applied "
      ]
     },
     "execution_count": 131,
     "metadata": {},
     "output_type": "execute_result"
    }
   ],
   "source": [
    "learn.summary()"
   ]
  },
  {
   "cell_type": "code",
   "execution_count": 96,
   "metadata": {},
   "outputs": [
    {
     "data": {
      "text/html": [],
      "text/plain": [
       "<IPython.core.display.HTML object>"
      ]
     },
     "metadata": {},
     "output_type": "display_data"
    },
    {
     "name": "stdout",
     "output_type": "stream",
     "text": [
      "LR Finder is complete, type {learner_name}.recorder.plot() to see the graph.\n"
     ]
    }
   ],
   "source": [
    "learn.lr_find(end_lr=100)"
   ]
  },
  {
   "cell_type": "code",
   "execution_count": 98,
   "metadata": {},
   "outputs": [
    {
     "data": {
      "image/png": "[encoded data removed]",
      "text/plain": [
       "<Figure size 432x288 with 1 Axes>"
      ]
     },
     "metadata": {
      "needs_background": "light"
     },
     "output_type": "display_data"
    }
   ],
   "source": [
    "learn.recorder.plot()"
   ]
  },
  {
   "cell_type": "code",
   "execution_count": 99,
   "metadata": {},
   "outputs": [
    {
     "data": {
      "text/html": [
       "<table border=\"1\" class=\"dataframe\">\n",
       "  <thead>\n",
       "    <tr style=\"text-align: left;\">\n",
       "      <th>epoch</th>\n",
       "      <th>train_loss</th>\n",
       "      <th>valid_loss</th>\n",
       "      <th>accuracy</th>\n",
       "      <th>time</th>\n",
       "    </tr>\n",
       "  </thead>\n",
       "  <tbody>\n",
       "    <tr>\n",
       "      <td>0</td>\n",
       "      <td>0.188053</td>\n",
       "      <td>0.439115</td>\n",
       "      <td>0.864100</td>\n",
       "      <td>00:07</td>\n",
       "    </tr>\n",
       "    <tr>\n",
       "      <td>1</td>\n",
       "      <td>0.094491</td>\n",
       "      <td>0.075562</td>\n",
       "      <td>0.975100</td>\n",
       "      <td>00:07</td>\n",
       "    </tr>\n",
       "    <tr>\n",
       "      <td>2</td>\n",
       "      <td>0.045316</td>\n",
       "      <td>0.024548</td>\n",
       "      <td>0.992100</td>\n",
       "      <td>00:07</td>\n",
       "    </tr>\n",
       "  </tbody>\n",
       "</table>"
      ],
      "text/plain": [
       "<IPython.core.display.HTML object>"
      ]
     },
     "metadata": {},
     "output_type": "display_data"
    }
   ],
   "source": [
    "learn.fit_one_cycle(3, max_lr=0.1)"
   ]
  },
  {
   "cell_type": "markdown",
   "metadata": {},
   "source": [
    "### Dense Net"
   ]
  },
  {
   "cell_type": "code",
   "execution_count": 154,
   "metadata": {},
   "outputs": [],
   "source": [
    "model = nn.Sequential(\n",
    "    conv2(1, 8),\n",
    "    res_block(8, dense=True),\n",
    "    conv2(16, 16),\n",
    "    res_block(16, dense=True),\n",
    "    conv2(32, 32),\n",
    "    res_block(32, dense=True),\n",
    "    conv2(64, 16),\n",
    "    res_block(16, dense=True),\n",
    "    conv2(32, 10),\n",
    "    Flatten()\n",
    ")"
   ]
  },
  {
   "cell_type": "code",
   "execution_count": 155,
   "metadata": {},
   "outputs": [],
   "source": [
    "learn = Learner(data, model, loss_func = nn.CrossEntropyLoss(), metrics=accuracy)"
   ]
  },
  {
   "cell_type": "code",
   "execution_count": 156,
   "metadata": {},
   "outputs": [
    {
     "data": {
      "text/plain": [
       "Sequential\n",
       "======================================================================\n",
       "Layer (type)         Output Shape         Param #    Trainable \n",
       "======================================================================\n",
       "Conv2d               [8, 14, 14]          72         True      \n",
       "______________________________________________________________________\n",
       "ReLU                 [8, 14, 14]          0          False     \n",
       "______________________________________________________________________\n",
       "BatchNorm2d          [8, 14, 14]          16         True      \n",
       "______________________________________________________________________\n",
       "Conv2d               [8, 14, 14]          576        True      \n",
       "______________________________________________________________________\n",
       "ReLU                 [8, 14, 14]          0          False     \n",
       "______________________________________________________________________\n",
       "BatchNorm2d          [8, 14, 14]          16         True      \n",
       "______________________________________________________________________\n",
       "Conv2d               [8, 14, 14]          576        True      \n",
       "______________________________________________________________________\n",
       "ReLU                 [8, 14, 14]          0          False     \n",
       "______________________________________________________________________\n",
       "BatchNorm2d          [8, 14, 14]          16         True      \n",
       "______________________________________________________________________\n",
       "MergeLayer           [16, 14, 14]         0          False     \n",
       "______________________________________________________________________\n",
       "Conv2d               [16, 7, 7]           2,304      True      \n",
       "______________________________________________________________________\n",
       "ReLU                 [16, 7, 7]           0          False     \n",
       "______________________________________________________________________\n",
       "BatchNorm2d          [16, 7, 7]           32         True      \n",
       "______________________________________________________________________\n",
       "Conv2d               [16, 7, 7]           2,304      True      \n",
       "______________________________________________________________________\n",
       "ReLU                 [16, 7, 7]           0          False     \n",
       "______________________________________________________________________\n",
       "BatchNorm2d          [16, 7, 7]           32         True      \n",
       "______________________________________________________________________\n",
       "Conv2d               [16, 7, 7]           2,304      True      \n",
       "______________________________________________________________________\n",
       "ReLU                 [16, 7, 7]           0          False     \n",
       "______________________________________________________________________\n",
       "BatchNorm2d          [16, 7, 7]           32         True      \n",
       "______________________________________________________________________\n",
       "MergeLayer           [32, 7, 7]           0          False     \n",
       "______________________________________________________________________\n",
       "Conv2d               [32, 4, 4]           9,216      True      \n",
       "______________________________________________________________________\n",
       "ReLU                 [32, 4, 4]           0          False     \n",
       "______________________________________________________________________\n",
       "BatchNorm2d          [32, 4, 4]           64         True      \n",
       "______________________________________________________________________\n",
       "Conv2d               [32, 4, 4]           9,216      True      \n",
       "______________________________________________________________________\n",
       "ReLU                 [32, 4, 4]           0          False     \n",
       "______________________________________________________________________\n",
       "BatchNorm2d          [32, 4, 4]           64         True      \n",
       "______________________________________________________________________\n",
       "Conv2d               [32, 4, 4]           9,216      True      \n",
       "______________________________________________________________________\n",
       "ReLU                 [32, 4, 4]           0          False     \n",
       "______________________________________________________________________\n",
       "BatchNorm2d          [32, 4, 4]           64         True      \n",
       "______________________________________________________________________\n",
       "MergeLayer           [64, 4, 4]           0          False     \n",
       "______________________________________________________________________\n",
       "Conv2d               [16, 2, 2]           9,216      True      \n",
       "______________________________________________________________________\n",
       "ReLU                 [16, 2, 2]           0          False     \n",
       "______________________________________________________________________\n",
       "BatchNorm2d          [16, 2, 2]           32         True      \n",
       "______________________________________________________________________\n",
       "Conv2d               [16, 2, 2]           2,304      True      \n",
       "______________________________________________________________________\n",
       "ReLU                 [16, 2, 2]           0          False     \n",
       "______________________________________________________________________\n",
       "BatchNorm2d          [16, 2, 2]           32         True      \n",
       "______________________________________________________________________\n",
       "Conv2d               [16, 2, 2]           2,304      True      \n",
       "______________________________________________________________________\n",
       "ReLU                 [16, 2, 2]           0          False     \n",
       "______________________________________________________________________\n",
       "BatchNorm2d          [16, 2, 2]           32         True      \n",
       "______________________________________________________________________\n",
       "MergeLayer           [32, 2, 2]           0          False     \n",
       "______________________________________________________________________\n",
       "Conv2d               [10, 1, 1]           2,880      True      \n",
       "______________________________________________________________________\n",
       "ReLU                 [10, 1, 1]           0          False     \n",
       "______________________________________________________________________\n",
       "BatchNorm2d          [10, 1, 1]           20         True      \n",
       "______________________________________________________________________\n",
       "Flatten              [10]                 0          False     \n",
       "______________________________________________________________________\n",
       "\n",
       "Total params: 52,940\n",
       "Total trainable params: 52,940\n",
       "Total non-trainable params: 0\n",
       "Optimized with 'torch.optim.adam.Adam', betas=(0.9, 0.99)\n",
       "Using true weight decay as discussed in https://www.fast.ai/2018/07/02/adam-weight-decay/ \n",
       "Loss function : CrossEntropyLoss\n",
       "======================================================================\n",
       "Callbacks functions applied "
      ]
     },
     "execution_count": 156,
     "metadata": {},
     "output_type": "execute_result"
    }
   ],
   "source": [
    "learn.summary()"
   ]
  },
  {
   "cell_type": "code",
   "execution_count": 158,
   "metadata": {
    "scrolled": true
   },
   "outputs": [
    {
     "data": {
      "text/html": [],
      "text/plain": [
       "<IPython.core.display.HTML object>"
      ]
     },
     "metadata": {},
     "output_type": "display_data"
    },
    {
     "name": "stdout",
     "output_type": "stream",
     "text": [
      "LR Finder is complete, type {learner_name}.recorder.plot() to see the graph.\n"
     ]
    }
   ],
   "source": [
    "learn.lr_find(end_lr=100)"
   ]
  },
  {
   "cell_type": "code",
   "execution_count": 160,
   "metadata": {},
   "outputs": [
    {
     "data": {
      "image/png": "[encoded data removed]",
      "text/plain": [
       "<Figure size 432x288 with 1 Axes>"
      ]
     },
     "metadata": {
      "needs_background": "light"
     },
     "output_type": "display_data"
    }
   ],
   "source": [
    "learn.recorder.plot()"
   ]
  },
  {
   "cell_type": "code",
   "execution_count": 161,
   "metadata": {},
   "outputs": [
    {
     "data": {
      "text/html": [
       "<table border=\"1\" class=\"dataframe\">\n",
       "  <thead>\n",
       "    <tr style=\"text-align: left;\">\n",
       "      <th>epoch</th>\n",
       "      <th>train_loss</th>\n",
       "      <th>valid_loss</th>\n",
       "      <th>accuracy</th>\n",
       "      <th>time</th>\n",
       "    </tr>\n",
       "  </thead>\n",
       "  <tbody>\n",
       "    <tr>\n",
       "      <td>0</td>\n",
       "      <td>0.182707</td>\n",
       "      <td>0.148831</td>\n",
       "      <td>0.957000</td>\n",
       "      <td>00:07</td>\n",
       "    </tr>\n",
       "    <tr>\n",
       "      <td>1</td>\n",
       "      <td>0.095379</td>\n",
       "      <td>0.101414</td>\n",
       "      <td>0.968400</td>\n",
       "      <td>00:07</td>\n",
       "    </tr>\n",
       "    <tr>\n",
       "      <td>2</td>\n",
       "      <td>0.041166</td>\n",
       "      <td>0.023977</td>\n",
       "      <td>0.992800</td>\n",
       "      <td>00:07</td>\n",
       "    </tr>\n",
       "  </tbody>\n",
       "</table>"
      ],
      "text/plain": [
       "<IPython.core.display.HTML object>"
      ]
     },
     "metadata": {},
     "output_type": "display_data"
    }
   ],
   "source": [
    "learn.fit_one_cycle(3, max_lr=0.1)"
   ]
  },
  {
   "cell_type": "code",
   "execution_count": null,
   "metadata": {},
   "outputs": [],
   "source": []
  },
  {
   "cell_type": "markdown",
   "metadata": {},
   "source": [
    "### Inference"
   ]
  },
  {
   "cell_type": "code",
   "execution_count": 112,
   "metadata": {},
   "outputs": [],
   "source": [
    "images, y = data.one_batch()"
   ]
  },
  {
   "cell_type": "code",
   "execution_count": 113,
   "metadata": {},
   "outputs": [
    {
     "data": {
      "text/plain": [
       "torch.Size([1, 28, 28])"
      ]
     },
     "execution_count": 113,
     "metadata": {},
     "output_type": "execute_result"
    }
   ],
   "source": [
    "images[0].shape"
   ]
  },
  {
   "cell_type": "code",
   "execution_count": 123,
   "metadata": {},
   "outputs": [
    {
     "data": {
      "text/plain": [
       "(Category 0,\n",
       " tensor(0),\n",
       " tensor([9.9996e-01, 7.8910e-07, 3.2929e-06, 1.1538e-06, 1.3372e-06, 5.5552e-06,\n",
       "         1.5245e-05, 1.6027e-06, 5.3976e-06, 5.8169e-06]))"
      ]
     },
     "execution_count": 123,
     "metadata": {},
     "output_type": "execute_result"
    }
   ],
   "source": [
    "learn.predict(images[0])"
   ]
  },
  {
   "cell_type": "code",
   "execution_count": 117,
   "metadata": {},
   "outputs": [
    {
     "data": {
      "text/plain": [
       "torch.Size([28, 28])"
      ]
     },
     "execution_count": 117,
     "metadata": {},
     "output_type": "execute_result"
    }
   ],
   "source": [
    "images[0].squeeze().shape"
   ]
  },
  {
   "cell_type": "code",
   "execution_count": 124,
   "metadata": {},
   "outputs": [
    {
     "data": {
      "text/plain": [
       "<matplotlib.image.AxesImage at 0x7f7641db9780>"
      ]
     },
     "execution_count": 124,
     "metadata": {},
     "output_type": "execute_result"
    },
    {
     "data": {
      "image/png": "[encoded data removed]",
      "text/plain": [
       "<Figure size 432x288 with 1 Axes>"
      ]
     },
     "metadata": {
      "needs_background": "light"
     },
     "output_type": "display_data"
    }
   ],
   "source": [
    "plt.imshow(images[0].squeeze())"
   ]
  }
 ],
 "metadata": {
  "kernelspec": {
   "display_name": "Python 3",
   "language": "python",
   "name": "python3"
  },
  "language_info": {
   "codemirror_mode": {
    "name": "ipython",
    "version": 3
   },
   "file_extension": ".py",
   "mimetype": "text/x-python",
   "name": "python",
   "nbconvert_exporter": "python",
   "pygments_lexer": "ipython3",
   "version": "3.7.3"
  }
 },
 "nbformat": 4,
 "nbformat_minor": 2
}
